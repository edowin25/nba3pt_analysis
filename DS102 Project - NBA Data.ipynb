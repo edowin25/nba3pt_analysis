{
 "cells": [
  {
   "cell_type": "markdown",
   "id": "b9f3e4ff",
   "metadata": {},
   "source": [
    "## **How has the 3-Pointer change NBA Basketball?**\n",
    "\n",
    "Data Visualisation and Analysis of NBA Data for insights\n",
    "\n",
    "**Part 1** - Wrangling of Core data set ***games_details.csv*** \\\n",
    "**Part 2** - New dataset and creating chart to showcase how 3pt shots affect points scored\\\n",
    "**Part 3** - Form new dataset and compare proportion of 3pt and 2 pt shots across seasons and pace of game\\\n",
    "**Part 4** - Produce charts to analyse % change in pts compared with 2pt and 3pt shot\\\n",
    "**Part 5** - Form new df to capture top 10 scorers to get breakdown and 3FGA at each position\\\n",
    "**Part 6** - Analysis of teams' 3pts scored to overall pts across season\\\n",
    "**Part 7** - Analysis of team wins to number of 3 pointers scored"
   ]
  },
  {
   "cell_type": "markdown",
   "id": "6dd9ed1d",
   "metadata": {},
   "source": [
    "\n",
    "**-------------------------------------------------------------------------------------------------------------------------**"
   ]
  },
  {
   "cell_type": "code",
   "execution_count": 1,
   "id": "0ce24e42",
   "metadata": {},
   "outputs": [
    {
     "name": "stdout",
     "output_type": "stream",
     "text": [
      "Wall time: 2.47 s\n"
     ]
    }
   ],
   "source": [
    "%%time\n",
    "#Lib pkg to import\n",
    "\n",
    "import pandas as pd\n",
    "import numpy as np\n",
    "import re\n",
    "import matplotlib.pyplot as plt\n",
    "import seaborn as sns\n",
    "from datetime import datetime\n",
    "import plotly\n",
    "import plotly.offline as offline\n",
    "from plotly.subplots import make_subplots\n",
    "import plotly.graph_objects as go\n",
    "import plotly.express as px\n"
   ]
  },
  {
   "cell_type": "code",
   "execution_count": 2,
   "id": "089a070d",
   "metadata": {},
   "outputs": [],
   "source": [
    "start = datetime.now()\n",
    "#importing games data to df\n",
    "df_games = pd.read_csv(\"games.csv\") "
   ]
  },
  {
   "cell_type": "code",
   "execution_count": 3,
   "id": "60e21bd4",
   "metadata": {},
   "outputs": [
    {
     "data": {
      "text/html": [
       "<div>\n",
       "<style scoped>\n",
       "    .dataframe tbody tr th:only-of-type {\n",
       "        vertical-align: middle;\n",
       "    }\n",
       "\n",
       "    .dataframe tbody tr th {\n",
       "        vertical-align: top;\n",
       "    }\n",
       "\n",
       "    .dataframe thead th {\n",
       "        text-align: right;\n",
       "    }\n",
       "</style>\n",
       "<table border=\"1\" class=\"dataframe\">\n",
       "  <thead>\n",
       "    <tr style=\"text-align: right;\">\n",
       "      <th></th>\n",
       "      <th>GAME_ID</th>\n",
       "      <th>TEAM_ID</th>\n",
       "      <th>TEAM_ABBREVIATION</th>\n",
       "      <th>TEAM_CITY</th>\n",
       "      <th>PLAYER_ID</th>\n",
       "      <th>PLAYER_NAME</th>\n",
       "      <th>NICKNAME</th>\n",
       "      <th>START_POSITION</th>\n",
       "      <th>COMMENT</th>\n",
       "      <th>MIN</th>\n",
       "      <th>...</th>\n",
       "      <th>OREB</th>\n",
       "      <th>DREB</th>\n",
       "      <th>REB</th>\n",
       "      <th>AST</th>\n",
       "      <th>STL</th>\n",
       "      <th>BLK</th>\n",
       "      <th>TO</th>\n",
       "      <th>PF</th>\n",
       "      <th>PTS</th>\n",
       "      <th>PLUS_MINUS</th>\n",
       "    </tr>\n",
       "  </thead>\n",
       "  <tbody>\n",
       "    <tr>\n",
       "      <th>0</th>\n",
       "      <td>22100213</td>\n",
       "      <td>1610612764</td>\n",
       "      <td>WAS</td>\n",
       "      <td>Washington</td>\n",
       "      <td>203484</td>\n",
       "      <td>Kentavious Caldwell-Pope</td>\n",
       "      <td>Kentavious</td>\n",
       "      <td>F</td>\n",
       "      <td>NaN</td>\n",
       "      <td>27:41</td>\n",
       "      <td>...</td>\n",
       "      <td>1.0</td>\n",
       "      <td>5.0</td>\n",
       "      <td>6.0</td>\n",
       "      <td>2.0</td>\n",
       "      <td>1.0</td>\n",
       "      <td>0.0</td>\n",
       "      <td>1.0</td>\n",
       "      <td>0.0</td>\n",
       "      <td>3.0</td>\n",
       "      <td>2.0</td>\n",
       "    </tr>\n",
       "    <tr>\n",
       "      <th>1</th>\n",
       "      <td>22100213</td>\n",
       "      <td>1610612764</td>\n",
       "      <td>WAS</td>\n",
       "      <td>Washington</td>\n",
       "      <td>1628398</td>\n",
       "      <td>Kyle Kuzma</td>\n",
       "      <td>Kyle</td>\n",
       "      <td>F</td>\n",
       "      <td>NaN</td>\n",
       "      <td>30:28</td>\n",
       "      <td>...</td>\n",
       "      <td>1.0</td>\n",
       "      <td>4.0</td>\n",
       "      <td>5.0</td>\n",
       "      <td>3.0</td>\n",
       "      <td>1.0</td>\n",
       "      <td>2.0</td>\n",
       "      <td>1.0</td>\n",
       "      <td>1.0</td>\n",
       "      <td>5.0</td>\n",
       "      <td>-14.0</td>\n",
       "    </tr>\n",
       "    <tr>\n",
       "      <th>2</th>\n",
       "      <td>22100213</td>\n",
       "      <td>1610612764</td>\n",
       "      <td>WAS</td>\n",
       "      <td>Washington</td>\n",
       "      <td>1629655</td>\n",
       "      <td>Daniel Gafford</td>\n",
       "      <td>Daniel</td>\n",
       "      <td>C</td>\n",
       "      <td>NaN</td>\n",
       "      <td>24:21</td>\n",
       "      <td>...</td>\n",
       "      <td>2.0</td>\n",
       "      <td>7.0</td>\n",
       "      <td>9.0</td>\n",
       "      <td>1.0</td>\n",
       "      <td>2.0</td>\n",
       "      <td>1.0</td>\n",
       "      <td>1.0</td>\n",
       "      <td>4.0</td>\n",
       "      <td>20.0</td>\n",
       "      <td>-2.0</td>\n",
       "    </tr>\n",
       "    <tr>\n",
       "      <th>3</th>\n",
       "      <td>22100213</td>\n",
       "      <td>1610612764</td>\n",
       "      <td>WAS</td>\n",
       "      <td>Washington</td>\n",
       "      <td>203078</td>\n",
       "      <td>Bradley Beal</td>\n",
       "      <td>Bradley</td>\n",
       "      <td>G</td>\n",
       "      <td>NaN</td>\n",
       "      <td>35:07</td>\n",
       "      <td>...</td>\n",
       "      <td>0.0</td>\n",
       "      <td>3.0</td>\n",
       "      <td>3.0</td>\n",
       "      <td>7.0</td>\n",
       "      <td>2.0</td>\n",
       "      <td>0.0</td>\n",
       "      <td>2.0</td>\n",
       "      <td>3.0</td>\n",
       "      <td>24.0</td>\n",
       "      <td>-9.0</td>\n",
       "    </tr>\n",
       "    <tr>\n",
       "      <th>4</th>\n",
       "      <td>22100213</td>\n",
       "      <td>1610612764</td>\n",
       "      <td>WAS</td>\n",
       "      <td>Washington</td>\n",
       "      <td>203915</td>\n",
       "      <td>Spencer Dinwiddie</td>\n",
       "      <td>Spencer</td>\n",
       "      <td>G</td>\n",
       "      <td>NaN</td>\n",
       "      <td>28:34</td>\n",
       "      <td>...</td>\n",
       "      <td>0.0</td>\n",
       "      <td>3.0</td>\n",
       "      <td>3.0</td>\n",
       "      <td>2.0</td>\n",
       "      <td>0.0</td>\n",
       "      <td>0.0</td>\n",
       "      <td>2.0</td>\n",
       "      <td>1.0</td>\n",
       "      <td>0.0</td>\n",
       "      <td>-5.0</td>\n",
       "    </tr>\n",
       "  </tbody>\n",
       "</table>\n",
       "<p>5 rows × 29 columns</p>\n",
       "</div>"
      ],
      "text/plain": [
       "    GAME_ID     TEAM_ID TEAM_ABBREVIATION   TEAM_CITY  PLAYER_ID  \\\n",
       "0  22100213  1610612764               WAS  Washington     203484   \n",
       "1  22100213  1610612764               WAS  Washington    1628398   \n",
       "2  22100213  1610612764               WAS  Washington    1629655   \n",
       "3  22100213  1610612764               WAS  Washington     203078   \n",
       "4  22100213  1610612764               WAS  Washington     203915   \n",
       "\n",
       "                PLAYER_NAME    NICKNAME START_POSITION COMMENT    MIN  ...  \\\n",
       "0  Kentavious Caldwell-Pope  Kentavious              F     NaN  27:41  ...   \n",
       "1                Kyle Kuzma        Kyle              F     NaN  30:28  ...   \n",
       "2            Daniel Gafford      Daniel              C     NaN  24:21  ...   \n",
       "3              Bradley Beal     Bradley              G     NaN  35:07  ...   \n",
       "4         Spencer Dinwiddie     Spencer              G     NaN  28:34  ...   \n",
       "\n",
       "   OREB  DREB  REB  AST  STL  BLK   TO   PF   PTS  PLUS_MINUS  \n",
       "0   1.0   5.0  6.0  2.0  1.0  0.0  1.0  0.0   3.0         2.0  \n",
       "1   1.0   4.0  5.0  3.0  1.0  2.0  1.0  1.0   5.0       -14.0  \n",
       "2   2.0   7.0  9.0  1.0  2.0  1.0  1.0  4.0  20.0        -2.0  \n",
       "3   0.0   3.0  3.0  7.0  2.0  0.0  2.0  3.0  24.0        -9.0  \n",
       "4   0.0   3.0  3.0  2.0  0.0  0.0  2.0  1.0   0.0        -5.0  \n",
       "\n",
       "[5 rows x 29 columns]"
      ]
     },
     "execution_count": 3,
     "metadata": {},
     "output_type": "execute_result"
    }
   ],
   "source": [
    "# #importing games_details data to df\n",
    "df_gamesdet = pd.read_csv(\"games_details.csv\", low_memory = False) \n",
    "df_gamesdet.head()"
   ]
  },
  {
   "cell_type": "markdown",
   "id": "1f119b52",
   "metadata": {},
   "source": [
    "### Part 1: Wrangling of datasets to create required datasets for plotting"
   ]
  },
  {
   "cell_type": "code",
   "execution_count": 4,
   "id": "04e9a415",
   "metadata": {},
   "outputs": [
    {
     "data": {
      "text/html": [
       "<div>\n",
       "<style scoped>\n",
       "    .dataframe tbody tr th:only-of-type {\n",
       "        vertical-align: middle;\n",
       "    }\n",
       "\n",
       "    .dataframe tbody tr th {\n",
       "        vertical-align: top;\n",
       "    }\n",
       "\n",
       "    .dataframe thead th {\n",
       "        text-align: right;\n",
       "    }\n",
       "</style>\n",
       "<table border=\"1\" class=\"dataframe\">\n",
       "  <thead>\n",
       "    <tr style=\"text-align: right;\">\n",
       "      <th></th>\n",
       "      <th>GAME_ID</th>\n",
       "      <th>PTS</th>\n",
       "      <th>FG3A</th>\n",
       "      <th>FG3M</th>\n",
       "      <th>FGA</th>\n",
       "      <th>FGM</th>\n",
       "      <th>FTA</th>\n",
       "      <th>FTM</th>\n",
       "      <th>REB</th>\n",
       "      <th>AST</th>\n",
       "      <th>STL</th>\n",
       "      <th>BLK</th>\n",
       "      <th>TO</th>\n",
       "      <th>FG2A</th>\n",
       "      <th>FG2M</th>\n",
       "    </tr>\n",
       "  </thead>\n",
       "  <tbody>\n",
       "    <tr>\n",
       "      <th>0</th>\n",
       "      <td>10300001</td>\n",
       "      <td>175.0</td>\n",
       "      <td>15.0</td>\n",
       "      <td>3.0</td>\n",
       "      <td>146.0</td>\n",
       "      <td>66.0</td>\n",
       "      <td>64.0</td>\n",
       "      <td>40.0</td>\n",
       "      <td>79.0</td>\n",
       "      <td>43.0</td>\n",
       "      <td>17.0</td>\n",
       "      <td>8.0</td>\n",
       "      <td>36.0</td>\n",
       "      <td>131.0</td>\n",
       "      <td>63.0</td>\n",
       "    </tr>\n",
       "    <tr>\n",
       "      <th>1</th>\n",
       "      <td>10300002</td>\n",
       "      <td>199.0</td>\n",
       "      <td>28.0</td>\n",
       "      <td>6.0</td>\n",
       "      <td>156.0</td>\n",
       "      <td>72.0</td>\n",
       "      <td>74.0</td>\n",
       "      <td>49.0</td>\n",
       "      <td>91.0</td>\n",
       "      <td>45.0</td>\n",
       "      <td>27.0</td>\n",
       "      <td>11.0</td>\n",
       "      <td>49.0</td>\n",
       "      <td>128.0</td>\n",
       "      <td>66.0</td>\n",
       "    </tr>\n",
       "    <tr>\n",
       "      <th>2</th>\n",
       "      <td>10300003</td>\n",
       "      <td>196.0</td>\n",
       "      <td>15.0</td>\n",
       "      <td>8.0</td>\n",
       "      <td>164.0</td>\n",
       "      <td>72.0</td>\n",
       "      <td>69.0</td>\n",
       "      <td>44.0</td>\n",
       "      <td>89.0</td>\n",
       "      <td>44.0</td>\n",
       "      <td>25.0</td>\n",
       "      <td>10.0</td>\n",
       "      <td>38.0</td>\n",
       "      <td>149.0</td>\n",
       "      <td>64.0</td>\n",
       "    </tr>\n",
       "    <tr>\n",
       "      <th>3</th>\n",
       "      <td>10300004</td>\n",
       "      <td>175.0</td>\n",
       "      <td>24.0</td>\n",
       "      <td>7.0</td>\n",
       "      <td>143.0</td>\n",
       "      <td>65.0</td>\n",
       "      <td>51.0</td>\n",
       "      <td>38.0</td>\n",
       "      <td>81.0</td>\n",
       "      <td>34.0</td>\n",
       "      <td>18.0</td>\n",
       "      <td>10.0</td>\n",
       "      <td>36.0</td>\n",
       "      <td>119.0</td>\n",
       "      <td>58.0</td>\n",
       "    </tr>\n",
       "    <tr>\n",
       "      <th>4</th>\n",
       "      <td>10300005</td>\n",
       "      <td>180.0</td>\n",
       "      <td>19.0</td>\n",
       "      <td>7.0</td>\n",
       "      <td>134.0</td>\n",
       "      <td>68.0</td>\n",
       "      <td>56.0</td>\n",
       "      <td>37.0</td>\n",
       "      <td>66.0</td>\n",
       "      <td>31.0</td>\n",
       "      <td>26.0</td>\n",
       "      <td>5.0</td>\n",
       "      <td>44.0</td>\n",
       "      <td>115.0</td>\n",
       "      <td>61.0</td>\n",
       "    </tr>\n",
       "  </tbody>\n",
       "</table>\n",
       "</div>"
      ],
      "text/plain": [
       "    GAME_ID    PTS  FG3A  FG3M    FGA   FGM   FTA   FTM   REB   AST   STL  \\\n",
       "0  10300001  175.0  15.0   3.0  146.0  66.0  64.0  40.0  79.0  43.0  17.0   \n",
       "1  10300002  199.0  28.0   6.0  156.0  72.0  74.0  49.0  91.0  45.0  27.0   \n",
       "2  10300003  196.0  15.0   8.0  164.0  72.0  69.0  44.0  89.0  44.0  25.0   \n",
       "3  10300004  175.0  24.0   7.0  143.0  65.0  51.0  38.0  81.0  34.0  18.0   \n",
       "4  10300005  180.0  19.0   7.0  134.0  68.0  56.0  37.0  66.0  31.0  26.0   \n",
       "\n",
       "    BLK    TO   FG2A  FG2M  \n",
       "0   8.0  36.0  131.0  63.0  \n",
       "1  11.0  49.0  128.0  66.0  \n",
       "2  10.0  38.0  149.0  64.0  \n",
       "3  10.0  36.0  119.0  58.0  \n",
       "4   5.0  44.0  115.0  61.0  "
      ]
     },
     "execution_count": 4,
     "metadata": {},
     "output_type": "execute_result"
    }
   ],
   "source": [
    "#consolidating relevant data points to one dataframe df_ptsnatt\n",
    "df_ptsnatt = df_gamesdet.groupby('GAME_ID')[['PTS','FG3A','FG3M','FGA','FGM','FTA','FTM',\n",
    "                                             'REB','AST','STL','BLK','TO']].sum().reset_index()\n",
    "df_ptsnatt['FG2A'],df_ptsnatt['FG2M'] = df_ptsnatt['FGA'] - df_ptsnatt['FG3A'],df_ptsnatt['FGM'] - df_ptsnatt['FG3M']\n",
    "df_ptsnatt.head()"
   ]
  },
  {
   "cell_type": "code",
   "execution_count": 5,
   "id": "e69c4731",
   "metadata": {},
   "outputs": [
    {
     "data": {
      "text/html": [
       "<div>\n",
       "<style scoped>\n",
       "    .dataframe tbody tr th:only-of-type {\n",
       "        vertical-align: middle;\n",
       "    }\n",
       "\n",
       "    .dataframe tbody tr th {\n",
       "        vertical-align: top;\n",
       "    }\n",
       "\n",
       "    .dataframe thead th {\n",
       "        text-align: right;\n",
       "    }\n",
       "</style>\n",
       "<table border=\"1\" class=\"dataframe\">\n",
       "  <thead>\n",
       "    <tr style=\"text-align: right;\">\n",
       "      <th></th>\n",
       "      <th>GAME_ID</th>\n",
       "      <th>GAME_DATE</th>\n",
       "      <th>SEASON</th>\n",
       "    </tr>\n",
       "  </thead>\n",
       "  <tbody>\n",
       "    <tr>\n",
       "      <th>0</th>\n",
       "      <td>22100213</td>\n",
       "      <td>2021-11-17</td>\n",
       "      <td>2021</td>\n",
       "    </tr>\n",
       "    <tr>\n",
       "      <th>1</th>\n",
       "      <td>22100214</td>\n",
       "      <td>2021-11-17</td>\n",
       "      <td>2021</td>\n",
       "    </tr>\n",
       "    <tr>\n",
       "      <th>2</th>\n",
       "      <td>22100215</td>\n",
       "      <td>2021-11-17</td>\n",
       "      <td>2021</td>\n",
       "    </tr>\n",
       "    <tr>\n",
       "      <th>3</th>\n",
       "      <td>22100216</td>\n",
       "      <td>2021-11-17</td>\n",
       "      <td>2021</td>\n",
       "    </tr>\n",
       "    <tr>\n",
       "      <th>4</th>\n",
       "      <td>22100217</td>\n",
       "      <td>2021-11-17</td>\n",
       "      <td>2021</td>\n",
       "    </tr>\n",
       "  </tbody>\n",
       "</table>\n",
       "</div>"
      ],
      "text/plain": [
       "    GAME_ID   GAME_DATE  SEASON\n",
       "0  22100213  2021-11-17    2021\n",
       "1  22100214  2021-11-17    2021\n",
       "2  22100215  2021-11-17    2021\n",
       "3  22100216  2021-11-17    2021\n",
       "4  22100217  2021-11-17    2021"
      ]
     },
     "execution_count": 5,
     "metadata": {},
     "output_type": "execute_result"
    }
   ],
   "source": [
    "#Create df_season dataset and tidy col in df_season\n",
    "df_season = df_games.iloc[:,[0,1,5]]\n",
    "df_season = df_season[[\"GAME_ID\",'GAME_DATE_EST',\"SEASON\"]]\n",
    "df_season = df_season.rename(columns = {'GAME_DATE_EST': \"GAME_DATE\"})\n",
    "df_season.head()"
   ]
  },
  {
   "cell_type": "code",
   "execution_count": 6,
   "id": "7ad119d8",
   "metadata": {},
   "outputs": [
    {
     "data": {
      "text/html": [
       "<div>\n",
       "<style scoped>\n",
       "    .dataframe tbody tr th:only-of-type {\n",
       "        vertical-align: middle;\n",
       "    }\n",
       "\n",
       "    .dataframe tbody tr th {\n",
       "        vertical-align: top;\n",
       "    }\n",
       "\n",
       "    .dataframe thead th {\n",
       "        text-align: right;\n",
       "    }\n",
       "</style>\n",
       "<table border=\"1\" class=\"dataframe\">\n",
       "  <thead>\n",
       "    <tr style=\"text-align: right;\">\n",
       "      <th></th>\n",
       "      <th>SEASON</th>\n",
       "      <th>GAME_ID</th>\n",
       "      <th>GAME_DATE</th>\n",
       "      <th>PTS</th>\n",
       "      <th>FG3A</th>\n",
       "      <th>FG3M</th>\n",
       "      <th>FG2A</th>\n",
       "      <th>FG2M</th>\n",
       "      <th>FGA</th>\n",
       "      <th>FGM</th>\n",
       "      <th>FTA</th>\n",
       "      <th>FTM</th>\n",
       "      <th>REB</th>\n",
       "      <th>AST</th>\n",
       "      <th>STL</th>\n",
       "      <th>BLK</th>\n",
       "      <th>TO</th>\n",
       "    </tr>\n",
       "  </thead>\n",
       "  <tbody>\n",
       "    <tr>\n",
       "      <th>0</th>\n",
       "      <td>2003</td>\n",
       "      <td>10300001</td>\n",
       "      <td>2003-10-05</td>\n",
       "      <td>175.0</td>\n",
       "      <td>15.0</td>\n",
       "      <td>3.0</td>\n",
       "      <td>131.0</td>\n",
       "      <td>63.0</td>\n",
       "      <td>146.0</td>\n",
       "      <td>66.0</td>\n",
       "      <td>64.0</td>\n",
       "      <td>40.0</td>\n",
       "      <td>79.0</td>\n",
       "      <td>43.0</td>\n",
       "      <td>17.0</td>\n",
       "      <td>8.0</td>\n",
       "      <td>36.0</td>\n",
       "    </tr>\n",
       "    <tr>\n",
       "      <th>1</th>\n",
       "      <td>2003</td>\n",
       "      <td>10300002</td>\n",
       "      <td>2003-10-06</td>\n",
       "      <td>199.0</td>\n",
       "      <td>28.0</td>\n",
       "      <td>6.0</td>\n",
       "      <td>128.0</td>\n",
       "      <td>66.0</td>\n",
       "      <td>156.0</td>\n",
       "      <td>72.0</td>\n",
       "      <td>74.0</td>\n",
       "      <td>49.0</td>\n",
       "      <td>91.0</td>\n",
       "      <td>45.0</td>\n",
       "      <td>27.0</td>\n",
       "      <td>11.0</td>\n",
       "      <td>49.0</td>\n",
       "    </tr>\n",
       "    <tr>\n",
       "      <th>2</th>\n",
       "      <td>2003</td>\n",
       "      <td>10300003</td>\n",
       "      <td>2003-10-07</td>\n",
       "      <td>196.0</td>\n",
       "      <td>15.0</td>\n",
       "      <td>8.0</td>\n",
       "      <td>149.0</td>\n",
       "      <td>64.0</td>\n",
       "      <td>164.0</td>\n",
       "      <td>72.0</td>\n",
       "      <td>69.0</td>\n",
       "      <td>44.0</td>\n",
       "      <td>89.0</td>\n",
       "      <td>44.0</td>\n",
       "      <td>25.0</td>\n",
       "      <td>10.0</td>\n",
       "      <td>38.0</td>\n",
       "    </tr>\n",
       "    <tr>\n",
       "      <th>3</th>\n",
       "      <td>2003</td>\n",
       "      <td>10300004</td>\n",
       "      <td>2003-10-07</td>\n",
       "      <td>175.0</td>\n",
       "      <td>24.0</td>\n",
       "      <td>7.0</td>\n",
       "      <td>119.0</td>\n",
       "      <td>58.0</td>\n",
       "      <td>143.0</td>\n",
       "      <td>65.0</td>\n",
       "      <td>51.0</td>\n",
       "      <td>38.0</td>\n",
       "      <td>81.0</td>\n",
       "      <td>34.0</td>\n",
       "      <td>18.0</td>\n",
       "      <td>10.0</td>\n",
       "      <td>36.0</td>\n",
       "    </tr>\n",
       "    <tr>\n",
       "      <th>4</th>\n",
       "      <td>2003</td>\n",
       "      <td>10300005</td>\n",
       "      <td>2003-10-07</td>\n",
       "      <td>180.0</td>\n",
       "      <td>19.0</td>\n",
       "      <td>7.0</td>\n",
       "      <td>115.0</td>\n",
       "      <td>61.0</td>\n",
       "      <td>134.0</td>\n",
       "      <td>68.0</td>\n",
       "      <td>56.0</td>\n",
       "      <td>37.0</td>\n",
       "      <td>66.0</td>\n",
       "      <td>31.0</td>\n",
       "      <td>26.0</td>\n",
       "      <td>5.0</td>\n",
       "      <td>44.0</td>\n",
       "    </tr>\n",
       "  </tbody>\n",
       "</table>\n",
       "</div>"
      ],
      "text/plain": [
       "   SEASON   GAME_ID   GAME_DATE    PTS  FG3A  FG3M   FG2A  FG2M    FGA   FGM  \\\n",
       "0    2003  10300001  2003-10-05  175.0  15.0   3.0  131.0  63.0  146.0  66.0   \n",
       "1    2003  10300002  2003-10-06  199.0  28.0   6.0  128.0  66.0  156.0  72.0   \n",
       "2    2003  10300003  2003-10-07  196.0  15.0   8.0  149.0  64.0  164.0  72.0   \n",
       "3    2003  10300004  2003-10-07  175.0  24.0   7.0  119.0  58.0  143.0  65.0   \n",
       "4    2003  10300005  2003-10-07  180.0  19.0   7.0  115.0  61.0  134.0  68.0   \n",
       "\n",
       "    FTA   FTM   REB   AST   STL   BLK    TO  \n",
       "0  64.0  40.0  79.0  43.0  17.0   8.0  36.0  \n",
       "1  74.0  49.0  91.0  45.0  27.0  11.0  49.0  \n",
       "2  69.0  44.0  89.0  44.0  25.0  10.0  38.0  \n",
       "3  51.0  38.0  81.0  34.0  18.0  10.0  36.0  \n",
       "4  56.0  37.0  66.0  31.0  26.0   5.0  44.0  "
      ]
     },
     "execution_count": 6,
     "metadata": {},
     "output_type": "execute_result"
    }
   ],
   "source": [
    "#merge df_season into df_ptsnatt so that season can be a time series data within df_ptsnatt\n",
    "df_combine = df_ptsnatt.merge(df_season, how = 'left', on = 'GAME_ID')\n",
    "df_combine = df_combine[['SEASON','GAME_ID','GAME_DATE','PTS','FG3A','FG3M','FG2A','FG2M','FGA','FGM','FTA','FTM','REB','AST','STL','BLK','TO']]\n",
    "df_combine.head()"
   ]
  },
  {
   "cell_type": "code",
   "execution_count": 7,
   "id": "e34933ef",
   "metadata": {},
   "outputs": [
    {
     "data": {
      "text/html": [
       "<div>\n",
       "<style scoped>\n",
       "    .dataframe tbody tr th:only-of-type {\n",
       "        vertical-align: middle;\n",
       "    }\n",
       "\n",
       "    .dataframe tbody tr th {\n",
       "        vertical-align: top;\n",
       "    }\n",
       "\n",
       "    .dataframe thead th {\n",
       "        text-align: right;\n",
       "    }\n",
       "</style>\n",
       "<table border=\"1\" class=\"dataframe\">\n",
       "  <thead>\n",
       "    <tr style=\"text-align: right;\">\n",
       "      <th></th>\n",
       "      <th>SEASON</th>\n",
       "      <th>PTS</th>\n",
       "      <th>FGA</th>\n",
       "      <th>FGM</th>\n",
       "      <th>FG3A</th>\n",
       "      <th>FG3M</th>\n",
       "      <th>FG2A</th>\n",
       "      <th>FG2M</th>\n",
       "      <th>FTA</th>\n",
       "      <th>FTM</th>\n",
       "      <th>REB</th>\n",
       "      <th>AST</th>\n",
       "      <th>STL</th>\n",
       "      <th>BLK</th>\n",
       "      <th>TO</th>\n",
       "      <th>PCT_FG3A</th>\n",
       "      <th>PCT_FG2A</th>\n",
       "      <th>PCT_FG3M</th>\n",
       "      <th>PCT_FG2M</th>\n",
       "      <th>PCT_FTM</th>\n",
       "    </tr>\n",
       "  </thead>\n",
       "  <tbody>\n",
       "    <tr>\n",
       "      <th>0</th>\n",
       "      <td>2003</td>\n",
       "      <td>185.90</td>\n",
       "      <td>159.05</td>\n",
       "      <td>69.59</td>\n",
       "      <td>29.82</td>\n",
       "      <td>10.30</td>\n",
       "      <td>129.23</td>\n",
       "      <td>59.29</td>\n",
       "      <td>48.64</td>\n",
       "      <td>36.43</td>\n",
       "      <td>84.36</td>\n",
       "      <td>42.29</td>\n",
       "      <td>15.90</td>\n",
       "      <td>10.11</td>\n",
       "      <td>28.55</td>\n",
       "      <td>18.75</td>\n",
       "      <td>81.25</td>\n",
       "      <td>34.54</td>\n",
       "      <td>45.88</td>\n",
       "      <td>74.90</td>\n",
       "    </tr>\n",
       "    <tr>\n",
       "      <th>1</th>\n",
       "      <td>2004</td>\n",
       "      <td>193.85</td>\n",
       "      <td>160.00</td>\n",
       "      <td>71.54</td>\n",
       "      <td>31.48</td>\n",
       "      <td>11.17</td>\n",
       "      <td>128.52</td>\n",
       "      <td>60.37</td>\n",
       "      <td>52.49</td>\n",
       "      <td>39.60</td>\n",
       "      <td>83.47</td>\n",
       "      <td>42.15</td>\n",
       "      <td>15.05</td>\n",
       "      <td>9.76</td>\n",
       "      <td>27.86</td>\n",
       "      <td>19.68</td>\n",
       "      <td>80.32</td>\n",
       "      <td>35.49</td>\n",
       "      <td>46.97</td>\n",
       "      <td>75.45</td>\n",
       "    </tr>\n",
       "    <tr>\n",
       "      <th>2</th>\n",
       "      <td>2005</td>\n",
       "      <td>193.58</td>\n",
       "      <td>157.28</td>\n",
       "      <td>71.24</td>\n",
       "      <td>31.82</td>\n",
       "      <td>11.34</td>\n",
       "      <td>125.45</td>\n",
       "      <td>59.90</td>\n",
       "      <td>53.41</td>\n",
       "      <td>39.75</td>\n",
       "      <td>81.77</td>\n",
       "      <td>40.84</td>\n",
       "      <td>14.51</td>\n",
       "      <td>9.35</td>\n",
       "      <td>28.05</td>\n",
       "      <td>20.23</td>\n",
       "      <td>79.77</td>\n",
       "      <td>35.64</td>\n",
       "      <td>47.75</td>\n",
       "      <td>74.43</td>\n",
       "    </tr>\n",
       "    <tr>\n",
       "      <th>3</th>\n",
       "      <td>2006</td>\n",
       "      <td>196.79</td>\n",
       "      <td>158.69</td>\n",
       "      <td>72.48</td>\n",
       "      <td>33.84</td>\n",
       "      <td>12.04</td>\n",
       "      <td>124.85</td>\n",
       "      <td>60.45</td>\n",
       "      <td>53.04</td>\n",
       "      <td>39.78</td>\n",
       "      <td>82.06</td>\n",
       "      <td>42.23</td>\n",
       "      <td>14.66</td>\n",
       "      <td>9.15</td>\n",
       "      <td>29.65</td>\n",
       "      <td>21.32</td>\n",
       "      <td>78.68</td>\n",
       "      <td>35.58</td>\n",
       "      <td>48.41</td>\n",
       "      <td>75.01</td>\n",
       "    </tr>\n",
       "    <tr>\n",
       "      <th>4</th>\n",
       "      <td>2007</td>\n",
       "      <td>198.82</td>\n",
       "      <td>162.23</td>\n",
       "      <td>73.83</td>\n",
       "      <td>35.87</td>\n",
       "      <td>12.94</td>\n",
       "      <td>126.36</td>\n",
       "      <td>60.89</td>\n",
       "      <td>50.71</td>\n",
       "      <td>38.21</td>\n",
       "      <td>83.85</td>\n",
       "      <td>43.08</td>\n",
       "      <td>14.63</td>\n",
       "      <td>9.52</td>\n",
       "      <td>27.47</td>\n",
       "      <td>22.11</td>\n",
       "      <td>77.89</td>\n",
       "      <td>36.08</td>\n",
       "      <td>48.19</td>\n",
       "      <td>75.36</td>\n",
       "    </tr>\n",
       "  </tbody>\n",
       "</table>\n",
       "</div>"
      ],
      "text/plain": [
       "   SEASON     PTS     FGA    FGM   FG3A   FG3M    FG2A   FG2M    FTA    FTM  \\\n",
       "0    2003  185.90  159.05  69.59  29.82  10.30  129.23  59.29  48.64  36.43   \n",
       "1    2004  193.85  160.00  71.54  31.48  11.17  128.52  60.37  52.49  39.60   \n",
       "2    2005  193.58  157.28  71.24  31.82  11.34  125.45  59.90  53.41  39.75   \n",
       "3    2006  196.79  158.69  72.48  33.84  12.04  124.85  60.45  53.04  39.78   \n",
       "4    2007  198.82  162.23  73.83  35.87  12.94  126.36  60.89  50.71  38.21   \n",
       "\n",
       "     REB    AST    STL    BLK     TO  PCT_FG3A  PCT_FG2A  PCT_FG3M  PCT_FG2M  \\\n",
       "0  84.36  42.29  15.90  10.11  28.55     18.75     81.25     34.54     45.88   \n",
       "1  83.47  42.15  15.05   9.76  27.86     19.68     80.32     35.49     46.97   \n",
       "2  81.77  40.84  14.51   9.35  28.05     20.23     79.77     35.64     47.75   \n",
       "3  82.06  42.23  14.66   9.15  29.65     21.32     78.68     35.58     48.41   \n",
       "4  83.85  43.08  14.63   9.52  27.47     22.11     77.89     36.08     48.19   \n",
       "\n",
       "   PCT_FTM  \n",
       "0    74.90  \n",
       "1    75.45  \n",
       "2    74.43  \n",
       "3    75.01  \n",
       "4    75.36  "
      ]
     },
     "execution_count": 7,
     "metadata": {},
     "output_type": "execute_result"
    }
   ],
   "source": [
    "#create dataframe of mean values for selected statistics\n",
    "\n",
    "df_mean = df_combine.groupby('SEASON')[['PTS','FGA','FGM','FG3A','FG3M','FG2A','FG2M','FTA','FTM','REB','AST','STL','BLK','TO']].mean().reset_index()\n",
    "df_mean['PCT_FG3A'], df_mean['PCT_FG2A'] = df_mean['FG3A']/df_mean['FGA']*100,df_mean['FG2A']/df_mean['FGA']*100\n",
    "# Measure the accuracy of all 2/3 point shots \n",
    "df_mean['PCT_FG3M'], df_mean['PCT_FG2M'] = df_mean['FG3M']/df_mean['FG3A']*100,df_mean['FG2M']/df_mean['FG2A']*100\n",
    "# Measure the accuracy of free throw\n",
    "df_mean['PCT_FTM'] = df_mean['FTM']/df_mean['FTA']*100\n",
    "df_mean = df_mean.round(2)\n",
    "df_mean.head()\n"
   ]
  },
  {
   "cell_type": "markdown",
   "id": "0aa507db",
   "metadata": {},
   "source": [
    "### Part 2: Plots to show correlation between (2PT vs PTS) & (3PT vs PTS)\n",
    "\n",
    "Note: Need to do analyse to provide reason on the drop in pts despite increase in 3 pt in 2020/2021 (Could be COVID affecting conditioning in the NBA bubble)"
   ]
  },
  {
   "cell_type": "code",
   "execution_count": 8,
   "id": "fed61619",
   "metadata": {
    "scrolled": true
   },
   "outputs": [
    {
     "data": {
      "image/png": "[encoded data removed]",
      "text/plain": [
       "<Figure size 1080x576 with 2 Axes>"
      ]
     },
     "metadata": {
      "needs_background": "light"
     },
     "output_type": "display_data"
    }
   ],
   "source": [
    "#Plot correlation heatmap of all NBA stats\n",
    "df_corr = df_mean.copy(deep = True)\n",
    "df_corr['SEASON'] =pd.to_datetime(df_corr['SEASON'], format ='%Y')\n",
    "df_corr = df_corr.set_index('SEASON', drop = True)\n",
    "fig, ax = plt.subplots(figsize=(15,8))\n",
    "stats_ptscorr = sns.heatmap(df_corr[['PTS','FGA','FGM','FG3A','FG3M','FG2A','FG2M','FTA','FTM','REB','AST','STL','BLK','TO']].corr()\n",
    "                            ,annot =True, annot_kws={\"fontsize\":12},ax=ax)\n",
    "stats_ptscorr.xaxis.set_ticks_position('top')\n",
    "fig.savefig(\"C:/Users/edowi/OneDrive/Desktop/Charts/gen_corr_heatmap.png\")\n"
   ]
  },
  {
   "cell_type": "code",
   "execution_count": 9,
   "id": "3c41812e",
   "metadata": {},
   "outputs": [
    {
     "data": {
      "image/png": "[encoded data removed]",
      "text/plain": [
       "<Figure size 720x576 with 4 Axes>"
      ]
     },
     "metadata": {
      "needs_background": "light"
     },
     "output_type": "display_data"
    }
   ],
   "source": [
    "fig,(ax1,ax2) = plt.subplots(nrows =2, ncols =1, figsize =(10,8), sharex = True)\n",
    "\n",
    "#To plot pts vs 3pts FGA\n",
    "df_corr['PTS'].plot(kind = 'line', lw=3, color=\"r\", ax=ax1)\n",
    "ax1.set(title = 'PTS VS 3PT FGA')\n",
    "ax1.set_ylabel('Mean Pts per Game',fontsize = 14, color ='r')\n",
    "for label in ax1.get_yticklabels():\n",
    "    label.set_color(\"r\")\n",
    "ax1.legend(loc=1)\n",
    "ax1.yaxis.labelpad = 20\n",
    "\n",
    "ax1_twin = ax1.twinx()\n",
    "df_corr['FG3A'].plot(kind = 'line', lw=3, color=\"b\", ax=ax1_twin)\n",
    "ax1_twin.set(title = 'PTS VS 3PT FGA')\n",
    "ax1_twin.set_ylabel('Mean 3PT FGA per Game',fontsize = 14, color ='b')\n",
    "for label in ax1_twin.get_yticklabels():\n",
    "    label.set_color(\"b\")\n",
    "ax1_twin.legend(loc=4)\n",
    "ax1_twin.yaxis.labelpad = 20\n",
    "\n",
    "#to plot pts vs 2pts FGA\n",
    "df_corr['PTS'].plot(kind = 'line', lw=3, color=\"r\", ax=ax2)\n",
    "ax2.set(title = 'PTS VS 2PT FGA')\n",
    "ax2.set_ylabel('Mean Pts per Game',fontsize = 14, color ='r')\n",
    "for label in ax2.get_yticklabels():\n",
    "    label.set_color(\"r\")\n",
    "ax2.legend(loc=1)\n",
    "ax2.yaxis.labelpad = 20\n",
    "\n",
    "ax2_twin = ax2.twinx()\n",
    "df_corr['FG2A'].plot(kind = 'line', lw=3, color=\"g\", ax=ax2_twin)\n",
    "ax2_twin.set_ylabel('Mean 2PT FGA per Game',fontsize = 14, color ='g')\n",
    "for label in ax2_twin.get_yticklabels():\n",
    "    label.set_color(\"g\")\n",
    "ax2_twin.legend(loc=4)\n",
    "ax2_twin.yaxis.labelpad = 20\n",
    "\n",
    "ax1.grid(True),ax2.grid(True)\n",
    "# ax2.xaxis.set_major_locator(plt.FixedLocator(np.arange(2003,2022)))\n",
    "fig.savefig(\"C:/Users/edowi/OneDrive/Desktop/Charts/static3_2pt_vs_pts.png\")"
   ]
  },
  {
   "cell_type": "code",
   "execution_count": 10,
   "id": "cbe30e9a",
   "metadata": {},
   "outputs": [
    {
     "data": {
      "text/html": [
       "        <script type=\"text/javascript\">\n",
       "        window.PlotlyConfig = {MathJaxConfig: 'local'};\n",
       "        if (window.MathJax) {MathJax.Hub.Config({SVG: {font: \"STIX-Web\"}});}\n",
       "        if (typeof require !== 'undefined') {\n",
       "        require.undef(\"plotly\");\n",
       "        requirejs.config({\n",
       "            paths: {\n",
       "                'plotly': ['https://cdn.plot.ly/plotly-2.9.0.min']\n",
       "            }\n",
       "        });\n",
       "        require(['plotly'], function(Plotly) {\n",
       "            window._Plotly = Plotly;\n",
       "        });\n",
       "        }\n",
       "        </script>\n",
       "        "
      ]
     },
     "metadata": {},
     "output_type": "display_data"
    }
   ],
   "source": [
    "#Create interactive version of above 2 graph\n",
    "offline.init_notebook_mode(connected=True)\n",
    "df_corr2 = df_corr.reset_index()\n",
    "\n",
    "# Create figure with secondary y-axis\n",
    "fig = make_subplots(specs=[[{\"secondary_y\": True}]])\n",
    "\n",
    "# Add traces\n",
    "fig.add_trace(\n",
    "    go.Scatter(x=df_corr2['SEASON'], y=df_corr['FG3A'], name='FG3A'),\n",
    "               secondary_y = False)\n",
    "\n",
    "fig.add_trace(\n",
    "    go.Scatter(x=df_corr2['SEASON'], y=df_corr['PTS'], name = 'PTS'),        \n",
    "               secondary_y=True)\n",
    "\n",
    "# Add figure title\n",
    "fig.update_layout(\n",
    "    title_text=\"Compare avg of 3PT FGA with PTS for each season\", xaxis = dict(\n",
    "        tickmode = 'array',\n",
    "        tickvals = np.arange(2003, 2022)), xaxis_tickformat = '%Y')\n",
    "\n",
    "# Set x-axis title\n",
    "fig.update_xaxes(title_text=\"xaxis title\", showgrid = False)\n",
    "\n",
    "# Set y-axes titles\n",
    "fig.update_yaxes(title_text=\"Mean <b>3PT FGA</b> per game\", secondary_y=False, showgrid = False)\n",
    "fig.update_yaxes(title_text=\"Mean <b>PTS</b> per game\", secondary_y=True, showgrid = False)\n",
    "\n",
    "fig.write_html(\"C:/Users/edowi/OneDrive/Desktop/Charts/Avg_3pt_pts.html\")"
   ]
  },
  {
   "cell_type": "code",
   "execution_count": 11,
   "id": "38faebea",
   "metadata": {},
   "outputs": [
    {
     "data": {
      "application/vnd.plotly.v1+json": {
       "config": {
        "plotlyServerURL": "https://plot.ly"
       },
       "data": [
        {
         "line": {
          "color": "green"
         },
         "name": "FG2A",
         "type": "scatter",
         "x": [
          "2003-01-01T00:00:00",
          "2004-01-01T00:00:00",
          "2005-01-01T00:00:00",
          "2006-01-01T00:00:00",
          "2007-01-01T00:00:00",
          "2008-01-01T00:00:00",
          "2009-01-01T00:00:00",
          "2010-01-01T00:00:00",
          "2011-01-01T00:00:00",
          "2012-01-01T00:00:00",
          "2013-01-01T00:00:00",
          "2014-01-01T00:00:00",
          "2015-01-01T00:00:00",
          "2016-01-01T00:00:00",
          "2017-01-01T00:00:00",
          "2018-01-01T00:00:00",
          "2019-01-01T00:00:00",
          "2020-01-01T00:00:00",
          "2021-01-01T00:00:00"
         ],
         "xaxis": "x",
         "y": [
          129.23,
          128.52,
          125.45,
          124.85,
          126.36,
          124.82,
          126.22,
          125.56,
          125.6,
          123.54,
          122.12,
          121.57,
          120.23,
          116.42,
          113.55,
          114.04,
          108.13,
          109.41,
          105.79
         ],
         "yaxis": "y"
        },
        {
         "line": {
          "color": "red"
         },
         "name": "PTS",
         "type": "scatter",
         "x": [
          "2003-01-01T00:00:00",
          "2004-01-01T00:00:00",
          "2005-01-01T00:00:00",
          "2006-01-01T00:00:00",
          "2007-01-01T00:00:00",
          "2008-01-01T00:00:00",
          "2009-01-01T00:00:00",
          "2010-01-01T00:00:00",
          "2011-01-01T00:00:00",
          "2012-01-01T00:00:00",
          "2013-01-01T00:00:00",
          "2014-01-01T00:00:00",
          "2015-01-01T00:00:00",
          "2016-01-01T00:00:00",
          "2017-01-01T00:00:00",
          "2018-01-01T00:00:00",
          "2019-01-01T00:00:00",
          "2020-01-01T00:00:00",
          "2021-01-01T00:00:00"
         ],
         "xaxis": "x",
         "y": [
          185.9,
          193.85,
          193.58,
          196.79,
          198.82,
          198.83,
          200.4,
          198.14,
          191.82,
          195.5,
          201,
          199.91,
          204.48,
          210.72,
          212.13,
          221.87,
          222.74,
          228.08,
          214.16
         ],
         "yaxis": "y2"
        }
       ],
       "layout": {
        "template": {
         "data": {
          "bar": [
           {
            "error_x": {
             "color": "#2a3f5f"
            },
            "error_y": {
             "color": "#2a3f5f"
            },
            "marker": {
             "line": {
              "color": "#E5ECF6",
              "width": 0.5
             },
             "pattern": {
              "fillmode": "overlay",
              "size": 10,
              "solidity": 0.2
             }
            },
            "type": "bar"
           }
          ],
          "barpolar": [
           {
            "marker": {
             "line": {
              "color": "#E5ECF6",
              "width": 0.5
             },
             "pattern": {
              "fillmode": "overlay",
              "size": 10,
              "solidity": 0.2
             }
            },
            "type": "barpolar"
           }
          ],
          "carpet": [
           {
            "aaxis": {
             "endlinecolor": "#2a3f5f",
             "gridcolor": "white",
             "linecolor": "white",
             "minorgridcolor": "white",
             "startlinecolor": "#2a3f5f"
            },
            "baxis": {
             "endlinecolor": "#2a3f5f",
             "gridcolor": "white",
             "linecolor": "white",
             "minorgridcolor": "white",
             "startlinecolor": "#2a3f5f"
            },
            "type": "carpet"
           }
          ],
          "choropleth": [
           {
            "colorbar": {
             "outlinewidth": 0,
             "ticks": ""
            },
            "type": "choropleth"
           }
          ],
          "contour": [
           {
            "colorbar": {
             "outlinewidth": 0,
             "ticks": ""
            },
            "colorscale": [
             [
              0,
              "#0d0887"
             ],
             [
              0.1111111111111111,
              "#46039f"
             ],
             [
              0.2222222222222222,
              "#7201a8"
             ],
             [
              0.3333333333333333,
              "#9c179e"
             ],
             [
              0.4444444444444444,
              "#bd3786"
             ],
             [
              0.5555555555555556,
              "#d8576b"
             ],
             [
              0.6666666666666666,
              "#ed7953"
             ],
             [
              0.7777777777777778,
              "#fb9f3a"
             ],
             [
              0.8888888888888888,
              "#fdca26"
             ],
             [
              1,
              "#f0f921"
             ]
            ],
            "type": "contour"
           }
          ],
          "contourcarpet": [
           {
            "colorbar": {
             "outlinewidth": 0,
             "ticks": ""
            },
            "type": "contourcarpet"
           }
          ],
          "heatmap": [
           {
            "colorbar": {
             "outlinewidth": 0,
             "ticks": ""
            },
            "colorscale": [
             [
              0,
              "#0d0887"
             ],
             [
              0.1111111111111111,
              "#46039f"
             ],
             [
              0.2222222222222222,
              "#7201a8"
             ],
             [
              0.3333333333333333,
              "#9c179e"
             ],
             [
              0.4444444444444444,
              "#bd3786"
             ],
             [
              0.5555555555555556,
              "#d8576b"
             ],
             [
              0.6666666666666666,
              "#ed7953"
             ],
             [
              0.7777777777777778,
              "#fb9f3a"
             ],
             [
              0.8888888888888888,
              "#fdca26"
             ],
             [
              1,
              "#f0f921"
             ]
            ],
            "type": "heatmap"
           }
          ],
          "heatmapgl": [
           {
            "colorbar": {
             "outlinewidth": 0,
             "ticks": ""
            },
            "colorscale": [
             [
              0,
              "#0d0887"
             ],
             [
              0.1111111111111111,
              "#46039f"
             ],
             [
              0.2222222222222222,
              "#7201a8"
             ],
             [
              0.3333333333333333,
              "#9c179e"
             ],
             [
              0.4444444444444444,
              "#bd3786"
             ],
             [
              0.5555555555555556,
              "#d8576b"
             ],
             [
              0.6666666666666666,
              "#ed7953"
             ],
             [
              0.7777777777777778,
              "#fb9f3a"
             ],
             [
              0.8888888888888888,
              "#fdca26"
             ],
             [
              1,
              "#f0f921"
             ]
            ],
            "type": "heatmapgl"
           }
          ],
          "histogram": [
           {
            "marker": {
             "pattern": {
              "fillmode": "overlay",
              "size": 10,
              "solidity": 0.2
             }
            },
            "type": "histogram"
           }
          ],
          "histogram2d": [
           {
            "colorbar": {
             "outlinewidth": 0,
             "ticks": ""
            },
            "colorscale": [
             [
              0,
              "#0d0887"
             ],
             [
              0.1111111111111111,
              "#46039f"
             ],
             [
              0.2222222222222222,
              "#7201a8"
             ],
             [
              0.3333333333333333,
              "#9c179e"
             ],
             [
              0.4444444444444444,
              "#bd3786"
             ],
             [
              0.5555555555555556,
              "#d8576b"
             ],
             [
              0.6666666666666666,
              "#ed7953"
             ],
             [
              0.7777777777777778,
              "#fb9f3a"
             ],
             [
              0.8888888888888888,
              "#fdca26"
             ],
             [
              1,
              "#f0f921"
             ]
            ],
            "type": "histogram2d"
           }
          ],
          "histogram2dcontour": [
           {
            "colorbar": {
             "outlinewidth": 0,
             "ticks": ""
            },
            "colorscale": [
             [
              0,
              "#0d0887"
             ],
             [
              0.1111111111111111,
              "#46039f"
             ],
             [
              0.2222222222222222,
              "#7201a8"
             ],
             [
              0.3333333333333333,
              "#9c179e"
             ],
             [
              0.4444444444444444,
              "#bd3786"
             ],
             [
              0.5555555555555556,
              "#d8576b"
             ],
             [
              0.6666666666666666,
              "#ed7953"
             ],
             [
              0.7777777777777778,
              "#fb9f3a"
             ],
             [
              0.8888888888888888,
              "#fdca26"
             ],
             [
              1,
              "#f0f921"
             ]
            ],
            "type": "histogram2dcontour"
           }
          ],
          "mesh3d": [
           {
            "colorbar": {
             "outlinewidth": 0,
             "ticks": ""
            },
            "type": "mesh3d"
           }
          ],
          "parcoords": [
           {
            "line": {
             "colorbar": {
              "outlinewidth": 0,
              "ticks": ""
             }
            },
            "type": "parcoords"
           }
          ],
          "pie": [
           {
            "automargin": true,
            "type": "pie"
           }
          ],
          "scatter": [
           {
            "marker": {
             "colorbar": {
              "outlinewidth": 0,
              "ticks": ""
             }
            },
            "type": "scatter"
           }
          ],
          "scatter3d": [
           {
            "line": {
             "colorbar": {
              "outlinewidth": 0,
              "ticks": ""
             }
            },
            "marker": {
             "colorbar": {
              "outlinewidth": 0,
              "ticks": ""
             }
            },
            "type": "scatter3d"
           }
          ],
          "scattercarpet": [
           {
            "marker": {
             "colorbar": {
              "outlinewidth": 0,
              "ticks": ""
             }
            },
            "type": "scattercarpet"
           }
          ],
          "scattergeo": [
           {
            "marker": {
             "colorbar": {
              "outlinewidth": 0,
              "ticks": ""
             }
            },
            "type": "scattergeo"
           }
          ],
          "scattergl": [
           {
            "marker": {
             "colorbar": {
              "outlinewidth": 0,
              "ticks": ""
             }
            },
            "type": "scattergl"
           }
          ],
          "scattermapbox": [
           {
            "marker": {
             "colorbar": {
              "outlinewidth": 0,
              "ticks": ""
             }
            },
            "type": "scattermapbox"
           }
          ],
          "scatterpolar": [
           {
            "marker": {
             "colorbar": {
              "outlinewidth": 0,
              "ticks": ""
             }
            },
            "type": "scatterpolar"
           }
          ],
          "scatterpolargl": [
           {
            "marker": {
             "colorbar": {
              "outlinewidth": 0,
              "ticks": ""
             }
            },
            "type": "scatterpolargl"
           }
          ],
          "scatterternary": [
           {
            "marker": {
             "colorbar": {
              "outlinewidth": 0,
              "ticks": ""
             }
            },
            "type": "scatterternary"
           }
          ],
          "surface": [
           {
            "colorbar": {
             "outlinewidth": 0,
             "ticks": ""
            },
            "colorscale": [
             [
              0,
              "#0d0887"
             ],
             [
              0.1111111111111111,
              "#46039f"
             ],
             [
              0.2222222222222222,
              "#7201a8"
             ],
             [
              0.3333333333333333,
              "#9c179e"
             ],
             [
              0.4444444444444444,
              "#bd3786"
             ],
             [
              0.5555555555555556,
              "#d8576b"
             ],
             [
              0.6666666666666666,
              "#ed7953"
             ],
             [
              0.7777777777777778,
              "#fb9f3a"
             ],
             [
              0.8888888888888888,
              "#fdca26"
             ],
             [
              1,
              "#f0f921"
             ]
            ],
            "type": "surface"
           }
          ],
          "table": [
           {
            "cells": {
             "fill": {
              "color": "#EBF0F8"
             },
             "line": {
              "color": "white"
             }
            },
            "header": {
             "fill": {
              "color": "#C8D4E3"
             },
             "line": {
              "color": "white"
             }
            },
            "type": "table"
           }
          ]
         },
         "layout": {
          "annotationdefaults": {
           "arrowcolor": "#2a3f5f",
           "arrowhead": 0,
           "arrowwidth": 1
          },
          "autotypenumbers": "strict",
          "coloraxis": {
           "colorbar": {
            "outlinewidth": 0,
            "ticks": ""
           }
          },
          "colorscale": {
           "diverging": [
            [
             0,
             "#8e0152"
            ],
            [
             0.1,
             "#c51b7d"
            ],
            [
             0.2,
             "#de77ae"
            ],
            [
             0.3,
             "#f1b6da"
            ],
            [
             0.4,
             "#fde0ef"
            ],
            [
             0.5,
             "#f7f7f7"
            ],
            [
             0.6,
             "#e6f5d0"
            ],
            [
             0.7,
             "#b8e186"
            ],
            [
             0.8,
             "#7fbc41"
            ],
            [
             0.9,
             "#4d9221"
            ],
            [
             1,
             "#276419"
            ]
           ],
           "sequential": [
            [
             0,
             "#0d0887"
            ],
            [
             0.1111111111111111,
             "#46039f"
            ],
            [
             0.2222222222222222,
             "#7201a8"
            ],
            [
             0.3333333333333333,
             "#9c179e"
            ],
            [
             0.4444444444444444,
             "#bd3786"
            ],
            [
             0.5555555555555556,
             "#d8576b"
            ],
            [
             0.6666666666666666,
             "#ed7953"
            ],
            [
             0.7777777777777778,
             "#fb9f3a"
            ],
            [
             0.8888888888888888,
             "#fdca26"
            ],
            [
             1,
             "#f0f921"
            ]
           ],
           "sequentialminus": [
            [
             0,
             "#0d0887"
            ],
            [
             0.1111111111111111,
             "#46039f"
            ],
            [
             0.2222222222222222,
             "#7201a8"
            ],
            [
             0.3333333333333333,
             "#9c179e"
            ],
            [
             0.4444444444444444,
             "#bd3786"
            ],
            [
             0.5555555555555556,
             "#d8576b"
            ],
            [
             0.6666666666666666,
             "#ed7953"
            ],
            [
             0.7777777777777778,
             "#fb9f3a"
            ],
            [
             0.8888888888888888,
             "#fdca26"
            ],
            [
             1,
             "#f0f921"
            ]
           ]
          },
          "colorway": [
           "#636efa",
           "#EF553B",
           "#00cc96",
           "#ab63fa",
           "#FFA15A",
           "#19d3f3",
           "#FF6692",
           "#B6E880",
           "#FF97FF",
           "#FECB52"
          ],
          "font": {
           "color": "#2a3f5f"
          },
          "geo": {
           "bgcolor": "white",
           "lakecolor": "white",
           "landcolor": "#E5ECF6",
           "showlakes": true,
           "showland": true,
           "subunitcolor": "white"
          },
          "hoverlabel": {
           "align": "left"
          },
          "hovermode": "closest",
          "mapbox": {
           "style": "light"
          },
          "paper_bgcolor": "white",
          "plot_bgcolor": "#E5ECF6",
          "polar": {
           "angularaxis": {
            "gridcolor": "white",
            "linecolor": "white",
            "ticks": ""
           },
           "bgcolor": "#E5ECF6",
           "radialaxis": {
            "gridcolor": "white",
            "linecolor": "white",
            "ticks": ""
           }
          },
          "scene": {
           "xaxis": {
            "backgroundcolor": "#E5ECF6",
            "gridcolor": "white",
            "gridwidth": 2,
            "linecolor": "white",
            "showbackground": true,
            "ticks": "",
            "zerolinecolor": "white"
           },
           "yaxis": {
            "backgroundcolor": "#E5ECF6",
            "gridcolor": "white",
            "gridwidth": 2,
            "linecolor": "white",
            "showbackground": true,
            "ticks": "",
            "zerolinecolor": "white"
           },
           "zaxis": {
            "backgroundcolor": "#E5ECF6",
            "gridcolor": "white",
            "gridwidth": 2,
            "linecolor": "white",
            "showbackground": true,
            "ticks": "",
            "zerolinecolor": "white"
           }
          },
          "shapedefaults": {
           "line": {
            "color": "#2a3f5f"
           }
          },
          "ternary": {
           "aaxis": {
            "gridcolor": "white",
            "linecolor": "white",
            "ticks": ""
           },
           "baxis": {
            "gridcolor": "white",
            "linecolor": "white",
            "ticks": ""
           },
           "bgcolor": "#E5ECF6",
           "caxis": {
            "gridcolor": "white",
            "linecolor": "white",
            "ticks": ""
           }
          },
          "title": {
           "x": 0.05
          },
          "xaxis": {
           "automargin": true,
           "gridcolor": "white",
           "linecolor": "white",
           "ticks": "",
           "title": {
            "standoff": 15
           },
           "zerolinecolor": "white",
           "zerolinewidth": 2
          },
          "yaxis": {
           "automargin": true,
           "gridcolor": "white",
           "linecolor": "white",
           "ticks": "",
           "title": {
            "standoff": 15
           },
           "zerolinecolor": "white",
           "zerolinewidth": 2
          }
         }
        },
        "title": {
         "text": "Compare avg of 2PT FGA with PTS for each season"
        },
        "xaxis": {
         "anchor": "y",
         "domain": [
          0,
          0.94
         ],
         "showgrid": false,
         "tickformat": "%Y",
         "tickmode": "array",
         "tickvals": [
          2003,
          2004,
          2005,
          2006,
          2007,
          2008,
          2009,
          2010,
          2011,
          2012,
          2013,
          2014,
          2015,
          2016,
          2017,
          2018,
          2019,
          2020,
          2021
         ],
         "title": {
          "text": "NBA Season"
         }
        },
        "yaxis": {
         "anchor": "x",
         "domain": [
          0,
          1
         ],
         "showgrid": false,
         "title": {
          "text": "Mean <b>3PT FGA</b> per game"
         }
        },
        "yaxis2": {
         "anchor": "x",
         "overlaying": "y",
         "showgrid": false,
         "side": "right",
         "title": {
          "text": "Mean <b>PTS</b> per game"
         }
        }
       }
      },
      "text/html": [
       "<div>                            <div id=\"124d7e09-025e-49ba-92b8-4aaf754e3bed\" class=\"plotly-graph-div\" style=\"height:525px; width:100%;\"></div>            <script type=\"text/javascript\">                require([\"plotly\"], function(Plotly) {                    window.PLOTLYENV=window.PLOTLYENV || {};                                    if (document.getElementById(\"124d7e09-025e-49ba-92b8-4aaf754e3bed\")) {                    Plotly.newPlot(                        \"124d7e09-025e-49ba-92b8-4aaf754e3bed\",                        [{\"line\":{\"color\":\"green\"},\"name\":\"FG2A\",\"x\":[\"2003-01-01T00:00:00\",\"2004-01-01T00:00:00\",\"2005-01-01T00:00:00\",\"2006-01-01T00:00:00\",\"2007-01-01T00:00:00\",\"2008-01-01T00:00:00\",\"2009-01-01T00:00:00\",\"2010-01-01T00:00:00\",\"2011-01-01T00:00:00\",\"2012-01-01T00:00:00\",\"2013-01-01T00:00:00\",\"2014-01-01T00:00:00\",\"2015-01-01T00:00:00\",\"2016-01-01T00:00:00\",\"2017-01-01T00:00:00\",\"2018-01-01T00:00:00\",\"2019-01-01T00:00:00\",\"2020-01-01T00:00:00\",\"2021-01-01T00:00:00\"],\"y\":[129.23,128.52,125.45,124.85,126.36,124.82,126.22,125.56,125.6,123.54,122.12,121.57,120.23,116.42,113.55,114.04,108.13,109.41,105.79],\"type\":\"scatter\",\"xaxis\":\"x\",\"yaxis\":\"y\"},{\"line\":{\"color\":\"red\"},\"name\":\"PTS\",\"x\":[\"2003-01-01T00:00:00\",\"2004-01-01T00:00:00\",\"2005-01-01T00:00:00\",\"2006-01-01T00:00:00\",\"2007-01-01T00:00:00\",\"2008-01-01T00:00:00\",\"2009-01-01T00:00:00\",\"2010-01-01T00:00:00\",\"2011-01-01T00:00:00\",\"2012-01-01T00:00:00\",\"2013-01-01T00:00:00\",\"2014-01-01T00:00:00\",\"2015-01-01T00:00:00\",\"2016-01-01T00:00:00\",\"2017-01-01T00:00:00\",\"2018-01-01T00:00:00\",\"2019-01-01T00:00:00\",\"2020-01-01T00:00:00\",\"2021-01-01T00:00:00\"],\"y\":[185.9,193.85,193.58,196.79,198.82,198.83,200.4,198.14,191.82,195.5,201.0,199.91,204.48,210.72,212.13,221.87,222.74,228.08,214.16],\"type\":\"scatter\",\"xaxis\":\"x\",\"yaxis\":\"y2\"}],                        {\"template\":{\"data\":{\"bar\":[{\"error_x\":{\"color\":\"#2a3f5f\"},\"error_y\":{\"color\":\"#2a3f5f\"},\"marker\":{\"line\":{\"color\":\"#E5ECF6\",\"width\":0.5},\"pattern\":{\"fillmode\":\"overlay\",\"size\":10,\"solidity\":0.2}},\"type\":\"bar\"}],\"barpolar\":[{\"marker\":{\"line\":{\"color\":\"#E5ECF6\",\"width\":0.5},\"pattern\":{\"fillmode\":\"overlay\",\"size\":10,\"solidity\":0.2}},\"type\":\"barpolar\"}],\"carpet\":[{\"aaxis\":{\"endlinecolor\":\"#2a3f5f\",\"gridcolor\":\"white\",\"linecolor\":\"white\",\"minorgridcolor\":\"white\",\"startlinecolor\":\"#2a3f5f\"},\"baxis\":{\"endlinecolor\":\"#2a3f5f\",\"gridcolor\":\"white\",\"linecolor\":\"white\",\"minorgridcolor\":\"white\",\"startlinecolor\":\"#2a3f5f\"},\"type\":\"carpet\"}],\"choropleth\":[{\"colorbar\":{\"outlinewidth\":0,\"ticks\":\"\"},\"type\":\"choropleth\"}],\"contour\":[{\"colorbar\":{\"outlinewidth\":0,\"ticks\":\"\"},\"colorscale\":[[0.0,\"#0d0887\"],[0.1111111111111111,\"#46039f\"],[0.2222222222222222,\"#7201a8\"],[0.3333333333333333,\"#9c179e\"],[0.4444444444444444,\"#bd3786\"],[0.5555555555555556,\"#d8576b\"],[0.6666666666666666,\"#ed7953\"],[0.7777777777777778,\"#fb9f3a\"],[0.8888888888888888,\"#fdca26\"],[1.0,\"#f0f921\"]],\"type\":\"contour\"}],\"contourcarpet\":[{\"colorbar\":{\"outlinewidth\":0,\"ticks\":\"\"},\"type\":\"contourcarpet\"}],\"heatmap\":[{\"colorbar\":{\"outlinewidth\":0,\"ticks\":\"\"},\"colorscale\":[[0.0,\"#0d0887\"],[0.1111111111111111,\"#46039f\"],[0.2222222222222222,\"#7201a8\"],[0.3333333333333333,\"#9c179e\"],[0.4444444444444444,\"#bd3786\"],[0.5555555555555556,\"#d8576b\"],[0.6666666666666666,\"#ed7953\"],[0.7777777777777778,\"#fb9f3a\"],[0.8888888888888888,\"#fdca26\"],[1.0,\"#f0f921\"]],\"type\":\"heatmap\"}],\"heatmapgl\":[{\"colorbar\":{\"outlinewidth\":0,\"ticks\":\"\"},\"colorscale\":[[0.0,\"#0d0887\"],[0.1111111111111111,\"#46039f\"],[0.2222222222222222,\"#7201a8\"],[0.3333333333333333,\"#9c179e\"],[0.4444444444444444,\"#bd3786\"],[0.5555555555555556,\"#d8576b\"],[0.6666666666666666,\"#ed7953\"],[0.7777777777777778,\"#fb9f3a\"],[0.8888888888888888,\"#fdca26\"],[1.0,\"#f0f921\"]],\"type\":\"heatmapgl\"}],\"histogram\":[{\"marker\":{\"pattern\":{\"fillmode\":\"overlay\",\"size\":10,\"solidity\":0.2}},\"type\":\"histogram\"}],\"histogram2d\":[{\"colorbar\":{\"outlinewidth\":0,\"ticks\":\"\"},\"colorscale\":[[0.0,\"#0d0887\"],[0.1111111111111111,\"#46039f\"],[0.2222222222222222,\"#7201a8\"],[0.3333333333333333,\"#9c179e\"],[0.4444444444444444,\"#bd3786\"],[0.5555555555555556,\"#d8576b\"],[0.6666666666666666,\"#ed7953\"],[0.7777777777777778,\"#fb9f3a\"],[0.8888888888888888,\"#fdca26\"],[1.0,\"#f0f921\"]],\"type\":\"histogram2d\"}],\"histogram2dcontour\":[{\"colorbar\":{\"outlinewidth\":0,\"ticks\":\"\"},\"colorscale\":[[0.0,\"#0d0887\"],[0.1111111111111111,\"#46039f\"],[0.2222222222222222,\"#7201a8\"],[0.3333333333333333,\"#9c179e\"],[0.4444444444444444,\"#bd3786\"],[0.5555555555555556,\"#d8576b\"],[0.6666666666666666,\"#ed7953\"],[0.7777777777777778,\"#fb9f3a\"],[0.8888888888888888,\"#fdca26\"],[1.0,\"#f0f921\"]],\"type\":\"histogram2dcontour\"}],\"mesh3d\":[{\"colorbar\":{\"outlinewidth\":0,\"ticks\":\"\"},\"type\":\"mesh3d\"}],\"parcoords\":[{\"line\":{\"colorbar\":{\"outlinewidth\":0,\"ticks\":\"\"}},\"type\":\"parcoords\"}],\"pie\":[{\"automargin\":true,\"type\":\"pie\"}],\"scatter\":[{\"marker\":{\"colorbar\":{\"outlinewidth\":0,\"ticks\":\"\"}},\"type\":\"scatter\"}],\"scatter3d\":[{\"line\":{\"colorbar\":{\"outlinewidth\":0,\"ticks\":\"\"}},\"marker\":{\"colorbar\":{\"outlinewidth\":0,\"ticks\":\"\"}},\"type\":\"scatter3d\"}],\"scattercarpet\":[{\"marker\":{\"colorbar\":{\"outlinewidth\":0,\"ticks\":\"\"}},\"type\":\"scattercarpet\"}],\"scattergeo\":[{\"marker\":{\"colorbar\":{\"outlinewidth\":0,\"ticks\":\"\"}},\"type\":\"scattergeo\"}],\"scattergl\":[{\"marker\":{\"colorbar\":{\"outlinewidth\":0,\"ticks\":\"\"}},\"type\":\"scattergl\"}],\"scattermapbox\":[{\"marker\":{\"colorbar\":{\"outlinewidth\":0,\"ticks\":\"\"}},\"type\":\"scattermapbox\"}],\"scatterpolar\":[{\"marker\":{\"colorbar\":{\"outlinewidth\":0,\"ticks\":\"\"}},\"type\":\"scatterpolar\"}],\"scatterpolargl\":[{\"marker\":{\"colorbar\":{\"outlinewidth\":0,\"ticks\":\"\"}},\"type\":\"scatterpolargl\"}],\"scatterternary\":[{\"marker\":{\"colorbar\":{\"outlinewidth\":0,\"ticks\":\"\"}},\"type\":\"scatterternary\"}],\"surface\":[{\"colorbar\":{\"outlinewidth\":0,\"ticks\":\"\"},\"colorscale\":[[0.0,\"#0d0887\"],[0.1111111111111111,\"#46039f\"],[0.2222222222222222,\"#7201a8\"],[0.3333333333333333,\"#9c179e\"],[0.4444444444444444,\"#bd3786\"],[0.5555555555555556,\"#d8576b\"],[0.6666666666666666,\"#ed7953\"],[0.7777777777777778,\"#fb9f3a\"],[0.8888888888888888,\"#fdca26\"],[1.0,\"#f0f921\"]],\"type\":\"surface\"}],\"table\":[{\"cells\":{\"fill\":{\"color\":\"#EBF0F8\"},\"line\":{\"color\":\"white\"}},\"header\":{\"fill\":{\"color\":\"#C8D4E3\"},\"line\":{\"color\":\"white\"}},\"type\":\"table\"}]},\"layout\":{\"annotationdefaults\":{\"arrowcolor\":\"#2a3f5f\",\"arrowhead\":0,\"arrowwidth\":1},\"autotypenumbers\":\"strict\",\"coloraxis\":{\"colorbar\":{\"outlinewidth\":0,\"ticks\":\"\"}},\"colorscale\":{\"diverging\":[[0,\"#8e0152\"],[0.1,\"#c51b7d\"],[0.2,\"#de77ae\"],[0.3,\"#f1b6da\"],[0.4,\"#fde0ef\"],[0.5,\"#f7f7f7\"],[0.6,\"#e6f5d0\"],[0.7,\"#b8e186\"],[0.8,\"#7fbc41\"],[0.9,\"#4d9221\"],[1,\"#276419\"]],\"sequential\":[[0.0,\"#0d0887\"],[0.1111111111111111,\"#46039f\"],[0.2222222222222222,\"#7201a8\"],[0.3333333333333333,\"#9c179e\"],[0.4444444444444444,\"#bd3786\"],[0.5555555555555556,\"#d8576b\"],[0.6666666666666666,\"#ed7953\"],[0.7777777777777778,\"#fb9f3a\"],[0.8888888888888888,\"#fdca26\"],[1.0,\"#f0f921\"]],\"sequentialminus\":[[0.0,\"#0d0887\"],[0.1111111111111111,\"#46039f\"],[0.2222222222222222,\"#7201a8\"],[0.3333333333333333,\"#9c179e\"],[0.4444444444444444,\"#bd3786\"],[0.5555555555555556,\"#d8576b\"],[0.6666666666666666,\"#ed7953\"],[0.7777777777777778,\"#fb9f3a\"],[0.8888888888888888,\"#fdca26\"],[1.0,\"#f0f921\"]]},\"colorway\":[\"#636efa\",\"#EF553B\",\"#00cc96\",\"#ab63fa\",\"#FFA15A\",\"#19d3f3\",\"#FF6692\",\"#B6E880\",\"#FF97FF\",\"#FECB52\"],\"font\":{\"color\":\"#2a3f5f\"},\"geo\":{\"bgcolor\":\"white\",\"lakecolor\":\"white\",\"landcolor\":\"#E5ECF6\",\"showlakes\":true,\"showland\":true,\"subunitcolor\":\"white\"},\"hoverlabel\":{\"align\":\"left\"},\"hovermode\":\"closest\",\"mapbox\":{\"style\":\"light\"},\"paper_bgcolor\":\"white\",\"plot_bgcolor\":\"#E5ECF6\",\"polar\":{\"angularaxis\":{\"gridcolor\":\"white\",\"linecolor\":\"white\",\"ticks\":\"\"},\"bgcolor\":\"#E5ECF6\",\"radialaxis\":{\"gridcolor\":\"white\",\"linecolor\":\"white\",\"ticks\":\"\"}},\"scene\":{\"xaxis\":{\"backgroundcolor\":\"#E5ECF6\",\"gridcolor\":\"white\",\"gridwidth\":2,\"linecolor\":\"white\",\"showbackground\":true,\"ticks\":\"\",\"zerolinecolor\":\"white\"},\"yaxis\":{\"backgroundcolor\":\"#E5ECF6\",\"gridcolor\":\"white\",\"gridwidth\":2,\"linecolor\":\"white\",\"showbackground\":true,\"ticks\":\"\",\"zerolinecolor\":\"white\"},\"zaxis\":{\"backgroundcolor\":\"#E5ECF6\",\"gridcolor\":\"white\",\"gridwidth\":2,\"linecolor\":\"white\",\"showbackground\":true,\"ticks\":\"\",\"zerolinecolor\":\"white\"}},\"shapedefaults\":{\"line\":{\"color\":\"#2a3f5f\"}},\"ternary\":{\"aaxis\":{\"gridcolor\":\"white\",\"linecolor\":\"white\",\"ticks\":\"\"},\"baxis\":{\"gridcolor\":\"white\",\"linecolor\":\"white\",\"ticks\":\"\"},\"bgcolor\":\"#E5ECF6\",\"caxis\":{\"gridcolor\":\"white\",\"linecolor\":\"white\",\"ticks\":\"\"}},\"title\":{\"x\":0.05},\"xaxis\":{\"automargin\":true,\"gridcolor\":\"white\",\"linecolor\":\"white\",\"ticks\":\"\",\"title\":{\"standoff\":15},\"zerolinecolor\":\"white\",\"zerolinewidth\":2},\"yaxis\":{\"automargin\":true,\"gridcolor\":\"white\",\"linecolor\":\"white\",\"ticks\":\"\",\"title\":{\"standoff\":15},\"zerolinecolor\":\"white\",\"zerolinewidth\":2}}},\"xaxis\":{\"anchor\":\"y\",\"domain\":[0.0,0.94],\"tickmode\":\"array\",\"tickvals\":[2003,2004,2005,2006,2007,2008,2009,2010,2011,2012,2013,2014,2015,2016,2017,2018,2019,2020,2021],\"tickformat\":\"%Y\",\"title\":{\"text\":\"NBA Season\"},\"showgrid\":false},\"yaxis\":{\"anchor\":\"x\",\"domain\":[0.0,1.0],\"title\":{\"text\":\"Mean <b>3PT FGA</b> per game\"},\"showgrid\":false},\"yaxis2\":{\"anchor\":\"x\",\"overlaying\":\"y\",\"side\":\"right\",\"title\":{\"text\":\"Mean <b>PTS</b> per game\"},\"showgrid\":false},\"title\":{\"text\":\"Compare avg of 2PT FGA with PTS for each season\"}},                        {\"responsive\": true}                    ).then(function(){\n",
       "                            \n",
       "var gd = document.getElementById('124d7e09-025e-49ba-92b8-4aaf754e3bed');\n",
       "var x = new MutationObserver(function (mutations, observer) {{\n",
       "        var display = window.getComputedStyle(gd).display;\n",
       "        if (!display || display === 'none') {{\n",
       "            console.log([gd, 'removed!']);\n",
       "            Plotly.purge(gd);\n",
       "            observer.disconnect();\n",
       "        }}\n",
       "}});\n",
       "\n",
       "// Listen for the removal of the full notebook cells\n",
       "var notebookContainer = gd.closest('#notebook-container');\n",
       "if (notebookContainer) {{\n",
       "    x.observe(notebookContainer, {childList: true});\n",
       "}}\n",
       "\n",
       "// Listen for the clearing of the current output cell\n",
       "var outputEl = gd.closest('.output');\n",
       "if (outputEl) {{\n",
       "    x.observe(outputEl, {childList: true});\n",
       "}}\n",
       "\n",
       "                        })                };                });            </script>        </div>"
      ]
     },
     "metadata": {},
     "output_type": "display_data"
    }
   ],
   "source": [
    "fig = make_subplots(specs=[[{\"secondary_y\": True}]])\n",
    "\n",
    "# Add traces\n",
    "fig.add_trace(\n",
    "    go.Scatter(x=df_corr2['SEASON'], y=df_corr['FG2A'], name='FG2A', line = dict(color='green')),\n",
    "               secondary_y = False)\n",
    "\n",
    "fig.add_trace(\n",
    "    go.Scatter(x=df_corr2['SEASON'], y=df_corr['PTS'], name = 'PTS', line = dict(color='red')),        \n",
    "               secondary_y=True)\n",
    "\n",
    "# Add figure title\n",
    "fig.update_layout(\n",
    "    title_text=\"Compare avg of 2PT FGA with PTS for each season\", \n",
    "    xaxis = dict(\n",
    "        tickmode = 'array',\n",
    "        tickvals = np.arange(2003, 2022)), xaxis_tickformat = '%Y'\n",
    "\n",
    ")\n",
    "\n",
    "# Set x-axis title\n",
    "fig.update_xaxes(title_text=\"NBA Season\", showgrid = False)\n",
    "\n",
    "    \n",
    "# Set y-axes titles\n",
    "fig.update_yaxes(title_text=\"Mean <b>3PT FGA</b> per game\", secondary_y=False, showgrid = False)\n",
    "fig.update_yaxes(title_text=\"Mean <b>PTS</b> per game\", secondary_y=True, showgrid = False)\n",
    "fig.write_html(\"C:/Users/edowi/OneDrive/Desktop/Charts/Avg_2pt_pts.html\")\n",
    "fig"
   ]
  },
  {
   "cell_type": "code",
   "execution_count": 12,
   "id": "f939f00e",
   "metadata": {},
   "outputs": [
    {
     "data": {
      "application/vnd.plotly.v1+json": {
       "config": {
        "plotlyServerURL": "https://plot.ly"
       },
       "data": [
        {
         "line": {
          "color": "green"
         },
         "name": "FGA",
         "type": "scatter",
         "x": [
          "2003-01-01T00:00:00",
          "2004-01-01T00:00:00",
          "2005-01-01T00:00:00",
          "2006-01-01T00:00:00",
          "2007-01-01T00:00:00",
          "2008-01-01T00:00:00",
          "2009-01-01T00:00:00",
          "2010-01-01T00:00:00",
          "2011-01-01T00:00:00",
          "2012-01-01T00:00:00",
          "2013-01-01T00:00:00",
          "2014-01-01T00:00:00",
          "2015-01-01T00:00:00",
          "2016-01-01T00:00:00",
          "2017-01-01T00:00:00",
          "2018-01-01T00:00:00",
          "2019-01-01T00:00:00",
          "2020-01-01T00:00:00",
          "2021-01-01T00:00:00"
         ],
         "xaxis": "x",
         "y": [
          159.05,
          160,
          157.28,
          158.69,
          162.23,
          160.96,
          162.45,
          161.55,
          162.26,
          163.52,
          165.21,
          166.68,
          168.72,
          170.46,
          171.71,
          178.08,
          176.84,
          180.49,
          178.11
         ],
         "yaxis": "y"
        },
        {
         "line": {
          "color": "blue"
         },
         "name": "FG3A",
         "type": "scatter",
         "x": [
          "2003-01-01T00:00:00",
          "2004-01-01T00:00:00",
          "2005-01-01T00:00:00",
          "2006-01-01T00:00:00",
          "2007-01-01T00:00:00",
          "2008-01-01T00:00:00",
          "2009-01-01T00:00:00",
          "2010-01-01T00:00:00",
          "2011-01-01T00:00:00",
          "2012-01-01T00:00:00",
          "2013-01-01T00:00:00",
          "2014-01-01T00:00:00",
          "2015-01-01T00:00:00",
          "2016-01-01T00:00:00",
          "2017-01-01T00:00:00",
          "2018-01-01T00:00:00",
          "2019-01-01T00:00:00",
          "2020-01-01T00:00:00",
          "2021-01-01T00:00:00"
         ],
         "xaxis": "x",
         "y": [
          29.82,
          31.48,
          31.82,
          33.84,
          35.87,
          36.14,
          36.22,
          36,
          36.65,
          39.98,
          43.09,
          45.11,
          48.49,
          54.04,
          58.16,
          64.04,
          68.71,
          71.08,
          72.33
         ],
         "yaxis": "y2"
        }
       ],
       "layout": {
        "template": {
         "data": {
          "bar": [
           {
            "error_x": {
             "color": "#2a3f5f"
            },
            "error_y": {
             "color": "#2a3f5f"
            },
            "marker": {
             "line": {
              "color": "#E5ECF6",
              "width": 0.5
             },
             "pattern": {
              "fillmode": "overlay",
              "size": 10,
              "solidity": 0.2
             }
            },
            "type": "bar"
           }
          ],
          "barpolar": [
           {
            "marker": {
             "line": {
              "color": "#E5ECF6",
              "width": 0.5
             },
             "pattern": {
              "fillmode": "overlay",
              "size": 10,
              "solidity": 0.2
             }
            },
            "type": "barpolar"
           }
          ],
          "carpet": [
           {
            "aaxis": {
             "endlinecolor": "#2a3f5f",
             "gridcolor": "white",
             "linecolor": "white",
             "minorgridcolor": "white",
             "startlinecolor": "#2a3f5f"
            },
            "baxis": {
             "endlinecolor": "#2a3f5f",
             "gridcolor": "white",
             "linecolor": "white",
             "minorgridcolor": "white",
             "startlinecolor": "#2a3f5f"
            },
            "type": "carpet"
           }
          ],
          "choropleth": [
           {
            "colorbar": {
             "outlinewidth": 0,
             "ticks": ""
            },
            "type": "choropleth"
           }
          ],
          "contour": [
           {
            "colorbar": {
             "outlinewidth": 0,
             "ticks": ""
            },
            "colorscale": [
             [
              0,
              "#0d0887"
             ],
             [
              0.1111111111111111,
              "#46039f"
             ],
             [
              0.2222222222222222,
              "#7201a8"
             ],
             [
              0.3333333333333333,
              "#9c179e"
             ],
             [
              0.4444444444444444,
              "#bd3786"
             ],
             [
              0.5555555555555556,
              "#d8576b"
             ],
             [
              0.6666666666666666,
              "#ed7953"
             ],
             [
              0.7777777777777778,
              "#fb9f3a"
             ],
             [
              0.8888888888888888,
              "#fdca26"
             ],
             [
              1,
              "#f0f921"
             ]
            ],
            "type": "contour"
           }
          ],
          "contourcarpet": [
           {
            "colorbar": {
             "outlinewidth": 0,
             "ticks": ""
            },
            "type": "contourcarpet"
           }
          ],
          "heatmap": [
           {
            "colorbar": {
             "outlinewidth": 0,
             "ticks": ""
            },
            "colorscale": [
             [
              0,
              "#0d0887"
             ],
             [
              0.1111111111111111,
              "#46039f"
             ],
             [
              0.2222222222222222,
              "#7201a8"
             ],
             [
              0.3333333333333333,
              "#9c179e"
             ],
             [
              0.4444444444444444,
              "#bd3786"
             ],
             [
              0.5555555555555556,
              "#d8576b"
             ],
             [
              0.6666666666666666,
              "#ed7953"
             ],
             [
              0.7777777777777778,
              "#fb9f3a"
             ],
             [
              0.8888888888888888,
              "#fdca26"
             ],
             [
              1,
              "#f0f921"
             ]
            ],
            "type": "heatmap"
           }
          ],
          "heatmapgl": [
           {
            "colorbar": {
             "outlinewidth": 0,
             "ticks": ""
            },
            "colorscale": [
             [
              0,
              "#0d0887"
             ],
             [
              0.1111111111111111,
              "#46039f"
             ],
             [
              0.2222222222222222,
              "#7201a8"
             ],
             [
              0.3333333333333333,
              "#9c179e"
             ],
             [
              0.4444444444444444,
              "#bd3786"
             ],
             [
              0.5555555555555556,
              "#d8576b"
             ],
             [
              0.6666666666666666,
              "#ed7953"
             ],
             [
              0.7777777777777778,
              "#fb9f3a"
             ],
             [
              0.8888888888888888,
              "#fdca26"
             ],
             [
              1,
              "#f0f921"
             ]
            ],
            "type": "heatmapgl"
           }
          ],
          "histogram": [
           {
            "marker": {
             "pattern": {
              "fillmode": "overlay",
              "size": 10,
              "solidity": 0.2
             }
            },
            "type": "histogram"
           }
          ],
          "histogram2d": [
           {
            "colorbar": {
             "outlinewidth": 0,
             "ticks": ""
            },
            "colorscale": [
             [
              0,
              "#0d0887"
             ],
             [
              0.1111111111111111,
              "#46039f"
             ],
             [
              0.2222222222222222,
              "#7201a8"
             ],
             [
              0.3333333333333333,
              "#9c179e"
             ],
             [
              0.4444444444444444,
              "#bd3786"
             ],
             [
              0.5555555555555556,
              "#d8576b"
             ],
             [
              0.6666666666666666,
              "#ed7953"
             ],
             [
              0.7777777777777778,
              "#fb9f3a"
             ],
             [
              0.8888888888888888,
              "#fdca26"
             ],
             [
              1,
              "#f0f921"
             ]
            ],
            "type": "histogram2d"
           }
          ],
          "histogram2dcontour": [
           {
            "colorbar": {
             "outlinewidth": 0,
             "ticks": ""
            },
            "colorscale": [
             [
              0,
              "#0d0887"
             ],
             [
              0.1111111111111111,
              "#46039f"
             ],
             [
              0.2222222222222222,
              "#7201a8"
             ],
             [
              0.3333333333333333,
              "#9c179e"
             ],
             [
              0.4444444444444444,
              "#bd3786"
             ],
             [
              0.5555555555555556,
              "#d8576b"
             ],
             [
              0.6666666666666666,
              "#ed7953"
             ],
             [
              0.7777777777777778,
              "#fb9f3a"
             ],
             [
              0.8888888888888888,
              "#fdca26"
             ],
             [
              1,
              "#f0f921"
             ]
            ],
            "type": "histogram2dcontour"
           }
          ],
          "mesh3d": [
           {
            "colorbar": {
             "outlinewidth": 0,
             "ticks": ""
            },
            "type": "mesh3d"
           }
          ],
          "parcoords": [
           {
            "line": {
             "colorbar": {
              "outlinewidth": 0,
              "ticks": ""
             }
            },
            "type": "parcoords"
           }
          ],
          "pie": [
           {
            "automargin": true,
            "type": "pie"
           }
          ],
          "scatter": [
           {
            "marker": {
             "colorbar": {
              "outlinewidth": 0,
              "ticks": ""
             }
            },
            "type": "scatter"
           }
          ],
          "scatter3d": [
           {
            "line": {
             "colorbar": {
              "outlinewidth": 0,
              "ticks": ""
             }
            },
            "marker": {
             "colorbar": {
              "outlinewidth": 0,
              "ticks": ""
             }
            },
            "type": "scatter3d"
           }
          ],
          "scattercarpet": [
           {
            "marker": {
             "colorbar": {
              "outlinewidth": 0,
              "ticks": ""
             }
            },
            "type": "scattercarpet"
           }
          ],
          "scattergeo": [
           {
            "marker": {
             "colorbar": {
              "outlinewidth": 0,
              "ticks": ""
             }
            },
            "type": "scattergeo"
           }
          ],
          "scattergl": [
           {
            "marker": {
             "colorbar": {
              "outlinewidth": 0,
              "ticks": ""
             }
            },
            "type": "scattergl"
           }
          ],
          "scattermapbox": [
           {
            "marker": {
             "colorbar": {
              "outlinewidth": 0,
              "ticks": ""
             }
            },
            "type": "scattermapbox"
           }
          ],
          "scatterpolar": [
           {
            "marker": {
             "colorbar": {
              "outlinewidth": 0,
              "ticks": ""
             }
            },
            "type": "scatterpolar"
           }
          ],
          "scatterpolargl": [
           {
            "marker": {
             "colorbar": {
              "outlinewidth": 0,
              "ticks": ""
             }
            },
            "type": "scatterpolargl"
           }
          ],
          "scatterternary": [
           {
            "marker": {
             "colorbar": {
              "outlinewidth": 0,
              "ticks": ""
             }
            },
            "type": "scatterternary"
           }
          ],
          "surface": [
           {
            "colorbar": {
             "outlinewidth": 0,
             "ticks": ""
            },
            "colorscale": [
             [
              0,
              "#0d0887"
             ],
             [
              0.1111111111111111,
              "#46039f"
             ],
             [
              0.2222222222222222,
              "#7201a8"
             ],
             [
              0.3333333333333333,
              "#9c179e"
             ],
             [
              0.4444444444444444,
              "#bd3786"
             ],
             [
              0.5555555555555556,
              "#d8576b"
             ],
             [
              0.6666666666666666,
              "#ed7953"
             ],
             [
              0.7777777777777778,
              "#fb9f3a"
             ],
             [
              0.8888888888888888,
              "#fdca26"
             ],
             [
              1,
              "#f0f921"
             ]
            ],
            "type": "surface"
           }
          ],
          "table": [
           {
            "cells": {
             "fill": {
              "color": "#EBF0F8"
             },
             "line": {
              "color": "white"
             }
            },
            "header": {
             "fill": {
              "color": "#C8D4E3"
             },
             "line": {
              "color": "white"
             }
            },
            "type": "table"
           }
          ]
         },
         "layout": {
          "annotationdefaults": {
           "arrowcolor": "#2a3f5f",
           "arrowhead": 0,
           "arrowwidth": 1
          },
          "autotypenumbers": "strict",
          "coloraxis": {
           "colorbar": {
            "outlinewidth": 0,
            "ticks": ""
           }
          },
          "colorscale": {
           "diverging": [
            [
             0,
             "#8e0152"
            ],
            [
             0.1,
             "#c51b7d"
            ],
            [
             0.2,
             "#de77ae"
            ],
            [
             0.3,
             "#f1b6da"
            ],
            [
             0.4,
             "#fde0ef"
            ],
            [
             0.5,
             "#f7f7f7"
            ],
            [
             0.6,
             "#e6f5d0"
            ],
            [
             0.7,
             "#b8e186"
            ],
            [
             0.8,
             "#7fbc41"
            ],
            [
             0.9,
             "#4d9221"
            ],
            [
             1,
             "#276419"
            ]
           ],
           "sequential": [
            [
             0,
             "#0d0887"
            ],
            [
             0.1111111111111111,
             "#46039f"
            ],
            [
             0.2222222222222222,
             "#7201a8"
            ],
            [
             0.3333333333333333,
             "#9c179e"
            ],
            [
             0.4444444444444444,
             "#bd3786"
            ],
            [
             0.5555555555555556,
             "#d8576b"
            ],
            [
             0.6666666666666666,
             "#ed7953"
            ],
            [
             0.7777777777777778,
             "#fb9f3a"
            ],
            [
             0.8888888888888888,
             "#fdca26"
            ],
            [
             1,
             "#f0f921"
            ]
           ],
           "sequentialminus": [
            [
             0,
             "#0d0887"
            ],
            [
             0.1111111111111111,
             "#46039f"
            ],
            [
             0.2222222222222222,
             "#7201a8"
            ],
            [
             0.3333333333333333,
             "#9c179e"
            ],
            [
             0.4444444444444444,
             "#bd3786"
            ],
            [
             0.5555555555555556,
             "#d8576b"
            ],
            [
             0.6666666666666666,
             "#ed7953"
            ],
            [
             0.7777777777777778,
             "#fb9f3a"
            ],
            [
             0.8888888888888888,
             "#fdca26"
            ],
            [
             1,
             "#f0f921"
            ]
           ]
          },
          "colorway": [
           "#636efa",
           "#EF553B",
           "#00cc96",
           "#ab63fa",
           "#FFA15A",
           "#19d3f3",
           "#FF6692",
           "#B6E880",
           "#FF97FF",
           "#FECB52"
          ],
          "font": {
           "color": "#2a3f5f"
          },
          "geo": {
           "bgcolor": "white",
           "lakecolor": "white",
           "landcolor": "#E5ECF6",
           "showlakes": true,
           "showland": true,
           "subunitcolor": "white"
          },
          "hoverlabel": {
           "align": "left"
          },
          "hovermode": "closest",
          "mapbox": {
           "style": "light"
          },
          "paper_bgcolor": "white",
          "plot_bgcolor": "#E5ECF6",
          "polar": {
           "angularaxis": {
            "gridcolor": "white",
            "linecolor": "white",
            "ticks": ""
           },
           "bgcolor": "#E5ECF6",
           "radialaxis": {
            "gridcolor": "white",
            "linecolor": "white",
            "ticks": ""
           }
          },
          "scene": {
           "xaxis": {
            "backgroundcolor": "#E5ECF6",
            "gridcolor": "white",
            "gridwidth": 2,
            "linecolor": "white",
            "showbackground": true,
            "ticks": "",
            "zerolinecolor": "white"
           },
           "yaxis": {
            "backgroundcolor": "#E5ECF6",
            "gridcolor": "white",
            "gridwidth": 2,
            "linecolor": "white",
            "showbackground": true,
            "ticks": "",
            "zerolinecolor": "white"
           },
           "zaxis": {
            "backgroundcolor": "#E5ECF6",
            "gridcolor": "white",
            "gridwidth": 2,
            "linecolor": "white",
            "showbackground": true,
            "ticks": "",
            "zerolinecolor": "white"
           }
          },
          "shapedefaults": {
           "line": {
            "color": "#2a3f5f"
           }
          },
          "ternary": {
           "aaxis": {
            "gridcolor": "white",
            "linecolor": "white",
            "ticks": ""
           },
           "baxis": {
            "gridcolor": "white",
            "linecolor": "white",
            "ticks": ""
           },
           "bgcolor": "#E5ECF6",
           "caxis": {
            "gridcolor": "white",
            "linecolor": "white",
            "ticks": ""
           }
          },
          "title": {
           "x": 0.05
          },
          "xaxis": {
           "automargin": true,
           "gridcolor": "white",
           "linecolor": "white",
           "ticks": "",
           "title": {
            "standoff": 15
           },
           "zerolinecolor": "white",
           "zerolinewidth": 2
          },
          "yaxis": {
           "automargin": true,
           "gridcolor": "white",
           "linecolor": "white",
           "ticks": "",
           "title": {
            "standoff": 15
           },
           "zerolinecolor": "white",
           "zerolinewidth": 2
          }
         }
        },
        "title": {
         "text": "Compare avg of 2PT FGA with PTS for each season"
        },
        "xaxis": {
         "anchor": "y",
         "domain": [
          0,
          0.94
         ],
         "showgrid": false,
         "tickformat": "%Y",
         "tickmode": "array",
         "tickvals": [
          2003,
          2004,
          2005,
          2006,
          2007,
          2008,
          2009,
          2010,
          2011,
          2012,
          2013,
          2014,
          2015,
          2016,
          2017,
          2018,
          2019,
          2020,
          2021
         ],
         "title": {
          "text": "NBA Season"
         }
        },
        "yaxis": {
         "anchor": "x",
         "domain": [
          0,
          1
         ],
         "showgrid": false,
         "title": {
          "text": "Mean <b>FGA</b> per game"
         }
        },
        "yaxis2": {
         "anchor": "x",
         "overlaying": "y",
         "showgrid": false,
         "side": "right",
         "title": {
          "text": "Mean <b>3PT FGA</b> per game"
         }
        }
       }
      },
      "text/html": [
       "<div>                            <div id=\"cf13ac70-9ad5-46b1-86f5-467a464297ee\" class=\"plotly-graph-div\" style=\"height:525px; width:100%;\"></div>            <script type=\"text/javascript\">                require([\"plotly\"], function(Plotly) {                    window.PLOTLYENV=window.PLOTLYENV || {};                                    if (document.getElementById(\"cf13ac70-9ad5-46b1-86f5-467a464297ee\")) {                    Plotly.newPlot(                        \"cf13ac70-9ad5-46b1-86f5-467a464297ee\",                        [{\"line\":{\"color\":\"green\"},\"name\":\"FGA\",\"x\":[\"2003-01-01T00:00:00\",\"2004-01-01T00:00:00\",\"2005-01-01T00:00:00\",\"2006-01-01T00:00:00\",\"2007-01-01T00:00:00\",\"2008-01-01T00:00:00\",\"2009-01-01T00:00:00\",\"2010-01-01T00:00:00\",\"2011-01-01T00:00:00\",\"2012-01-01T00:00:00\",\"2013-01-01T00:00:00\",\"2014-01-01T00:00:00\",\"2015-01-01T00:00:00\",\"2016-01-01T00:00:00\",\"2017-01-01T00:00:00\",\"2018-01-01T00:00:00\",\"2019-01-01T00:00:00\",\"2020-01-01T00:00:00\",\"2021-01-01T00:00:00\"],\"y\":[159.05,160.0,157.28,158.69,162.23,160.96,162.45,161.55,162.26,163.52,165.21,166.68,168.72,170.46,171.71,178.08,176.84,180.49,178.11],\"type\":\"scatter\",\"xaxis\":\"x\",\"yaxis\":\"y\"},{\"line\":{\"color\":\"blue\"},\"name\":\"FG3A\",\"x\":[\"2003-01-01T00:00:00\",\"2004-01-01T00:00:00\",\"2005-01-01T00:00:00\",\"2006-01-01T00:00:00\",\"2007-01-01T00:00:00\",\"2008-01-01T00:00:00\",\"2009-01-01T00:00:00\",\"2010-01-01T00:00:00\",\"2011-01-01T00:00:00\",\"2012-01-01T00:00:00\",\"2013-01-01T00:00:00\",\"2014-01-01T00:00:00\",\"2015-01-01T00:00:00\",\"2016-01-01T00:00:00\",\"2017-01-01T00:00:00\",\"2018-01-01T00:00:00\",\"2019-01-01T00:00:00\",\"2020-01-01T00:00:00\",\"2021-01-01T00:00:00\"],\"y\":[29.82,31.48,31.82,33.84,35.87,36.14,36.22,36.0,36.65,39.98,43.09,45.11,48.49,54.04,58.16,64.04,68.71,71.08,72.33],\"type\":\"scatter\",\"xaxis\":\"x\",\"yaxis\":\"y2\"}],                        {\"template\":{\"data\":{\"bar\":[{\"error_x\":{\"color\":\"#2a3f5f\"},\"error_y\":{\"color\":\"#2a3f5f\"},\"marker\":{\"line\":{\"color\":\"#E5ECF6\",\"width\":0.5},\"pattern\":{\"fillmode\":\"overlay\",\"size\":10,\"solidity\":0.2}},\"type\":\"bar\"}],\"barpolar\":[{\"marker\":{\"line\":{\"color\":\"#E5ECF6\",\"width\":0.5},\"pattern\":{\"fillmode\":\"overlay\",\"size\":10,\"solidity\":0.2}},\"type\":\"barpolar\"}],\"carpet\":[{\"aaxis\":{\"endlinecolor\":\"#2a3f5f\",\"gridcolor\":\"white\",\"linecolor\":\"white\",\"minorgridcolor\":\"white\",\"startlinecolor\":\"#2a3f5f\"},\"baxis\":{\"endlinecolor\":\"#2a3f5f\",\"gridcolor\":\"white\",\"linecolor\":\"white\",\"minorgridcolor\":\"white\",\"startlinecolor\":\"#2a3f5f\"},\"type\":\"carpet\"}],\"choropleth\":[{\"colorbar\":{\"outlinewidth\":0,\"ticks\":\"\"},\"type\":\"choropleth\"}],\"contour\":[{\"colorbar\":{\"outlinewidth\":0,\"ticks\":\"\"},\"colorscale\":[[0.0,\"#0d0887\"],[0.1111111111111111,\"#46039f\"],[0.2222222222222222,\"#7201a8\"],[0.3333333333333333,\"#9c179e\"],[0.4444444444444444,\"#bd3786\"],[0.5555555555555556,\"#d8576b\"],[0.6666666666666666,\"#ed7953\"],[0.7777777777777778,\"#fb9f3a\"],[0.8888888888888888,\"#fdca26\"],[1.0,\"#f0f921\"]],\"type\":\"contour\"}],\"contourcarpet\":[{\"colorbar\":{\"outlinewidth\":0,\"ticks\":\"\"},\"type\":\"contourcarpet\"}],\"heatmap\":[{\"colorbar\":{\"outlinewidth\":0,\"ticks\":\"\"},\"colorscale\":[[0.0,\"#0d0887\"],[0.1111111111111111,\"#46039f\"],[0.2222222222222222,\"#7201a8\"],[0.3333333333333333,\"#9c179e\"],[0.4444444444444444,\"#bd3786\"],[0.5555555555555556,\"#d8576b\"],[0.6666666666666666,\"#ed7953\"],[0.7777777777777778,\"#fb9f3a\"],[0.8888888888888888,\"#fdca26\"],[1.0,\"#f0f921\"]],\"type\":\"heatmap\"}],\"heatmapgl\":[{\"colorbar\":{\"outlinewidth\":0,\"ticks\":\"\"},\"colorscale\":[[0.0,\"#0d0887\"],[0.1111111111111111,\"#46039f\"],[0.2222222222222222,\"#7201a8\"],[0.3333333333333333,\"#9c179e\"],[0.4444444444444444,\"#bd3786\"],[0.5555555555555556,\"#d8576b\"],[0.6666666666666666,\"#ed7953\"],[0.7777777777777778,\"#fb9f3a\"],[0.8888888888888888,\"#fdca26\"],[1.0,\"#f0f921\"]],\"type\":\"heatmapgl\"}],\"histogram\":[{\"marker\":{\"pattern\":{\"fillmode\":\"overlay\",\"size\":10,\"solidity\":0.2}},\"type\":\"histogram\"}],\"histogram2d\":[{\"colorbar\":{\"outlinewidth\":0,\"ticks\":\"\"},\"colorscale\":[[0.0,\"#0d0887\"],[0.1111111111111111,\"#46039f\"],[0.2222222222222222,\"#7201a8\"],[0.3333333333333333,\"#9c179e\"],[0.4444444444444444,\"#bd3786\"],[0.5555555555555556,\"#d8576b\"],[0.6666666666666666,\"#ed7953\"],[0.7777777777777778,\"#fb9f3a\"],[0.8888888888888888,\"#fdca26\"],[1.0,\"#f0f921\"]],\"type\":\"histogram2d\"}],\"histogram2dcontour\":[{\"colorbar\":{\"outlinewidth\":0,\"ticks\":\"\"},\"colorscale\":[[0.0,\"#0d0887\"],[0.1111111111111111,\"#46039f\"],[0.2222222222222222,\"#7201a8\"],[0.3333333333333333,\"#9c179e\"],[0.4444444444444444,\"#bd3786\"],[0.5555555555555556,\"#d8576b\"],[0.6666666666666666,\"#ed7953\"],[0.7777777777777778,\"#fb9f3a\"],[0.8888888888888888,\"#fdca26\"],[1.0,\"#f0f921\"]],\"type\":\"histogram2dcontour\"}],\"mesh3d\":[{\"colorbar\":{\"outlinewidth\":0,\"ticks\":\"\"},\"type\":\"mesh3d\"}],\"parcoords\":[{\"line\":{\"colorbar\":{\"outlinewidth\":0,\"ticks\":\"\"}},\"type\":\"parcoords\"}],\"pie\":[{\"automargin\":true,\"type\":\"pie\"}],\"scatter\":[{\"marker\":{\"colorbar\":{\"outlinewidth\":0,\"ticks\":\"\"}},\"type\":\"scatter\"}],\"scatter3d\":[{\"line\":{\"colorbar\":{\"outlinewidth\":0,\"ticks\":\"\"}},\"marker\":{\"colorbar\":{\"outlinewidth\":0,\"ticks\":\"\"}},\"type\":\"scatter3d\"}],\"scattercarpet\":[{\"marker\":{\"colorbar\":{\"outlinewidth\":0,\"ticks\":\"\"}},\"type\":\"scattercarpet\"}],\"scattergeo\":[{\"marker\":{\"colorbar\":{\"outlinewidth\":0,\"ticks\":\"\"}},\"type\":\"scattergeo\"}],\"scattergl\":[{\"marker\":{\"colorbar\":{\"outlinewidth\":0,\"ticks\":\"\"}},\"type\":\"scattergl\"}],\"scattermapbox\":[{\"marker\":{\"colorbar\":{\"outlinewidth\":0,\"ticks\":\"\"}},\"type\":\"scattermapbox\"}],\"scatterpolar\":[{\"marker\":{\"colorbar\":{\"outlinewidth\":0,\"ticks\":\"\"}},\"type\":\"scatterpolar\"}],\"scatterpolargl\":[{\"marker\":{\"colorbar\":{\"outlinewidth\":0,\"ticks\":\"\"}},\"type\":\"scatterpolargl\"}],\"scatterternary\":[{\"marker\":{\"colorbar\":{\"outlinewidth\":0,\"ticks\":\"\"}},\"type\":\"scatterternary\"}],\"surface\":[{\"colorbar\":{\"outlinewidth\":0,\"ticks\":\"\"},\"colorscale\":[[0.0,\"#0d0887\"],[0.1111111111111111,\"#46039f\"],[0.2222222222222222,\"#7201a8\"],[0.3333333333333333,\"#9c179e\"],[0.4444444444444444,\"#bd3786\"],[0.5555555555555556,\"#d8576b\"],[0.6666666666666666,\"#ed7953\"],[0.7777777777777778,\"#fb9f3a\"],[0.8888888888888888,\"#fdca26\"],[1.0,\"#f0f921\"]],\"type\":\"surface\"}],\"table\":[{\"cells\":{\"fill\":{\"color\":\"#EBF0F8\"},\"line\":{\"color\":\"white\"}},\"header\":{\"fill\":{\"color\":\"#C8D4E3\"},\"line\":{\"color\":\"white\"}},\"type\":\"table\"}]},\"layout\":{\"annotationdefaults\":{\"arrowcolor\":\"#2a3f5f\",\"arrowhead\":0,\"arrowwidth\":1},\"autotypenumbers\":\"strict\",\"coloraxis\":{\"colorbar\":{\"outlinewidth\":0,\"ticks\":\"\"}},\"colorscale\":{\"diverging\":[[0,\"#8e0152\"],[0.1,\"#c51b7d\"],[0.2,\"#de77ae\"],[0.3,\"#f1b6da\"],[0.4,\"#fde0ef\"],[0.5,\"#f7f7f7\"],[0.6,\"#e6f5d0\"],[0.7,\"#b8e186\"],[0.8,\"#7fbc41\"],[0.9,\"#4d9221\"],[1,\"#276419\"]],\"sequential\":[[0.0,\"#0d0887\"],[0.1111111111111111,\"#46039f\"],[0.2222222222222222,\"#7201a8\"],[0.3333333333333333,\"#9c179e\"],[0.4444444444444444,\"#bd3786\"],[0.5555555555555556,\"#d8576b\"],[0.6666666666666666,\"#ed7953\"],[0.7777777777777778,\"#fb9f3a\"],[0.8888888888888888,\"#fdca26\"],[1.0,\"#f0f921\"]],\"sequentialminus\":[[0.0,\"#0d0887\"],[0.1111111111111111,\"#46039f\"],[0.2222222222222222,\"#7201a8\"],[0.3333333333333333,\"#9c179e\"],[0.4444444444444444,\"#bd3786\"],[0.5555555555555556,\"#d8576b\"],[0.6666666666666666,\"#ed7953\"],[0.7777777777777778,\"#fb9f3a\"],[0.8888888888888888,\"#fdca26\"],[1.0,\"#f0f921\"]]},\"colorway\":[\"#636efa\",\"#EF553B\",\"#00cc96\",\"#ab63fa\",\"#FFA15A\",\"#19d3f3\",\"#FF6692\",\"#B6E880\",\"#FF97FF\",\"#FECB52\"],\"font\":{\"color\":\"#2a3f5f\"},\"geo\":{\"bgcolor\":\"white\",\"lakecolor\":\"white\",\"landcolor\":\"#E5ECF6\",\"showlakes\":true,\"showland\":true,\"subunitcolor\":\"white\"},\"hoverlabel\":{\"align\":\"left\"},\"hovermode\":\"closest\",\"mapbox\":{\"style\":\"light\"},\"paper_bgcolor\":\"white\",\"plot_bgcolor\":\"#E5ECF6\",\"polar\":{\"angularaxis\":{\"gridcolor\":\"white\",\"linecolor\":\"white\",\"ticks\":\"\"},\"bgcolor\":\"#E5ECF6\",\"radialaxis\":{\"gridcolor\":\"white\",\"linecolor\":\"white\",\"ticks\":\"\"}},\"scene\":{\"xaxis\":{\"backgroundcolor\":\"#E5ECF6\",\"gridcolor\":\"white\",\"gridwidth\":2,\"linecolor\":\"white\",\"showbackground\":true,\"ticks\":\"\",\"zerolinecolor\":\"white\"},\"yaxis\":{\"backgroundcolor\":\"#E5ECF6\",\"gridcolor\":\"white\",\"gridwidth\":2,\"linecolor\":\"white\",\"showbackground\":true,\"ticks\":\"\",\"zerolinecolor\":\"white\"},\"zaxis\":{\"backgroundcolor\":\"#E5ECF6\",\"gridcolor\":\"white\",\"gridwidth\":2,\"linecolor\":\"white\",\"showbackground\":true,\"ticks\":\"\",\"zerolinecolor\":\"white\"}},\"shapedefaults\":{\"line\":{\"color\":\"#2a3f5f\"}},\"ternary\":{\"aaxis\":{\"gridcolor\":\"white\",\"linecolor\":\"white\",\"ticks\":\"\"},\"baxis\":{\"gridcolor\":\"white\",\"linecolor\":\"white\",\"ticks\":\"\"},\"bgcolor\":\"#E5ECF6\",\"caxis\":{\"gridcolor\":\"white\",\"linecolor\":\"white\",\"ticks\":\"\"}},\"title\":{\"x\":0.05},\"xaxis\":{\"automargin\":true,\"gridcolor\":\"white\",\"linecolor\":\"white\",\"ticks\":\"\",\"title\":{\"standoff\":15},\"zerolinecolor\":\"white\",\"zerolinewidth\":2},\"yaxis\":{\"automargin\":true,\"gridcolor\":\"white\",\"linecolor\":\"white\",\"ticks\":\"\",\"title\":{\"standoff\":15},\"zerolinecolor\":\"white\",\"zerolinewidth\":2}}},\"xaxis\":{\"anchor\":\"y\",\"domain\":[0.0,0.94],\"tickmode\":\"array\",\"tickvals\":[2003,2004,2005,2006,2007,2008,2009,2010,2011,2012,2013,2014,2015,2016,2017,2018,2019,2020,2021],\"tickformat\":\"%Y\",\"title\":{\"text\":\"NBA Season\"},\"showgrid\":false},\"yaxis\":{\"anchor\":\"x\",\"domain\":[0.0,1.0],\"title\":{\"text\":\"Mean <b>FGA</b> per game\"},\"showgrid\":false},\"yaxis2\":{\"anchor\":\"x\",\"overlaying\":\"y\",\"side\":\"right\",\"title\":{\"text\":\"Mean <b>3PT FGA</b> per game\"},\"showgrid\":false},\"title\":{\"text\":\"Compare avg of 2PT FGA with PTS for each season\"}},                        {\"responsive\": true}                    ).then(function(){\n",
       "                            \n",
       "var gd = document.getElementById('cf13ac70-9ad5-46b1-86f5-467a464297ee');\n",
       "var x = new MutationObserver(function (mutations, observer) {{\n",
       "        var display = window.getComputedStyle(gd).display;\n",
       "        if (!display || display === 'none') {{\n",
       "            console.log([gd, 'removed!']);\n",
       "            Plotly.purge(gd);\n",
       "            observer.disconnect();\n",
       "        }}\n",
       "}});\n",
       "\n",
       "// Listen for the removal of the full notebook cells\n",
       "var notebookContainer = gd.closest('#notebook-container');\n",
       "if (notebookContainer) {{\n",
       "    x.observe(notebookContainer, {childList: true});\n",
       "}}\n",
       "\n",
       "// Listen for the clearing of the current output cell\n",
       "var outputEl = gd.closest('.output');\n",
       "if (outputEl) {{\n",
       "    x.observe(outputEl, {childList: true});\n",
       "}}\n",
       "\n",
       "                        })                };                });            </script>        </div>"
      ]
     },
     "metadata": {},
     "output_type": "display_data"
    }
   ],
   "source": [
    "#To see if the game has become faster with increase in 3FGA attempts\n",
    "fig = make_subplots(specs=[[{\"secondary_y\": True}]])\n",
    "\n",
    "# Add traces\n",
    "fig.add_trace(\n",
    "    go.Scatter(x=df_corr2['SEASON'], y=df_corr['FGA'], name='FGA', line = dict(color='green')),\n",
    "               secondary_y = False)\n",
    "\n",
    "fig.add_trace(\n",
    "    go.Scatter(x=df_corr2['SEASON'], y=df_corr['FG3A'], name = 'FG3A', line = dict(color='blue')),        \n",
    "               secondary_y=True)\n",
    "\n",
    "# Add figure title\n",
    "fig.update_layout(\n",
    "    title_text=\"Compare avg of 2PT FGA with PTS for each season\", \n",
    "    xaxis = dict(\n",
    "        tickmode = 'array',\n",
    "        tickvals = np.arange(2003, 2022)), xaxis_tickformat = '%Y'\n",
    "\n",
    ")\n",
    "\n",
    "# Set x-axis title\n",
    "fig.update_xaxes(title_text=\"NBA Season\", showgrid = False)\n",
    "\n",
    "    \n",
    "# Set y-axes titles\n",
    "fig.update_yaxes(title_text=\"Mean <b>FGA</b> per game\", secondary_y=False, showgrid = False)\n",
    "fig.update_yaxes(title_text=\"Mean <b>3PT FGA</b> per game\", secondary_y=True, showgrid = False)\n",
    "fig.write_html(\"C:/Users/edowi/OneDrive/Desktop/Charts/Avg_FGA_FG3A.html\")\n",
    "fig"
   ]
  },
  {
   "cell_type": "markdown",
   "id": "e408e6b0",
   "metadata": {},
   "source": [
    "==Need== to find out the outlier where pts drop while 3pts attempt increase=="
   ]
  },
  {
   "cell_type": "code",
   "execution_count": 13,
   "id": "9fb63c0f",
   "metadata": {},
   "outputs": [
    {
     "data": {
      "image/png": "[encoded data removed]",
      "text/plain": [
       "<Figure size 720x360 with 2 Axes>"
      ]
     },
     "metadata": {
      "needs_background": "light"
     },
     "output_type": "display_data"
    }
   ],
   "source": [
    "fig,(axa,axb) = plt.subplots(nrows =1, ncols =2, figsize =(10,5), sharey =True)\n",
    "sns.regplot(x='FG3A',y='PTS',data=df_corr, ax = axa)\n",
    "sns.regplot(x='FG2A',y='PTS',data=df_corr,ax = axb, color = 'orange')\n",
    "fig.savefig(\"C:/Users/edowi/OneDrive/Desktop/Charts/regplot_w_pts.png\")"
   ]
  },
  {
   "cell_type": "code",
   "execution_count": 14,
   "id": "b3c88226",
   "metadata": {},
   "outputs": [],
   "source": [
    "#check shot accuracy to understand why 2021 season points drop\n",
    "#Will need to check for number of games and news of NBA bubble\n",
    "\n",
    "trace0 = go.Scatter(\n",
    "    x = df_mean['SEASON'], \n",
    "    y = df_mean['PCT_FG3M'],\n",
    "    name  = '3PT shot accuracy',\n",
    "    line = dict(color = ('green'), width = 3) \n",
    ")\n",
    "\n",
    "trace1 = go.Scatter(\n",
    "    x = df_mean['SEASON'], \n",
    "    y = df_mean['PCT_FG2M'],\n",
    "    name  = '2PT shot accuracy',\n",
    "    line = dict(color = ('blue'), width = 3, dash = 'dot') \n",
    ")\n",
    "\n",
    "data = [trace0, trace1]\n",
    "\n",
    "layout = dict(title = 'Shot Accuracy Comparison',\n",
    "              xaxis = {'title':'SEASON',\n",
    "                       'tickmode' : 'array',\n",
    "                       'tickvals' : np.arange(2003, 2022), \n",
    "                       'tickformat' : '%Y'},\n",
    "              yaxis = {'title': 'Shot %'}\n",
    "             )\n",
    "\n",
    "fig = go.Figure(data=data, layout =layout)\n",
    "fig.update_xaxes(nticks = 19, tick0 = 2003, dtick = 1)\n",
    "\n",
    "fig.write_html(\"C:/Users/edowi/OneDrive/Desktop/Charts/shot_accuracy.html\")\n"
   ]
  },
  {
   "cell_type": "code",
   "execution_count": 15,
   "id": "9d5e560a",
   "metadata": {},
   "outputs": [
    {
     "data": {
      "text/plain": [
       "SEASON  SEASON\n",
       "2003    2003      1286\n",
       "2004    2004      1362\n",
       "2005    2005      1432\n",
       "2006    2006      1419\n",
       "2007    2007      1411\n",
       "2008    2008      1425\n",
       "2009    2009      1424\n",
       "2010    2010      1422\n",
       "2011    2011      1104\n",
       "2012    2012      1420\n",
       "2013    2013      1427\n",
       "2014    2014      1418\n",
       "2015    2015      1416\n",
       "2016    2016      1405\n",
       "2017    2017      1382\n",
       "2018    2018      1378\n",
       "2019    2019      1241\n",
       "2020    2020      1264\n",
       "2021    2021       289\n",
       "Name: SEASON, dtype: int64"
      ]
     },
     "execution_count": 15,
     "metadata": {},
     "output_type": "execute_result"
    }
   ],
   "source": [
    "#check no of games\n",
    "df_gameamt = df_combine.groupby('SEASON')['SEASON'].value_counts()\n",
    "df_gameamt"
   ]
  },
  {
   "cell_type": "markdown",
   "id": "2d34806e",
   "metadata": {},
   "source": [
    "### Part 3: Plot to show correlation between and Proportion of 3PT & 2PT Shots"
   ]
  },
  {
   "cell_type": "code",
   "execution_count": 16,
   "id": "60a01330",
   "metadata": {},
   "outputs": [
    {
     "data": {
      "text/html": [
       "<div>\n",
       "<style scoped>\n",
       "    .dataframe tbody tr th:only-of-type {\n",
       "        vertical-align: middle;\n",
       "    }\n",
       "\n",
       "    .dataframe tbody tr th {\n",
       "        vertical-align: top;\n",
       "    }\n",
       "\n",
       "    .dataframe thead th {\n",
       "        text-align: right;\n",
       "    }\n",
       "</style>\n",
       "<table border=\"1\" class=\"dataframe\">\n",
       "  <thead>\n",
       "    <tr style=\"text-align: right;\">\n",
       "      <th></th>\n",
       "      <th>SEASON</th>\n",
       "      <th>FGA</th>\n",
       "      <th>PCT_FG3A</th>\n",
       "      <th>PCT_FG2A</th>\n",
       "    </tr>\n",
       "  </thead>\n",
       "  <tbody>\n",
       "    <tr>\n",
       "      <th>0</th>\n",
       "      <td>2003</td>\n",
       "      <td>159.0</td>\n",
       "      <td>19.0</td>\n",
       "      <td>81.0</td>\n",
       "    </tr>\n",
       "    <tr>\n",
       "      <th>1</th>\n",
       "      <td>2004</td>\n",
       "      <td>160.0</td>\n",
       "      <td>20.0</td>\n",
       "      <td>80.0</td>\n",
       "    </tr>\n",
       "    <tr>\n",
       "      <th>2</th>\n",
       "      <td>2005</td>\n",
       "      <td>157.0</td>\n",
       "      <td>20.0</td>\n",
       "      <td>80.0</td>\n",
       "    </tr>\n",
       "    <tr>\n",
       "      <th>3</th>\n",
       "      <td>2006</td>\n",
       "      <td>159.0</td>\n",
       "      <td>21.0</td>\n",
       "      <td>79.0</td>\n",
       "    </tr>\n",
       "    <tr>\n",
       "      <th>4</th>\n",
       "      <td>2007</td>\n",
       "      <td>162.0</td>\n",
       "      <td>22.0</td>\n",
       "      <td>78.0</td>\n",
       "    </tr>\n",
       "    <tr>\n",
       "      <th>5</th>\n",
       "      <td>2008</td>\n",
       "      <td>161.0</td>\n",
       "      <td>22.0</td>\n",
       "      <td>78.0</td>\n",
       "    </tr>\n",
       "    <tr>\n",
       "      <th>6</th>\n",
       "      <td>2009</td>\n",
       "      <td>162.0</td>\n",
       "      <td>22.0</td>\n",
       "      <td>78.0</td>\n",
       "    </tr>\n",
       "    <tr>\n",
       "      <th>7</th>\n",
       "      <td>2010</td>\n",
       "      <td>162.0</td>\n",
       "      <td>22.0</td>\n",
       "      <td>78.0</td>\n",
       "    </tr>\n",
       "    <tr>\n",
       "      <th>8</th>\n",
       "      <td>2011</td>\n",
       "      <td>162.0</td>\n",
       "      <td>23.0</td>\n",
       "      <td>77.0</td>\n",
       "    </tr>\n",
       "    <tr>\n",
       "      <th>9</th>\n",
       "      <td>2012</td>\n",
       "      <td>164.0</td>\n",
       "      <td>24.0</td>\n",
       "      <td>76.0</td>\n",
       "    </tr>\n",
       "    <tr>\n",
       "      <th>10</th>\n",
       "      <td>2013</td>\n",
       "      <td>165.0</td>\n",
       "      <td>26.0</td>\n",
       "      <td>74.0</td>\n",
       "    </tr>\n",
       "    <tr>\n",
       "      <th>11</th>\n",
       "      <td>2014</td>\n",
       "      <td>167.0</td>\n",
       "      <td>27.0</td>\n",
       "      <td>73.0</td>\n",
       "    </tr>\n",
       "    <tr>\n",
       "      <th>12</th>\n",
       "      <td>2015</td>\n",
       "      <td>169.0</td>\n",
       "      <td>29.0</td>\n",
       "      <td>71.0</td>\n",
       "    </tr>\n",
       "    <tr>\n",
       "      <th>13</th>\n",
       "      <td>2016</td>\n",
       "      <td>170.0</td>\n",
       "      <td>32.0</td>\n",
       "      <td>68.0</td>\n",
       "    </tr>\n",
       "    <tr>\n",
       "      <th>14</th>\n",
       "      <td>2017</td>\n",
       "      <td>172.0</td>\n",
       "      <td>34.0</td>\n",
       "      <td>66.0</td>\n",
       "    </tr>\n",
       "    <tr>\n",
       "      <th>15</th>\n",
       "      <td>2018</td>\n",
       "      <td>178.0</td>\n",
       "      <td>36.0</td>\n",
       "      <td>64.0</td>\n",
       "    </tr>\n",
       "    <tr>\n",
       "      <th>16</th>\n",
       "      <td>2019</td>\n",
       "      <td>177.0</td>\n",
       "      <td>39.0</td>\n",
       "      <td>61.0</td>\n",
       "    </tr>\n",
       "    <tr>\n",
       "      <th>17</th>\n",
       "      <td>2020</td>\n",
       "      <td>180.0</td>\n",
       "      <td>39.0</td>\n",
       "      <td>61.0</td>\n",
       "    </tr>\n",
       "    <tr>\n",
       "      <th>18</th>\n",
       "      <td>2021</td>\n",
       "      <td>178.0</td>\n",
       "      <td>41.0</td>\n",
       "      <td>59.0</td>\n",
       "    </tr>\n",
       "  </tbody>\n",
       "</table>\n",
       "</div>"
      ],
      "text/plain": [
       "    SEASON    FGA  PCT_FG3A  PCT_FG2A\n",
       "0     2003  159.0      19.0      81.0\n",
       "1     2004  160.0      20.0      80.0\n",
       "2     2005  157.0      20.0      80.0\n",
       "3     2006  159.0      21.0      79.0\n",
       "4     2007  162.0      22.0      78.0\n",
       "5     2008  161.0      22.0      78.0\n",
       "6     2009  162.0      22.0      78.0\n",
       "7     2010  162.0      22.0      78.0\n",
       "8     2011  162.0      23.0      77.0\n",
       "9     2012  164.0      24.0      76.0\n",
       "10    2013  165.0      26.0      74.0\n",
       "11    2014  167.0      27.0      73.0\n",
       "12    2015  169.0      29.0      71.0\n",
       "13    2016  170.0      32.0      68.0\n",
       "14    2017  172.0      34.0      66.0\n",
       "15    2018  178.0      36.0      64.0\n",
       "16    2019  177.0      39.0      61.0\n",
       "17    2020  180.0      39.0      61.0\n",
       "18    2021  178.0      41.0      59.0"
      ]
     },
     "execution_count": 16,
     "metadata": {},
     "output_type": "execute_result"
    }
   ],
   "source": [
    "#Create df_pct to show the percentage of each type of shot attempts for each season\n",
    "#Use in Part 3\n",
    "df_pct = df_mean.loc[:,['SEASON','FGA','PCT_FG3A','PCT_FG2A']].round(0)\n",
    "df_pct['SEASON'] = pd.to_datetime(df_pct['SEASON'], format = '%Y').dt.year\n",
    "# df_pct = df_pct.set_index('SEASON', drop = True)\n",
    "df_pct"
   ]
  },
  {
   "cell_type": "code",
   "execution_count": 17,
   "id": "58ef050a",
   "metadata": {},
   "outputs": [
    {
     "data": {
      "image/png": "[encoded data removed]",
      "text/plain": [
       "<Figure size 864x360 with 2 Axes>"
      ]
     },
     "metadata": {
      "needs_background": "light"
     },
     "output_type": "display_data"
    }
   ],
   "source": [
    "##To plot the comparison of the proportion of 3 pt to 2 pt shots across seasons\n",
    "fig,ax = plt.subplots(figsize =(12,5))\n",
    "ax_twin = ax.twinx()\n",
    "\n",
    "df_pct['FGA'].plot(kind = 'line', marker = 'o', color = 'green', label = 'Avg No of FGA',zorder = 5, ax =ax_twin)\n",
    "ax_twin.set_ylabel('FGA', fontsize =12)\n",
    "\n",
    "# to plot % stacked bar chart\n",
    "df_pct[['PCT_FG3A','PCT_FG2A']].plot(kind='bar', stacked=True,\n",
    "        title='%3PT shot vs %2PT shot across seasons', mark_right =True, zorder = 0, ax =ax)\n",
    "\n",
    "for c in ax.containers:  \n",
    "    # remove the labels parameter if it's not needed for customized labels\n",
    "    ax.bar_label(c, label_type='center', color = 'white', fontsize = 12,fontweight = 'bold')\n",
    "\n",
    "ax.set_ylabel('Percentage (%)',fontsize = 12)\n",
    "ax.set_xlabel('NBA Season',fontsize = 12)\n",
    "ax_twin.set_yticks(np.arange(140,260,20))\n",
    "ax.set_xticklabels(df_pct['SEASON'], rotation = 45)\n",
    "\n",
    "fig.savefig(\"C:/Users/edowi/OneDrive/Desktop/Charts/Prop_of_shots.png\")"
   ]
  },
  {
   "cell_type": "code",
   "execution_count": 18,
   "id": "8591fa26",
   "metadata": {},
   "outputs": [
    {
     "data": {
      "image/png": "[encoded data removed]",
      "text/plain": [
       "<Figure size 864x360 with 1 Axes>"
      ]
     },
     "metadata": {
      "needs_background": "light"
     },
     "output_type": "display_data"
    }
   ],
   "source": [
    "#no of sec per attempt for each season\n",
    "df_pct['sec_per_FGA'] = round((48*60)/df_pct['FGA'],2)\n",
    "\n",
    "\n",
    "fig,ax = plt.subplots(figsize =(12,5))\n",
    "df_pct['sec_per_FGA'].plot(kind = 'line', marker = 'p', color ='purple', ax = ax)\n",
    "ax.set_title ('Comparison of avg sec per FGA', fontsize = 12, fontweight ='bold')\n",
    "ax.set_ylabel('Avg sec',fontsize = 12)\n",
    "ax.set_xlabel('NBA Season',fontsize = 12)\n",
    "ax.set_xticks(np.arange(0,19,1))\n",
    "ax.set_xticklabels(df_pct['SEASON'], rotation = 45)\n",
    "ax.grid(True)\n",
    "fig.savefig(\"C:/Users/edowi/OneDrive/Desktop/Charts/avg_sec.png\")\n"
   ]
  },
  {
   "cell_type": "markdown",
   "id": "b6fcc854",
   "metadata": {},
   "source": [
    "### Part 4: Plot %change in points vs 2 types of shot to analyse efficiency of the shots to gain points"
   ]
  },
  {
   "cell_type": "code",
   "execution_count": 19,
   "id": "4f3bcfe1",
   "metadata": {},
   "outputs": [
    {
     "data": {
      "text/html": [
       "<div>\n",
       "<style scoped>\n",
       "    .dataframe tbody tr th:only-of-type {\n",
       "        vertical-align: middle;\n",
       "    }\n",
       "\n",
       "    .dataframe tbody tr th {\n",
       "        vertical-align: top;\n",
       "    }\n",
       "\n",
       "    .dataframe thead th {\n",
       "        text-align: right;\n",
       "    }\n",
       "</style>\n",
       "<table border=\"1\" class=\"dataframe\">\n",
       "  <thead>\n",
       "    <tr style=\"text-align: right;\">\n",
       "      <th></th>\n",
       "      <th>SEASON_RNG</th>\n",
       "      <th>PTS</th>\n",
       "      <th>FG3A</th>\n",
       "      <th>FG2A</th>\n",
       "    </tr>\n",
       "  </thead>\n",
       "  <tbody>\n",
       "    <tr>\n",
       "      <th>0</th>\n",
       "      <td>2003-2004</td>\n",
       "      <td>0.042765</td>\n",
       "      <td>0.055667</td>\n",
       "      <td>-0.005494</td>\n",
       "    </tr>\n",
       "    <tr>\n",
       "      <th>1</th>\n",
       "      <td>2004-2005</td>\n",
       "      <td>-0.001393</td>\n",
       "      <td>0.010801</td>\n",
       "      <td>-0.023887</td>\n",
       "    </tr>\n",
       "    <tr>\n",
       "      <th>2</th>\n",
       "      <td>2005-2006</td>\n",
       "      <td>0.016582</td>\n",
       "      <td>0.063482</td>\n",
       "      <td>-0.004783</td>\n",
       "    </tr>\n",
       "    <tr>\n",
       "      <th>3</th>\n",
       "      <td>2006-2007</td>\n",
       "      <td>0.010316</td>\n",
       "      <td>0.059988</td>\n",
       "      <td>0.012095</td>\n",
       "    </tr>\n",
       "    <tr>\n",
       "      <th>4</th>\n",
       "      <td>2007-2008</td>\n",
       "      <td>0.000050</td>\n",
       "      <td>0.007527</td>\n",
       "      <td>-0.012187</td>\n",
       "    </tr>\n",
       "  </tbody>\n",
       "</table>\n",
       "</div>"
      ],
      "text/plain": [
       "  SEASON_RNG       PTS      FG3A      FG2A\n",
       "0  2003-2004  0.042765  0.055667 -0.005494\n",
       "1  2004-2005 -0.001393  0.010801 -0.023887\n",
       "2  2005-2006  0.016582  0.063482 -0.004783\n",
       "3  2006-2007  0.010316  0.059988  0.012095\n",
       "4  2007-2008  0.000050  0.007527 -0.012187"
      ]
     },
     "execution_count": 19,
     "metadata": {},
     "output_type": "execute_result"
    }
   ],
   "source": [
    "#To find % change in pts compared with % increase in 3pts/2pts attempt\n",
    "#Use in Part 4\n",
    "df_pct_chg = df_mean.loc[:,['SEASON','PTS','FG3A','FG2A']]\n",
    "df_pct_chg = df_pct_chg.set_index('SEASON', drop = True)\n",
    "df_pct_chg = df_pct_chg.pct_change(fill_method = 'ffill').dropna().reset_index()\n",
    "df_pct_chg['SEASON_RNG']=(df_pct_chg['SEASON'] - 1).astype(str) + '-' + df_pct_chg['SEASON'].astype(str)\n",
    "df_pct_chg = df_pct_chg[['SEASON_RNG','SEASON','PTS','FG3A','FG2A']].drop(columns = 'SEASON')\n",
    "df_pct_chg.head()"
   ]
  },
  {
   "cell_type": "code",
   "execution_count": 20,
   "id": "742045b1",
   "metadata": {},
   "outputs": [
    {
     "data": {
      "image/png": "[encoded data removed]",
      "text/plain": [
       "<Figure size 1080x576 with 1 Axes>"
      ]
     },
     "metadata": {
      "needs_background": "light"
     },
     "output_type": "display_data"
    }
   ],
   "source": [
    "# To plot the comparison graph to check effciency of 3PT shots\n",
    "fig,ax3 = plt.subplots(figsize =(15,8))\n",
    "\n",
    "#To plot %chg of 3pt vs PTS\n",
    "ax3.axhline(y = 0, color='grey', linestyle='-', linewidth = 1.5)\n",
    "df_pct_chg.plot(kind = 'scatter',x = 'SEASON_RNG', y = 'FG3A', lw=3, color=\"b\", label = 'FG3A',ax=ax3)\n",
    "df_pct_chg.plot(kind = 'scatter', x = 'SEASON_RNG', y = 'FG2A', lw=3, color=\"g\", label = 'FG2A', ax=ax3)\n",
    "df_pct_chg.plot(kind = 'scatter',x ='SEASON_RNG',y ='PTS', lw=3, color=\"red\", label = 'PTS',ax=ax3)\n",
    "ax3.set_title('% change comparison (PTS VS 3PT FGA)')\n",
    "ax3.set_ylabel('% change',fontsize = 14, color ='b')\n",
    "ax3.set_yticks(np.arange(-0.08,0.16,0.02))\n",
    "for label in ax3.get_xticklabels():\n",
    "    label.set_rotation(90)\n",
    "for label in ax3.get_yticklabels():\n",
    "    label.set_color(\"b\")\n",
    "ax3.legend(loc=1)\n",
    "ax3.yaxis.labelpad = 10\n",
    "ax3.xaxis.labelpad = 10\n",
    "\n",
    "ax3.grid(True)\n",
    "# ax3.xaxis.set_major_locator(plt.FixedLocator(df_pct_chg['SEASON_RNG']))\n",
    "\n",
    "#For effieciency should i measure total 3 pts and 2 pts scored and see change in 3pt to overall points?\n",
    "#I need to define what i mean by efficiency\n",
    "fig.savefig(\"C:/Users/edowi/OneDrive/Desktop/Charts/compare_pct_chg.png\")"
   ]
  },
  {
   "cell_type": "code",
   "execution_count": 21,
   "id": "090e4af5",
   "metadata": {},
   "outputs": [],
   "source": [
    "# To plot heatmap with correlation to check efficiency\n",
    "df_pct_chg = df_pct_chg.set_index('SEASON_RNG', drop = True)\n",
    "\n"
   ]
  },
  {
   "cell_type": "code",
   "execution_count": 22,
   "id": "d871922a",
   "metadata": {},
   "outputs": [
    {
     "data": {
      "image/png": "[encoded data removed]",
      "text/plain": [
       "<Figure size 432x288 with 2 Axes>"
      ]
     },
     "metadata": {
      "needs_background": "light"
     },
     "output_type": "display_data"
    }
   ],
   "source": [
    "pct_chg_corr = sns.heatmap(df_pct_chg.corr()\n",
    "                            ,annot =True, annot_kws={\"fontsize\":12}, cmap = 'Blues')\n",
    "pct_chg_corr.xaxis.set_ticks_position('top')"
   ]
  },
  {
   "cell_type": "markdown",
   "id": "3005ca32",
   "metadata": {},
   "source": [
    "### Part 5: Top 10 Scorer Charts "
   ]
  },
  {
   "cell_type": "code",
   "execution_count": 23,
   "id": "0afd6c87",
   "metadata": {},
   "outputs": [
    {
     "data": {
      "text/html": [
       "<div>\n",
       "<style scoped>\n",
       "    .dataframe tbody tr th:only-of-type {\n",
       "        vertical-align: middle;\n",
       "    }\n",
       "\n",
       "    .dataframe tbody tr th {\n",
       "        vertical-align: top;\n",
       "    }\n",
       "\n",
       "    .dataframe thead th {\n",
       "        text-align: right;\n",
       "    }\n",
       "</style>\n",
       "<table border=\"1\" class=\"dataframe\">\n",
       "  <thead>\n",
       "    <tr style=\"text-align: right;\">\n",
       "      <th></th>\n",
       "      <th>GAME_ID</th>\n",
       "      <th>TEAM_ID</th>\n",
       "      <th>TEAM_ABBREVIATION</th>\n",
       "      <th>TEAM_CITY</th>\n",
       "      <th>PLAYER_ID</th>\n",
       "      <th>PLAYER_NAME</th>\n",
       "      <th>NICKNAME</th>\n",
       "      <th>START_POSITION</th>\n",
       "      <th>COMMENT</th>\n",
       "      <th>MIN</th>\n",
       "      <th>...</th>\n",
       "      <th>REB</th>\n",
       "      <th>AST</th>\n",
       "      <th>STL</th>\n",
       "      <th>BLK</th>\n",
       "      <th>TO</th>\n",
       "      <th>PF</th>\n",
       "      <th>PTS</th>\n",
       "      <th>PLUS_MINUS</th>\n",
       "      <th>GAME_DATE</th>\n",
       "      <th>SEASON</th>\n",
       "    </tr>\n",
       "  </thead>\n",
       "  <tbody>\n",
       "    <tr>\n",
       "      <th>0</th>\n",
       "      <td>22100213</td>\n",
       "      <td>1610612764</td>\n",
       "      <td>WAS</td>\n",
       "      <td>Washington</td>\n",
       "      <td>203484</td>\n",
       "      <td>Kentavious Caldwell-Pope</td>\n",
       "      <td>Kentavious</td>\n",
       "      <td>F</td>\n",
       "      <td>NaN</td>\n",
       "      <td>27:41</td>\n",
       "      <td>...</td>\n",
       "      <td>6.0</td>\n",
       "      <td>2.0</td>\n",
       "      <td>1.0</td>\n",
       "      <td>0.0</td>\n",
       "      <td>1.0</td>\n",
       "      <td>0.0</td>\n",
       "      <td>3.0</td>\n",
       "      <td>2.0</td>\n",
       "      <td>2021-11-17</td>\n",
       "      <td>2021</td>\n",
       "    </tr>\n",
       "    <tr>\n",
       "      <th>1</th>\n",
       "      <td>22100213</td>\n",
       "      <td>1610612764</td>\n",
       "      <td>WAS</td>\n",
       "      <td>Washington</td>\n",
       "      <td>1628398</td>\n",
       "      <td>Kyle Kuzma</td>\n",
       "      <td>Kyle</td>\n",
       "      <td>F</td>\n",
       "      <td>NaN</td>\n",
       "      <td>30:28</td>\n",
       "      <td>...</td>\n",
       "      <td>5.0</td>\n",
       "      <td>3.0</td>\n",
       "      <td>1.0</td>\n",
       "      <td>2.0</td>\n",
       "      <td>1.0</td>\n",
       "      <td>1.0</td>\n",
       "      <td>5.0</td>\n",
       "      <td>-14.0</td>\n",
       "      <td>2021-11-17</td>\n",
       "      <td>2021</td>\n",
       "    </tr>\n",
       "    <tr>\n",
       "      <th>2</th>\n",
       "      <td>22100213</td>\n",
       "      <td>1610612764</td>\n",
       "      <td>WAS</td>\n",
       "      <td>Washington</td>\n",
       "      <td>1629655</td>\n",
       "      <td>Daniel Gafford</td>\n",
       "      <td>Daniel</td>\n",
       "      <td>C</td>\n",
       "      <td>NaN</td>\n",
       "      <td>24:21</td>\n",
       "      <td>...</td>\n",
       "      <td>9.0</td>\n",
       "      <td>1.0</td>\n",
       "      <td>2.0</td>\n",
       "      <td>1.0</td>\n",
       "      <td>1.0</td>\n",
       "      <td>4.0</td>\n",
       "      <td>20.0</td>\n",
       "      <td>-2.0</td>\n",
       "      <td>2021-11-17</td>\n",
       "      <td>2021</td>\n",
       "    </tr>\n",
       "    <tr>\n",
       "      <th>3</th>\n",
       "      <td>22100213</td>\n",
       "      <td>1610612764</td>\n",
       "      <td>WAS</td>\n",
       "      <td>Washington</td>\n",
       "      <td>203078</td>\n",
       "      <td>Bradley Beal</td>\n",
       "      <td>Bradley</td>\n",
       "      <td>G</td>\n",
       "      <td>NaN</td>\n",
       "      <td>35:07</td>\n",
       "      <td>...</td>\n",
       "      <td>3.0</td>\n",
       "      <td>7.0</td>\n",
       "      <td>2.0</td>\n",
       "      <td>0.0</td>\n",
       "      <td>2.0</td>\n",
       "      <td>3.0</td>\n",
       "      <td>24.0</td>\n",
       "      <td>-9.0</td>\n",
       "      <td>2021-11-17</td>\n",
       "      <td>2021</td>\n",
       "    </tr>\n",
       "    <tr>\n",
       "      <th>4</th>\n",
       "      <td>22100213</td>\n",
       "      <td>1610612764</td>\n",
       "      <td>WAS</td>\n",
       "      <td>Washington</td>\n",
       "      <td>203915</td>\n",
       "      <td>Spencer Dinwiddie</td>\n",
       "      <td>Spencer</td>\n",
       "      <td>G</td>\n",
       "      <td>NaN</td>\n",
       "      <td>28:34</td>\n",
       "      <td>...</td>\n",
       "      <td>3.0</td>\n",
       "      <td>2.0</td>\n",
       "      <td>0.0</td>\n",
       "      <td>0.0</td>\n",
       "      <td>2.0</td>\n",
       "      <td>1.0</td>\n",
       "      <td>0.0</td>\n",
       "      <td>-5.0</td>\n",
       "      <td>2021-11-17</td>\n",
       "      <td>2021</td>\n",
       "    </tr>\n",
       "  </tbody>\n",
       "</table>\n",
       "<p>5 rows × 31 columns</p>\n",
       "</div>"
      ],
      "text/plain": [
       "    GAME_ID     TEAM_ID TEAM_ABBREVIATION   TEAM_CITY  PLAYER_ID  \\\n",
       "0  22100213  1610612764               WAS  Washington     203484   \n",
       "1  22100213  1610612764               WAS  Washington    1628398   \n",
       "2  22100213  1610612764               WAS  Washington    1629655   \n",
       "3  22100213  1610612764               WAS  Washington     203078   \n",
       "4  22100213  1610612764               WAS  Washington     203915   \n",
       "\n",
       "                PLAYER_NAME    NICKNAME START_POSITION COMMENT    MIN  ...  \\\n",
       "0  Kentavious Caldwell-Pope  Kentavious              F     NaN  27:41  ...   \n",
       "1                Kyle Kuzma        Kyle              F     NaN  30:28  ...   \n",
       "2            Daniel Gafford      Daniel              C     NaN  24:21  ...   \n",
       "3              Bradley Beal     Bradley              G     NaN  35:07  ...   \n",
       "4         Spencer Dinwiddie     Spencer              G     NaN  28:34  ...   \n",
       "\n",
       "   REB  AST  STL  BLK   TO   PF   PTS  PLUS_MINUS   GAME_DATE  SEASON  \n",
       "0  6.0  2.0  1.0  0.0  1.0  0.0   3.0         2.0  2021-11-17    2021  \n",
       "1  5.0  3.0  1.0  2.0  1.0  1.0   5.0       -14.0  2021-11-17    2021  \n",
       "2  9.0  1.0  2.0  1.0  1.0  4.0  20.0        -2.0  2021-11-17    2021  \n",
       "3  3.0  7.0  2.0  0.0  2.0  3.0  24.0        -9.0  2021-11-17    2021  \n",
       "4  3.0  2.0  0.0  0.0  2.0  1.0   0.0        -5.0  2021-11-17    2021  \n",
       "\n",
       "[5 rows x 31 columns]"
      ]
     },
     "execution_count": 23,
     "metadata": {},
     "output_type": "execute_result"
    }
   ],
   "source": [
    "#Create df for top scorers across seasons\n",
    "df_gamesdet2 = df_gamesdet.merge(df_season, how = 'left', on = 'GAME_ID')\n",
    "df_gamesdet2.head()\n"
   ]
  },
  {
   "cell_type": "code",
   "execution_count": 24,
   "id": "abb4bb5c",
   "metadata": {},
   "outputs": [
    {
     "data": {
      "text/html": [
       "<div>\n",
       "<style scoped>\n",
       "    .dataframe tbody tr th:only-of-type {\n",
       "        vertical-align: middle;\n",
       "    }\n",
       "\n",
       "    .dataframe tbody tr th {\n",
       "        vertical-align: top;\n",
       "    }\n",
       "\n",
       "    .dataframe thead th {\n",
       "        text-align: right;\n",
       "    }\n",
       "</style>\n",
       "<table border=\"1\" class=\"dataframe\">\n",
       "  <thead>\n",
       "    <tr style=\"text-align: right;\">\n",
       "      <th></th>\n",
       "      <th>GUARD</th>\n",
       "      <th>FORWARD</th>\n",
       "      <th>CENTER</th>\n",
       "      <th>3PT_%</th>\n",
       "    </tr>\n",
       "    <tr>\n",
       "      <th>SEASON</th>\n",
       "      <th></th>\n",
       "      <th></th>\n",
       "      <th></th>\n",
       "      <th></th>\n",
       "    </tr>\n",
       "  </thead>\n",
       "  <tbody>\n",
       "    <tr>\n",
       "      <th>2003</th>\n",
       "      <td>5</td>\n",
       "      <td>4</td>\n",
       "      <td>1.0</td>\n",
       "      <td>27.446</td>\n",
       "    </tr>\n",
       "    <tr>\n",
       "      <th>2004</th>\n",
       "      <td>5</td>\n",
       "      <td>3</td>\n",
       "      <td>2.0</td>\n",
       "      <td>27.844</td>\n",
       "    </tr>\n",
       "    <tr>\n",
       "      <th>2005</th>\n",
       "      <td>5</td>\n",
       "      <td>5</td>\n",
       "      <td>0.0</td>\n",
       "      <td>32.386</td>\n",
       "    </tr>\n",
       "    <tr>\n",
       "      <th>2006</th>\n",
       "      <td>4</td>\n",
       "      <td>5</td>\n",
       "      <td>1.0</td>\n",
       "      <td>26.645</td>\n",
       "    </tr>\n",
       "    <tr>\n",
       "      <th>2007</th>\n",
       "      <td>4</td>\n",
       "      <td>5</td>\n",
       "      <td>1.0</td>\n",
       "      <td>28.285</td>\n",
       "    </tr>\n",
       "    <tr>\n",
       "      <th>2008</th>\n",
       "      <td>5</td>\n",
       "      <td>4</td>\n",
       "      <td>1.0</td>\n",
       "      <td>32.195</td>\n",
       "    </tr>\n",
       "    <tr>\n",
       "      <th>2009</th>\n",
       "      <td>4</td>\n",
       "      <td>5</td>\n",
       "      <td>1.0</td>\n",
       "      <td>28.365</td>\n",
       "    </tr>\n",
       "    <tr>\n",
       "      <th>2010</th>\n",
       "      <td>5</td>\n",
       "      <td>4</td>\n",
       "      <td>1.0</td>\n",
       "      <td>30.795</td>\n",
       "    </tr>\n",
       "    <tr>\n",
       "      <th>2011</th>\n",
       "      <td>4</td>\n",
       "      <td>6</td>\n",
       "      <td>0.0</td>\n",
       "      <td>31.143</td>\n",
       "    </tr>\n",
       "    <tr>\n",
       "      <th>2012</th>\n",
       "      <td>6</td>\n",
       "      <td>4</td>\n",
       "      <td>0.0</td>\n",
       "      <td>36.126</td>\n",
       "    </tr>\n",
       "    <tr>\n",
       "      <th>2013</th>\n",
       "      <td>4</td>\n",
       "      <td>6</td>\n",
       "      <td>0.0</td>\n",
       "      <td>36.494</td>\n",
       "    </tr>\n",
       "    <tr>\n",
       "      <th>2014</th>\n",
       "      <td>7</td>\n",
       "      <td>3</td>\n",
       "      <td>0.0</td>\n",
       "      <td>34.144</td>\n",
       "    </tr>\n",
       "    <tr>\n",
       "      <th>2015</th>\n",
       "      <td>7</td>\n",
       "      <td>3</td>\n",
       "      <td>0.0</td>\n",
       "      <td>36.382</td>\n",
       "    </tr>\n",
       "    <tr>\n",
       "      <th>2016</th>\n",
       "      <td>8</td>\n",
       "      <td>2</td>\n",
       "      <td>0.0</td>\n",
       "      <td>35.749</td>\n",
       "    </tr>\n",
       "    <tr>\n",
       "      <th>2017</th>\n",
       "      <td>6</td>\n",
       "      <td>4</td>\n",
       "      <td>0.0</td>\n",
       "      <td>35.969</td>\n",
       "    </tr>\n",
       "    <tr>\n",
       "      <th>2018</th>\n",
       "      <td>6</td>\n",
       "      <td>4</td>\n",
       "      <td>0.0</td>\n",
       "      <td>36.787</td>\n",
       "    </tr>\n",
       "    <tr>\n",
       "      <th>2019</th>\n",
       "      <td>5</td>\n",
       "      <td>4</td>\n",
       "      <td>1.0</td>\n",
       "      <td>35.493</td>\n",
       "    </tr>\n",
       "    <tr>\n",
       "      <th>2020</th>\n",
       "      <td>5</td>\n",
       "      <td>3</td>\n",
       "      <td>2.0</td>\n",
       "      <td>36.145</td>\n",
       "    </tr>\n",
       "    <tr>\n",
       "      <th>2021</th>\n",
       "      <td>4</td>\n",
       "      <td>6</td>\n",
       "      <td>0.0</td>\n",
       "      <td>36.729</td>\n",
       "    </tr>\n",
       "  </tbody>\n",
       "</table>\n",
       "</div>"
      ],
      "text/plain": [
       "        GUARD  FORWARD  CENTER   3PT_%\n",
       "SEASON                                \n",
       "2003        5        4     1.0  27.446\n",
       "2004        5        3     2.0  27.844\n",
       "2005        5        5     0.0  32.386\n",
       "2006        4        5     1.0  26.645\n",
       "2007        4        5     1.0  28.285\n",
       "2008        5        4     1.0  32.195\n",
       "2009        4        5     1.0  28.365\n",
       "2010        5        4     1.0  30.795\n",
       "2011        4        6     0.0  31.143\n",
       "2012        6        4     0.0  36.126\n",
       "2013        4        6     0.0  36.494\n",
       "2014        7        3     0.0  34.144\n",
       "2015        7        3     0.0  36.382\n",
       "2016        8        2     0.0  35.749\n",
       "2017        6        4     0.0  35.969\n",
       "2018        6        4     0.0  36.787\n",
       "2019        5        4     1.0  35.493\n",
       "2020        5        3     2.0  36.145\n",
       "2021        4        6     0.0  36.729"
      ]
     },
     "execution_count": 24,
     "metadata": {},
     "output_type": "execute_result"
    }
   ],
   "source": [
    "#top10 scorers for each season\n",
    "df_players = df_gamesdet2.groupby(['SEASON','PLAYER_NAME','START_POSITION'])[['REB','AST','STL','BLK','TO','PF','PTS','FG3A','FG3M']].sum().reset_index()\n",
    "df_players['3PT_%'] = round(df_players['FG3M']/df_players['FG3A']*100,2).fillna(0)\n",
    "df_top10 = df_players.sort_values(by = ['SEASON','PTS'],ascending = False).groupby('SEASON').head(10).reset_index(drop=True)\n",
    "# df_top10['3PT_%'] = round(df_top10['FG3M']/df_top10['FG3A']*100,2).fillna(0)\n",
    "\n",
    "#Mean 3pt% of top10 scorers across seasons\n",
    "df_mean3pt = df_top10.groupby('SEASON')['3PT_%'].mean().reset_index()\n",
    "\n",
    "#Distribution of position for top10 scorers for each season\n",
    "#For each season, count the number of F, G ,C and use the counts to form a data Frame with cols = [Season, F,G,C]\n",
    "df_count = pd.DataFrame()\n",
    "season = [yr for yr in df_top10['SEASON'].unique()]\n",
    "\n",
    "for yr in season:\n",
    "    df1 = pd.DataFrame({'SEASON':yr, \n",
    "                        'GUARD':df_top10['START_POSITION'][(df_top10['START_POSITION'] == 'G') & (df_top10['SEASON'] == yr)].value_counts().reset_index(drop =True),\n",
    "                        'FORWARD':df_top10['START_POSITION'][(df_top10['START_POSITION'] == 'F') & (df_top10['SEASON'] == yr)].value_counts().reset_index(drop =True),\n",
    "                        'CENTER':df_top10['START_POSITION'][(df_top10['START_POSITION'] == 'C') & (df_top10['SEASON'] == yr)].value_counts().reset_index(drop =True)\n",
    "                       })\n",
    "    df_count = pd.concat([df_count,df1], ignore_index = True).fillna(0)\n",
    "\n",
    "df_countpos = df_count.merge(df_mean3pt, how='left', on='SEASON').drop_duplicates().sort_values(by = 'SEASON').set_index('SEASON', drop = True)\n",
    "df_countpos.index = pd.to_datetime(df_countpos.index, format = '%Y').year\n",
    "df_countpos"
   ]
  },
  {
   "cell_type": "code",
   "execution_count": 25,
   "id": "33166109",
   "metadata": {},
   "outputs": [
    {
     "data": {
      "image/png": "[encoded data removed]",
      "text/plain": [
       "<Figure size 864x360 with 1 Axes>"
      ]
     },
     "metadata": {
      "needs_background": "light"
     },
     "output_type": "display_data"
    }
   ],
   "source": [
    "fig,ax4 = plt.subplots(figsize =(12,5))\n",
    "df_countpos[['GUARD', 'FORWARD', 'CENTER']].plot(kind = 'bar',\n",
    "                                                 stacked =True, ax =ax4)\n",
    "# remove the labels parameter if it's not needed for customized labels\n",
    "for c in ax4.containers:\n",
    "    ax4.bar_label(c, label_type='center', color = 'white', fontsize = 12,fontweight = 'bold')\n",
    "    \n",
    "ax4.set_title('Proportion of Positions of Top 10 scorers')\n",
    "ax4.set_ylabel('No of Top 10 players')\n",
    "ax4.legend(bbox_to_anchor=(1.165, .5), loc='right')\n",
    "fig.savefig(\"C:/Users/edowi/OneDrive/Desktop/Charts/pos_brkdown.png\")"
   ]
  },
  {
   "cell_type": "code",
   "execution_count": 26,
   "id": "3d858fe4",
   "metadata": {},
   "outputs": [
    {
     "data": {
      "image/png": "[encoded data removed]",
      "text/plain": [
       "<Figure size 864x576 with 2 Axes>"
      ]
     },
     "metadata": {
      "needs_background": "light"
     },
     "output_type": "display_data"
    }
   ],
   "source": [
    "import matplotlib.dates as mdates\n",
    "df_pos = df_players.groupby(['SEASON','START_POSITION'])[['FG3A', '3PT_%']].mean().round(2).reset_index()\n",
    "df_pos['SEASON'] = pd.to_datetime(df_pos['SEASON'], format = '%Y').dt.year\n",
    "\n",
    "fig,(ax,ax1) = plt.subplots(nrows = 2, ncols =1, figsize = (12,8))\n",
    "sns.barplot(data = df_pos,x = 'SEASON', y = 'FG3A', hue = 'START_POSITION', ci = None,ax=ax)\n",
    "ax.grid(True, alpha = .5)\n",
    "ax.set_title('Comparison of Avg FG attempted/3PT % by position across the seasons',\n",
    "            fontsize = 14, fontweight = 'bold')\n",
    "ax.set_ylabel('Avg 3pt FG attempted',fontsize = 12)\n",
    "ax.legend(bbox_to_anchor=(1.1, .5), loc='right')\n",
    "\n",
    "sns.lineplot(data = df_pos,x = 'SEASON', y = '3PT_%', hue = 'START_POSITION', ci = None,ax=ax1)\n",
    "ax1.legend(bbox_to_anchor=(1.1, .5), loc='right')\n",
    "ax1.grid(True, alpha = .5)\n",
    "# ax1.set_xlim(2002, 2022)\n",
    "\n",
    "ax1.xaxis.set_major_locator(plt.FixedLocator(np.arange(2003,2022)))\n",
    "fig.savefig(\"C:/Users/edowi/OneDrive/Desktop/Charts/avg3ptfg_pct_seasons.png\")"
   ]
  },
  {
   "cell_type": "code",
   "execution_count": 27,
   "id": "ae931cb6",
   "metadata": {},
   "outputs": [
    {
     "data": {
      "text/plain": [
       "array([ 0,  1,  2,  3,  4,  5,  6,  7,  8,  9, 10, 11, 12, 13, 14, 15, 16,\n",
       "       17, 18, 19])"
      ]
     },
     "execution_count": 27,
     "metadata": {},
     "output_type": "execute_result"
    }
   ],
   "source": [
    "np.arange(20)"
   ]
  },
  {
   "cell_type": "code",
   "execution_count": 28,
   "id": "bd01f4fc",
   "metadata": {},
   "outputs": [
    {
     "data": {
      "text/html": [
       "<div>\n",
       "<style scoped>\n",
       "    .dataframe tbody tr th:only-of-type {\n",
       "        vertical-align: middle;\n",
       "    }\n",
       "\n",
       "    .dataframe tbody tr th {\n",
       "        vertical-align: top;\n",
       "    }\n",
       "\n",
       "    .dataframe thead th {\n",
       "        text-align: right;\n",
       "    }\n",
       "</style>\n",
       "<table border=\"1\" class=\"dataframe\">\n",
       "  <thead>\n",
       "    <tr style=\"text-align: right;\">\n",
       "      <th></th>\n",
       "      <th>SEASON</th>\n",
       "      <th>PLAYER_NAME</th>\n",
       "      <th>START_POSITION</th>\n",
       "      <th>REB</th>\n",
       "      <th>AST</th>\n",
       "      <th>STL</th>\n",
       "      <th>BLK</th>\n",
       "      <th>TO</th>\n",
       "      <th>PF</th>\n",
       "      <th>PTS</th>\n",
       "      <th>FG3A</th>\n",
       "      <th>FG3M</th>\n",
       "      <th>3PT_%</th>\n",
       "    </tr>\n",
       "  </thead>\n",
       "  <tbody>\n",
       "    <tr>\n",
       "      <th>15</th>\n",
       "      <td>2020</td>\n",
       "      <td>Nikola Jokic</td>\n",
       "      <td>C</td>\n",
       "      <td>959.0</td>\n",
       "      <td>729.0</td>\n",
       "      <td>113.0</td>\n",
       "      <td>60.0</td>\n",
       "      <td>283.0</td>\n",
       "      <td>238.0</td>\n",
       "      <td>2321.0</td>\n",
       "      <td>307.0</td>\n",
       "      <td>122.0</td>\n",
       "      <td>39.74</td>\n",
       "    </tr>\n",
       "    <tr>\n",
       "      <th>19</th>\n",
       "      <td>2020</td>\n",
       "      <td>Joel Embiid</td>\n",
       "      <td>C</td>\n",
       "      <td>720.0</td>\n",
       "      <td>198.0</td>\n",
       "      <td>69.0</td>\n",
       "      <td>92.0</td>\n",
       "      <td>220.0</td>\n",
       "      <td>164.0</td>\n",
       "      <td>1894.0</td>\n",
       "      <td>218.0</td>\n",
       "      <td>78.0</td>\n",
       "      <td>35.78</td>\n",
       "    </tr>\n",
       "    <tr>\n",
       "      <th>29</th>\n",
       "      <td>2019</td>\n",
       "      <td>Nikola Jokic</td>\n",
       "      <td>C</td>\n",
       "      <td>912.0</td>\n",
       "      <td>624.0</td>\n",
       "      <td>111.0</td>\n",
       "      <td>62.0</td>\n",
       "      <td>298.0</td>\n",
       "      <td>291.0</td>\n",
       "      <td>1914.0</td>\n",
       "      <td>354.0</td>\n",
       "      <td>121.0</td>\n",
       "      <td>34.18</td>\n",
       "    </tr>\n",
       "    <tr>\n",
       "      <th>118</th>\n",
       "      <td>2010</td>\n",
       "      <td>Dwight Howard</td>\n",
       "      <td>C</td>\n",
       "      <td>1191.0</td>\n",
       "      <td>110.0</td>\n",
       "      <td>111.0</td>\n",
       "      <td>197.0</td>\n",
       "      <td>312.0</td>\n",
       "      <td>283.0</td>\n",
       "      <td>1946.0</td>\n",
       "      <td>8.0</td>\n",
       "      <td>0.0</td>\n",
       "      <td>0.00</td>\n",
       "    </tr>\n",
       "    <tr>\n",
       "      <th>128</th>\n",
       "      <td>2009</td>\n",
       "      <td>Dwight Howard</td>\n",
       "      <td>C</td>\n",
       "      <td>1237.0</td>\n",
       "      <td>163.0</td>\n",
       "      <td>86.0</td>\n",
       "      <td>277.0</td>\n",
       "      <td>325.0</td>\n",
       "      <td>346.0</td>\n",
       "      <td>1757.0</td>\n",
       "      <td>7.0</td>\n",
       "      <td>0.0</td>\n",
       "      <td>0.00</td>\n",
       "    </tr>\n",
       "    <tr>\n",
       "      <th>134</th>\n",
       "      <td>2008</td>\n",
       "      <td>Dwight Howard</td>\n",
       "      <td>C</td>\n",
       "      <td>1446.0</td>\n",
       "      <td>155.0</td>\n",
       "      <td>97.0</td>\n",
       "      <td>291.0</td>\n",
       "      <td>307.0</td>\n",
       "      <td>372.0</td>\n",
       "      <td>2091.0</td>\n",
       "      <td>4.0</td>\n",
       "      <td>0.0</td>\n",
       "      <td>0.00</td>\n",
       "    </tr>\n",
       "    <tr>\n",
       "      <th>149</th>\n",
       "      <td>2007</td>\n",
       "      <td>Dwight Howard</td>\n",
       "      <td>C</td>\n",
       "      <td>1319.0</td>\n",
       "      <td>119.0</td>\n",
       "      <td>82.0</td>\n",
       "      <td>210.0</td>\n",
       "      <td>295.0</td>\n",
       "      <td>312.0</td>\n",
       "      <td>1884.0</td>\n",
       "      <td>4.0</td>\n",
       "      <td>0.0</td>\n",
       "      <td>0.00</td>\n",
       "    </tr>\n",
       "    <tr>\n",
       "      <th>159</th>\n",
       "      <td>2006</td>\n",
       "      <td>Amar'e Stoudemire</td>\n",
       "      <td>C</td>\n",
       "      <td>896.0</td>\n",
       "      <td>89.0</td>\n",
       "      <td>90.0</td>\n",
       "      <td>124.0</td>\n",
       "      <td>244.0</td>\n",
       "      <td>323.0</td>\n",
       "      <td>1896.0</td>\n",
       "      <td>6.0</td>\n",
       "      <td>1.0</td>\n",
       "      <td>16.67</td>\n",
       "    </tr>\n",
       "    <tr>\n",
       "      <th>170</th>\n",
       "      <td>2004</td>\n",
       "      <td>Amar'e Stoudemire</td>\n",
       "      <td>C</td>\n",
       "      <td>849.0</td>\n",
       "      <td>146.0</td>\n",
       "      <td>83.0</td>\n",
       "      <td>155.0</td>\n",
       "      <td>227.0</td>\n",
       "      <td>325.0</td>\n",
       "      <td>2461.0</td>\n",
       "      <td>19.0</td>\n",
       "      <td>3.0</td>\n",
       "      <td>15.79</td>\n",
       "    </tr>\n",
       "    <tr>\n",
       "      <th>178</th>\n",
       "      <td>2004</td>\n",
       "      <td>Shaquille O'Neal</td>\n",
       "      <td>C</td>\n",
       "      <td>862.0</td>\n",
       "      <td>225.0</td>\n",
       "      <td>41.0</td>\n",
       "      <td>190.0</td>\n",
       "      <td>245.0</td>\n",
       "      <td>314.0</td>\n",
       "      <td>1921.0</td>\n",
       "      <td>0.0</td>\n",
       "      <td>0.0</td>\n",
       "      <td>0.00</td>\n",
       "    </tr>\n",
       "    <tr>\n",
       "      <th>183</th>\n",
       "      <td>2003</td>\n",
       "      <td>Shaquille O'Neal</td>\n",
       "      <td>C</td>\n",
       "      <td>1060.0</td>\n",
       "      <td>251.0</td>\n",
       "      <td>41.0</td>\n",
       "      <td>227.0</td>\n",
       "      <td>250.0</td>\n",
       "      <td>315.0</td>\n",
       "      <td>1912.0</td>\n",
       "      <td>0.0</td>\n",
       "      <td>0.0</td>\n",
       "      <td>0.00</td>\n",
       "    </tr>\n",
       "  </tbody>\n",
       "</table>\n",
       "</div>"
      ],
      "text/plain": [
       "     SEASON        PLAYER_NAME START_POSITION     REB    AST    STL    BLK  \\\n",
       "15     2020       Nikola Jokic              C   959.0  729.0  113.0   60.0   \n",
       "19     2020        Joel Embiid              C   720.0  198.0   69.0   92.0   \n",
       "29     2019       Nikola Jokic              C   912.0  624.0  111.0   62.0   \n",
       "118    2010      Dwight Howard              C  1191.0  110.0  111.0  197.0   \n",
       "128    2009      Dwight Howard              C  1237.0  163.0   86.0  277.0   \n",
       "134    2008      Dwight Howard              C  1446.0  155.0   97.0  291.0   \n",
       "149    2007      Dwight Howard              C  1319.0  119.0   82.0  210.0   \n",
       "159    2006  Amar'e Stoudemire              C   896.0   89.0   90.0  124.0   \n",
       "170    2004  Amar'e Stoudemire              C   849.0  146.0   83.0  155.0   \n",
       "178    2004   Shaquille O'Neal              C   862.0  225.0   41.0  190.0   \n",
       "183    2003   Shaquille O'Neal              C  1060.0  251.0   41.0  227.0   \n",
       "\n",
       "        TO     PF     PTS   FG3A   FG3M  3PT_%  \n",
       "15   283.0  238.0  2321.0  307.0  122.0  39.74  \n",
       "19   220.0  164.0  1894.0  218.0   78.0  35.78  \n",
       "29   298.0  291.0  1914.0  354.0  121.0  34.18  \n",
       "118  312.0  283.0  1946.0    8.0    0.0   0.00  \n",
       "128  325.0  346.0  1757.0    7.0    0.0   0.00  \n",
       "134  307.0  372.0  2091.0    4.0    0.0   0.00  \n",
       "149  295.0  312.0  1884.0    4.0    0.0   0.00  \n",
       "159  244.0  323.0  1896.0    6.0    1.0  16.67  \n",
       "170  227.0  325.0  2461.0   19.0    3.0  15.79  \n",
       "178  245.0  314.0  1921.0    0.0    0.0   0.00  \n",
       "183  250.0  315.0  1912.0    0.0    0.0   0.00  "
      ]
     },
     "execution_count": 28,
     "metadata": {},
     "output_type": "execute_result"
    }
   ],
   "source": [
    "df_top10[df_top10['START_POSITION'] == 'C']"
   ]
  },
  {
   "cell_type": "markdown",
   "id": "602ef8c7",
   "metadata": {},
   "source": [
    "## Part 6: Analyis on Team\n",
    "\n",
    "To do scatterplot of individual teams comparing 3pt to pts. Each chart by season"
   ]
  },
  {
   "cell_type": "code",
   "execution_count": 29,
   "id": "c52d9e94",
   "metadata": {},
   "outputs": [
    {
     "data": {
      "text/html": [
       "<div>\n",
       "<style scoped>\n",
       "    .dataframe tbody tr th:only-of-type {\n",
       "        vertical-align: middle;\n",
       "    }\n",
       "\n",
       "    .dataframe tbody tr th {\n",
       "        vertical-align: top;\n",
       "    }\n",
       "\n",
       "    .dataframe thead th {\n",
       "        text-align: right;\n",
       "    }\n",
       "</style>\n",
       "<table border=\"1\" class=\"dataframe\">\n",
       "  <thead>\n",
       "    <tr style=\"text-align: right;\">\n",
       "      <th></th>\n",
       "      <th>GAME_ID</th>\n",
       "      <th>TEAM_ID</th>\n",
       "      <th>PTS</th>\n",
       "      <th>FG3A</th>\n",
       "      <th>FG3M</th>\n",
       "      <th>FGA</th>\n",
       "      <th>FGM</th>\n",
       "      <th>FTA</th>\n",
       "      <th>FTM</th>\n",
       "      <th>REB</th>\n",
       "      <th>AST</th>\n",
       "      <th>STL</th>\n",
       "      <th>BLK</th>\n",
       "      <th>TO</th>\n",
       "      <th>FG2A</th>\n",
       "      <th>FG2M</th>\n",
       "    </tr>\n",
       "  </thead>\n",
       "  <tbody>\n",
       "    <tr>\n",
       "      <th>0</th>\n",
       "      <td>10300001</td>\n",
       "      <td>1610612742</td>\n",
       "      <td>85.0</td>\n",
       "      <td>8.0</td>\n",
       "      <td>2.0</td>\n",
       "      <td>76.0</td>\n",
       "      <td>34.0</td>\n",
       "      <td>30.0</td>\n",
       "      <td>15.0</td>\n",
       "      <td>38.0</td>\n",
       "      <td>20.0</td>\n",
       "      <td>9.0</td>\n",
       "      <td>4.0</td>\n",
       "      <td>18.0</td>\n",
       "      <td>68.0</td>\n",
       "      <td>32.0</td>\n",
       "    </tr>\n",
       "    <tr>\n",
       "      <th>1</th>\n",
       "      <td>10300001</td>\n",
       "      <td>1610612762</td>\n",
       "      <td>90.0</td>\n",
       "      <td>7.0</td>\n",
       "      <td>1.0</td>\n",
       "      <td>70.0</td>\n",
       "      <td>32.0</td>\n",
       "      <td>34.0</td>\n",
       "      <td>25.0</td>\n",
       "      <td>41.0</td>\n",
       "      <td>23.0</td>\n",
       "      <td>8.0</td>\n",
       "      <td>4.0</td>\n",
       "      <td>18.0</td>\n",
       "      <td>63.0</td>\n",
       "      <td>31.0</td>\n",
       "    </tr>\n",
       "    <tr>\n",
       "      <th>2</th>\n",
       "      <td>10300002</td>\n",
       "      <td>1610612749</td>\n",
       "      <td>94.0</td>\n",
       "      <td>13.0</td>\n",
       "      <td>2.0</td>\n",
       "      <td>75.0</td>\n",
       "      <td>32.0</td>\n",
       "      <td>40.0</td>\n",
       "      <td>28.0</td>\n",
       "      <td>43.0</td>\n",
       "      <td>20.0</td>\n",
       "      <td>9.0</td>\n",
       "      <td>4.0</td>\n",
       "      <td>24.0</td>\n",
       "      <td>62.0</td>\n",
       "      <td>30.0</td>\n",
       "    </tr>\n",
       "    <tr>\n",
       "      <th>3</th>\n",
       "      <td>10300002</td>\n",
       "      <td>1610612763</td>\n",
       "      <td>105.0</td>\n",
       "      <td>15.0</td>\n",
       "      <td>4.0</td>\n",
       "      <td>81.0</td>\n",
       "      <td>40.0</td>\n",
       "      <td>34.0</td>\n",
       "      <td>21.0</td>\n",
       "      <td>48.0</td>\n",
       "      <td>25.0</td>\n",
       "      <td>18.0</td>\n",
       "      <td>7.0</td>\n",
       "      <td>25.0</td>\n",
       "      <td>66.0</td>\n",
       "      <td>36.0</td>\n",
       "    </tr>\n",
       "    <tr>\n",
       "      <th>4</th>\n",
       "      <td>10300003</td>\n",
       "      <td>1610612739</td>\n",
       "      <td>100.0</td>\n",
       "      <td>6.0</td>\n",
       "      <td>4.0</td>\n",
       "      <td>77.0</td>\n",
       "      <td>38.0</td>\n",
       "      <td>29.0</td>\n",
       "      <td>20.0</td>\n",
       "      <td>52.0</td>\n",
       "      <td>25.0</td>\n",
       "      <td>10.0</td>\n",
       "      <td>7.0</td>\n",
       "      <td>25.0</td>\n",
       "      <td>71.0</td>\n",
       "      <td>34.0</td>\n",
       "    </tr>\n",
       "  </tbody>\n",
       "</table>\n",
       "</div>"
      ],
      "text/plain": [
       "    GAME_ID     TEAM_ID    PTS  FG3A  FG3M   FGA   FGM   FTA   FTM   REB  \\\n",
       "0  10300001  1610612742   85.0   8.0   2.0  76.0  34.0  30.0  15.0  38.0   \n",
       "1  10300001  1610612762   90.0   7.0   1.0  70.0  32.0  34.0  25.0  41.0   \n",
       "2  10300002  1610612749   94.0  13.0   2.0  75.0  32.0  40.0  28.0  43.0   \n",
       "3  10300002  1610612763  105.0  15.0   4.0  81.0  40.0  34.0  21.0  48.0   \n",
       "4  10300003  1610612739  100.0   6.0   4.0  77.0  38.0  29.0  20.0  52.0   \n",
       "\n",
       "    AST   STL  BLK    TO  FG2A  FG2M  \n",
       "0  20.0   9.0  4.0  18.0  68.0  32.0  \n",
       "1  23.0   8.0  4.0  18.0  63.0  31.0  \n",
       "2  20.0   9.0  4.0  24.0  62.0  30.0  \n",
       "3  25.0  18.0  7.0  25.0  66.0  36.0  \n",
       "4  25.0  10.0  7.0  25.0  71.0  34.0  "
      ]
     },
     "execution_count": 29,
     "metadata": {},
     "output_type": "execute_result"
    }
   ],
   "source": [
    "#consolidating relevant data points to one dataframe df_team\n",
    "df_team = df_gamesdet.groupby(['GAME_ID','TEAM_ID'])[['PTS','FG3A','FG3M','FGA','FGM','FTA','FTM',\n",
    "                                             'REB','AST','STL','BLK','TO']].sum().reset_index()\n",
    "df_team['FG2A'],df_team['FG2M'] = df_team['FGA'] - df_team['FG3A'],df_team['FGM'] - df_team['FG3M']\n",
    "df_team.head()"
   ]
  },
  {
   "cell_type": "code",
   "execution_count": 30,
   "id": "159ce7ec",
   "metadata": {},
   "outputs": [
    {
     "name": "stderr",
     "output_type": "stream",
     "text": [
      "C:\\Users\\edowi\\AppData\\Local\\Temp/ipykernel_992/374546731.py:4: FutureWarning:\n",
      "\n",
      "Indexing with multiple keys (implicitly converted to a tuple of keys) will be deprecated, use a list instead.\n",
      "\n"
     ]
    },
    {
     "data": {
      "text/html": [
       "<div>\n",
       "<style scoped>\n",
       "    .dataframe tbody tr th:only-of-type {\n",
       "        vertical-align: middle;\n",
       "    }\n",
       "\n",
       "    .dataframe tbody tr th {\n",
       "        vertical-align: top;\n",
       "    }\n",
       "\n",
       "    .dataframe thead th {\n",
       "        text-align: right;\n",
       "    }\n",
       "</style>\n",
       "<table border=\"1\" class=\"dataframe\">\n",
       "  <thead>\n",
       "    <tr style=\"text-align: right;\">\n",
       "      <th></th>\n",
       "      <th>SEASON</th>\n",
       "      <th>TEAM_ID</th>\n",
       "      <th>PTS</th>\n",
       "      <th>FG3A</th>\n",
       "      <th>FG3M</th>\n",
       "      <th>FG2A</th>\n",
       "      <th>FG2M</th>\n",
       "      <th>FGA</th>\n",
       "      <th>FGM</th>\n",
       "      <th>FTA</th>\n",
       "      <th>FTM</th>\n",
       "      <th>REB</th>\n",
       "      <th>AST</th>\n",
       "      <th>STL</th>\n",
       "      <th>BLK</th>\n",
       "      <th>TO</th>\n",
       "    </tr>\n",
       "  </thead>\n",
       "  <tbody>\n",
       "    <tr>\n",
       "      <th>0</th>\n",
       "      <td>2003</td>\n",
       "      <td>1610612737</td>\n",
       "      <td>92.662651</td>\n",
       "      <td>15.132530</td>\n",
       "      <td>5.084337</td>\n",
       "      <td>64.493976</td>\n",
       "      <td>29.337349</td>\n",
       "      <td>79.626506</td>\n",
       "      <td>34.421687</td>\n",
       "      <td>24.144578</td>\n",
       "      <td>18.734940</td>\n",
       "      <td>42.746988</td>\n",
       "      <td>20.072289</td>\n",
       "      <td>7.626506</td>\n",
       "      <td>4.939759</td>\n",
       "      <td>15.566265</td>\n",
       "    </tr>\n",
       "    <tr>\n",
       "      <th>1</th>\n",
       "      <td>2003</td>\n",
       "      <td>1610612738</td>\n",
       "      <td>94.689655</td>\n",
       "      <td>19.264368</td>\n",
       "      <td>6.632184</td>\n",
       "      <td>58.609195</td>\n",
       "      <td>27.781609</td>\n",
       "      <td>77.873563</td>\n",
       "      <td>34.413793</td>\n",
       "      <td>25.620690</td>\n",
       "      <td>19.229885</td>\n",
       "      <td>40.126437</td>\n",
       "      <td>20.390805</td>\n",
       "      <td>9.321839</td>\n",
       "      <td>4.080460</td>\n",
       "      <td>15.988506</td>\n",
       "    </tr>\n",
       "    <tr>\n",
       "      <th>2</th>\n",
       "      <td>2003</td>\n",
       "      <td>1610612739</td>\n",
       "      <td>92.880952</td>\n",
       "      <td>9.571429</td>\n",
       "      <td>3.023810</td>\n",
       "      <td>72.607143</td>\n",
       "      <td>32.595238</td>\n",
       "      <td>82.178571</td>\n",
       "      <td>35.619048</td>\n",
       "      <td>24.845238</td>\n",
       "      <td>18.619048</td>\n",
       "      <td>45.607143</td>\n",
       "      <td>22.071429</td>\n",
       "      <td>7.190476</td>\n",
       "      <td>6.571429</td>\n",
       "      <td>14.369048</td>\n",
       "    </tr>\n",
       "    <tr>\n",
       "      <th>3</th>\n",
       "      <td>2003</td>\n",
       "      <td>1610612740</td>\n",
       "      <td>91.066667</td>\n",
       "      <td>20.066667</td>\n",
       "      <td>6.433333</td>\n",
       "      <td>60.077778</td>\n",
       "      <td>27.077778</td>\n",
       "      <td>80.144444</td>\n",
       "      <td>33.511111</td>\n",
       "      <td>23.422222</td>\n",
       "      <td>17.611111</td>\n",
       "      <td>42.700000</td>\n",
       "      <td>20.866667</td>\n",
       "      <td>8.433333</td>\n",
       "      <td>4.244444</td>\n",
       "      <td>14.244444</td>\n",
       "    </tr>\n",
       "    <tr>\n",
       "      <th>4</th>\n",
       "      <td>2003</td>\n",
       "      <td>1610612741</td>\n",
       "      <td>89.265060</td>\n",
       "      <td>15.168675</td>\n",
       "      <td>5.192771</td>\n",
       "      <td>66.746988</td>\n",
       "      <td>28.771084</td>\n",
       "      <td>81.915663</td>\n",
       "      <td>33.963855</td>\n",
       "      <td>22.265060</td>\n",
       "      <td>16.144578</td>\n",
       "      <td>43.277108</td>\n",
       "      <td>21.722892</td>\n",
       "      <td>8.000000</td>\n",
       "      <td>4.879518</td>\n",
       "      <td>15.228916</td>\n",
       "    </tr>\n",
       "  </tbody>\n",
       "</table>\n",
       "</div>"
      ],
      "text/plain": [
       "   SEASON     TEAM_ID        PTS       FG3A      FG3M       FG2A       FG2M  \\\n",
       "0    2003  1610612737  92.662651  15.132530  5.084337  64.493976  29.337349   \n",
       "1    2003  1610612738  94.689655  19.264368  6.632184  58.609195  27.781609   \n",
       "2    2003  1610612739  92.880952   9.571429  3.023810  72.607143  32.595238   \n",
       "3    2003  1610612740  91.066667  20.066667  6.433333  60.077778  27.077778   \n",
       "4    2003  1610612741  89.265060  15.168675  5.192771  66.746988  28.771084   \n",
       "\n",
       "         FGA        FGM        FTA        FTM        REB        AST       STL  \\\n",
       "0  79.626506  34.421687  24.144578  18.734940  42.746988  20.072289  7.626506   \n",
       "1  77.873563  34.413793  25.620690  19.229885  40.126437  20.390805  9.321839   \n",
       "2  82.178571  35.619048  24.845238  18.619048  45.607143  22.071429  7.190476   \n",
       "3  80.144444  33.511111  23.422222  17.611111  42.700000  20.866667  8.433333   \n",
       "4  81.915663  33.963855  22.265060  16.144578  43.277108  21.722892  8.000000   \n",
       "\n",
       "        BLK         TO  \n",
       "0  4.939759  15.566265  \n",
       "1  4.080460  15.988506  \n",
       "2  6.571429  14.369048  \n",
       "3  4.244444  14.244444  \n",
       "4  4.879518  15.228916  "
      ]
     },
     "execution_count": 30,
     "metadata": {},
     "output_type": "execute_result"
    }
   ],
   "source": [
    "# merge to tag season\n",
    "df_combine2 = df_team.merge(df_season, how = 'left', on = 'GAME_ID')\n",
    "df_combine2 = df_combine2[['SEASON','TEAM_ID','GAME_ID','GAME_DATE','PTS','FG3A','FG3M','FG2A','FG2M','FGA','FGM','FTA','FTM','REB','AST','STL','BLK','TO']]\n",
    "df_tavg = df_combine2.groupby(['SEASON', 'TEAM_ID'])['PTS','FG3A','FG3M','FG2A','FG2M','FGA','FGM','FTA','FTM','REB','AST','STL','BLK','TO'].mean().reset_index()\n",
    "df_tavg.head()"
   ]
  },
  {
   "cell_type": "code",
   "execution_count": 31,
   "id": "2f23ddf7",
   "metadata": {},
   "outputs": [
    {
     "data": {
      "text/html": [
       "<div>\n",
       "<style scoped>\n",
       "    .dataframe tbody tr th:only-of-type {\n",
       "        vertical-align: middle;\n",
       "    }\n",
       "\n",
       "    .dataframe tbody tr th {\n",
       "        vertical-align: top;\n",
       "    }\n",
       "\n",
       "    .dataframe thead th {\n",
       "        text-align: right;\n",
       "    }\n",
       "</style>\n",
       "<table border=\"1\" class=\"dataframe\">\n",
       "  <thead>\n",
       "    <tr style=\"text-align: right;\">\n",
       "      <th></th>\n",
       "      <th>TEAM_ID</th>\n",
       "      <th>TEAM_ABB</th>\n",
       "    </tr>\n",
       "  </thead>\n",
       "  <tbody>\n",
       "    <tr>\n",
       "      <th>0</th>\n",
       "      <td>1610612737</td>\n",
       "      <td>ATL</td>\n",
       "    </tr>\n",
       "    <tr>\n",
       "      <th>1</th>\n",
       "      <td>1610612738</td>\n",
       "      <td>BOS</td>\n",
       "    </tr>\n",
       "    <tr>\n",
       "      <th>2</th>\n",
       "      <td>1610612740</td>\n",
       "      <td>NOP</td>\n",
       "    </tr>\n",
       "    <tr>\n",
       "      <th>3</th>\n",
       "      <td>1610612741</td>\n",
       "      <td>CHI</td>\n",
       "    </tr>\n",
       "    <tr>\n",
       "      <th>4</th>\n",
       "      <td>1610612742</td>\n",
       "      <td>DAL</td>\n",
       "    </tr>\n",
       "  </tbody>\n",
       "</table>\n",
       "</div>"
      ],
      "text/plain": [
       "      TEAM_ID TEAM_ABB\n",
       "0  1610612737      ATL\n",
       "1  1610612738      BOS\n",
       "2  1610612740      NOP\n",
       "3  1610612741      CHI\n",
       "4  1610612742      DAL"
      ]
     },
     "execution_count": 31,
     "metadata": {},
     "output_type": "execute_result"
    }
   ],
   "source": [
    "# import team details csv\n",
    "df_teamdet = pd.read_csv('teams.csv').iloc[:,[1,4]]\n",
    "df_teamdet = df_teamdet.rename(columns = {'ABBREVIATION': \"TEAM_ABB\"})\n",
    "df_teamdet.head()"
   ]
  },
  {
   "cell_type": "code",
   "execution_count": 32,
   "id": "014d1caf",
   "metadata": {},
   "outputs": [
    {
     "data": {
      "text/html": [
       "<div>\n",
       "<style scoped>\n",
       "    .dataframe tbody tr th:only-of-type {\n",
       "        vertical-align: middle;\n",
       "    }\n",
       "\n",
       "    .dataframe tbody tr th {\n",
       "        vertical-align: top;\n",
       "    }\n",
       "\n",
       "    .dataframe thead th {\n",
       "        text-align: right;\n",
       "    }\n",
       "</style>\n",
       "<table border=\"1\" class=\"dataframe\">\n",
       "  <thead>\n",
       "    <tr style=\"text-align: right;\">\n",
       "      <th></th>\n",
       "      <th>SEASON</th>\n",
       "      <th>TEAM_ABB</th>\n",
       "      <th>PTS</th>\n",
       "      <th>FG3A</th>\n",
       "      <th>FG3M</th>\n",
       "      <th>FG2A</th>\n",
       "      <th>FG2M</th>\n",
       "      <th>FGA</th>\n",
       "      <th>FGM</th>\n",
       "      <th>FTA</th>\n",
       "      <th>FTM</th>\n",
       "      <th>REB</th>\n",
       "      <th>AST</th>\n",
       "      <th>STL</th>\n",
       "      <th>BLK</th>\n",
       "      <th>TO</th>\n",
       "    </tr>\n",
       "  </thead>\n",
       "  <tbody>\n",
       "    <tr>\n",
       "      <th>0</th>\n",
       "      <td>2003</td>\n",
       "      <td>ATL</td>\n",
       "      <td>92.662651</td>\n",
       "      <td>15.132530</td>\n",
       "      <td>5.084337</td>\n",
       "      <td>64.493976</td>\n",
       "      <td>29.337349</td>\n",
       "      <td>79.626506</td>\n",
       "      <td>34.421687</td>\n",
       "      <td>24.144578</td>\n",
       "      <td>18.734940</td>\n",
       "      <td>42.746988</td>\n",
       "      <td>20.072289</td>\n",
       "      <td>7.626506</td>\n",
       "      <td>4.939759</td>\n",
       "      <td>15.566265</td>\n",
       "    </tr>\n",
       "    <tr>\n",
       "      <th>1</th>\n",
       "      <td>2003</td>\n",
       "      <td>BOS</td>\n",
       "      <td>94.689655</td>\n",
       "      <td>19.264368</td>\n",
       "      <td>6.632184</td>\n",
       "      <td>58.609195</td>\n",
       "      <td>27.781609</td>\n",
       "      <td>77.873563</td>\n",
       "      <td>34.413793</td>\n",
       "      <td>25.620690</td>\n",
       "      <td>19.229885</td>\n",
       "      <td>40.126437</td>\n",
       "      <td>20.390805</td>\n",
       "      <td>9.321839</td>\n",
       "      <td>4.080460</td>\n",
       "      <td>15.988506</td>\n",
       "    </tr>\n",
       "    <tr>\n",
       "      <th>2</th>\n",
       "      <td>2003</td>\n",
       "      <td>CLE</td>\n",
       "      <td>92.880952</td>\n",
       "      <td>9.571429</td>\n",
       "      <td>3.023810</td>\n",
       "      <td>72.607143</td>\n",
       "      <td>32.595238</td>\n",
       "      <td>82.178571</td>\n",
       "      <td>35.619048</td>\n",
       "      <td>24.845238</td>\n",
       "      <td>18.619048</td>\n",
       "      <td>45.607143</td>\n",
       "      <td>22.071429</td>\n",
       "      <td>7.190476</td>\n",
       "      <td>6.571429</td>\n",
       "      <td>14.369048</td>\n",
       "    </tr>\n",
       "    <tr>\n",
       "      <th>3</th>\n",
       "      <td>2003</td>\n",
       "      <td>NOP</td>\n",
       "      <td>91.066667</td>\n",
       "      <td>20.066667</td>\n",
       "      <td>6.433333</td>\n",
       "      <td>60.077778</td>\n",
       "      <td>27.077778</td>\n",
       "      <td>80.144444</td>\n",
       "      <td>33.511111</td>\n",
       "      <td>23.422222</td>\n",
       "      <td>17.611111</td>\n",
       "      <td>42.700000</td>\n",
       "      <td>20.866667</td>\n",
       "      <td>8.433333</td>\n",
       "      <td>4.244444</td>\n",
       "      <td>14.244444</td>\n",
       "    </tr>\n",
       "    <tr>\n",
       "      <th>4</th>\n",
       "      <td>2003</td>\n",
       "      <td>CHI</td>\n",
       "      <td>89.265060</td>\n",
       "      <td>15.168675</td>\n",
       "      <td>5.192771</td>\n",
       "      <td>66.746988</td>\n",
       "      <td>28.771084</td>\n",
       "      <td>81.915663</td>\n",
       "      <td>33.963855</td>\n",
       "      <td>22.265060</td>\n",
       "      <td>16.144578</td>\n",
       "      <td>43.277108</td>\n",
       "      <td>21.722892</td>\n",
       "      <td>8.000000</td>\n",
       "      <td>4.879518</td>\n",
       "      <td>15.228916</td>\n",
       "    </tr>\n",
       "  </tbody>\n",
       "</table>\n",
       "</div>"
      ],
      "text/plain": [
       "   SEASON TEAM_ABB        PTS       FG3A      FG3M       FG2A       FG2M  \\\n",
       "0    2003      ATL  92.662651  15.132530  5.084337  64.493976  29.337349   \n",
       "1    2003      BOS  94.689655  19.264368  6.632184  58.609195  27.781609   \n",
       "2    2003      CLE  92.880952   9.571429  3.023810  72.607143  32.595238   \n",
       "3    2003      NOP  91.066667  20.066667  6.433333  60.077778  27.077778   \n",
       "4    2003      CHI  89.265060  15.168675  5.192771  66.746988  28.771084   \n",
       "\n",
       "         FGA        FGM        FTA        FTM        REB        AST       STL  \\\n",
       "0  79.626506  34.421687  24.144578  18.734940  42.746988  20.072289  7.626506   \n",
       "1  77.873563  34.413793  25.620690  19.229885  40.126437  20.390805  9.321839   \n",
       "2  82.178571  35.619048  24.845238  18.619048  45.607143  22.071429  7.190476   \n",
       "3  80.144444  33.511111  23.422222  17.611111  42.700000  20.866667  8.433333   \n",
       "4  81.915663  33.963855  22.265060  16.144578  43.277108  21.722892  8.000000   \n",
       "\n",
       "        BLK         TO  \n",
       "0  4.939759  15.566265  \n",
       "1  4.080460  15.988506  \n",
       "2  6.571429  14.369048  \n",
       "3  4.244444  14.244444  \n",
       "4  4.879518  15.228916  "
      ]
     },
     "execution_count": 32,
     "metadata": {},
     "output_type": "execute_result"
    }
   ],
   "source": [
    "#merge teamdet to tavg\n",
    "df_tavg = df_tavg.merge(df_teamdet, how = 'left', on = 'TEAM_ID')\n",
    "df_tavg = df_tavg[['SEASON','TEAM_ID','TEAM_ABB','PTS','FG3A','FG3M','FG2A','FG2M','FGA','FGM','FTA','FTM','REB','AST','STL','BLK','TO']].drop(columns = 'TEAM_ID')\n",
    "df_tavg.head()"
   ]
  },
  {
   "cell_type": "code",
   "execution_count": 33,
   "id": "22e96de0",
   "metadata": {},
   "outputs": [
    {
     "data": {
      "text/html": [
       "<div>\n",
       "<style scoped>\n",
       "    .dataframe tbody tr th:only-of-type {\n",
       "        vertical-align: middle;\n",
       "    }\n",
       "\n",
       "    .dataframe tbody tr th {\n",
       "        vertical-align: top;\n",
       "    }\n",
       "\n",
       "    .dataframe thead th {\n",
       "        text-align: right;\n",
       "    }\n",
       "</style>\n",
       "<table border=\"1\" class=\"dataframe\">\n",
       "  <thead>\n",
       "    <tr style=\"text-align: right;\">\n",
       "      <th></th>\n",
       "      <th>SEASON</th>\n",
       "      <th>TEAM_ABB</th>\n",
       "      <th>PTS</th>\n",
       "      <th>FG3A</th>\n",
       "      <th>FG3M</th>\n",
       "      <th>FG2A</th>\n",
       "      <th>FG2M</th>\n",
       "      <th>FGA</th>\n",
       "      <th>FGM</th>\n",
       "      <th>FTA</th>\n",
       "      <th>FTM</th>\n",
       "      <th>REB</th>\n",
       "      <th>AST</th>\n",
       "      <th>STL</th>\n",
       "      <th>BLK</th>\n",
       "      <th>TO</th>\n",
       "      <th>3PT_pts</th>\n",
       "      <th>2PT_pts</th>\n",
       "    </tr>\n",
       "  </thead>\n",
       "  <tbody>\n",
       "    <tr>\n",
       "      <th>0</th>\n",
       "      <td>2003</td>\n",
       "      <td>ATL</td>\n",
       "      <td>92.662651</td>\n",
       "      <td>15.132530</td>\n",
       "      <td>5.084337</td>\n",
       "      <td>64.493976</td>\n",
       "      <td>29.337349</td>\n",
       "      <td>79.626506</td>\n",
       "      <td>34.421687</td>\n",
       "      <td>24.144578</td>\n",
       "      <td>18.734940</td>\n",
       "      <td>42.746988</td>\n",
       "      <td>20.072289</td>\n",
       "      <td>7.626506</td>\n",
       "      <td>4.939759</td>\n",
       "      <td>15.566265</td>\n",
       "      <td>15.253012</td>\n",
       "      <td>58.674699</td>\n",
       "    </tr>\n",
       "    <tr>\n",
       "      <th>1</th>\n",
       "      <td>2003</td>\n",
       "      <td>BOS</td>\n",
       "      <td>94.689655</td>\n",
       "      <td>19.264368</td>\n",
       "      <td>6.632184</td>\n",
       "      <td>58.609195</td>\n",
       "      <td>27.781609</td>\n",
       "      <td>77.873563</td>\n",
       "      <td>34.413793</td>\n",
       "      <td>25.620690</td>\n",
       "      <td>19.229885</td>\n",
       "      <td>40.126437</td>\n",
       "      <td>20.390805</td>\n",
       "      <td>9.321839</td>\n",
       "      <td>4.080460</td>\n",
       "      <td>15.988506</td>\n",
       "      <td>19.896552</td>\n",
       "      <td>55.563218</td>\n",
       "    </tr>\n",
       "    <tr>\n",
       "      <th>2</th>\n",
       "      <td>2003</td>\n",
       "      <td>CLE</td>\n",
       "      <td>92.880952</td>\n",
       "      <td>9.571429</td>\n",
       "      <td>3.023810</td>\n",
       "      <td>72.607143</td>\n",
       "      <td>32.595238</td>\n",
       "      <td>82.178571</td>\n",
       "      <td>35.619048</td>\n",
       "      <td>24.845238</td>\n",
       "      <td>18.619048</td>\n",
       "      <td>45.607143</td>\n",
       "      <td>22.071429</td>\n",
       "      <td>7.190476</td>\n",
       "      <td>6.571429</td>\n",
       "      <td>14.369048</td>\n",
       "      <td>9.071429</td>\n",
       "      <td>65.190476</td>\n",
       "    </tr>\n",
       "    <tr>\n",
       "      <th>3</th>\n",
       "      <td>2003</td>\n",
       "      <td>NOP</td>\n",
       "      <td>91.066667</td>\n",
       "      <td>20.066667</td>\n",
       "      <td>6.433333</td>\n",
       "      <td>60.077778</td>\n",
       "      <td>27.077778</td>\n",
       "      <td>80.144444</td>\n",
       "      <td>33.511111</td>\n",
       "      <td>23.422222</td>\n",
       "      <td>17.611111</td>\n",
       "      <td>42.700000</td>\n",
       "      <td>20.866667</td>\n",
       "      <td>8.433333</td>\n",
       "      <td>4.244444</td>\n",
       "      <td>14.244444</td>\n",
       "      <td>19.300000</td>\n",
       "      <td>54.155556</td>\n",
       "    </tr>\n",
       "    <tr>\n",
       "      <th>4</th>\n",
       "      <td>2003</td>\n",
       "      <td>CHI</td>\n",
       "      <td>89.265060</td>\n",
       "      <td>15.168675</td>\n",
       "      <td>5.192771</td>\n",
       "      <td>66.746988</td>\n",
       "      <td>28.771084</td>\n",
       "      <td>81.915663</td>\n",
       "      <td>33.963855</td>\n",
       "      <td>22.265060</td>\n",
       "      <td>16.144578</td>\n",
       "      <td>43.277108</td>\n",
       "      <td>21.722892</td>\n",
       "      <td>8.000000</td>\n",
       "      <td>4.879518</td>\n",
       "      <td>15.228916</td>\n",
       "      <td>15.578313</td>\n",
       "      <td>57.542169</td>\n",
       "    </tr>\n",
       "  </tbody>\n",
       "</table>\n",
       "</div>"
      ],
      "text/plain": [
       "   SEASON TEAM_ABB        PTS       FG3A      FG3M       FG2A       FG2M  \\\n",
       "0    2003      ATL  92.662651  15.132530  5.084337  64.493976  29.337349   \n",
       "1    2003      BOS  94.689655  19.264368  6.632184  58.609195  27.781609   \n",
       "2    2003      CLE  92.880952   9.571429  3.023810  72.607143  32.595238   \n",
       "3    2003      NOP  91.066667  20.066667  6.433333  60.077778  27.077778   \n",
       "4    2003      CHI  89.265060  15.168675  5.192771  66.746988  28.771084   \n",
       "\n",
       "         FGA        FGM        FTA        FTM        REB        AST       STL  \\\n",
       "0  79.626506  34.421687  24.144578  18.734940  42.746988  20.072289  7.626506   \n",
       "1  77.873563  34.413793  25.620690  19.229885  40.126437  20.390805  9.321839   \n",
       "2  82.178571  35.619048  24.845238  18.619048  45.607143  22.071429  7.190476   \n",
       "3  80.144444  33.511111  23.422222  17.611111  42.700000  20.866667  8.433333   \n",
       "4  81.915663  33.963855  22.265060  16.144578  43.277108  21.722892  8.000000   \n",
       "\n",
       "        BLK         TO    3PT_pts    2PT_pts  \n",
       "0  4.939759  15.566265  15.253012  58.674699  \n",
       "1  4.080460  15.988506  19.896552  55.563218  \n",
       "2  6.571429  14.369048   9.071429  65.190476  \n",
       "3  4.244444  14.244444  19.300000  54.155556  \n",
       "4  4.879518  15.228916  15.578313  57.542169  "
      ]
     },
     "execution_count": 33,
     "metadata": {},
     "output_type": "execute_result"
    }
   ],
   "source": [
    "# calculate points scored from 3pt and 2pt\n",
    "df_tavg['3PT_pts'],df_tavg['2PT_pts'] = df_tavg['FG3M']*3,df_tavg['FG2M']*2\n",
    "df_tavg.head()"
   ]
  },
  {
   "cell_type": "code",
   "execution_count": 34,
   "id": "8e47b39c",
   "metadata": {},
   "outputs": [
    {
     "data": {
      "application/vnd.plotly.v1+json": {
       "config": {
        "plotlyServerURL": "https://plot.ly"
       },
       "data": [
        {
         "hovertemplate": "<b>%{hovertext}</b><br><br>3PT_pts=%{x}<br>PTS=%{y}<br>SEASON=%{marker.color}<extra></extra>",
         "hovertext": [
          "ATL",
          "BOS",
          "CLE",
          "NOP",
          "CHI",
          "DAL",
          "DEN",
          "GSW",
          "HOU",
          "LAC",
          "LAL",
          "MIA",
          "MIL",
          "MIN",
          "BKN",
          "NYK",
          "ORL",
          "IND",
          "PHI",
          "PHX",
          "POR",
          "SAC",
          "SAS",
          "OKC",
          "TOR",
          "UTA",
          "MEM",
          "WAS",
          "DET",
          "ATL",
          "BOS",
          "CLE",
          "NOP",
          "CHI",
          "DAL",
          "DEN",
          "GSW",
          "HOU",
          "LAC",
          "LAL",
          "MIA",
          "MIL",
          "MIN",
          "BKN",
          "NYK",
          "ORL",
          "IND",
          "PHI",
          "PHX",
          "POR",
          "SAC",
          "SAS",
          "OKC",
          "TOR",
          "UTA",
          "MEM",
          "WAS",
          "DET",
          "CHA",
          "ATL",
          "BOS",
          "CLE",
          "NOP",
          "CHI",
          "DAL",
          "DEN",
          "GSW",
          "HOU",
          "LAC",
          "LAL",
          "MIA",
          "MIL",
          "MIN",
          "BKN",
          "NYK",
          "ORL",
          "IND",
          "PHI",
          "PHX",
          "POR",
          "SAC",
          "SAS",
          "OKC",
          "TOR",
          "UTA",
          "MEM",
          "WAS",
          "DET",
          "CHA",
          "ATL",
          "BOS",
          "CLE",
          "NOP",
          "CHI",
          "DAL",
          "DEN",
          "GSW",
          "HOU",
          "LAC",
          "LAL",
          "MIA",
          "MIL",
          "MIN",
          "BKN",
          "NYK",
          "ORL",
          "IND",
          "PHI",
          "PHX",
          "POR",
          "SAC",
          "SAS",
          "OKC",
          "TOR",
          "UTA",
          "MEM",
          "WAS",
          "DET",
          "CHA",
          "ATL",
          "BOS",
          "CLE",
          "NOP",
          "CHI",
          "DAL",
          "DEN",
          "GSW",
          "HOU",
          "LAC",
          "LAL",
          "MIA",
          "MIL",
          "MIN",
          "BKN",
          "NYK",
          "ORL",
          "IND",
          "PHI",
          "PHX",
          "POR",
          "SAC",
          "SAS",
          "OKC",
          "TOR",
          "UTA",
          "MEM",
          "WAS",
          "DET",
          "CHA",
          "ATL",
          "BOS",
          "CLE",
          "NOP",
          "CHI",
          "DAL",
          "DEN",
          "GSW",
          "HOU",
          "LAC",
          "LAL",
          "MIA",
          "MIL",
          "MIN",
          "BKN",
          "NYK",
          "ORL",
          "IND",
          "PHI",
          "PHX",
          "POR",
          "SAC",
          "SAS",
          "OKC",
          "TOR",
          "UTA",
          "MEM",
          "WAS",
          "DET",
          "CHA",
          "ATL",
          "BOS",
          "CLE",
          "NOP",
          "CHI",
          "DAL",
          "DEN",
          "GSW",
          "HOU",
          "LAC",
          "LAL",
          "MIA",
          "MIL",
          "MIN",
          "BKN",
          "NYK",
          "ORL",
          "IND",
          "PHI",
          "PHX",
          "POR",
          "SAC",
          "SAS",
          "OKC",
          "TOR",
          "UTA",
          "MEM",
          "WAS",
          "DET",
          "CHA",
          "ATL",
          "BOS",
          "CLE",
          "NOP",
          "CHI",
          "DAL",
          "DEN",
          "GSW",
          "HOU",
          "LAC",
          "LAL",
          "MIA",
          "MIL",
          "MIN",
          "BKN",
          "NYK",
          "ORL",
          "IND",
          "PHI",
          "PHX",
          "POR",
          "SAC",
          "SAS",
          "OKC",
          "TOR",
          "UTA",
          "MEM",
          "WAS",
          "DET",
          "CHA",
          "ATL",
          "BOS",
          "CLE",
          "NOP",
          "CHI",
          "DAL",
          "DEN",
          "GSW",
          "HOU",
          "LAC",
          "LAL",
          "MIA",
          "MIL",
          "MIN",
          "BKN",
          "NYK",
          "ORL",
          "IND",
          "PHI",
          "PHX",
          "POR",
          "SAC",
          "SAS",
          "OKC",
          "TOR",
          "UTA",
          "MEM",
          "WAS",
          "DET",
          "CHA",
          "ATL",
          "BOS",
          "CLE",
          "NOP",
          "CHI",
          "DAL",
          "DEN",
          "GSW",
          "HOU",
          "LAC",
          "LAL",
          "MIA",
          "MIL",
          "MIN",
          "BKN",
          "NYK",
          "ORL",
          "IND",
          "PHI",
          "PHX",
          "POR",
          "SAC",
          "SAS",
          "OKC",
          "TOR",
          "UTA",
          "MEM",
          "WAS",
          "DET",
          "CHA",
          "ATL",
          "BOS",
          "CLE",
          "NOP",
          "CHI",
          "DAL",
          "DEN",
          "GSW",
          "HOU",
          "LAC",
          "LAL",
          "MIA",
          "MIL",
          "MIN",
          "BKN",
          "NYK",
          "ORL",
          "IND",
          "PHI",
          "PHX",
          "POR",
          "SAC",
          "SAS",
          "OKC",
          "TOR",
          "UTA",
          "MEM",
          "WAS",
          "DET",
          "CHA",
          "ATL",
          "BOS",
          "CLE",
          "NOP",
          "CHI",
          "DAL",
          "DEN",
          "GSW",
          "HOU",
          "LAC",
          "LAL",
          "MIA",
          "MIL",
          "MIN",
          "BKN",
          "NYK",
          "ORL",
          "IND",
          "PHI",
          "PHX",
          "POR",
          "SAC",
          "SAS",
          "OKC",
          "TOR",
          "UTA",
          "MEM",
          "WAS",
          "DET",
          "CHA",
          "ATL",
          "BOS",
          "CLE",
          "NOP",
          "CHI",
          "DAL",
          "DEN",
          "GSW",
          "HOU",
          "LAC",
          "LAL",
          "MIA",
          "MIL",
          "MIN",
          "BKN",
          "NYK",
          "ORL",
          "IND",
          "PHI",
          "PHX",
          "POR",
          "SAC",
          "SAS",
          "OKC",
          "TOR",
          "UTA",
          "MEM",
          "WAS",
          "DET",
          "CHA",
          "ATL",
          "BOS",
          "CLE",
          "NOP",
          "CHI",
          "DAL",
          "DEN",
          "GSW",
          "HOU",
          "LAC",
          "LAL",
          "MIA",
          "MIL",
          "MIN",
          "BKN",
          "NYK",
          "ORL",
          "IND",
          "PHI",
          "PHX",
          "POR",
          "SAC",
          "SAS",
          "OKC",
          "TOR",
          "UTA",
          "MEM",
          "WAS",
          "DET",
          "CHA",
          "ATL",
          "BOS",
          "CLE",
          "NOP",
          "CHI",
          "DAL",
          "DEN",
          "GSW",
          "HOU",
          "LAC",
          "LAL",
          "MIA",
          "MIL",
          "MIN",
          "BKN",
          "NYK",
          "ORL",
          "IND",
          "PHI",
          "PHX",
          "POR",
          "SAC",
          "SAS",
          "OKC",
          "TOR",
          "UTA",
          "MEM",
          "WAS",
          "DET",
          "CHA",
          "ATL",
          "BOS",
          "CLE",
          "NOP",
          "CHI",
          "DAL",
          "DEN",
          "GSW",
          "HOU",
          "LAC",
          "LAL",
          "MIA",
          "MIL",
          "MIN",
          "BKN",
          "NYK",
          "ORL",
          "IND",
          "PHI",
          "PHX",
          "POR",
          "SAC",
          "SAS",
          "OKC",
          "TOR",
          "UTA",
          "MEM",
          "WAS",
          "DET",
          "CHA",
          "ATL",
          "BOS",
          "CLE",
          "NOP",
          "CHI",
          "DAL",
          "DEN",
          "GSW",
          "HOU",
          "LAC",
          "LAL",
          "MIA",
          "MIL",
          "MIN",
          "BKN",
          "NYK",
          "ORL",
          "IND",
          "PHI",
          "PHX",
          "POR",
          "SAC",
          "SAS",
          "OKC",
          "TOR",
          "UTA",
          "MEM",
          "WAS",
          "DET",
          "CHA",
          "ATL",
          "BOS",
          "CLE",
          "NOP",
          "CHI",
          "DAL",
          "DEN",
          "GSW",
          "HOU",
          "LAC",
          "LAL",
          "MIA",
          "MIL",
          "MIN",
          "BKN",
          "NYK",
          "ORL",
          "IND",
          "PHI",
          "PHX",
          "POR",
          "SAC",
          "SAS",
          "OKC",
          "TOR",
          "UTA",
          "MEM",
          "WAS",
          "DET",
          "CHA",
          "ATL",
          "BOS",
          "CLE",
          "NOP",
          "CHI",
          "DAL",
          "DEN",
          "GSW",
          "HOU",
          "LAC",
          "LAL",
          "MIA",
          "MIL",
          "MIN",
          "BKN",
          "NYK",
          "ORL",
          "IND",
          "PHI",
          "PHX",
          "POR",
          "SAC",
          "SAS",
          "OKC",
          "TOR",
          "UTA",
          "MEM",
          "WAS",
          "DET",
          "CHA"
         ],
         "legendgroup": "",
         "marker": {
          "color": [
           2003,
           2003,
           2003,
           2003,
           2003,
           2003,
           2003,
           2003,
           2003,
           2003,
           2003,
           2003,
           2003,
           2003,
           2003,
           2003,
           2003,
           2003,
           2003,
           2003,
           2003,
           2003,
           2003,
           2003,
           2003,
           2003,
           2003,
           2003,
           2003,
           2004,
           2004,
           2004,
           2004,
           2004,
           2004,
           2004,
           2004,
           2004,
           2004,
           2004,
           2004,
           2004,
           2004,
           2004,
           2004,
           2004,
           2004,
           2004,
           2004,
           2004,
           2004,
           2004,
           2004,
           2004,
           2004,
           2004,
           2004,
           2004,
           2004,
           2005,
           2005,
           2005,
           2005,
           2005,
           2005,
           2005,
           2005,
           2005,
           2005,
           2005,
           2005,
           2005,
           2005,
           2005,
           2005,
           2005,
           2005,
           2005,
           2005,
           2005,
           2005,
           2005,
           2005,
           2005,
           2005,
           2005,
           2005,
           2005,
           2005,
           2006,
           2006,
           2006,
           2006,
           2006,
           2006,
           2006,
           2006,
           2006,
           2006,
           2006,
           2006,
           2006,
           2006,
           2006,
           2006,
           2006,
           2006,
           2006,
           2006,
           2006,
           2006,
           2006,
           2006,
           2006,
           2006,
           2006,
           2006,
           2006,
           2006,
           2007,
           2007,
           2007,
           2007,
           2007,
           2007,
           2007,
           2007,
           2007,
           2007,
           2007,
           2007,
           2007,
           2007,
           2007,
           2007,
           2007,
           2007,
           2007,
           2007,
           2007,
           2007,
           2007,
           2007,
           2007,
           2007,
           2007,
           2007,
           2007,
           2007,
           2008,
           2008,
           2008,
           2008,
           2008,
           2008,
           2008,
           2008,
           2008,
           2008,
           2008,
           2008,
           2008,
           2008,
           2008,
           2008,
           2008,
           2008,
           2008,
           2008,
           2008,
           2008,
           2008,
           2008,
           2008,
           2008,
           2008,
           2008,
           2008,
           2008,
           2009,
           2009,
           2009,
           2009,
           2009,
           2009,
           2009,
           2009,
           2009,
           2009,
           2009,
           2009,
           2009,
           2009,
           2009,
           2009,
           2009,
           2009,
           2009,
           2009,
           2009,
           2009,
           2009,
           2009,
           2009,
           2009,
           2009,
           2009,
           2009,
           2009,
           2010,
           2010,
           2010,
           2010,
           2010,
           2010,
           2010,
           2010,
           2010,
           2010,
           2010,
           2010,
           2010,
           2010,
           2010,
           2010,
           2010,
           2010,
           2010,
           2010,
           2010,
           2010,
           2010,
           2010,
           2010,
           2010,
           2010,
           2010,
           2010,
           2010,
           2011,
           2011,
           2011,
           2011,
           2011,
           2011,
           2011,
           2011,
           2011,
           2011,
           2011,
           2011,
           2011,
           2011,
           2011,
           2011,
           2011,
           2011,
           2011,
           2011,
           2011,
           2011,
           2011,
           2011,
           2011,
           2011,
           2011,
           2011,
           2011,
           2011,
           2012,
           2012,
           2012,
           2012,
           2012,
           2012,
           2012,
           2012,
           2012,
           2012,
           2012,
           2012,
           2012,
           2012,
           2012,
           2012,
           2012,
           2012,
           2012,
           2012,
           2012,
           2012,
           2012,
           2012,
           2012,
           2012,
           2012,
           2012,
           2012,
           2012,
           2013,
           2013,
           2013,
           2013,
           2013,
           2013,
           2013,
           2013,
           2013,
           2013,
           2013,
           2013,
           2013,
           2013,
           2013,
           2013,
           2013,
           2013,
           2013,
           2013,
           2013,
           2013,
           2013,
           2013,
           2013,
           2013,
           2013,
           2013,
           2013,
           2013,
           2014,
           2014,
           2014,
           2014,
           2014,
           2014,
           2014,
           2014,
           2014,
           2014,
           2014,
           2014,
           2014,
           2014,
           2014,
           2014,
           2014,
           2014,
           2014,
           2014,
           2014,
           2014,
           2014,
           2014,
           2014,
           2014,
           2014,
           2014,
           2014,
           2014,
           2015,
           2015,
           2015,
           2015,
           2015,
           2015,
           2015,
           2015,
           2015,
           2015,
           2015,
           2015,
           2015,
           2015,
           2015,
           2015,
           2015,
           2015,
           2015,
           2015,
           2015,
           2015,
           2015,
           2015,
           2015,
           2015,
           2015,
           2015,
           2015,
           2015,
           2016,
           2016,
           2016,
           2016,
           2016,
           2016,
           2016,
           2016,
           2016,
           2016,
           2016,
           2016,
           2016,
           2016,
           2016,
           2016,
           2016,
           2016,
           2016,
           2016,
           2016,
           2016,
           2016,
           2016,
           2016,
           2016,
           2016,
           2016,
           2016,
           2016,
           2017,
           2017,
           2017,
           2017,
           2017,
           2017,
           2017,
           2017,
           2017,
           2017,
           2017,
           2017,
           2017,
           2017,
           2017,
           2017,
           2017,
           2017,
           2017,
           2017,
           2017,
           2017,
           2017,
           2017,
           2017,
           2017,
           2017,
           2017,
           2017,
           2017,
           2018,
           2018,
           2018,
           2018,
           2018,
           2018,
           2018,
           2018,
           2018,
           2018,
           2018,
           2018,
           2018,
           2018,
           2018,
           2018,
           2018,
           2018,
           2018,
           2018,
           2018,
           2018,
           2018,
           2018,
           2018,
           2018,
           2018,
           2018,
           2018,
           2018,
           2019,
           2019,
           2019,
           2019,
           2019,
           2019,
           2019,
           2019,
           2019,
           2019,
           2019,
           2019,
           2019,
           2019,
           2019,
           2019,
           2019,
           2019,
           2019,
           2019,
           2019,
           2019,
           2019,
           2019,
           2019,
           2019,
           2019,
           2019,
           2019,
           2019,
           2020,
           2020,
           2020,
           2020,
           2020,
           2020,
           2020,
           2020,
           2020,
           2020,
           2020,
           2020,
           2020,
           2020,
           2020,
           2020,
           2020,
           2020,
           2020,
           2020,
           2020,
           2020,
           2020,
           2020,
           2020,
           2020,
           2020,
           2020,
           2020,
           2020,
           2021,
           2021,
           2021,
           2021,
           2021,
           2021,
           2021,
           2021,
           2021,
           2021,
           2021,
           2021,
           2021,
           2021,
           2021,
           2021,
           2021,
           2021,
           2021,
           2021,
           2021,
           2021,
           2021,
           2021,
           2021,
           2021,
           2021,
           2021,
           2021,
           2021
          ],
          "coloraxis": "coloraxis",
          "symbol": "circle"
         },
         "mode": "markers",
         "name": "",
         "orientation": "v",
         "showlegend": false,
         "type": "scatter",
         "x": [
          15.253012048192772,
          19.89655172413793,
          9.071428571428571,
          19.3,
          15.578313253012048,
          18.03370786516854,
          12.172413793103448,
          15.695121951219512,
          18.404494382022474,
          12.036144578313253,
          13.673076923076923,
          16.71875,
          14.556818181818183,
          12.93,
          13.72340425531915,
          14.689655172413792,
          15.535714285714286,
          16.575757575757574,
          12.253012048192772,
          15.072289156626507,
          13.879518072289155,
          21.315789473684212,
          15.554347826086957,
          26.27710843373494,
          16.734939759036145,
          9.144578313253012,
          16.06896551724138,
          15.857142857142858,
          12.22429906542056,
          11.035714285714285,
          15.652173913043478,
          10.75,
          15.070588235294117,
          19.252747252747255,
          17.181818181818183,
          11.576086956521738,
          22.341176470588238,
          20.01098901098901,
          8.546511627906977,
          23.493975903614455,
          17.37,
          11.642857142857142,
          14.372093023255813,
          15.666666666666668,
          15.97674418604651,
          11.892857142857142,
          19.44,
          18.46666666666667,
          28.349999999999998,
          15.174418604651162,
          18.75824175824176,
          19,
          23.125,
          23.72093023255814,
          9.104651162790699,
          19.227272727272727,
          18.25263157894737,
          13.378378378378379,
          11.647058823529411,
          15.168539325842698,
          16.5,
          17.41747572815534,
          11.595505617977528,
          20.25,
          14.814159292035399,
          12.694736842105263,
          22.752808988764045,
          16.955056179775283,
          11.287128712871286,
          19.20618556701031,
          18.05357142857143,
          18.157894736842103,
          11.966666666666667,
          16.455445544554458,
          11.224719101123595,
          10.909090909090908,
          19.21875,
          13.651685393258425,
          29.891891891891895,
          13.099999999999998,
          17.5625,
          18.75728155339806,
          21.741573033707866,
          21.707865168539325,
          11.157303370786517,
          21.096774193548388,
          17.84375,
          20.055555555555557,
          15.333333333333332,
          12.833333333333332,
          16.900000000000002,
          17.36697247706422,
          16.348314606741575,
          17.009999999999998,
          19.03125,
          18.319148936170215,
          25.90909090909091,
          25.875,
          11.590909090909092,
          21.821052631578947,
          18.870967741935484,
          19.333333333333336,
          13.7,
          22.176470588235297,
          17.079545454545453,
          12.414893617021276,
          16.799999999999997,
          10.586206896551724,
          27.60606060606061,
          15.433333333333334,
          19.233333333333334,
          21.869158878504674,
          18.666666666666668,
          19.54736842105263,
          12.841121495327101,
          17.466666666666665,
          20.074468085106382,
          16.18867924528302,
          16.200000000000003,
          13.484536082474227,
          20.504347826086956,
          19.66336633663366,
          21.92079207920792,
          17.49438202247191,
          17.842105263157897,
          20.322580645161292,
          27.586206896551722,
          21.032258064516128,
          12.91011235955056,
          23.449541284403672,
          17.831460674157302,
          16.280898876404493,
          16.09090909090909,
          18.170454545454547,
          17.75581395348837,
          28.74489795918367,
          27.337078651685395,
          10.72340425531915,
          25.46808510638298,
          19.636363636363637,
          18.60674157303371,
          21.865384615384613,
          11.426966292134832,
          21.366666666666667,
          14.881188118811881,
          22.89655172413793,
          20.138297872340424,
          16.962616822429908,
          18.97752808988764,
          21.207920792079207,
          19.64423076923077,
          22.817307692307693,
          20.393617021276597,
          18.216494845360824,
          20.85,
          20.142857142857142,
          20.20689655172414,
          22.441176470588236,
          19.44943820224719,
          19.74107142857143,
          20.90625,
          18.166666666666664,
          19.933333333333334,
          23.157303370786515,
          30.168539325842698,
          28.526785714285715,
          23.4,
          13.13684210526316,
          19.866666666666667,
          21.473684210526315,
          20.700000000000003,
          22.627659574468087,
          11.662921348314608,
          17.662921348314608,
          14.202127659574469,
          14.633333333333335,
          14.662921348314608,
          13.595744680851066,
          17.4,
          18.15,
          18.13157894736842,
          21.6,
          20.933333333333334,
          12.821052631578947,
          19.989473684210527,
          19.42105263157895,
          22.799999999999997,
          23.4,
          17.730337078651687,
          19.61946902654867,
          18.382978723404257,
          23.38144329896907,
          14.8,
          13.752808988764045,
          27.238636363636367,
          30.75,
          24.40449438202247,
          17.066666666666666,
          26.542857142857144,
          17.59375,
          17.730337078651687,
          19.653061224489797,
          15.157894736842104,
          18.233333333333334,
          16.151515151515152,
          12.633333333333333,
          15.7,
          13.666666666666666,
          16.53191489361702,
          17.673267326732674,
          15.757575757575758,
          18.235955056179776,
          16.3125,
          18.67924528301887,
          23.43243243243243,
          24.189473684210526,
          24.2,
          24.266666666666666,
          19.166666666666668,
          18.6969696969697,
          19.486238532110093,
          17.733333333333334,
          21.833333333333332,
          16.853932584269664,
          27.612903225806456,
          27.72631578947368,
          21.414893617021278,
          16.27659574468085,
          24.76666666666667,
          19.073684210526316,
          15.741573033707866,
          24,
          18.17142857142857,
          12.933333333333334,
          15.633333333333333,
          11.352941176470587,
          14.797752808988765,
          17.5,
          14.266666666666666,
          21.486486486486488,
          15.71590909090909,
          19.897058823529413,
          11.735294117647058,
          18.283783783783782,
          22.625,
          19.36,
          23.426470588235293,
          21.441176470588236,
          22.89873417721519,
          16.65,
          17.703296703296704,
          19.764705882352942,
          21.794117647058822,
          22.544117647058822,
          22.89041095890411,
          30.041095890410958,
          17.582278481012658,
          15.407407407407407,
          20.161764705882355,
          21.661764705882355,
          19.147058823529413,
          25.390243902439025,
          21.272727272727273,
          16.455882352941178,
          12,
          12.36,
          15.397058823529413,
          14.602941176470587,
          11.955882352941178,
          25.263157894736842,
          18.64516129032258,
          20.113636363636363,
          19.6,
          15.861386138613863,
          21.988636363636363,
          19.200000000000003,
          24.207920792079207,
          31.70526315789474,
          21.71875,
          25.02127659574468,
          25.69911504424779,
          21.829787234042552,
          16.397727272727273,
          22.57894736842105,
          31.32,
          18.333333333333332,
          19.710280373831775,
          19.382022471910112,
          17.865168539325843,
          24.70786516853933,
          22.1123595505618,
          23.944954128440365,
          22.41,
          21.238636363636363,
          18.400000000000002,
          14.307692307692307,
          20.2,
          18.46666666666667,
          17.433333333333334,
          27.84375,
          20.96666666666667,
          21.133333333333333,
          18.2,
          18.505263157894735,
          25.824742268041234,
          24.674157303370784,
          28,
          28.515789473684208,
          25.456310679611654,
          28.06666666666667,
          25.063636363636366,
          20.045454545454547,
          22.397727272727273,
          25.51485148514851,
          27.573033707865168,
          20.5,
          20.53211009174312,
          21.170454545454547,
          27.579545454545453,
          27.119999999999997,
          18.43820224719101,
          25.702702702702705,
          23.55140186915888,
          25.1875,
          19.833333333333332,
          14.625,
          22.86,
          18.808988764044944,
          18.79787234042553,
          29.400000000000002,
          24.382978723404257,
          30.138888888888886,
          21.70967741935484,
          24.088235294117645,
          26.810526315789474,
          23.5,
          32.486486486486484,
          32.915887850467286,
          29.39423076923077,
          18.566666666666666,
          20.766666666666666,
          19.86315789473684,
          15.033707865168541,
          20.322580645161292,
          20.49438202247191,
          19.853932584269664,
          22.348314606741575,
          24.599999999999998,
          25.636363636363633,
          29.032258064516128,
          16.875,
          25.02127659574468,
          22.8876404494382,
          26.032258064516128,
          22.4,
          15.299999999999999,
          18.87878787878788,
          25.685393258426966,
          18.366666666666667,
          29.6969696969697,
          26.225806451612904,
          32.945454545454545,
          25.8876404494382,
          24.43333333333333,
          28.117021276595743,
          23.93258426966292,
          38.309734513274336,
          31.610526315789475,
          28.117021276595743,
          23.191011235955056,
          18.663461538461537,
          16.363636363636363,
          17.08988764044944,
          19.655172413793103,
          22.379310344827587,
          23.662921348314608,
          24.09375,
          27.808988764044948,
          27.136363636363633,
          32.099999999999994,
          24.03409090909091,
          21.214285714285715,
          24.942857142857143,
          24.577981651376145,
          24.910112359550563,
          18.163043478260867,
          25.772727272727273,
          27.223404255319153,
          30.525773195876287,
          26.178947368421053,
          36.02803738317757,
          39.056603773584904,
          27.920454545454547,
          22.705263157894738,
          31.617977528089888,
          30.866666666666667,
          36.65094339622641,
          42.27272727272727,
          29.842105263157897,
          27.133333333333333,
          29.666666666666668,
          25.914893617021278,
          22.044943820224717,
          32.35227272727273,
          26.011363636363633,
          25.719101123595504,
          26.25,
          29.662921348314605,
          22.227272727272727,
          31.173913043478265,
          26.931034482758623,
          27.08653846153846,
          25.450549450549453,
          25.89795918367347,
          28.316326530612244,
          28.148936170212764,
          27,
          22.875,
          29.191011235955052,
          33.37931034482759,
          33.94285714285714,
          34.51376146788991,
          30.31578947368421,
          33.61363636363637,
          35.86363636363637,
          34.51724137931035,
          33.86915887850468,
          45.407766990291265,
          28.379310344827587,
          29.386363636363633,
          32.58064516129032,
          26.741935483870968,
          24.266666666666666,
          38.16279069767442,
          24.724137931034484,
          30.647727272727273,
          27.195652173913043,
          32.75257731958763,
          28.116279069767444,
          31.120879120879124,
          26.829545454545453,
          25.728260869565215,
          32.30769230769231,
          35.072164948453604,
          32.28125,
          27.310344827586206,
          29.31521739130435,
          32.03448275862069,
          30.068965517241377,
          38.96551724137931,
          36.88421052631578,
          30.697674418604652,
          31.03448275862069,
          27.17241379310345,
          37.48235294117647,
          32.43,
          38.669724770642205,
          48.49484536082474,
          30.164835164835164,
          30.34090909090909,
          33.88636363636363,
          40.48514851485149,
          29.89655172413793,
          37.64835164835165,
          29.82758620689655,
          33.65934065934066,
          28.46666666666667,
          32.19587628865979,
          28.813953488372093,
          33.66990291262136,
          33.62068965517241,
          28.659574468085104,
          33.72527472527472,
          36.763636363636365,
          36.166666666666664,
          29.482758620689655,
          33.83720930232558,
          36.395604395604394,
          35.96551724137931,
          35.833333333333336,
          37.375,
          33.39705882352941,
          41.25,
          36.72857142857143,
          44.764044943820224,
          33.36363636363636,
          31.799999999999997,
          48.163043478260875,
          36.98901098901099,
          33.445544554455445,
          39.76470588235294,
          41.34065934065934,
          39.794117647058826,
          39.548780487804876,
          28.971428571428568,
          33.51724137931035,
          31.142857142857146,
          33.964285714285715,
          34.162499999999994,
          37.862068965517246,
          38.20253164556962,
          31.55696202531645,
          32.78823529411765,
          41.833333333333336,
          40.395348837209305,
          32.8875,
          36.34177215189874,
          35.61971830985915,
          35.957142857142856,
          38.60606060606061,
          40.87951807228916,
          30.584415584415584,
          32.18181818181818,
          38.848101265822784,
          42.17857142857143,
          40.19318181818182,
          44.69620253164557,
          42.22784810126582,
          43.05154639175258,
          34.116279069767444,
          39.33333333333333,
          41.851485148514854,
          40.29113924050633,
          43.51648351648352,
          34.95180722891566,
          33,
          37.59493670886076,
          33.61363636363637,
          38.8252427184466,
          48.035294117647055,
          37.063291139240505,
          30.531645569620252,
          36.54545454545455,
          44.84415584415584,
          50.898876404494374,
          35.72093023255814,
          30.76744186046512,
          35.46835443037975,
          41.5125,
          35.7,
          37.10526315789474,
          33.14285714285714,
          34.2,
          32.05263157894737,
          39.33333333333333,
          36.473684210526315,
          47.684210526315795,
          32.8421052631579,
          38.5,
          34.90909090909091,
          37.42857142857143,
          43.2,
          40.5,
          40.650000000000006,
          42.94736842105263,
          37.89473684210526,
          36,
          37.421052631578945,
          34,
          38.849999999999994,
          39.315789473684205,
          33,
          37.16666666666667,
          35.55,
          42.33333333333333,
          37.5,
          32.66666666666667,
          31.5,
          36.75
         ],
         "xaxis": "x",
         "y": [
          92.66265060240964,
          94.6896551724138,
          92.88095238095238,
          91.06666666666666,
          89.26506024096386,
          104.58426966292134,
          96.59770114942529,
          93.28048780487805,
          89.2247191011236,
          94.57831325301204,
          96.0673076923077,
          89.38541666666667,
          97.2840909090909,
          94.01,
          89.96808510638297,
          91.51724137931035,
          93.8452380952381,
          90.1010101010101,
          87.63855421686748,
          94,
          90.86746987951807,
          101.85263157894737,
          91.23913043478261,
          96.73493975903614,
          85.32530120481928,
          88.65060240963855,
          96.19540229885058,
          91.73809523809524,
          89.62616822429906,
          92.36904761904762,
          99.70652173913044,
          96.45238095238095,
          88.34117647058824,
          94.5934065934066,
          102.57575757575758,
          98.93478260869566,
          98.2235294117647,
          94.93406593406593,
          95.48837209302326,
          98.7710843373494,
          100.77,
          96.80952380952381,
          96.70930232558139,
          91.34444444444445,
          96.93023255813954,
          99.41666666666667,
          91.7,
          98.24444444444444,
          110.7,
          92.46511627906976,
          103.14285714285714,
          96.37037037037037,
          98.54166666666667,
          99.45348837209302,
          92.65116279069767,
          93.70454545454545,
          100.2,
          92.55855855855856,
          93.43529411764706,
          97.14606741573034,
          97.72222222222223,
          96.66990291262135,
          92.9438202247191,
          97.47916666666667,
          98.76991150442478,
          99.72631578947369,
          98.3932584269663,
          89.9438202247191,
          98.11881188118812,
          99.50515463917526,
          98.27678571428571,
          97.62105263157895,
          91.47777777777777,
          93.93069306930693,
          95.31460674157303,
          94.68181818181819,
          93.6875,
          99.0561797752809,
          106.8018018018018,
          88.42222222222222,
          98.63541666666667,
          96.09708737864078,
          101.88764044943821,
          100.7752808988764,
          92,
          91.52688172043011,
          100.67708333333333,
          95.57407407407408,
          96.53333333333333,
          94,
          96.4888888888889,
          94.85321100917432,
          95.42696629213484,
          97.9,
          98.20833333333333,
          105.17021276595744,
          107.05050505050505,
          95.85416666666667,
          95.63636363636364,
          102.62105263157895,
          93.75268817204301,
          99.41111111111111,
          96.25555555555556,
          97.11764705882354,
          98.25,
          94.86170212765957,
          95.64444444444445,
          95.3103448275862,
          108.8989898989899,
          94.4,
          100.95555555555555,
          97.39252336448598,
          99.26666666666667,
          99.25263157894737,
          100.99065420560747,
          100.41111111111111,
          103.01063829787235,
          95.26415094339623,
          96.96666666666667,
          97.72164948453609,
          97.76521739130435,
          94.73267326732673,
          100.20792079207921,
          97,
          99.81052631578947,
          110.36559139784946,
          111.04597701149426,
          96.44086021505376,
          94.50561797752809,
          107.22018348623853,
          90.92134831460675,
          96.4494382022472,
          95.39772727272727,
          94.79545454545455,
          96.51162790697674,
          103.5204081632653,
          104.13483146067416,
          95.51063829787235,
          109.6063829787234,
          95.81818181818181,
          102.1685393258427,
          95.1923076923077,
          97.85393258426966,
          99.95555555555555,
          104.60396039603961,
          100.94252873563218,
          97.59574468085107,
          96.54205607476635,
          96.95505617977528,
          96.52475247524752,
          100.625,
          99.03846153846153,
          95.5,
          102.19587628865979,
          101.76,
          104.84761904761905,
          108.54022988505747,
          97.44117647058823,
          94.79775280898876,
          105.30357142857143,
          97.17708333333333,
          98.4,
          97.62222222222222,
          98.07865168539325,
          105.33707865168539,
          100.32142857142857,
          104.5,
          97,
          108.11111111111111,
          98.43157894736842,
          100.2,
          96.20212765957447,
          96.68539325842697,
          98.64044943820225,
          102.8936170212766,
          93.6,
          94.9438202247191,
          92.93617021276596,
          93.17777777777778,
          100.3,
          98,
          101.31,
          99.62222222222222,
          97.27368421052631,
          101.4,
          106.70526315789473,
          108.76666666666667,
          102.36666666666666,
          96.24719101123596,
          101.76991150442478,
          95.61702127659575,
          96.97938144329896,
          98.4,
          92.65168539325843,
          101.70454545454545,
          102.45192307692308,
          101.25842696629213,
          97.74444444444444,
          109.65714285714286,
          97.73958333333333,
          99.78651685393258,
          100.8061224489796,
          100.38947368421053,
          103.3,
          104.34343434343434,
          102.04444444444445,
          96.28888888888889,
          94.42222222222222,
          94.80851063829788,
          93.4059405940594,
          96.58585858585859,
          95.29213483146067,
          94.04166666666667,
          97.48113207547169,
          99.25225225225225,
          107.10526315789474,
          103.21111111111111,
          105.18888888888888,
          98.5,
          100.38383838383838,
          99.62385321100918,
          92.21111111111111,
          101.87777777777778,
          94.11235955056179,
          105.21505376344086,
          98.8,
          98.91489361702128,
          98.23404255319149,
          104.18888888888888,
          96.01052631578948,
          99.01123595505618,
          102.53191489361703,
          104.32380952380953,
          99.92222222222222,
          99.34444444444445,
          99.8529411764706,
          97.12359550561797,
          96.97777777777777,
          92.9888888888889,
          95.0945945945946,
          91.01136363636364,
          92.94117647058823,
          89.82352941176471,
          95.3108108108108,
          95.41666666666667,
          103.81333333333333,
          97.80882352941177,
          98.08823529411765,
          96.9620253164557,
          96.85,
          98.42857142857143,
          98.75,
          98.02941176470588,
          92.77941176470588,
          96.6027397260274,
          93.46575342465754,
          96.45569620253164,
          92.5679012345679,
          98.33823529411765,
          97.26470588235294,
          98.66176470588235,
          103.08536585365853,
          102.5,
          90.20588235294117,
          98.66666666666667,
          94.38666666666667,
          93.41176470588235,
          90.79411764705883,
          86.66176470588235,
          97.41052631578947,
          95.49462365591398,
          96.23863636363636,
          93.21111111111111,
          92.84158415841584,
          100.75,
          105.01052631578948,
          100.95049504950495,
          105.42105263157895,
          100.1875,
          100.09574468085107,
          101.07964601769912,
          97.94680851063829,
          95.27272727272727,
          97.0421052631579,
          98.38,
          94.42222222222222,
          93.97196261682242,
          93.92134831460675,
          95.33707865168539,
          97.59550561797752,
          100.11235955056179,
          102.42201834862385,
          104.5,
          97.57954545454545,
          98.13333333333334,
          94.00961538461539,
          93.43333333333334,
          94.44444444444444,
          93.02222222222223,
          99.36458333333333,
          96.06666666666666,
          97.66666666666667,
          99.83333333333333,
          93.71578947368421,
          103.47422680412372,
          103.3932584269663,
          103.54166666666667,
          107.87368421052632,
          107.32038834951456,
          102.36666666666666,
          100.68181818181819,
          95.10227272727273,
          106.7159090909091,
          98.25742574257426,
          98.37078651685393,
          96.45555555555555,
          95.71559633027523,
          99.17045454545455,
          104.67045454545455,
          105.67,
          100.42696629213484,
          105.36036036036036,
          104.90654205607477,
          101.02083333333333,
          94.72222222222223,
          95.54166666666667,
          99.1,
          100.46067415730337,
          96.04255319148936,
          101.76190476190476,
          100.82978723404256,
          102.44444444444444,
          99.29032258064517,
          100.03921568627452,
          105.38947368421053,
          101.11111111111111,
          108.75675675675676,
          104.10280373831776,
          106.29807692307692,
          98.1,
          95.47777777777777,
          97.06315789473685,
          98.4494382022472,
          98.03225806451613,
          91.76404494382022,
          95.64044943820225,
          97.11235955056179,
          92.11111111111111,
          102.625,
          101.86021505376344,
          101.375,
          103.01063829787235,
          103.6067415730337,
          103.20430107526882,
          95.73333333333333,
          97.77,
          98.15151515151516,
          98.59550561797752,
          94.22222222222223,
          101.87878787878788,
          104.59139784946237,
          103.78181818181818,
          102.7752808988764,
          101.62222222222222,
          100.88297872340425,
          101.74157303370787,
          112.64601769911505,
          105.81052631578947,
          103.67021276595744,
          97.19101123595506,
          99.3173076923077,
          99.20454545454545,
          101.84269662921348,
          98.60919540229885,
          98.3103448275862,
          101.96629213483146,
          101.5625,
          97.26966292134831,
          100.98863636363636,
          105.05,
          106.25,
          102.78571428571429,
          109.3047619047619,
          100.4862385321101,
          97.68539325842697,
          97.55434782608695,
          104.38636363636364,
          101.75531914893617,
          102.08247422680412,
          102.92631578947369,
          107.34579439252336,
          110.85849056603773,
          104.42045454545455,
          102.56842105263158,
          97.6067415730337,
          111.05555555555556,
          116.22641509433963,
          114.56565656565657,
          106.81052631578947,
          104.68888888888888,
          103.28888888888889,
          102.07446808510639,
          105.19101123595506,
          105.44318181818181,
          104.64772727272727,
          100.88764044943821,
          105.3913043478261,
          101.96629213483146,
          107.4090909090909,
          107.28260869565217,
          102.74712643678161,
          105.125,
          106.3076923076923,
          105.44897959183673,
          100.3265306122449,
          100.64893617021276,
          108.82352941176471,
          100.8409090909091,
          103.85393258426966,
          102.93103448275862,
          103.61904761904762,
          108.36697247706422,
          111.06315789473685,
          102.73863636363636,
          102.3409090909091,
          109.75862068965517,
          112.88785046728972,
          110.83495145631068,
          108.75862068965517,
          107.4659090909091,
          103.13978494623656,
          105.82795698924731,
          109.07777777777778,
          106.90697674418605,
          104.06896551724138,
          103.10227272727273,
          105.07608695652173,
          109.5979381443299,
          103.95348837209302,
          105.93406593406593,
          98.25,
          102.6195652173913,
          107.0989010989011,
          111.0721649484536,
          104.19791666666667,
          99.60919540229885,
          106.69565217391305,
          103.74712643678161,
          107.83908045977012,
          113.29885057471265,
          110.98947368421052,
          104.5813953488372,
          115.29885057471265,
          104.7816091954023,
          109.10588235294118,
          110.41,
          116.69724770642202,
          113.35051546391753,
          115.05494505494505,
          111.81818181818181,
          106.18181818181819,
          117.5940594059406,
          112.26436781609195,
          111.83516483516483,
          104.79310344827586,
          106,
          107.08888888888889,
          114.44329896907216,
          107.09302325581395,
          113.80582524271844,
          113.72413793103448,
          110.85106382978724,
          113.72527472527473,
          112.78181818181818,
          111.22222222222223,
          103.71264367816092,
          114,
          106.52747252747253,
          110.94252873563218,
          110.625,
          112.47916666666667,
          106.17647058823529,
          116.3875,
          106.92857142857143,
          116.35955056179775,
          110.11111111111111,
          106.72857142857143,
          116.59782608695652,
          114.71428571428571,
          113,
          111.53921568627452,
          117.87912087912088,
          113.11764705882354,
          110.7560975609756,
          105.68571428571428,
          106.73563218390805,
          109.4047619047619,
          109.67857142857143,
          113.125,
          114.03448275862068,
          110.43037974683544,
          113.30379746835443,
          109.61176470588235,
          112.11111111111111,
          111.24418604651163,
          112.15,
          113.54430379746836,
          107.09859154929578,
          102.91428571428571,
          115.96969696969697,
          115.42168674698796,
          104.57142857142857,
          116.22077922077922,
          114.0506329113924,
          113.35714285714286,
          118.42045454545455,
          116.64556962025317,
          111.0632911392405,
          114.62886597938144,
          111.47674418604652,
          108.96296296296296,
          119.43564356435644,
          115.44303797468355,
          120.92307692307692,
          107.25301204819277,
          105.67948717948718,
          116.9620253164557,
          115.05681818181819,
          115.54368932038835,
          118.94117647058823,
          115.16455696202532,
          113.10126582278481,
          106,
          112.8051948051948,
          117.61797752808988,
          118.02325581395348,
          116.80232558139535,
          108.58227848101266,
          111.6375,
          107.85,
          105.94736842105263,
          102.14285714285714,
          101.35,
          110.47368421052632,
          107.61111111111111,
          104.84210526315789,
          115.94736842105263,
          101.84210526315789,
          107.33333333333333,
          107.72727272727273,
          110.38095238095238,
          108.2,
          106.55555555555556,
          109,
          109.47368421052632,
          99.42105263157895,
          105.85,
          109.36842105263158,
          111.83333333333333,
          106.05,
          111.21052631578948,
          108.6842105263158,
          100.27777777777777,
          107.8,
          110.5,
          108.95,
          107.5,
          99.66666666666667,
          108.45
         ],
         "yaxis": "y"
        }
       ],
       "layout": {
        "coloraxis": {
         "colorbar": {
          "title": {
           "text": "SEASON"
          }
         },
         "colorscale": [
          [
           0,
           "#0d0887"
          ],
          [
           0.1111111111111111,
           "#46039f"
          ],
          [
           0.2222222222222222,
           "#7201a8"
          ],
          [
           0.3333333333333333,
           "#9c179e"
          ],
          [
           0.4444444444444444,
           "#bd3786"
          ],
          [
           0.5555555555555556,
           "#d8576b"
          ],
          [
           0.6666666666666666,
           "#ed7953"
          ],
          [
           0.7777777777777778,
           "#fb9f3a"
          ],
          [
           0.8888888888888888,
           "#fdca26"
          ],
          [
           1,
           "#f0f921"
          ]
         ]
        },
        "legend": {
         "tracegroupgap": 0
        },
        "margin": {
         "t": 60
        },
        "template": {
         "data": {
          "bar": [
           {
            "error_x": {
             "color": "#2a3f5f"
            },
            "error_y": {
             "color": "#2a3f5f"
            },
            "marker": {
             "line": {
              "color": "#E5ECF6",
              "width": 0.5
             },
             "pattern": {
              "fillmode": "overlay",
              "size": 10,
              "solidity": 0.2
             }
            },
            "type": "bar"
           }
          ],
          "barpolar": [
           {
            "marker": {
             "line": {
              "color": "#E5ECF6",
              "width": 0.5
             },
             "pattern": {
              "fillmode": "overlay",
              "size": 10,
              "solidity": 0.2
             }
            },
            "type": "barpolar"
           }
          ],
          "carpet": [
           {
            "aaxis": {
             "endlinecolor": "#2a3f5f",
             "gridcolor": "white",
             "linecolor": "white",
             "minorgridcolor": "white",
             "startlinecolor": "#2a3f5f"
            },
            "baxis": {
             "endlinecolor": "#2a3f5f",
             "gridcolor": "white",
             "linecolor": "white",
             "minorgridcolor": "white",
             "startlinecolor": "#2a3f5f"
            },
            "type": "carpet"
           }
          ],
          "choropleth": [
           {
            "colorbar": {
             "outlinewidth": 0,
             "ticks": ""
            },
            "type": "choropleth"
           }
          ],
          "contour": [
           {
            "colorbar": {
             "outlinewidth": 0,
             "ticks": ""
            },
            "colorscale": [
             [
              0,
              "#0d0887"
             ],
             [
              0.1111111111111111,
              "#46039f"
             ],
             [
              0.2222222222222222,
              "#7201a8"
             ],
             [
              0.3333333333333333,
              "#9c179e"
             ],
             [
              0.4444444444444444,
              "#bd3786"
             ],
             [
              0.5555555555555556,
              "#d8576b"
             ],
             [
              0.6666666666666666,
              "#ed7953"
             ],
             [
              0.7777777777777778,
              "#fb9f3a"
             ],
             [
              0.8888888888888888,
              "#fdca26"
             ],
             [
              1,
              "#f0f921"
             ]
            ],
            "type": "contour"
           }
          ],
          "contourcarpet": [
           {
            "colorbar": {
             "outlinewidth": 0,
             "ticks": ""
            },
            "type": "contourcarpet"
           }
          ],
          "heatmap": [
           {
            "colorbar": {
             "outlinewidth": 0,
             "ticks": ""
            },
            "colorscale": [
             [
              0,
              "#0d0887"
             ],
             [
              0.1111111111111111,
              "#46039f"
             ],
             [
              0.2222222222222222,
              "#7201a8"
             ],
             [
              0.3333333333333333,
              "#9c179e"
             ],
             [
              0.4444444444444444,
              "#bd3786"
             ],
             [
              0.5555555555555556,
              "#d8576b"
             ],
             [
              0.6666666666666666,
              "#ed7953"
             ],
             [
              0.7777777777777778,
              "#fb9f3a"
             ],
             [
              0.8888888888888888,
              "#fdca26"
             ],
             [
              1,
              "#f0f921"
             ]
            ],
            "type": "heatmap"
           }
          ],
          "heatmapgl": [
           {
            "colorbar": {
             "outlinewidth": 0,
             "ticks": ""
            },
            "colorscale": [
             [
              0,
              "#0d0887"
             ],
             [
              0.1111111111111111,
              "#46039f"
             ],
             [
              0.2222222222222222,
              "#7201a8"
             ],
             [
              0.3333333333333333,
              "#9c179e"
             ],
             [
              0.4444444444444444,
              "#bd3786"
             ],
             [
              0.5555555555555556,
              "#d8576b"
             ],
             [
              0.6666666666666666,
              "#ed7953"
             ],
             [
              0.7777777777777778,
              "#fb9f3a"
             ],
             [
              0.8888888888888888,
              "#fdca26"
             ],
             [
              1,
              "#f0f921"
             ]
            ],
            "type": "heatmapgl"
           }
          ],
          "histogram": [
           {
            "marker": {
             "pattern": {
              "fillmode": "overlay",
              "size": 10,
              "solidity": 0.2
             }
            },
            "type": "histogram"
           }
          ],
          "histogram2d": [
           {
            "colorbar": {
             "outlinewidth": 0,
             "ticks": ""
            },
            "colorscale": [
             [
              0,
              "#0d0887"
             ],
             [
              0.1111111111111111,
              "#46039f"
             ],
             [
              0.2222222222222222,
              "#7201a8"
             ],
             [
              0.3333333333333333,
              "#9c179e"
             ],
             [
              0.4444444444444444,
              "#bd3786"
             ],
             [
              0.5555555555555556,
              "#d8576b"
             ],
             [
              0.6666666666666666,
              "#ed7953"
             ],
             [
              0.7777777777777778,
              "#fb9f3a"
             ],
             [
              0.8888888888888888,
              "#fdca26"
             ],
             [
              1,
              "#f0f921"
             ]
            ],
            "type": "histogram2d"
           }
          ],
          "histogram2dcontour": [
           {
            "colorbar": {
             "outlinewidth": 0,
             "ticks": ""
            },
            "colorscale": [
             [
              0,
              "#0d0887"
             ],
             [
              0.1111111111111111,
              "#46039f"
             ],
             [
              0.2222222222222222,
              "#7201a8"
             ],
             [
              0.3333333333333333,
              "#9c179e"
             ],
             [
              0.4444444444444444,
              "#bd3786"
             ],
             [
              0.5555555555555556,
              "#d8576b"
             ],
             [
              0.6666666666666666,
              "#ed7953"
             ],
             [
              0.7777777777777778,
              "#fb9f3a"
             ],
             [
              0.8888888888888888,
              "#fdca26"
             ],
             [
              1,
              "#f0f921"
             ]
            ],
            "type": "histogram2dcontour"
           }
          ],
          "mesh3d": [
           {
            "colorbar": {
             "outlinewidth": 0,
             "ticks": ""
            },
            "type": "mesh3d"
           }
          ],
          "parcoords": [
           {
            "line": {
             "colorbar": {
              "outlinewidth": 0,
              "ticks": ""
             }
            },
            "type": "parcoords"
           }
          ],
          "pie": [
           {
            "automargin": true,
            "type": "pie"
           }
          ],
          "scatter": [
           {
            "marker": {
             "colorbar": {
              "outlinewidth": 0,
              "ticks": ""
             }
            },
            "type": "scatter"
           }
          ],
          "scatter3d": [
           {
            "line": {
             "colorbar": {
              "outlinewidth": 0,
              "ticks": ""
             }
            },
            "marker": {
             "colorbar": {
              "outlinewidth": 0,
              "ticks": ""
             }
            },
            "type": "scatter3d"
           }
          ],
          "scattercarpet": [
           {
            "marker": {
             "colorbar": {
              "outlinewidth": 0,
              "ticks": ""
             }
            },
            "type": "scattercarpet"
           }
          ],
          "scattergeo": [
           {
            "marker": {
             "colorbar": {
              "outlinewidth": 0,
              "ticks": ""
             }
            },
            "type": "scattergeo"
           }
          ],
          "scattergl": [
           {
            "marker": {
             "colorbar": {
              "outlinewidth": 0,
              "ticks": ""
             }
            },
            "type": "scattergl"
           }
          ],
          "scattermapbox": [
           {
            "marker": {
             "colorbar": {
              "outlinewidth": 0,
              "ticks": ""
             }
            },
            "type": "scattermapbox"
           }
          ],
          "scatterpolar": [
           {
            "marker": {
             "colorbar": {
              "outlinewidth": 0,
              "ticks": ""
             }
            },
            "type": "scatterpolar"
           }
          ],
          "scatterpolargl": [
           {
            "marker": {
             "colorbar": {
              "outlinewidth": 0,
              "ticks": ""
             }
            },
            "type": "scatterpolargl"
           }
          ],
          "scatterternary": [
           {
            "marker": {
             "colorbar": {
              "outlinewidth": 0,
              "ticks": ""
             }
            },
            "type": "scatterternary"
           }
          ],
          "surface": [
           {
            "colorbar": {
             "outlinewidth": 0,
             "ticks": ""
            },
            "colorscale": [
             [
              0,
              "#0d0887"
             ],
             [
              0.1111111111111111,
              "#46039f"
             ],
             [
              0.2222222222222222,
              "#7201a8"
             ],
             [
              0.3333333333333333,
              "#9c179e"
             ],
             [
              0.4444444444444444,
              "#bd3786"
             ],
             [
              0.5555555555555556,
              "#d8576b"
             ],
             [
              0.6666666666666666,
              "#ed7953"
             ],
             [
              0.7777777777777778,
              "#fb9f3a"
             ],
             [
              0.8888888888888888,
              "#fdca26"
             ],
             [
              1,
              "#f0f921"
             ]
            ],
            "type": "surface"
           }
          ],
          "table": [
           {
            "cells": {
             "fill": {
              "color": "#EBF0F8"
             },
             "line": {
              "color": "white"
             }
            },
            "header": {
             "fill": {
              "color": "#C8D4E3"
             },
             "line": {
              "color": "white"
             }
            },
            "type": "table"
           }
          ]
         },
         "layout": {
          "annotationdefaults": {
           "arrowcolor": "#2a3f5f",
           "arrowhead": 0,
           "arrowwidth": 1
          },
          "autotypenumbers": "strict",
          "coloraxis": {
           "colorbar": {
            "outlinewidth": 0,
            "ticks": ""
           }
          },
          "colorscale": {
           "diverging": [
            [
             0,
             "#8e0152"
            ],
            [
             0.1,
             "#c51b7d"
            ],
            [
             0.2,
             "#de77ae"
            ],
            [
             0.3,
             "#f1b6da"
            ],
            [
             0.4,
             "#fde0ef"
            ],
            [
             0.5,
             "#f7f7f7"
            ],
            [
             0.6,
             "#e6f5d0"
            ],
            [
             0.7,
             "#b8e186"
            ],
            [
             0.8,
             "#7fbc41"
            ],
            [
             0.9,
             "#4d9221"
            ],
            [
             1,
             "#276419"
            ]
           ],
           "sequential": [
            [
             0,
             "#0d0887"
            ],
            [
             0.1111111111111111,
             "#46039f"
            ],
            [
             0.2222222222222222,
             "#7201a8"
            ],
            [
             0.3333333333333333,
             "#9c179e"
            ],
            [
             0.4444444444444444,
             "#bd3786"
            ],
            [
             0.5555555555555556,
             "#d8576b"
            ],
            [
             0.6666666666666666,
             "#ed7953"
            ],
            [
             0.7777777777777778,
             "#fb9f3a"
            ],
            [
             0.8888888888888888,
             "#fdca26"
            ],
            [
             1,
             "#f0f921"
            ]
           ],
           "sequentialminus": [
            [
             0,
             "#0d0887"
            ],
            [
             0.1111111111111111,
             "#46039f"
            ],
            [
             0.2222222222222222,
             "#7201a8"
            ],
            [
             0.3333333333333333,
             "#9c179e"
            ],
            [
             0.4444444444444444,
             "#bd3786"
            ],
            [
             0.5555555555555556,
             "#d8576b"
            ],
            [
             0.6666666666666666,
             "#ed7953"
            ],
            [
             0.7777777777777778,
             "#fb9f3a"
            ],
            [
             0.8888888888888888,
             "#fdca26"
            ],
            [
             1,
             "#f0f921"
            ]
           ]
          },
          "colorway": [
           "#636efa",
           "#EF553B",
           "#00cc96",
           "#ab63fa",
           "#FFA15A",
           "#19d3f3",
           "#FF6692",
           "#B6E880",
           "#FF97FF",
           "#FECB52"
          ],
          "font": {
           "color": "#2a3f5f"
          },
          "geo": {
           "bgcolor": "white",
           "lakecolor": "white",
           "landcolor": "#E5ECF6",
           "showlakes": true,
           "showland": true,
           "subunitcolor": "white"
          },
          "hoverlabel": {
           "align": "left"
          },
          "hovermode": "closest",
          "mapbox": {
           "style": "light"
          },
          "paper_bgcolor": "white",
          "plot_bgcolor": "#E5ECF6",
          "polar": {
           "angularaxis": {
            "gridcolor": "white",
            "linecolor": "white",
            "ticks": ""
           },
           "bgcolor": "#E5ECF6",
           "radialaxis": {
            "gridcolor": "white",
            "linecolor": "white",
            "ticks": ""
           }
          },
          "scene": {
           "xaxis": {
            "backgroundcolor": "#E5ECF6",
            "gridcolor": "white",
            "gridwidth": 2,
            "linecolor": "white",
            "showbackground": true,
            "ticks": "",
            "zerolinecolor": "white"
           },
           "yaxis": {
            "backgroundcolor": "#E5ECF6",
            "gridcolor": "white",
            "gridwidth": 2,
            "linecolor": "white",
            "showbackground": true,
            "ticks": "",
            "zerolinecolor": "white"
           },
           "zaxis": {
            "backgroundcolor": "#E5ECF6",
            "gridcolor": "white",
            "gridwidth": 2,
            "linecolor": "white",
            "showbackground": true,
            "ticks": "",
            "zerolinecolor": "white"
           }
          },
          "shapedefaults": {
           "line": {
            "color": "#2a3f5f"
           }
          },
          "ternary": {
           "aaxis": {
            "gridcolor": "white",
            "linecolor": "white",
            "ticks": ""
           },
           "baxis": {
            "gridcolor": "white",
            "linecolor": "white",
            "ticks": ""
           },
           "bgcolor": "#E5ECF6",
           "caxis": {
            "gridcolor": "white",
            "linecolor": "white",
            "ticks": ""
           }
          },
          "title": {
           "x": 0.05
          },
          "xaxis": {
           "automargin": true,
           "gridcolor": "white",
           "linecolor": "white",
           "ticks": "",
           "title": {
            "standoff": 15
           },
           "zerolinecolor": "white",
           "zerolinewidth": 2
          },
          "yaxis": {
           "automargin": true,
           "gridcolor": "white",
           "linecolor": "white",
           "ticks": "",
           "title": {
            "standoff": 15
           },
           "zerolinecolor": "white",
           "zerolinewidth": 2
          }
         }
        },
        "title": {
         "text": "3PTS vs Total PTS by Team"
        },
        "xaxis": {
         "anchor": "y",
         "domain": [
          0,
          1
         ],
         "range": [
          5,
          55
         ],
         "title": {
          "text": "<b>PTS from 3-Pointers</b>"
         }
        },
        "yaxis": {
         "anchor": "x",
         "domain": [
          0,
          1
         ],
         "range": [
          80,
          125
         ],
         "title": {
          "text": "<b>Total PTS</b>"
         }
        }
       }
      },
      "text/html": [
       "<div>                            <div id=\"f3eae14c-d03a-4852-8b41-e0b27e98269c\" class=\"plotly-graph-div\" style=\"height:525px; width:100%;\"></div>            <script type=\"text/javascript\">                require([\"plotly\"], function(Plotly) {                    window.PLOTLYENV=window.PLOTLYENV || {};                                    if (document.getElementById(\"f3eae14c-d03a-4852-8b41-e0b27e98269c\")) {                    Plotly.newPlot(                        \"f3eae14c-d03a-4852-8b41-e0b27e98269c\",                        [{\"hovertemplate\":\"<b>%{hovertext}</b><br><br>3PT_pts=%{x}<br>PTS=%{y}<br>SEASON=%{marker.color}<extra></extra>\",\"hovertext\":[\"ATL\",\"BOS\",\"CLE\",\"NOP\",\"CHI\",\"DAL\",\"DEN\",\"GSW\",\"HOU\",\"LAC\",\"LAL\",\"MIA\",\"MIL\",\"MIN\",\"BKN\",\"NYK\",\"ORL\",\"IND\",\"PHI\",\"PHX\",\"POR\",\"SAC\",\"SAS\",\"OKC\",\"TOR\",\"UTA\",\"MEM\",\"WAS\",\"DET\",\"ATL\",\"BOS\",\"CLE\",\"NOP\",\"CHI\",\"DAL\",\"DEN\",\"GSW\",\"HOU\",\"LAC\",\"LAL\",\"MIA\",\"MIL\",\"MIN\",\"BKN\",\"NYK\",\"ORL\",\"IND\",\"PHI\",\"PHX\",\"POR\",\"SAC\",\"SAS\",\"OKC\",\"TOR\",\"UTA\",\"MEM\",\"WAS\",\"DET\",\"CHA\",\"ATL\",\"BOS\",\"CLE\",\"NOP\",\"CHI\",\"DAL\",\"DEN\",\"GSW\",\"HOU\",\"LAC\",\"LAL\",\"MIA\",\"MIL\",\"MIN\",\"BKN\",\"NYK\",\"ORL\",\"IND\",\"PHI\",\"PHX\",\"POR\",\"SAC\",\"SAS\",\"OKC\",\"TOR\",\"UTA\",\"MEM\",\"WAS\",\"DET\",\"CHA\",\"ATL\",\"BOS\",\"CLE\",\"NOP\",\"CHI\",\"DAL\",\"DEN\",\"GSW\",\"HOU\",\"LAC\",\"LAL\",\"MIA\",\"MIL\",\"MIN\",\"BKN\",\"NYK\",\"ORL\",\"IND\",\"PHI\",\"PHX\",\"POR\",\"SAC\",\"SAS\",\"OKC\",\"TOR\",\"UTA\",\"MEM\",\"WAS\",\"DET\",\"CHA\",\"ATL\",\"BOS\",\"CLE\",\"NOP\",\"CHI\",\"DAL\",\"DEN\",\"GSW\",\"HOU\",\"LAC\",\"LAL\",\"MIA\",\"MIL\",\"MIN\",\"BKN\",\"NYK\",\"ORL\",\"IND\",\"PHI\",\"PHX\",\"POR\",\"SAC\",\"SAS\",\"OKC\",\"TOR\",\"UTA\",\"MEM\",\"WAS\",\"DET\",\"CHA\",\"ATL\",\"BOS\",\"CLE\",\"NOP\",\"CHI\",\"DAL\",\"DEN\",\"GSW\",\"HOU\",\"LAC\",\"LAL\",\"MIA\",\"MIL\",\"MIN\",\"BKN\",\"NYK\",\"ORL\",\"IND\",\"PHI\",\"PHX\",\"POR\",\"SAC\",\"SAS\",\"OKC\",\"TOR\",\"UTA\",\"MEM\",\"WAS\",\"DET\",\"CHA\",\"ATL\",\"BOS\",\"CLE\",\"NOP\",\"CHI\",\"DAL\",\"DEN\",\"GSW\",\"HOU\",\"LAC\",\"LAL\",\"MIA\",\"MIL\",\"MIN\",\"BKN\",\"NYK\",\"ORL\",\"IND\",\"PHI\",\"PHX\",\"POR\",\"SAC\",\"SAS\",\"OKC\",\"TOR\",\"UTA\",\"MEM\",\"WAS\",\"DET\",\"CHA\",\"ATL\",\"BOS\",\"CLE\",\"NOP\",\"CHI\",\"DAL\",\"DEN\",\"GSW\",\"HOU\",\"LAC\",\"LAL\",\"MIA\",\"MIL\",\"MIN\",\"BKN\",\"NYK\",\"ORL\",\"IND\",\"PHI\",\"PHX\",\"POR\",\"SAC\",\"SAS\",\"OKC\",\"TOR\",\"UTA\",\"MEM\",\"WAS\",\"DET\",\"CHA\",\"ATL\",\"BOS\",\"CLE\",\"NOP\",\"CHI\",\"DAL\",\"DEN\",\"GSW\",\"HOU\",\"LAC\",\"LAL\",\"MIA\",\"MIL\",\"MIN\",\"BKN\",\"NYK\",\"ORL\",\"IND\",\"PHI\",\"PHX\",\"POR\",\"SAC\",\"SAS\",\"OKC\",\"TOR\",\"UTA\",\"MEM\",\"WAS\",\"DET\",\"CHA\",\"ATL\",\"BOS\",\"CLE\",\"NOP\",\"CHI\",\"DAL\",\"DEN\",\"GSW\",\"HOU\",\"LAC\",\"LAL\",\"MIA\",\"MIL\",\"MIN\",\"BKN\",\"NYK\",\"ORL\",\"IND\",\"PHI\",\"PHX\",\"POR\",\"SAC\",\"SAS\",\"OKC\",\"TOR\",\"UTA\",\"MEM\",\"WAS\",\"DET\",\"CHA\",\"ATL\",\"BOS\",\"CLE\",\"NOP\",\"CHI\",\"DAL\",\"DEN\",\"GSW\",\"HOU\",\"LAC\",\"LAL\",\"MIA\",\"MIL\",\"MIN\",\"BKN\",\"NYK\",\"ORL\",\"IND\",\"PHI\",\"PHX\",\"POR\",\"SAC\",\"SAS\",\"OKC\",\"TOR\",\"UTA\",\"MEM\",\"WAS\",\"DET\",\"CHA\",\"ATL\",\"BOS\",\"CLE\",\"NOP\",\"CHI\",\"DAL\",\"DEN\",\"GSW\",\"HOU\",\"LAC\",\"LAL\",\"MIA\",\"MIL\",\"MIN\",\"BKN\",\"NYK\",\"ORL\",\"IND\",\"PHI\",\"PHX\",\"POR\",\"SAC\",\"SAS\",\"OKC\",\"TOR\",\"UTA\",\"MEM\",\"WAS\",\"DET\",\"CHA\",\"ATL\",\"BOS\",\"CLE\",\"NOP\",\"CHI\",\"DAL\",\"DEN\",\"GSW\",\"HOU\",\"LAC\",\"LAL\",\"MIA\",\"MIL\",\"MIN\",\"BKN\",\"NYK\",\"ORL\",\"IND\",\"PHI\",\"PHX\",\"POR\",\"SAC\",\"SAS\",\"OKC\",\"TOR\",\"UTA\",\"MEM\",\"WAS\",\"DET\",\"CHA\",\"ATL\",\"BOS\",\"CLE\",\"NOP\",\"CHI\",\"DAL\",\"DEN\",\"GSW\",\"HOU\",\"LAC\",\"LAL\",\"MIA\",\"MIL\",\"MIN\",\"BKN\",\"NYK\",\"ORL\",\"IND\",\"PHI\",\"PHX\",\"POR\",\"SAC\",\"SAS\",\"OKC\",\"TOR\",\"UTA\",\"MEM\",\"WAS\",\"DET\",\"CHA\",\"ATL\",\"BOS\",\"CLE\",\"NOP\",\"CHI\",\"DAL\",\"DEN\",\"GSW\",\"HOU\",\"LAC\",\"LAL\",\"MIA\",\"MIL\",\"MIN\",\"BKN\",\"NYK\",\"ORL\",\"IND\",\"PHI\",\"PHX\",\"POR\",\"SAC\",\"SAS\",\"OKC\",\"TOR\",\"UTA\",\"MEM\",\"WAS\",\"DET\",\"CHA\",\"ATL\",\"BOS\",\"CLE\",\"NOP\",\"CHI\",\"DAL\",\"DEN\",\"GSW\",\"HOU\",\"LAC\",\"LAL\",\"MIA\",\"MIL\",\"MIN\",\"BKN\",\"NYK\",\"ORL\",\"IND\",\"PHI\",\"PHX\",\"POR\",\"SAC\",\"SAS\",\"OKC\",\"TOR\",\"UTA\",\"MEM\",\"WAS\",\"DET\",\"CHA\",\"ATL\",\"BOS\",\"CLE\",\"NOP\",\"CHI\",\"DAL\",\"DEN\",\"GSW\",\"HOU\",\"LAC\",\"LAL\",\"MIA\",\"MIL\",\"MIN\",\"BKN\",\"NYK\",\"ORL\",\"IND\",\"PHI\",\"PHX\",\"POR\",\"SAC\",\"SAS\",\"OKC\",\"TOR\",\"UTA\",\"MEM\",\"WAS\",\"DET\",\"CHA\",\"ATL\",\"BOS\",\"CLE\",\"NOP\",\"CHI\",\"DAL\",\"DEN\",\"GSW\",\"HOU\",\"LAC\",\"LAL\",\"MIA\",\"MIL\",\"MIN\",\"BKN\",\"NYK\",\"ORL\",\"IND\",\"PHI\",\"PHX\",\"POR\",\"SAC\",\"SAS\",\"OKC\",\"TOR\",\"UTA\",\"MEM\",\"WAS\",\"DET\",\"CHA\",\"ATL\",\"BOS\",\"CLE\",\"NOP\",\"CHI\",\"DAL\",\"DEN\",\"GSW\",\"HOU\",\"LAC\",\"LAL\",\"MIA\",\"MIL\",\"MIN\",\"BKN\",\"NYK\",\"ORL\",\"IND\",\"PHI\",\"PHX\",\"POR\",\"SAC\",\"SAS\",\"OKC\",\"TOR\",\"UTA\",\"MEM\",\"WAS\",\"DET\",\"CHA\"],\"legendgroup\":\"\",\"marker\":{\"color\":[2003,2003,2003,2003,2003,2003,2003,2003,2003,2003,2003,2003,2003,2003,2003,2003,2003,2003,2003,2003,2003,2003,2003,2003,2003,2003,2003,2003,2003,2004,2004,2004,2004,2004,2004,2004,2004,2004,2004,2004,2004,2004,2004,2004,2004,2004,2004,2004,2004,2004,2004,2004,2004,2004,2004,2004,2004,2004,2004,2005,2005,2005,2005,2005,2005,2005,2005,2005,2005,2005,2005,2005,2005,2005,2005,2005,2005,2005,2005,2005,2005,2005,2005,2005,2005,2005,2005,2005,2005,2006,2006,2006,2006,2006,2006,2006,2006,2006,2006,2006,2006,2006,2006,2006,2006,2006,2006,2006,2006,2006,2006,2006,2006,2006,2006,2006,2006,2006,2006,2007,2007,2007,2007,2007,2007,2007,2007,2007,2007,2007,2007,2007,2007,2007,2007,2007,2007,2007,2007,2007,2007,2007,2007,2007,2007,2007,2007,2007,2007,2008,2008,2008,2008,2008,2008,2008,2008,2008,2008,2008,2008,2008,2008,2008,2008,2008,2008,2008,2008,2008,2008,2008,2008,2008,2008,2008,2008,2008,2008,2009,2009,2009,2009,2009,2009,2009,2009,2009,2009,2009,2009,2009,2009,2009,2009,2009,2009,2009,2009,2009,2009,2009,2009,2009,2009,2009,2009,2009,2009,2010,2010,2010,2010,2010,2010,2010,2010,2010,2010,2010,2010,2010,2010,2010,2010,2010,2010,2010,2010,2010,2010,2010,2010,2010,2010,2010,2010,2010,2010,2011,2011,2011,2011,2011,2011,2011,2011,2011,2011,2011,2011,2011,2011,2011,2011,2011,2011,2011,2011,2011,2011,2011,2011,2011,2011,2011,2011,2011,2011,2012,2012,2012,2012,2012,2012,2012,2012,2012,2012,2012,2012,2012,2012,2012,2012,2012,2012,2012,2012,2012,2012,2012,2012,2012,2012,2012,2012,2012,2012,2013,2013,2013,2013,2013,2013,2013,2013,2013,2013,2013,2013,2013,2013,2013,2013,2013,2013,2013,2013,2013,2013,2013,2013,2013,2013,2013,2013,2013,2013,2014,2014,2014,2014,2014,2014,2014,2014,2014,2014,2014,2014,2014,2014,2014,2014,2014,2014,2014,2014,2014,2014,2014,2014,2014,2014,2014,2014,2014,2014,2015,2015,2015,2015,2015,2015,2015,2015,2015,2015,2015,2015,2015,2015,2015,2015,2015,2015,2015,2015,2015,2015,2015,2015,2015,2015,2015,2015,2015,2015,2016,2016,2016,2016,2016,2016,2016,2016,2016,2016,2016,2016,2016,2016,2016,2016,2016,2016,2016,2016,2016,2016,2016,2016,2016,2016,2016,2016,2016,2016,2017,2017,2017,2017,2017,2017,2017,2017,2017,2017,2017,2017,2017,2017,2017,2017,2017,2017,2017,2017,2017,2017,2017,2017,2017,2017,2017,2017,2017,2017,2018,2018,2018,2018,2018,2018,2018,2018,2018,2018,2018,2018,2018,2018,2018,2018,2018,2018,2018,2018,2018,2018,2018,2018,2018,2018,2018,2018,2018,2018,2019,2019,2019,2019,2019,2019,2019,2019,2019,2019,2019,2019,2019,2019,2019,2019,2019,2019,2019,2019,2019,2019,2019,2019,2019,2019,2019,2019,2019,2019,2020,2020,2020,2020,2020,2020,2020,2020,2020,2020,2020,2020,2020,2020,2020,2020,2020,2020,2020,2020,2020,2020,2020,2020,2020,2020,2020,2020,2020,2020,2021,2021,2021,2021,2021,2021,2021,2021,2021,2021,2021,2021,2021,2021,2021,2021,2021,2021,2021,2021,2021,2021,2021,2021,2021,2021,2021,2021,2021,2021],\"coloraxis\":\"coloraxis\",\"symbol\":\"circle\"},\"mode\":\"markers\",\"name\":\"\",\"orientation\":\"v\",\"showlegend\":false,\"x\":[15.253012048192772,19.89655172413793,9.071428571428571,19.3,15.578313253012048,18.03370786516854,12.172413793103448,15.695121951219512,18.404494382022474,12.036144578313253,13.673076923076923,16.71875,14.556818181818183,12.93,13.72340425531915,14.689655172413792,15.535714285714286,16.575757575757574,12.253012048192772,15.072289156626507,13.879518072289155,21.315789473684212,15.554347826086957,26.27710843373494,16.734939759036145,9.144578313253012,16.06896551724138,15.857142857142858,12.22429906542056,11.035714285714285,15.652173913043478,10.75,15.070588235294117,19.252747252747255,17.181818181818183,11.576086956521738,22.341176470588238,20.01098901098901,8.546511627906977,23.493975903614455,17.37,11.642857142857142,14.372093023255813,15.666666666666668,15.97674418604651,11.892857142857142,19.44,18.46666666666667,28.349999999999998,15.174418604651162,18.75824175824176,19.0,23.125,23.72093023255814,9.104651162790699,19.227272727272727,18.25263157894737,13.378378378378379,11.647058823529411,15.168539325842698,16.5,17.41747572815534,11.595505617977528,20.25,14.814159292035399,12.694736842105263,22.752808988764045,16.955056179775283,11.287128712871286,19.20618556701031,18.05357142857143,18.157894736842103,11.966666666666667,16.455445544554458,11.224719101123595,10.909090909090908,19.21875,13.651685393258425,29.891891891891895,13.099999999999998,17.5625,18.75728155339806,21.741573033707866,21.707865168539325,11.157303370786517,21.096774193548388,17.84375,20.055555555555557,15.333333333333332,12.833333333333332,16.900000000000002,17.36697247706422,16.348314606741575,17.009999999999998,19.03125,18.319148936170215,25.90909090909091,25.875,11.590909090909092,21.821052631578947,18.870967741935484,19.333333333333336,13.7,22.176470588235297,17.079545454545453,12.414893617021276,16.799999999999997,10.586206896551724,27.60606060606061,15.433333333333334,19.233333333333334,21.869158878504674,18.666666666666668,19.54736842105263,12.841121495327101,17.466666666666665,20.074468085106382,16.18867924528302,16.200000000000003,13.484536082474227,20.504347826086956,19.66336633663366,21.92079207920792,17.49438202247191,17.842105263157897,20.322580645161292,27.586206896551722,21.032258064516128,12.91011235955056,23.449541284403672,17.831460674157302,16.280898876404493,16.09090909090909,18.170454545454547,17.75581395348837,28.74489795918367,27.337078651685395,10.72340425531915,25.46808510638298,19.636363636363637,18.60674157303371,21.865384615384613,11.426966292134832,21.366666666666667,14.881188118811881,22.89655172413793,20.138297872340424,16.962616822429908,18.97752808988764,21.207920792079207,19.64423076923077,22.817307692307693,20.393617021276597,18.216494845360824,20.85,20.142857142857142,20.20689655172414,22.441176470588236,19.44943820224719,19.74107142857143,20.90625,18.166666666666664,19.933333333333334,23.157303370786515,30.168539325842698,28.526785714285715,23.4,13.13684210526316,19.866666666666667,21.473684210526315,20.700000000000003,22.627659574468087,11.662921348314608,17.662921348314608,14.202127659574469,14.633333333333335,14.662921348314608,13.595744680851066,17.4,18.15,18.13157894736842,21.6,20.933333333333334,12.821052631578947,19.989473684210527,19.42105263157895,22.799999999999997,23.4,17.730337078651687,19.61946902654867,18.382978723404257,23.38144329896907,14.8,13.752808988764045,27.238636363636367,30.75,24.40449438202247,17.066666666666666,26.542857142857144,17.59375,17.730337078651687,19.653061224489797,15.157894736842104,18.233333333333334,16.151515151515152,12.633333333333333,15.7,13.666666666666666,16.53191489361702,17.673267326732674,15.757575757575758,18.235955056179776,16.3125,18.67924528301887,23.43243243243243,24.189473684210526,24.2,24.266666666666666,19.166666666666668,18.6969696969697,19.486238532110093,17.733333333333334,21.833333333333332,16.853932584269664,27.612903225806456,27.72631578947368,21.414893617021278,16.27659574468085,24.76666666666667,19.073684210526316,15.741573033707866,24.0,18.17142857142857,12.933333333333334,15.633333333333333,11.352941176470587,14.797752808988765,17.5,14.266666666666666,21.486486486486488,15.71590909090909,19.897058823529413,11.735294117647058,18.283783783783782,22.625,19.36,23.426470588235293,21.441176470588236,22.89873417721519,16.65,17.703296703296704,19.764705882352942,21.794117647058822,22.544117647058822,22.89041095890411,30.041095890410958,17.582278481012658,15.407407407407407,20.161764705882355,21.661764705882355,19.147058823529413,25.390243902439025,21.272727272727273,16.455882352941178,12.0,12.36,15.397058823529413,14.602941176470587,11.955882352941178,25.263157894736842,18.64516129032258,20.113636363636363,19.6,15.861386138613863,21.988636363636363,19.200000000000003,24.207920792079207,31.70526315789474,21.71875,25.02127659574468,25.69911504424779,21.829787234042552,16.397727272727273,22.57894736842105,31.32,18.333333333333332,19.710280373831775,19.382022471910112,17.865168539325843,24.70786516853933,22.1123595505618,23.944954128440365,22.41,21.238636363636363,18.400000000000002,14.307692307692307,20.2,18.46666666666667,17.433333333333334,27.84375,20.96666666666667,21.133333333333333,18.2,18.505263157894735,25.824742268041234,24.674157303370784,28.0,28.515789473684208,25.456310679611654,28.06666666666667,25.063636363636366,20.045454545454547,22.397727272727273,25.51485148514851,27.573033707865168,20.5,20.53211009174312,21.170454545454547,27.579545454545453,27.119999999999997,18.43820224719101,25.702702702702705,23.55140186915888,25.1875,19.833333333333332,14.625,22.86,18.808988764044944,18.79787234042553,29.400000000000002,24.382978723404257,30.138888888888886,21.70967741935484,24.088235294117645,26.810526315789474,23.5,32.486486486486484,32.915887850467286,29.39423076923077,18.566666666666666,20.766666666666666,19.86315789473684,15.033707865168541,20.322580645161292,20.49438202247191,19.853932584269664,22.348314606741575,24.599999999999998,25.636363636363633,29.032258064516128,16.875,25.02127659574468,22.8876404494382,26.032258064516128,22.4,15.299999999999999,18.87878787878788,25.685393258426966,18.366666666666667,29.6969696969697,26.225806451612904,32.945454545454545,25.8876404494382,24.43333333333333,28.117021276595743,23.93258426966292,38.309734513274336,31.610526315789475,28.117021276595743,23.191011235955056,18.663461538461537,16.363636363636363,17.08988764044944,19.655172413793103,22.379310344827587,23.662921348314608,24.09375,27.808988764044948,27.136363636363633,32.099999999999994,24.03409090909091,21.214285714285715,24.942857142857143,24.577981651376145,24.910112359550563,18.163043478260867,25.772727272727273,27.223404255319153,30.525773195876287,26.178947368421053,36.02803738317757,39.056603773584904,27.920454545454547,22.705263157894738,31.617977528089888,30.866666666666667,36.65094339622641,42.27272727272727,29.842105263157897,27.133333333333333,29.666666666666668,25.914893617021278,22.044943820224717,32.35227272727273,26.011363636363633,25.719101123595504,26.25,29.662921348314605,22.227272727272727,31.173913043478265,26.931034482758623,27.08653846153846,25.450549450549453,25.89795918367347,28.316326530612244,28.148936170212764,27.0,22.875,29.191011235955052,33.37931034482759,33.94285714285714,34.51376146788991,30.31578947368421,33.61363636363637,35.86363636363637,34.51724137931035,33.86915887850468,45.407766990291265,28.379310344827587,29.386363636363633,32.58064516129032,26.741935483870968,24.266666666666666,38.16279069767442,24.724137931034484,30.647727272727273,27.195652173913043,32.75257731958763,28.116279069767444,31.120879120879124,26.829545454545453,25.728260869565215,32.30769230769231,35.072164948453604,32.28125,27.310344827586206,29.31521739130435,32.03448275862069,30.068965517241377,38.96551724137931,36.88421052631578,30.697674418604652,31.03448275862069,27.17241379310345,37.48235294117647,32.43,38.669724770642205,48.49484536082474,30.164835164835164,30.34090909090909,33.88636363636363,40.48514851485149,29.89655172413793,37.64835164835165,29.82758620689655,33.65934065934066,28.46666666666667,32.19587628865979,28.813953488372093,33.66990291262136,33.62068965517241,28.659574468085104,33.72527472527472,36.763636363636365,36.166666666666664,29.482758620689655,33.83720930232558,36.395604395604394,35.96551724137931,35.833333333333336,37.375,33.39705882352941,41.25,36.72857142857143,44.764044943820224,33.36363636363636,31.799999999999997,48.163043478260875,36.98901098901099,33.445544554455445,39.76470588235294,41.34065934065934,39.794117647058826,39.548780487804876,28.971428571428568,33.51724137931035,31.142857142857146,33.964285714285715,34.162499999999994,37.862068965517246,38.20253164556962,31.55696202531645,32.78823529411765,41.833333333333336,40.395348837209305,32.8875,36.34177215189874,35.61971830985915,35.957142857142856,38.60606060606061,40.87951807228916,30.584415584415584,32.18181818181818,38.848101265822784,42.17857142857143,40.19318181818182,44.69620253164557,42.22784810126582,43.05154639175258,34.116279069767444,39.33333333333333,41.851485148514854,40.29113924050633,43.51648351648352,34.95180722891566,33.0,37.59493670886076,33.61363636363637,38.8252427184466,48.035294117647055,37.063291139240505,30.531645569620252,36.54545454545455,44.84415584415584,50.898876404494374,35.72093023255814,30.76744186046512,35.46835443037975,41.5125,35.7,37.10526315789474,33.14285714285714,34.2,32.05263157894737,39.33333333333333,36.473684210526315,47.684210526315795,32.8421052631579,38.5,34.90909090909091,37.42857142857143,43.2,40.5,40.650000000000006,42.94736842105263,37.89473684210526,36.0,37.421052631578945,34.0,38.849999999999994,39.315789473684205,33.0,37.16666666666667,35.55,42.33333333333333,37.5,32.66666666666667,31.5,36.75],\"xaxis\":\"x\",\"y\":[92.66265060240964,94.6896551724138,92.88095238095238,91.06666666666666,89.26506024096386,104.58426966292134,96.59770114942529,93.28048780487805,89.2247191011236,94.57831325301204,96.0673076923077,89.38541666666667,97.2840909090909,94.01,89.96808510638297,91.51724137931035,93.8452380952381,90.1010101010101,87.63855421686748,94.0,90.86746987951807,101.85263157894737,91.23913043478261,96.73493975903614,85.32530120481928,88.65060240963855,96.19540229885058,91.73809523809524,89.62616822429906,92.36904761904762,99.70652173913044,96.45238095238095,88.34117647058824,94.5934065934066,102.57575757575758,98.93478260869566,98.2235294117647,94.93406593406593,95.48837209302326,98.7710843373494,100.77,96.80952380952381,96.70930232558139,91.34444444444445,96.93023255813954,99.41666666666667,91.7,98.24444444444444,110.7,92.46511627906976,103.14285714285714,96.37037037037037,98.54166666666667,99.45348837209302,92.65116279069767,93.70454545454545,100.2,92.55855855855856,93.43529411764706,97.14606741573034,97.72222222222223,96.66990291262135,92.9438202247191,97.47916666666667,98.76991150442478,99.72631578947369,98.3932584269663,89.9438202247191,98.11881188118812,99.50515463917526,98.27678571428571,97.62105263157895,91.47777777777777,93.93069306930693,95.31460674157303,94.68181818181819,93.6875,99.0561797752809,106.8018018018018,88.42222222222222,98.63541666666667,96.09708737864078,101.88764044943821,100.7752808988764,92.0,91.52688172043011,100.67708333333333,95.57407407407408,96.53333333333333,94.0,96.4888888888889,94.85321100917432,95.42696629213484,97.9,98.20833333333333,105.17021276595744,107.05050505050505,95.85416666666667,95.63636363636364,102.62105263157895,93.75268817204301,99.41111111111111,96.25555555555556,97.11764705882354,98.25,94.86170212765957,95.64444444444445,95.3103448275862,108.8989898989899,94.4,100.95555555555555,97.39252336448598,99.26666666666667,99.25263157894737,100.99065420560747,100.41111111111111,103.01063829787235,95.26415094339623,96.96666666666667,97.72164948453609,97.76521739130435,94.73267326732673,100.20792079207921,97.0,99.81052631578947,110.36559139784946,111.04597701149426,96.44086021505376,94.50561797752809,107.22018348623853,90.92134831460675,96.4494382022472,95.39772727272727,94.79545454545455,96.51162790697674,103.5204081632653,104.13483146067416,95.51063829787235,109.6063829787234,95.81818181818181,102.1685393258427,95.1923076923077,97.85393258426966,99.95555555555555,104.60396039603961,100.94252873563218,97.59574468085107,96.54205607476635,96.95505617977528,96.52475247524752,100.625,99.03846153846153,95.5,102.19587628865979,101.76,104.84761904761905,108.54022988505747,97.44117647058823,94.79775280898876,105.30357142857143,97.17708333333333,98.4,97.62222222222222,98.07865168539325,105.33707865168539,100.32142857142857,104.5,97.0,108.11111111111111,98.43157894736842,100.2,96.20212765957447,96.68539325842697,98.64044943820225,102.8936170212766,93.6,94.9438202247191,92.93617021276596,93.17777777777778,100.3,98.0,101.31,99.62222222222222,97.27368421052631,101.4,106.70526315789473,108.76666666666667,102.36666666666666,96.24719101123596,101.76991150442478,95.61702127659575,96.97938144329896,98.4,92.65168539325843,101.70454545454545,102.45192307692308,101.25842696629213,97.74444444444444,109.65714285714286,97.73958333333333,99.78651685393258,100.8061224489796,100.38947368421053,103.3,104.34343434343434,102.04444444444445,96.28888888888889,94.42222222222222,94.80851063829788,93.4059405940594,96.58585858585859,95.29213483146067,94.04166666666667,97.48113207547169,99.25225225225225,107.10526315789474,103.21111111111111,105.18888888888888,98.5,100.38383838383838,99.62385321100918,92.21111111111111,101.87777777777778,94.11235955056179,105.21505376344086,98.8,98.91489361702128,98.23404255319149,104.18888888888888,96.01052631578948,99.01123595505618,102.53191489361703,104.32380952380953,99.92222222222222,99.34444444444445,99.8529411764706,97.12359550561797,96.97777777777777,92.9888888888889,95.0945945945946,91.01136363636364,92.94117647058823,89.82352941176471,95.3108108108108,95.41666666666667,103.81333333333333,97.80882352941177,98.08823529411765,96.9620253164557,96.85,98.42857142857143,98.75,98.02941176470588,92.77941176470588,96.6027397260274,93.46575342465754,96.45569620253164,92.5679012345679,98.33823529411765,97.26470588235294,98.66176470588235,103.08536585365853,102.5,90.20588235294117,98.66666666666667,94.38666666666667,93.41176470588235,90.79411764705883,86.66176470588235,97.41052631578947,95.49462365591398,96.23863636363636,93.21111111111111,92.84158415841584,100.75,105.01052631578948,100.95049504950495,105.42105263157895,100.1875,100.09574468085107,101.07964601769912,97.94680851063829,95.27272727272727,97.0421052631579,98.38,94.42222222222222,93.97196261682242,93.92134831460675,95.33707865168539,97.59550561797752,100.11235955056179,102.42201834862385,104.5,97.57954545454545,98.13333333333334,94.00961538461539,93.43333333333334,94.44444444444444,93.02222222222223,99.36458333333333,96.06666666666666,97.66666666666667,99.83333333333333,93.71578947368421,103.47422680412372,103.3932584269663,103.54166666666667,107.87368421052632,107.32038834951456,102.36666666666666,100.68181818181819,95.10227272727273,106.7159090909091,98.25742574257426,98.37078651685393,96.45555555555555,95.71559633027523,99.17045454545455,104.67045454545455,105.67,100.42696629213484,105.36036036036036,104.90654205607477,101.02083333333333,94.72222222222223,95.54166666666667,99.1,100.46067415730337,96.04255319148936,101.76190476190476,100.82978723404256,102.44444444444444,99.29032258064517,100.03921568627452,105.38947368421053,101.11111111111111,108.75675675675676,104.10280373831776,106.29807692307692,98.1,95.47777777777777,97.06315789473685,98.4494382022472,98.03225806451613,91.76404494382022,95.64044943820225,97.11235955056179,92.11111111111111,102.625,101.86021505376344,101.375,103.01063829787235,103.6067415730337,103.20430107526882,95.73333333333333,97.77,98.15151515151516,98.59550561797752,94.22222222222223,101.87878787878788,104.59139784946237,103.78181818181818,102.7752808988764,101.62222222222222,100.88297872340425,101.74157303370787,112.64601769911505,105.81052631578947,103.67021276595744,97.19101123595506,99.3173076923077,99.20454545454545,101.84269662921348,98.60919540229885,98.3103448275862,101.96629213483146,101.5625,97.26966292134831,100.98863636363636,105.05,106.25,102.78571428571429,109.3047619047619,100.4862385321101,97.68539325842697,97.55434782608695,104.38636363636364,101.75531914893617,102.08247422680412,102.92631578947369,107.34579439252336,110.85849056603773,104.42045454545455,102.56842105263158,97.6067415730337,111.05555555555556,116.22641509433963,114.56565656565657,106.81052631578947,104.68888888888888,103.28888888888889,102.07446808510639,105.19101123595506,105.44318181818181,104.64772727272727,100.88764044943821,105.3913043478261,101.96629213483146,107.4090909090909,107.28260869565217,102.74712643678161,105.125,106.3076923076923,105.44897959183673,100.3265306122449,100.64893617021276,108.82352941176471,100.8409090909091,103.85393258426966,102.93103448275862,103.61904761904762,108.36697247706422,111.06315789473685,102.73863636363636,102.3409090909091,109.75862068965517,112.88785046728972,110.83495145631068,108.75862068965517,107.4659090909091,103.13978494623656,105.82795698924731,109.07777777777778,106.90697674418605,104.06896551724138,103.10227272727273,105.07608695652173,109.5979381443299,103.95348837209302,105.93406593406593,98.25,102.6195652173913,107.0989010989011,111.0721649484536,104.19791666666667,99.60919540229885,106.69565217391305,103.74712643678161,107.83908045977012,113.29885057471265,110.98947368421052,104.5813953488372,115.29885057471265,104.7816091954023,109.10588235294118,110.41,116.69724770642202,113.35051546391753,115.05494505494505,111.81818181818181,106.18181818181819,117.5940594059406,112.26436781609195,111.83516483516483,104.79310344827586,106.0,107.08888888888889,114.44329896907216,107.09302325581395,113.80582524271844,113.72413793103448,110.85106382978724,113.72527472527473,112.78181818181818,111.22222222222223,103.71264367816092,114.0,106.52747252747253,110.94252873563218,110.625,112.47916666666667,106.17647058823529,116.3875,106.92857142857143,116.35955056179775,110.11111111111111,106.72857142857143,116.59782608695652,114.71428571428571,113.0,111.53921568627452,117.87912087912088,113.11764705882354,110.7560975609756,105.68571428571428,106.73563218390805,109.4047619047619,109.67857142857143,113.125,114.03448275862068,110.43037974683544,113.30379746835443,109.61176470588235,112.11111111111111,111.24418604651163,112.15,113.54430379746836,107.09859154929578,102.91428571428571,115.96969696969697,115.42168674698796,104.57142857142857,116.22077922077922,114.0506329113924,113.35714285714286,118.42045454545455,116.64556962025317,111.0632911392405,114.62886597938144,111.47674418604652,108.96296296296296,119.43564356435644,115.44303797468355,120.92307692307692,107.25301204819277,105.67948717948718,116.9620253164557,115.05681818181819,115.54368932038835,118.94117647058823,115.16455696202532,113.10126582278481,106.0,112.8051948051948,117.61797752808988,118.02325581395348,116.80232558139535,108.58227848101266,111.6375,107.85,105.94736842105263,102.14285714285714,101.35,110.47368421052632,107.61111111111111,104.84210526315789,115.94736842105263,101.84210526315789,107.33333333333333,107.72727272727273,110.38095238095238,108.2,106.55555555555556,109.0,109.47368421052632,99.42105263157895,105.85,109.36842105263158,111.83333333333333,106.05,111.21052631578948,108.6842105263158,100.27777777777777,107.8,110.5,108.95,107.5,99.66666666666667,108.45],\"yaxis\":\"y\",\"type\":\"scatter\"}],                        {\"template\":{\"data\":{\"bar\":[{\"error_x\":{\"color\":\"#2a3f5f\"},\"error_y\":{\"color\":\"#2a3f5f\"},\"marker\":{\"line\":{\"color\":\"#E5ECF6\",\"width\":0.5},\"pattern\":{\"fillmode\":\"overlay\",\"size\":10,\"solidity\":0.2}},\"type\":\"bar\"}],\"barpolar\":[{\"marker\":{\"line\":{\"color\":\"#E5ECF6\",\"width\":0.5},\"pattern\":{\"fillmode\":\"overlay\",\"size\":10,\"solidity\":0.2}},\"type\":\"barpolar\"}],\"carpet\":[{\"aaxis\":{\"endlinecolor\":\"#2a3f5f\",\"gridcolor\":\"white\",\"linecolor\":\"white\",\"minorgridcolor\":\"white\",\"startlinecolor\":\"#2a3f5f\"},\"baxis\":{\"endlinecolor\":\"#2a3f5f\",\"gridcolor\":\"white\",\"linecolor\":\"white\",\"minorgridcolor\":\"white\",\"startlinecolor\":\"#2a3f5f\"},\"type\":\"carpet\"}],\"choropleth\":[{\"colorbar\":{\"outlinewidth\":0,\"ticks\":\"\"},\"type\":\"choropleth\"}],\"contour\":[{\"colorbar\":{\"outlinewidth\":0,\"ticks\":\"\"},\"colorscale\":[[0.0,\"#0d0887\"],[0.1111111111111111,\"#46039f\"],[0.2222222222222222,\"#7201a8\"],[0.3333333333333333,\"#9c179e\"],[0.4444444444444444,\"#bd3786\"],[0.5555555555555556,\"#d8576b\"],[0.6666666666666666,\"#ed7953\"],[0.7777777777777778,\"#fb9f3a\"],[0.8888888888888888,\"#fdca26\"],[1.0,\"#f0f921\"]],\"type\":\"contour\"}],\"contourcarpet\":[{\"colorbar\":{\"outlinewidth\":0,\"ticks\":\"\"},\"type\":\"contourcarpet\"}],\"heatmap\":[{\"colorbar\":{\"outlinewidth\":0,\"ticks\":\"\"},\"colorscale\":[[0.0,\"#0d0887\"],[0.1111111111111111,\"#46039f\"],[0.2222222222222222,\"#7201a8\"],[0.3333333333333333,\"#9c179e\"],[0.4444444444444444,\"#bd3786\"],[0.5555555555555556,\"#d8576b\"],[0.6666666666666666,\"#ed7953\"],[0.7777777777777778,\"#fb9f3a\"],[0.8888888888888888,\"#fdca26\"],[1.0,\"#f0f921\"]],\"type\":\"heatmap\"}],\"heatmapgl\":[{\"colorbar\":{\"outlinewidth\":0,\"ticks\":\"\"},\"colorscale\":[[0.0,\"#0d0887\"],[0.1111111111111111,\"#46039f\"],[0.2222222222222222,\"#7201a8\"],[0.3333333333333333,\"#9c179e\"],[0.4444444444444444,\"#bd3786\"],[0.5555555555555556,\"#d8576b\"],[0.6666666666666666,\"#ed7953\"],[0.7777777777777778,\"#fb9f3a\"],[0.8888888888888888,\"#fdca26\"],[1.0,\"#f0f921\"]],\"type\":\"heatmapgl\"}],\"histogram\":[{\"marker\":{\"pattern\":{\"fillmode\":\"overlay\",\"size\":10,\"solidity\":0.2}},\"type\":\"histogram\"}],\"histogram2d\":[{\"colorbar\":{\"outlinewidth\":0,\"ticks\":\"\"},\"colorscale\":[[0.0,\"#0d0887\"],[0.1111111111111111,\"#46039f\"],[0.2222222222222222,\"#7201a8\"],[0.3333333333333333,\"#9c179e\"],[0.4444444444444444,\"#bd3786\"],[0.5555555555555556,\"#d8576b\"],[0.6666666666666666,\"#ed7953\"],[0.7777777777777778,\"#fb9f3a\"],[0.8888888888888888,\"#fdca26\"],[1.0,\"#f0f921\"]],\"type\":\"histogram2d\"}],\"histogram2dcontour\":[{\"colorbar\":{\"outlinewidth\":0,\"ticks\":\"\"},\"colorscale\":[[0.0,\"#0d0887\"],[0.1111111111111111,\"#46039f\"],[0.2222222222222222,\"#7201a8\"],[0.3333333333333333,\"#9c179e\"],[0.4444444444444444,\"#bd3786\"],[0.5555555555555556,\"#d8576b\"],[0.6666666666666666,\"#ed7953\"],[0.7777777777777778,\"#fb9f3a\"],[0.8888888888888888,\"#fdca26\"],[1.0,\"#f0f921\"]],\"type\":\"histogram2dcontour\"}],\"mesh3d\":[{\"colorbar\":{\"outlinewidth\":0,\"ticks\":\"\"},\"type\":\"mesh3d\"}],\"parcoords\":[{\"line\":{\"colorbar\":{\"outlinewidth\":0,\"ticks\":\"\"}},\"type\":\"parcoords\"}],\"pie\":[{\"automargin\":true,\"type\":\"pie\"}],\"scatter\":[{\"marker\":{\"colorbar\":{\"outlinewidth\":0,\"ticks\":\"\"}},\"type\":\"scatter\"}],\"scatter3d\":[{\"line\":{\"colorbar\":{\"outlinewidth\":0,\"ticks\":\"\"}},\"marker\":{\"colorbar\":{\"outlinewidth\":0,\"ticks\":\"\"}},\"type\":\"scatter3d\"}],\"scattercarpet\":[{\"marker\":{\"colorbar\":{\"outlinewidth\":0,\"ticks\":\"\"}},\"type\":\"scattercarpet\"}],\"scattergeo\":[{\"marker\":{\"colorbar\":{\"outlinewidth\":0,\"ticks\":\"\"}},\"type\":\"scattergeo\"}],\"scattergl\":[{\"marker\":{\"colorbar\":{\"outlinewidth\":0,\"ticks\":\"\"}},\"type\":\"scattergl\"}],\"scattermapbox\":[{\"marker\":{\"colorbar\":{\"outlinewidth\":0,\"ticks\":\"\"}},\"type\":\"scattermapbox\"}],\"scatterpolar\":[{\"marker\":{\"colorbar\":{\"outlinewidth\":0,\"ticks\":\"\"}},\"type\":\"scatterpolar\"}],\"scatterpolargl\":[{\"marker\":{\"colorbar\":{\"outlinewidth\":0,\"ticks\":\"\"}},\"type\":\"scatterpolargl\"}],\"scatterternary\":[{\"marker\":{\"colorbar\":{\"outlinewidth\":0,\"ticks\":\"\"}},\"type\":\"scatterternary\"}],\"surface\":[{\"colorbar\":{\"outlinewidth\":0,\"ticks\":\"\"},\"colorscale\":[[0.0,\"#0d0887\"],[0.1111111111111111,\"#46039f\"],[0.2222222222222222,\"#7201a8\"],[0.3333333333333333,\"#9c179e\"],[0.4444444444444444,\"#bd3786\"],[0.5555555555555556,\"#d8576b\"],[0.6666666666666666,\"#ed7953\"],[0.7777777777777778,\"#fb9f3a\"],[0.8888888888888888,\"#fdca26\"],[1.0,\"#f0f921\"]],\"type\":\"surface\"}],\"table\":[{\"cells\":{\"fill\":{\"color\":\"#EBF0F8\"},\"line\":{\"color\":\"white\"}},\"header\":{\"fill\":{\"color\":\"#C8D4E3\"},\"line\":{\"color\":\"white\"}},\"type\":\"table\"}]},\"layout\":{\"annotationdefaults\":{\"arrowcolor\":\"#2a3f5f\",\"arrowhead\":0,\"arrowwidth\":1},\"autotypenumbers\":\"strict\",\"coloraxis\":{\"colorbar\":{\"outlinewidth\":0,\"ticks\":\"\"}},\"colorscale\":{\"diverging\":[[0,\"#8e0152\"],[0.1,\"#c51b7d\"],[0.2,\"#de77ae\"],[0.3,\"#f1b6da\"],[0.4,\"#fde0ef\"],[0.5,\"#f7f7f7\"],[0.6,\"#e6f5d0\"],[0.7,\"#b8e186\"],[0.8,\"#7fbc41\"],[0.9,\"#4d9221\"],[1,\"#276419\"]],\"sequential\":[[0.0,\"#0d0887\"],[0.1111111111111111,\"#46039f\"],[0.2222222222222222,\"#7201a8\"],[0.3333333333333333,\"#9c179e\"],[0.4444444444444444,\"#bd3786\"],[0.5555555555555556,\"#d8576b\"],[0.6666666666666666,\"#ed7953\"],[0.7777777777777778,\"#fb9f3a\"],[0.8888888888888888,\"#fdca26\"],[1.0,\"#f0f921\"]],\"sequentialminus\":[[0.0,\"#0d0887\"],[0.1111111111111111,\"#46039f\"],[0.2222222222222222,\"#7201a8\"],[0.3333333333333333,\"#9c179e\"],[0.4444444444444444,\"#bd3786\"],[0.5555555555555556,\"#d8576b\"],[0.6666666666666666,\"#ed7953\"],[0.7777777777777778,\"#fb9f3a\"],[0.8888888888888888,\"#fdca26\"],[1.0,\"#f0f921\"]]},\"colorway\":[\"#636efa\",\"#EF553B\",\"#00cc96\",\"#ab63fa\",\"#FFA15A\",\"#19d3f3\",\"#FF6692\",\"#B6E880\",\"#FF97FF\",\"#FECB52\"],\"font\":{\"color\":\"#2a3f5f\"},\"geo\":{\"bgcolor\":\"white\",\"lakecolor\":\"white\",\"landcolor\":\"#E5ECF6\",\"showlakes\":true,\"showland\":true,\"subunitcolor\":\"white\"},\"hoverlabel\":{\"align\":\"left\"},\"hovermode\":\"closest\",\"mapbox\":{\"style\":\"light\"},\"paper_bgcolor\":\"white\",\"plot_bgcolor\":\"#E5ECF6\",\"polar\":{\"angularaxis\":{\"gridcolor\":\"white\",\"linecolor\":\"white\",\"ticks\":\"\"},\"bgcolor\":\"#E5ECF6\",\"radialaxis\":{\"gridcolor\":\"white\",\"linecolor\":\"white\",\"ticks\":\"\"}},\"scene\":{\"xaxis\":{\"backgroundcolor\":\"#E5ECF6\",\"gridcolor\":\"white\",\"gridwidth\":2,\"linecolor\":\"white\",\"showbackground\":true,\"ticks\":\"\",\"zerolinecolor\":\"white\"},\"yaxis\":{\"backgroundcolor\":\"#E5ECF6\",\"gridcolor\":\"white\",\"gridwidth\":2,\"linecolor\":\"white\",\"showbackground\":true,\"ticks\":\"\",\"zerolinecolor\":\"white\"},\"zaxis\":{\"backgroundcolor\":\"#E5ECF6\",\"gridcolor\":\"white\",\"gridwidth\":2,\"linecolor\":\"white\",\"showbackground\":true,\"ticks\":\"\",\"zerolinecolor\":\"white\"}},\"shapedefaults\":{\"line\":{\"color\":\"#2a3f5f\"}},\"ternary\":{\"aaxis\":{\"gridcolor\":\"white\",\"linecolor\":\"white\",\"ticks\":\"\"},\"baxis\":{\"gridcolor\":\"white\",\"linecolor\":\"white\",\"ticks\":\"\"},\"bgcolor\":\"#E5ECF6\",\"caxis\":{\"gridcolor\":\"white\",\"linecolor\":\"white\",\"ticks\":\"\"}},\"title\":{\"x\":0.05},\"xaxis\":{\"automargin\":true,\"gridcolor\":\"white\",\"linecolor\":\"white\",\"ticks\":\"\",\"title\":{\"standoff\":15},\"zerolinecolor\":\"white\",\"zerolinewidth\":2},\"yaxis\":{\"automargin\":true,\"gridcolor\":\"white\",\"linecolor\":\"white\",\"ticks\":\"\",\"title\":{\"standoff\":15},\"zerolinecolor\":\"white\",\"zerolinewidth\":2}}},\"xaxis\":{\"anchor\":\"y\",\"domain\":[0.0,1.0],\"title\":{\"text\":\"<b>PTS from 3-Pointers</b>\"},\"range\":[5,55]},\"yaxis\":{\"anchor\":\"x\",\"domain\":[0.0,1.0],\"title\":{\"text\":\"<b>Total PTS</b>\"},\"range\":[80,125]},\"coloraxis\":{\"colorbar\":{\"title\":{\"text\":\"SEASON\"}},\"colorscale\":[[0.0,\"#0d0887\"],[0.1111111111111111,\"#46039f\"],[0.2222222222222222,\"#7201a8\"],[0.3333333333333333,\"#9c179e\"],[0.4444444444444444,\"#bd3786\"],[0.5555555555555556,\"#d8576b\"],[0.6666666666666666,\"#ed7953\"],[0.7777777777777778,\"#fb9f3a\"],[0.8888888888888888,\"#fdca26\"],[1.0,\"#f0f921\"]]},\"legend\":{\"tracegroupgap\":0},\"margin\":{\"t\":60},\"title\":{\"text\":\"3PTS vs Total PTS by Team\"}},                        {\"responsive\": true}                    ).then(function(){\n",
       "                            \n",
       "var gd = document.getElementById('f3eae14c-d03a-4852-8b41-e0b27e98269c');\n",
       "var x = new MutationObserver(function (mutations, observer) {{\n",
       "        var display = window.getComputedStyle(gd).display;\n",
       "        if (!display || display === 'none') {{\n",
       "            console.log([gd, 'removed!']);\n",
       "            Plotly.purge(gd);\n",
       "            observer.disconnect();\n",
       "        }}\n",
       "}});\n",
       "\n",
       "// Listen for the removal of the full notebook cells\n",
       "var notebookContainer = gd.closest('#notebook-container');\n",
       "if (notebookContainer) {{\n",
       "    x.observe(notebookContainer, {childList: true});\n",
       "}}\n",
       "\n",
       "// Listen for the clearing of the current output cell\n",
       "var outputEl = gd.closest('.output');\n",
       "if (outputEl) {{\n",
       "    x.observe(outputEl, {childList: true});\n",
       "}}\n",
       "\n",
       "                        })                };                });            </script>        </div>"
      ]
     },
     "metadata": {},
     "output_type": "display_data"
    }
   ],
   "source": [
    "#Draw plotly scatter chart to show comparison\n",
    "fig = px.scatter(df_tavg, x='3PT_pts', y='PTS', range_x=[5,55], range_y=[80, 125], color ='SEASON', hover_name='TEAM_ABB')\n",
    "\n",
    "fig.update_layout(\n",
    "    title_text=\"3PTS vs Total PTS by Team\",\n",
    "    xaxis = dict(title = '<b>PTS from 3-Pointers</b>'),\n",
    "    yaxis = dict(title = '<b>Total PTS</b>')\n",
    ")\n",
    "fig.show()\n",
    "fig.write_html(\"C:/Users/edowi/OneDrive/Desktop/Charts/3pt_pts_byteam.html\")"
   ]
  },
  {
   "cell_type": "markdown",
   "id": "d607ff50",
   "metadata": {},
   "source": [
    "## Part 7: Finding Team win pct to team avg 3points scored for that season\n",
    "\n",
    "Will be in scatter plot as per 3pts vs total pts"
   ]
  },
  {
   "cell_type": "code",
   "execution_count": 35,
   "id": "3d301e82",
   "metadata": {},
   "outputs": [
    {
     "data": {
      "text/html": [
       "<div>\n",
       "<style scoped>\n",
       "    .dataframe tbody tr th:only-of-type {\n",
       "        vertical-align: middle;\n",
       "    }\n",
       "\n",
       "    .dataframe tbody tr th {\n",
       "        vertical-align: top;\n",
       "    }\n",
       "\n",
       "    .dataframe thead th {\n",
       "        text-align: right;\n",
       "    }\n",
       "</style>\n",
       "<table border=\"1\" class=\"dataframe\">\n",
       "  <thead>\n",
       "    <tr style=\"text-align: right;\">\n",
       "      <th></th>\n",
       "      <th>GAME_DATE_EST</th>\n",
       "      <th>GAME_ID</th>\n",
       "      <th>GAME_STATUS_TEXT</th>\n",
       "      <th>HOME_TEAM_ID</th>\n",
       "      <th>VISITOR_TEAM_ID</th>\n",
       "      <th>SEASON</th>\n",
       "      <th>TEAM_ID_home</th>\n",
       "      <th>PTS_home</th>\n",
       "      <th>FG_PCT_home</th>\n",
       "      <th>FT_PCT_home</th>\n",
       "      <th>...</th>\n",
       "      <th>REB_home</th>\n",
       "      <th>TEAM_ID_away</th>\n",
       "      <th>PTS_away</th>\n",
       "      <th>FG_PCT_away</th>\n",
       "      <th>FT_PCT_away</th>\n",
       "      <th>FG3_PCT_away</th>\n",
       "      <th>AST_away</th>\n",
       "      <th>REB_away</th>\n",
       "      <th>HOME_TEAM_WINS</th>\n",
       "      <th>AWAY_TEAM_WINS</th>\n",
       "    </tr>\n",
       "  </thead>\n",
       "  <tbody>\n",
       "    <tr>\n",
       "      <th>0</th>\n",
       "      <td>2021-11-17</td>\n",
       "      <td>22100213</td>\n",
       "      <td>Final</td>\n",
       "      <td>1610612766</td>\n",
       "      <td>1610612764</td>\n",
       "      <td>2021</td>\n",
       "      <td>1610612766</td>\n",
       "      <td>97.0</td>\n",
       "      <td>0.438</td>\n",
       "      <td>0.500</td>\n",
       "      <td>...</td>\n",
       "      <td>59.0</td>\n",
       "      <td>1610612764</td>\n",
       "      <td>87.0</td>\n",
       "      <td>0.367</td>\n",
       "      <td>0.813</td>\n",
       "      <td>0.190</td>\n",
       "      <td>23.0</td>\n",
       "      <td>48.0</td>\n",
       "      <td>1</td>\n",
       "      <td>0</td>\n",
       "    </tr>\n",
       "    <tr>\n",
       "      <th>1</th>\n",
       "      <td>2021-11-17</td>\n",
       "      <td>22100214</td>\n",
       "      <td>Final</td>\n",
       "      <td>1610612765</td>\n",
       "      <td>1610612754</td>\n",
       "      <td>2021</td>\n",
       "      <td>1610612765</td>\n",
       "      <td>97.0</td>\n",
       "      <td>0.425</td>\n",
       "      <td>0.750</td>\n",
       "      <td>...</td>\n",
       "      <td>42.0</td>\n",
       "      <td>1610612754</td>\n",
       "      <td>89.0</td>\n",
       "      <td>0.418</td>\n",
       "      <td>0.737</td>\n",
       "      <td>0.243</td>\n",
       "      <td>14.0</td>\n",
       "      <td>43.0</td>\n",
       "      <td>1</td>\n",
       "      <td>0</td>\n",
       "    </tr>\n",
       "    <tr>\n",
       "      <th>2</th>\n",
       "      <td>2021-11-17</td>\n",
       "      <td>22100215</td>\n",
       "      <td>Final</td>\n",
       "      <td>1610612737</td>\n",
       "      <td>1610612738</td>\n",
       "      <td>2021</td>\n",
       "      <td>1610612737</td>\n",
       "      <td>110.0</td>\n",
       "      <td>0.506</td>\n",
       "      <td>0.833</td>\n",
       "      <td>...</td>\n",
       "      <td>40.0</td>\n",
       "      <td>1610612738</td>\n",
       "      <td>99.0</td>\n",
       "      <td>0.440</td>\n",
       "      <td>0.824</td>\n",
       "      <td>0.268</td>\n",
       "      <td>24.0</td>\n",
       "      <td>42.0</td>\n",
       "      <td>1</td>\n",
       "      <td>0</td>\n",
       "    </tr>\n",
       "    <tr>\n",
       "      <th>3</th>\n",
       "      <td>2021-11-17</td>\n",
       "      <td>22100216</td>\n",
       "      <td>Final</td>\n",
       "      <td>1610612751</td>\n",
       "      <td>1610612739</td>\n",
       "      <td>2021</td>\n",
       "      <td>1610612751</td>\n",
       "      <td>109.0</td>\n",
       "      <td>0.458</td>\n",
       "      <td>0.840</td>\n",
       "      <td>...</td>\n",
       "      <td>47.0</td>\n",
       "      <td>1610612739</td>\n",
       "      <td>99.0</td>\n",
       "      <td>0.393</td>\n",
       "      <td>0.857</td>\n",
       "      <td>0.250</td>\n",
       "      <td>20.0</td>\n",
       "      <td>50.0</td>\n",
       "      <td>1</td>\n",
       "      <td>0</td>\n",
       "    </tr>\n",
       "    <tr>\n",
       "      <th>4</th>\n",
       "      <td>2021-11-17</td>\n",
       "      <td>22100217</td>\n",
       "      <td>Final</td>\n",
       "      <td>1610612748</td>\n",
       "      <td>1610612740</td>\n",
       "      <td>2021</td>\n",
       "      <td>1610612748</td>\n",
       "      <td>113.0</td>\n",
       "      <td>0.483</td>\n",
       "      <td>0.824</td>\n",
       "      <td>...</td>\n",
       "      <td>39.0</td>\n",
       "      <td>1610612740</td>\n",
       "      <td>98.0</td>\n",
       "      <td>0.440</td>\n",
       "      <td>0.786</td>\n",
       "      <td>0.286</td>\n",
       "      <td>18.0</td>\n",
       "      <td>38.0</td>\n",
       "      <td>1</td>\n",
       "      <td>0</td>\n",
       "    </tr>\n",
       "  </tbody>\n",
       "</table>\n",
       "<p>5 rows × 22 columns</p>\n",
       "</div>"
      ],
      "text/plain": [
       "  GAME_DATE_EST   GAME_ID GAME_STATUS_TEXT  HOME_TEAM_ID  VISITOR_TEAM_ID  \\\n",
       "0    2021-11-17  22100213            Final    1610612766       1610612764   \n",
       "1    2021-11-17  22100214            Final    1610612765       1610612754   \n",
       "2    2021-11-17  22100215            Final    1610612737       1610612738   \n",
       "3    2021-11-17  22100216            Final    1610612751       1610612739   \n",
       "4    2021-11-17  22100217            Final    1610612748       1610612740   \n",
       "\n",
       "   SEASON  TEAM_ID_home  PTS_home  FG_PCT_home  FT_PCT_home  ...  REB_home  \\\n",
       "0    2021    1610612766      97.0        0.438        0.500  ...      59.0   \n",
       "1    2021    1610612765      97.0        0.425        0.750  ...      42.0   \n",
       "2    2021    1610612737     110.0        0.506        0.833  ...      40.0   \n",
       "3    2021    1610612751     109.0        0.458        0.840  ...      47.0   \n",
       "4    2021    1610612748     113.0        0.483        0.824  ...      39.0   \n",
       "\n",
       "   TEAM_ID_away  PTS_away  FG_PCT_away  FT_PCT_away  FG3_PCT_away  AST_away  \\\n",
       "0    1610612764      87.0        0.367        0.813         0.190      23.0   \n",
       "1    1610612754      89.0        0.418        0.737         0.243      14.0   \n",
       "2    1610612738      99.0        0.440        0.824         0.268      24.0   \n",
       "3    1610612739      99.0        0.393        0.857         0.250      20.0   \n",
       "4    1610612740      98.0        0.440        0.786         0.286      18.0   \n",
       "\n",
       "   REB_away  HOME_TEAM_WINS  AWAY_TEAM_WINS  \n",
       "0      48.0               1               0  \n",
       "1      43.0               1               0  \n",
       "2      42.0               1               0  \n",
       "3      50.0               1               0  \n",
       "4      38.0               1               0  \n",
       "\n",
       "[5 rows x 22 columns]"
      ]
     },
     "execution_count": 35,
     "metadata": {},
     "output_type": "execute_result"
    }
   ],
   "source": [
    "#add new column to record wins/loss of the game of away team\n",
    "df_games['AWAY_TEAM_WINS'] = np.where(df_games['HOME_TEAM_WINS']== 1, 0, 1)\n",
    "df_games.head()"
   ]
  },
  {
   "cell_type": "code",
   "execution_count": 36,
   "id": "3668082f",
   "metadata": {},
   "outputs": [
    {
     "data": {
      "text/html": [
       "<div>\n",
       "<style scoped>\n",
       "    .dataframe tbody tr th:only-of-type {\n",
       "        vertical-align: middle;\n",
       "    }\n",
       "\n",
       "    .dataframe tbody tr th {\n",
       "        vertical-align: top;\n",
       "    }\n",
       "\n",
       "    .dataframe thead th {\n",
       "        text-align: right;\n",
       "    }\n",
       "</style>\n",
       "<table border=\"1\" class=\"dataframe\">\n",
       "  <thead>\n",
       "    <tr style=\"text-align: right;\">\n",
       "      <th></th>\n",
       "      <th>SEASON</th>\n",
       "      <th>TEAM_ID</th>\n",
       "      <th>TEAM_WINS</th>\n",
       "    </tr>\n",
       "  </thead>\n",
       "  <tbody>\n",
       "    <tr>\n",
       "      <th>0</th>\n",
       "      <td>2021</td>\n",
       "      <td>1610612764</td>\n",
       "      <td>0</td>\n",
       "    </tr>\n",
       "    <tr>\n",
       "      <th>1</th>\n",
       "      <td>2021</td>\n",
       "      <td>1610612754</td>\n",
       "      <td>0</td>\n",
       "    </tr>\n",
       "    <tr>\n",
       "      <th>2</th>\n",
       "      <td>2021</td>\n",
       "      <td>1610612738</td>\n",
       "      <td>0</td>\n",
       "    </tr>\n",
       "    <tr>\n",
       "      <th>3</th>\n",
       "      <td>2021</td>\n",
       "      <td>1610612739</td>\n",
       "      <td>0</td>\n",
       "    </tr>\n",
       "    <tr>\n",
       "      <th>4</th>\n",
       "      <td>2021</td>\n",
       "      <td>1610612740</td>\n",
       "      <td>0</td>\n",
       "    </tr>\n",
       "  </tbody>\n",
       "</table>\n",
       "</div>"
      ],
      "text/plain": [
       "   SEASON     TEAM_ID  TEAM_WINS\n",
       "0    2021  1610612764          0\n",
       "1    2021  1610612754          0\n",
       "2    2021  1610612738          0\n",
       "3    2021  1610612739          0\n",
       "4    2021  1610612740          0"
      ]
     },
     "execution_count": 36,
     "metadata": {},
     "output_type": "execute_result"
    }
   ],
   "source": [
    "#create home and away df and adjust column title\n",
    "df_hgames = df_games.loc[:,['SEASON', 'HOME_TEAM_ID','HOME_TEAM_WINS']]\n",
    "df_hgames = df_hgames.rename(columns = {'HOME_TEAM_ID':'TEAM_ID','HOME_TEAM_WINS':'TEAM_WINS'})\n",
    "df_agames = df_games.loc[:,['SEASON', 'VISITOR_TEAM_ID','AWAY_TEAM_WINS']]\n",
    "df_agames = df_agames.rename(columns = {'VISITOR_TEAM_ID':'TEAM_ID','AWAY_TEAM_WINS':'TEAM_WINS'})\n",
    "df_agames.head()"
   ]
  },
  {
   "cell_type": "code",
   "execution_count": 37,
   "id": "120f6bab",
   "metadata": {},
   "outputs": [
    {
     "data": {
      "text/html": [
       "<div>\n",
       "<style scoped>\n",
       "    .dataframe tbody tr th:only-of-type {\n",
       "        vertical-align: middle;\n",
       "    }\n",
       "\n",
       "    .dataframe tbody tr th {\n",
       "        vertical-align: top;\n",
       "    }\n",
       "\n",
       "    .dataframe thead th {\n",
       "        text-align: right;\n",
       "    }\n",
       "</style>\n",
       "<table border=\"1\" class=\"dataframe\">\n",
       "  <thead>\n",
       "    <tr style=\"text-align: right;\">\n",
       "      <th></th>\n",
       "      <th>SEASON</th>\n",
       "      <th>TEAM_ID</th>\n",
       "      <th>TEAM_WINS</th>\n",
       "    </tr>\n",
       "  </thead>\n",
       "  <tbody>\n",
       "    <tr>\n",
       "      <th>0</th>\n",
       "      <td>2021</td>\n",
       "      <td>1610612766</td>\n",
       "      <td>1</td>\n",
       "    </tr>\n",
       "    <tr>\n",
       "      <th>1</th>\n",
       "      <td>2021</td>\n",
       "      <td>1610612765</td>\n",
       "      <td>1</td>\n",
       "    </tr>\n",
       "    <tr>\n",
       "      <th>2</th>\n",
       "      <td>2021</td>\n",
       "      <td>1610612737</td>\n",
       "      <td>1</td>\n",
       "    </tr>\n",
       "    <tr>\n",
       "      <th>3</th>\n",
       "      <td>2021</td>\n",
       "      <td>1610612751</td>\n",
       "      <td>1</td>\n",
       "    </tr>\n",
       "    <tr>\n",
       "      <th>4</th>\n",
       "      <td>2021</td>\n",
       "      <td>1610612748</td>\n",
       "      <td>1</td>\n",
       "    </tr>\n",
       "    <tr>\n",
       "      <th>5</th>\n",
       "      <td>2021</td>\n",
       "      <td>1610612752</td>\n",
       "      <td>0</td>\n",
       "    </tr>\n",
       "    <tr>\n",
       "      <th>6</th>\n",
       "      <td>2021</td>\n",
       "      <td>1610612749</td>\n",
       "      <td>1</td>\n",
       "    </tr>\n",
       "    <tr>\n",
       "      <th>7</th>\n",
       "      <td>2021</td>\n",
       "      <td>1610612750</td>\n",
       "      <td>1</td>\n",
       "    </tr>\n",
       "    <tr>\n",
       "      <th>8</th>\n",
       "      <td>2021</td>\n",
       "      <td>1610612760</td>\n",
       "      <td>1</td>\n",
       "    </tr>\n",
       "    <tr>\n",
       "      <th>9</th>\n",
       "      <td>2021</td>\n",
       "      <td>1610612756</td>\n",
       "      <td>1</td>\n",
       "    </tr>\n",
       "    <tr>\n",
       "      <th>10</th>\n",
       "      <td>2021</td>\n",
       "      <td>1610612757</td>\n",
       "      <td>1</td>\n",
       "    </tr>\n",
       "    <tr>\n",
       "      <th>11</th>\n",
       "      <td>2021</td>\n",
       "      <td>1610612751</td>\n",
       "      <td>0</td>\n",
       "    </tr>\n",
       "    <tr>\n",
       "      <th>12</th>\n",
       "      <td>2021</td>\n",
       "      <td>1610612762</td>\n",
       "      <td>1</td>\n",
       "    </tr>\n",
       "    <tr>\n",
       "      <th>13</th>\n",
       "      <td>2021</td>\n",
       "      <td>1610612746</td>\n",
       "      <td>1</td>\n",
       "    </tr>\n",
       "    <tr>\n",
       "      <th>14</th>\n",
       "      <td>2021</td>\n",
       "      <td>1610612739</td>\n",
       "      <td>0</td>\n",
       "    </tr>\n",
       "    <tr>\n",
       "      <th>15</th>\n",
       "      <td>2021</td>\n",
       "      <td>1610612765</td>\n",
       "      <td>0</td>\n",
       "    </tr>\n",
       "    <tr>\n",
       "      <th>16</th>\n",
       "      <td>2021</td>\n",
       "      <td>1610612764</td>\n",
       "      <td>1</td>\n",
       "    </tr>\n",
       "    <tr>\n",
       "      <th>17</th>\n",
       "      <td>2021</td>\n",
       "      <td>1610612737</td>\n",
       "      <td>1</td>\n",
       "    </tr>\n",
       "    <tr>\n",
       "      <th>18</th>\n",
       "      <td>2021</td>\n",
       "      <td>1610612752</td>\n",
       "      <td>1</td>\n",
       "    </tr>\n",
       "    <tr>\n",
       "      <th>19</th>\n",
       "      <td>2021</td>\n",
       "      <td>1610612742</td>\n",
       "      <td>1</td>\n",
       "    </tr>\n",
       "  </tbody>\n",
       "</table>\n",
       "</div>"
      ],
      "text/plain": [
       "    SEASON     TEAM_ID  TEAM_WINS\n",
       "0     2021  1610612766          1\n",
       "1     2021  1610612765          1\n",
       "2     2021  1610612737          1\n",
       "3     2021  1610612751          1\n",
       "4     2021  1610612748          1\n",
       "5     2021  1610612752          0\n",
       "6     2021  1610612749          1\n",
       "7     2021  1610612750          1\n",
       "8     2021  1610612760          1\n",
       "9     2021  1610612756          1\n",
       "10    2021  1610612757          1\n",
       "11    2021  1610612751          0\n",
       "12    2021  1610612762          1\n",
       "13    2021  1610612746          1\n",
       "14    2021  1610612739          0\n",
       "15    2021  1610612765          0\n",
       "16    2021  1610612764          1\n",
       "17    2021  1610612737          1\n",
       "18    2021  1610612752          1\n",
       "19    2021  1610612742          1"
      ]
     },
     "execution_count": 37,
     "metadata": {},
     "output_type": "execute_result"
    }
   ],
   "source": [
    "#concat the 2 home and away df\n",
    "df_winloss = pd.concat([df_hgames,df_agames])\n",
    "\n",
    "df_winloss.head(20)"
   ]
  },
  {
   "cell_type": "code",
   "execution_count": 38,
   "id": "1bfcbca1",
   "metadata": {},
   "outputs": [
    {
     "data": {
      "text/html": [
       "<div>\n",
       "<style scoped>\n",
       "    .dataframe tbody tr th:only-of-type {\n",
       "        vertical-align: middle;\n",
       "    }\n",
       "\n",
       "    .dataframe tbody tr th {\n",
       "        vertical-align: top;\n",
       "    }\n",
       "\n",
       "    .dataframe thead th {\n",
       "        text-align: right;\n",
       "    }\n",
       "</style>\n",
       "<table border=\"1\" class=\"dataframe\">\n",
       "  <thead>\n",
       "    <tr style=\"text-align: right;\">\n",
       "      <th></th>\n",
       "      <th>SEASON</th>\n",
       "      <th>TEAM_ID</th>\n",
       "      <th>GAMES</th>\n",
       "      <th>WINS</th>\n",
       "      <th>win_%</th>\n",
       "    </tr>\n",
       "  </thead>\n",
       "  <tbody>\n",
       "    <tr>\n",
       "      <th>0</th>\n",
       "      <td>2003</td>\n",
       "      <td>1610612737</td>\n",
       "      <td>90</td>\n",
       "      <td>33</td>\n",
       "      <td>36.666667</td>\n",
       "    </tr>\n",
       "    <tr>\n",
       "      <th>1</th>\n",
       "      <td>2003</td>\n",
       "      <td>1610612738</td>\n",
       "      <td>94</td>\n",
       "      <td>40</td>\n",
       "      <td>42.553191</td>\n",
       "    </tr>\n",
       "    <tr>\n",
       "      <th>2</th>\n",
       "      <td>2003</td>\n",
       "      <td>1610612739</td>\n",
       "      <td>90</td>\n",
       "      <td>41</td>\n",
       "      <td>45.555556</td>\n",
       "    </tr>\n",
       "    <tr>\n",
       "      <th>3</th>\n",
       "      <td>2003</td>\n",
       "      <td>1610612740</td>\n",
       "      <td>97</td>\n",
       "      <td>50</td>\n",
       "      <td>51.546392</td>\n",
       "    </tr>\n",
       "    <tr>\n",
       "      <th>4</th>\n",
       "      <td>2003</td>\n",
       "      <td>1610612741</td>\n",
       "      <td>90</td>\n",
       "      <td>26</td>\n",
       "      <td>28.888889</td>\n",
       "    </tr>\n",
       "  </tbody>\n",
       "</table>\n",
       "</div>"
      ],
      "text/plain": [
       "   SEASON     TEAM_ID  GAMES  WINS      win_%\n",
       "0    2003  1610612737     90    33  36.666667\n",
       "1    2003  1610612738     94    40  42.553191\n",
       "2    2003  1610612739     90    41  45.555556\n",
       "3    2003  1610612740     97    50  51.546392\n",
       "4    2003  1610612741     90    26  28.888889"
      ]
     },
     "execution_count": 38,
     "metadata": {},
     "output_type": "execute_result"
    }
   ],
   "source": [
    "df_winloss_ttl = df_winloss.groupby(['SEASON','TEAM_ID'])['TEAM_WINS'].agg(['count', 'sum']).reset_index()\n",
    "df_winloss_ttl = df_winloss_ttl.rename(columns = {'count':'GAMES','sum':'WINS'})\n",
    "df_winloss_ttl['win_%'] = df_winloss_ttl['WINS']/df_winloss_ttl['GAMES']*100\n",
    "df_winloss_ttl.head()"
   ]
  },
  {
   "cell_type": "code",
   "execution_count": 39,
   "id": "b0d53cd6",
   "metadata": {},
   "outputs": [],
   "source": [
    "#merge data set to get Team abb into df\n",
    "df_winloss_ttl = df_winloss_ttl.merge(df_teamdet, how = 'left', on = 'TEAM_ID')"
   ]
  },
  {
   "cell_type": "code",
   "execution_count": 40,
   "id": "7cd3b5a7",
   "metadata": {},
   "outputs": [],
   "source": [
    "#merge data to get col FG3A and 3PT_pts for comparison\n",
    "df_winloss_ttl = df_winloss_ttl.merge(df_tavg[['SEASON','TEAM_ABB','FG3A', '3PT_pts']], how = 'left', on = ['SEASON','TEAM_ABB'])"
   ]
  },
  {
   "cell_type": "code",
   "execution_count": 41,
   "id": "8c86128b",
   "metadata": {},
   "outputs": [],
   "source": [
    "#change from int to str to make it into categorical data\n",
    "df_winloss_ttl.SEASON = df_winloss_ttl.SEASON.astype(str)"
   ]
  },
  {
   "cell_type": "code",
   "execution_count": 42,
   "id": "ee9c39c5",
   "metadata": {},
   "outputs": [
    {
     "data": {
      "application/vnd.plotly.v1+json": {
       "config": {
        "plotlyServerURL": "https://plot.ly"
       },
       "data": [
        {
         "hovertemplate": "<b>%{hovertext}</b><br><br>SEASON=2003<br>FG3A=%{x}<br>win_%=%{y}<extra></extra>",
         "hovertext": [
          "ATL",
          "BOS",
          "CLE",
          "NOP",
          "CHI",
          "DAL",
          "DEN",
          "GSW",
          "HOU",
          "LAC",
          "LAL",
          "MIA",
          "MIL",
          "MIN",
          "BKN",
          "NYK",
          "ORL",
          "IND",
          "PHI",
          "PHX",
          "POR",
          "SAC",
          "SAS",
          "OKC",
          "TOR",
          "UTA",
          "MEM",
          "WAS",
          "DET"
         ],
         "legendgroup": "2003",
         "marker": {
          "color": "#636efa",
          "symbol": "circle"
         },
         "mode": "markers",
         "name": "2003",
         "orientation": "v",
         "showlegend": true,
         "type": "scatter",
         "x": [
          15.132530120481928,
          19.264367816091955,
          9.571428571428571,
          20.066666666666666,
          15.168674698795181,
          17.49438202247191,
          12.022988505747126,
          15.646341463414634,
          17,
          12.46987951807229,
          13.990384615384615,
          16.041666666666668,
          13.977272727272727,
          11.7,
          13.957446808510639,
          13.655172413793103,
          15.107142857142858,
          15.8989898989899,
          12.024096385542169,
          14.626506024096386,
          13.36144578313253,
          17.978947368421053,
          14.445652173913043,
          23.433734939759034,
          15.710843373493976,
          9.55421686746988,
          15.862068965517242,
          15.392857142857142,
          12.177570093457945
         ],
         "xaxis": "x",
         "y": [
          36.666666666666664,
          42.5531914893617,
          45.55555555555556,
          51.546391752577314,
          28.888888888888886,
          60,
          52.63157894736842,
          46.06741573033708,
          50.526315789473685,
          33.33333333333333,
          61.60714285714286,
          50.98039215686274,
          48.421052631578945,
          66.66666666666666,
          57.42574257425742,
          44.680851063829785,
          25.555555555555554,
          71.69811320754717,
          41.11111111111111,
          37.77777777777778,
          50,
          65.68627450980392,
          66,
          47.77777777777778,
          41.57303370786517,
          51.11111111111111,
          58.06451612903226,
          33.33333333333333,
          63.716814159292035
         ],
         "yaxis": "y"
        },
        {
         "hovertemplate": "<b>%{hovertext}</b><br><br>SEASON=2004<br>FG3A=%{x}<br>win_%=%{y}<extra></extra>",
         "hovertext": [
          "ATL",
          "BOS",
          "CLE",
          "NOP",
          "CHI",
          "DAL",
          "DEN",
          "GSW",
          "HOU",
          "LAC",
          "LAL",
          "MIA",
          "MIL",
          "MIN",
          "BKN",
          "NYK",
          "ORL",
          "IND",
          "PHI",
          "PHX",
          "POR",
          "SAC",
          "SAS",
          "OKC",
          "TOR",
          "UTA",
          "MEM",
          "WAS",
          "DET",
          "CHA"
         ],
         "legendgroup": "2004",
         "marker": {
          "color": "#EF553B",
          "symbol": "circle"
         },
         "mode": "markers",
         "name": "2004",
         "orientation": "v",
         "showlegend": true,
         "type": "scatter",
         "visible": "legendonly",
         "x": [
          11.869047619047619,
          15.065217391304348,
          10.821428571428571,
          16,
          17.934065934065934,
          15.646464646464647,
          11.347826086956522,
          21.24705882352941,
          18.36263736263736,
          8.267441860465116,
          22,
          15.33,
          11.19047619047619,
          13.895348837209303,
          14.833333333333334,
          14.976744186046512,
          11.25,
          19,
          17.7,
          23.72,
          14.116279069767442,
          17.10989010989011,
          17.14814814814815,
          21.427083333333332,
          20.476744186046513,
          9.186046511627907,
          17.863636363636363,
          18.16842105263158,
          13.054054054054054,
          10.694117647058823
         ],
         "xaxis": "x",
         "y": [
          15.476190476190476,
          53.2608695652174,
          51.19047619047619,
          21.176470588235293,
          54.94505494505495,
          66.66666666666666,
          59.78260869565217,
          42.35294117647059,
          59.34065934065934,
          44.18604651162791,
          42.168674698795186,
          71,
          36.904761904761905,
          53.48837209302325,
          48.888888888888886,
          41.86046511627907,
          45.23809523809524,
          53,
          51.11111111111111,
          74,
          32.55813953488372,
          57.14285714285714,
          72.22222222222221,
          61.458333333333336,
          40.69767441860465,
          31.3953488372093,
          52.27272727272727,
          52.63157894736842,
          63.96396396396396,
          23.52941176470588
         ],
         "yaxis": "y"
        },
        {
         "hovertemplate": "<b>%{hovertext}</b><br><br>SEASON=2005<br>FG3A=%{x}<br>win_%=%{y}<extra></extra>",
         "hovertext": [
          "ATL",
          "BOS",
          "CLE",
          "NOP",
          "CHI",
          "DAL",
          "DEN",
          "GSW",
          "HOU",
          "LAC",
          "LAL",
          "MIA",
          "MIL",
          "MIN",
          "BKN",
          "NYK",
          "ORL",
          "IND",
          "PHI",
          "PHX",
          "POR",
          "SAC",
          "SAS",
          "OKC",
          "TOR",
          "UTA",
          "MEM",
          "WAS",
          "DET",
          "CHA"
         ],
         "legendgroup": "2005",
         "marker": {
          "color": "#00cc96",
          "symbol": "circle"
         },
         "mode": "markers",
         "name": "2005",
         "orientation": "v",
         "showlegend": true,
         "type": "scatter",
         "visible": "legendonly",
         "x": [
          13.539325842696629,
          15.244444444444444,
          17.349514563106798,
          11.337078651685394,
          17.8125,
          13.5929203539823,
          13.052631578947368,
          22.258426966292134,
          16.98876404494382,
          10.554455445544555,
          18.814432989690722,
          17.8125,
          15.778947368421052,
          11.966666666666667,
          17.03960396039604,
          10.393258426966293,
          9.920454545454545,
          18.4375,
          12.674157303370787,
          25.144144144144143,
          12.766666666666667,
          17.020833333333332,
          16.436893203883496,
          19.584269662921347,
          19.426966292134832,
          11.03370786516854,
          18.763440860215052,
          16.854166666666668,
          17.416666666666668,
          15.244444444444444
         ],
         "xaxis": "x",
         "y": [
          32.58426966292135,
          40,
          60.19417475728155,
          44.9438202247191,
          47.91666666666667,
          70.79646017699115,
          54.736842105263165,
          40.44943820224719,
          44.9438202247191,
          58.415841584158414,
          55.670103092783506,
          63.39285714285714,
          46.31578947368421,
          41.11111111111111,
          58.415841584158414,
          29.213483146067414,
          45.45454545454545,
          50,
          46.06741573033708,
          63.63636363636363,
          25.555555555555554,
          51.041666666666664,
          68.93203883495146,
          42.69662921348314,
          33.70786516853933,
          48.31460674157304,
          58.06451612903226,
          48.95833333333333,
          72.22222222222221,
          32.22222222222222
         ],
         "yaxis": "y"
        },
        {
         "hovertemplate": "<b>%{hovertext}</b><br><br>SEASON=2006<br>FG3A=%{x}<br>win_%=%{y}<extra></extra>",
         "hovertext": [
          "ATL",
          "BOS",
          "CLE",
          "NOP",
          "CHI",
          "DAL",
          "DEN",
          "GSW",
          "HOU",
          "LAC",
          "LAL",
          "MIA",
          "MIL",
          "MIN",
          "BKN",
          "NYK",
          "ORL",
          "IND",
          "PHI",
          "PHX",
          "POR",
          "SAC",
          "SAS",
          "OKC",
          "TOR",
          "UTA",
          "MEM",
          "WAS",
          "DET",
          "CHA"
         ],
         "legendgroup": "2006",
         "marker": {
          "color": "#ab63fa",
          "symbol": "circle"
         },
         "mode": "markers",
         "name": "2006",
         "orientation": "v",
         "showlegend": true,
         "type": "scatter",
         "visible": "legendonly",
         "x": [
          12.9,
          15.444444444444445,
          16.807339449541285,
          15.134831460674157,
          14.88,
          17.270833333333332,
          17.96808510638298,
          24.272727272727273,
          23.364583333333332,
          11.159090909090908,
          20.6,
          18.64516129032258,
          17.988888888888887,
          13.133333333333333,
          20.313725490196077,
          16.693181818181817,
          11.617021276595745,
          16.355555555555554,
          10.160919540229886,
          23.585858585858585,
          14.9,
          18.3,
          19.121495327102803,
          17.533333333333335,
          17.957894736842107,
          12.77570093457944,
          16.177777777777777,
          19.340425531914892,
          15.70754716981132,
          15.355555555555556
         ],
         "xaxis": "x",
         "y": [
          38.88888888888889,
          30,
          57.798165137614674,
          46.06741573033708,
          61,
          75,
          53.191489361702125,
          52.52525252525253,
          62.5,
          50,
          49.473684210526315,
          49.46236559139785,
          34.44444444444444,
          41.11111111111111,
          49.01960784313725,
          42.04545454545455,
          48.93617021276596,
          42.22222222222222,
          42.5287356321839,
          69.6969696969697,
          37.77777777777778,
          42.22222222222222,
          71.02803738317756,
          38.88888888888889,
          57.89473684210527,
          59.813084112149525,
          28.888888888888886,
          47.87234042553192,
          64.15094339622641,
          38.88888888888889
         ],
         "yaxis": "y"
        },
        {
         "hovertemplate": "<b>%{hovertext}</b><br><br>SEASON=2007<br>FG3A=%{x}<br>win_%=%{y}<extra></extra>",
         "hovertext": [
          "ATL",
          "BOS",
          "CLE",
          "NOP",
          "CHI",
          "DAL",
          "DEN",
          "GSW",
          "HOU",
          "LAC",
          "LAL",
          "MIA",
          "MIL",
          "MIN",
          "BKN",
          "NYK",
          "ORL",
          "IND",
          "PHI",
          "PHX",
          "POR",
          "SAC",
          "SAS",
          "OKC",
          "TOR",
          "UTA",
          "MEM",
          "WAS",
          "DET",
          "CHA"
         ],
         "legendgroup": "2007",
         "marker": {
          "color": "#FFA15A",
          "symbol": "circle"
         },
         "mode": "markers",
         "name": "2007",
         "orientation": "v",
         "showlegend": true,
         "type": "scatter",
         "visible": "legendonly",
         "x": [
          12.88659793814433,
          18.46086956521739,
          18.712871287128714,
          19.06930693069307,
          15.808988764044944,
          16.88421052631579,
          19.516129032258064,
          26.448275862068964,
          20.516129032258064,
          13.0561797752809,
          20.743119266055047,
          16.584269662921347,
          15.853932584269662,
          15.352272727272727,
          17.329545454545453,
          17.627906976744185,
          24.816326530612244,
          24.370786516853933,
          11.351063829787234,
          21.4468085106383,
          17.25,
          16.764044943820224,
          19.596153846153847,
          11.50561797752809,
          18.288888888888888,
          13.584158415841584,
          21.701149425287355,
          19.29787234042553,
          15.607476635514018,
          17.325842696629213
         ],
         "xaxis": "x",
         "y": [
          48.45360824742268,
          74.78260869565217,
          52.475247524752476,
          65.34653465346535,
          41.57303370786517,
          60,
          58.06451612903226,
          58.620689655172406,
          63.44086021505376,
          30.337078651685395,
          66.97247706422019,
          16.853932584269664,
          32.58426966292135,
          26.136363636363637,
          42.04545454545455,
          29.069767441860467,
          63.26530612244898,
          46.06741573033708,
          46.808510638297875,
          64.8936170212766,
          51.13636363636363,
          46.06741573033708,
          65.38461538461539,
          23.595505617977526,
          48.888888888888886,
          63.366336633663366,
          29.88505747126437,
          51.06382978723404,
          68.22429906542055,
          38.20224719101123
         ],
         "yaxis": "y"
        },
        {
         "hovertemplate": "<b>%{hovertext}</b><br><br>SEASON=2008<br>FG3A=%{x}<br>win_%=%{y}<extra></extra>",
         "hovertext": [
          "ATL",
          "BOS",
          "CLE",
          "NOP",
          "CHI",
          "DAL",
          "DEN",
          "GSW",
          "HOU",
          "LAC",
          "LAL",
          "MIA",
          "MIL",
          "MIN",
          "BKN",
          "NYK",
          "ORL",
          "IND",
          "PHI",
          "PHX",
          "POR",
          "SAC",
          "SAS",
          "OKC",
          "TOR",
          "UTA",
          "MEM",
          "WAS",
          "DET",
          "CHA"
         ],
         "legendgroup": "2008",
         "marker": {
          "color": "#19d3f3",
          "symbol": "circle"
         },
         "mode": "markers",
         "name": "2008",
         "orientation": "v",
         "showlegend": true,
         "type": "scatter",
         "visible": "legendonly",
         "x": [
          19.396039603960396,
          16.778846153846153,
          19.826923076923077,
          18.76595744680851,
          16.103092783505154,
          19.73,
          18.104761904761904,
          18.04597701149425,
          20.215686274509803,
          18.359550561797754,
          18.241071428571427,
          19.708333333333332,
          16.7,
          18.81111111111111,
          20.696629213483146,
          27.8876404494382,
          25.321428571428573,
          20.955555555555556,
          13.368421052631579,
          17.488888888888887,
          18.589473684210525,
          19.08888888888889,
          19.819148936170212,
          11.438202247191011,
          15.674157303370787,
          13.53191489361702,
          13.7,
          14.752808988764045,
          12.98936170212766,
          16.08888888888889
         ],
         "xaxis": "x",
         "y": [
          55.44554455445545,
          72.11538461538461,
          75.96153846153845,
          60.63829787234043,
          49.48453608247423,
          59,
          66.66666666666666,
          36.7816091954023,
          63.725490196078425,
          24.719101123595504,
          76.78571428571429,
          50,
          38.88888888888889,
          33.33333333333333,
          41.57303370786517,
          39.325842696629216,
          68.75,
          44.44444444444444,
          49.473684210526315,
          56.666666666666664,
          63.1578947368421,
          20,
          61.702127659574465,
          26.96629213483146,
          40.44943820224719,
          56.38297872340425,
          28.888888888888886,
          23.595505617977526,
          47.87234042553192,
          38.88888888888889
         ],
         "yaxis": "y"
        },
        {
         "hovertemplate": "<b>%{hovertext}</b><br><br>SEASON=2009<br>FG3A=%{x}<br>win_%=%{y}<extra></extra>",
         "hovertext": [
          "ATL",
          "BOS",
          "CLE",
          "NOP",
          "CHI",
          "DAL",
          "DEN",
          "GSW",
          "HOU",
          "LAC",
          "LAL",
          "MIA",
          "MIL",
          "MIN",
          "BKN",
          "NYK",
          "ORL",
          "IND",
          "PHI",
          "PHX",
          "POR",
          "SAC",
          "SAS",
          "OKC",
          "TOR",
          "UTA",
          "MEM",
          "WAS",
          "DET",
          "CHA"
         ],
         "legendgroup": "2009",
         "marker": {
          "color": "#FF6692",
          "symbol": "circle"
         },
         "mode": "markers",
         "name": "2009",
         "orientation": "v",
         "showlegend": true,
         "type": "scatter",
         "visible": "legendonly",
         "x": [
          16.92,
          17.24561403508772,
          19.3,
          19.27777777777778,
          12.810526315789474,
          18.263157894736842,
          18.042105263157893,
          20.18888888888889,
          22.155555555555555,
          17.741573033707866,
          19.336283185840706,
          17.638297872340427,
          22.123711340206185,
          14.5,
          14.370786516853933,
          26.522727272727273,
          27.182692307692307,
          23.48314606741573,
          16.5,
          21.8,
          16.677083333333332,
          16.97752808988764,
          18.285714285714285,
          15.08421052631579,
          16.844444444444445,
          14.666666666666666,
          12.7,
          14.88888888888889,
          14.255555555555556,
          16.29787234042553
         ],
         "xaxis": "x",
         "y": [
          62,
          62.28070175438597,
          70,
          43.333333333333336,
          50.526315789473685,
          65.26315789473685,
          61.05263157894737,
          33.33333333333333,
          51.11111111111111,
          38.20224719101123,
          69.91150442477876,
          53.191489361702125,
          53.608247422680414,
          20,
          14.606741573033707,
          37.5,
          74.03846153846155,
          39.325842696629216,
          35.55555555555556,
          63.8095238095238,
          58.333333333333336,
          30.337078651685395,
          58.16326530612245,
          56.84210526315789,
          46.666666666666664,
          62.62626262626263,
          47.77777777777778,
          33.33333333333333,
          34.44444444444444,
          48.93617021276596
         ],
         "yaxis": "y"
        },
        {
         "hovertemplate": "<b>%{hovertext}</b><br><br>SEASON=2010<br>FG3A=%{x}<br>win_%=%{y}<extra></extra>",
         "hovertext": [
          "ATL",
          "BOS",
          "CLE",
          "NOP",
          "CHI",
          "DAL",
          "DEN",
          "GSW",
          "HOU",
          "LAC",
          "LAL",
          "MIA",
          "MIL",
          "MIN",
          "BKN",
          "NYK",
          "ORL",
          "IND",
          "PHI",
          "PHX",
          "POR",
          "SAC",
          "SAS",
          "OKC",
          "TOR",
          "UTA",
          "MEM",
          "WAS",
          "DET",
          "CHA"
         ],
         "legendgroup": "2010",
         "marker": {
          "color": "#B6E880",
          "symbol": "circle"
         },
         "mode": "markers",
         "name": "2010",
         "orientation": "v",
         "showlegend": true,
         "type": "scatter",
         "visible": "legendonly",
         "x": [
          16.92079207920792,
          13.808080808080808,
          17.876404494382022,
          15.322916666666666,
          17.4811320754717,
          21.36936936936937,
          20.86315789473684,
          21.055555555555557,
          21.988888888888887,
          18.933333333333334,
          18.03030303030303,
          17.98165137614679,
          17.322222222222223,
          19.11111111111111,
          16.247191011235955,
          25.301075268817204,
          25.53684210526316,
          20.20212765957447,
          15.404255319148936,
          22.533333333333335,
          18.28421052631579,
          15.595505617977528,
          20.627659574468087,
          17.695238095238096,
          13.411111111111111,
          14.977777777777778,
          11.42156862745098,
          14.719101123595506,
          15.522222222222222,
          14.333333333333334
         ],
         "xaxis": "x",
         "y": [
          51.48514851485149,
          68.68686868686868,
          28.08988764044944,
          51.041666666666664,
          70.75471698113208,
          69.36936936936937,
          58.94736842105262,
          43.333333333333336,
          52.22222222222223,
          36.666666666666664,
          65.65656565656566,
          67.88990825688074,
          42.22222222222222,
          25.555555555555554,
          29.213483146067414,
          47.31182795698925,
          64.21052631578948,
          43.61702127659575,
          46.808510638297875,
          46.666666666666664,
          55.78947368421052,
          30.337078651685395,
          70.2127659574468,
          63.8095238095238,
          28.888888888888886,
          52.22222222222223,
          58.82352941176471,
          29.213483146067414,
          36.666666666666664,
          42.22222222222222
         ],
         "yaxis": "y"
        },
        {
         "hovertemplate": "<b>%{hovertext}</b><br><br>SEASON=2011<br>FG3A=%{x}<br>win_%=%{y}<extra></extra>",
         "hovertext": [
          "ATL",
          "BOS",
          "CLE",
          "NOP",
          "CHI",
          "DAL",
          "DEN",
          "GSW",
          "HOU",
          "LAC",
          "LAL",
          "MIA",
          "MIL",
          "MIN",
          "BKN",
          "NYK",
          "ORL",
          "IND",
          "PHI",
          "PHX",
          "POR",
          "SAC",
          "SAS",
          "OKC",
          "TOR",
          "UTA",
          "MEM",
          "WAS",
          "DET",
          "CHA"
         ],
         "legendgroup": "2011",
         "marker": {
          "color": "#FF97FF",
          "symbol": "circle"
         },
         "mode": "markers",
         "name": "2011",
         "orientation": "v",
         "showlegend": true,
         "type": "scatter",
         "visible": "legendonly",
         "x": [
          19.85135135135135,
          15.090909090909092,
          19.33823529411765,
          11.720588235294118,
          16.41891891891892,
          22.09722222222222,
          19.786666666666665,
          20.323529411764707,
          20.11764705882353,
          21.126582278481013,
          16.9875,
          16.615384615384617,
          19.176470588235293,
          21.5,
          22.176470588235293,
          23.08219178082192,
          26.931506849315067,
          16.29113924050633,
          14.407407407407407,
          19.735294117647058,
          20.985294117647058,
          19.808823529411764,
          21.426829268292682,
          19.875,
          16.33823529411765,
          12.75,
          12.88,
          16.294117647058822,
          14.014705882352942,
          13.5
         ],
         "xaxis": "x",
         "y": [
          58.108108108108105,
          59.09090909090909,
          32.35294117647059,
          33.82352941176471,
          72.97297297297297,
          50,
          57.333333333333336,
          35.294117647058826,
          51.470588235294116,
          58.22784810126582,
          57.49999999999999,
          69.23076923076923,
          45.588235294117645,
          41.17647058823529,
          32.35294117647059,
          53.42465753424658,
          53.42465753424658,
          60.75949367088608,
          54.32098765432099,
          48.529411764705884,
          42.64705882352941,
          33.82352941176471,
          74.39024390243902,
          70.45454545454545,
          33.82352941176471,
          51.388888888888886,
          58.666666666666664,
          29.411764705882355,
          38.23529411764706,
          11.76470588235294
         ],
         "yaxis": "y"
        },
        {
         "hovertemplate": "<b>%{hovertext}</b><br><br>SEASON=2012<br>FG3A=%{x}<br>win_%=%{y}<extra></extra>",
         "hovertext": [
          "ATL",
          "BOS",
          "CLE",
          "NOP",
          "CHI",
          "DAL",
          "DEN",
          "GSW",
          "HOU",
          "LAC",
          "LAL",
          "MIA",
          "MIL",
          "MIN",
          "BKN",
          "NYK",
          "ORL",
          "IND",
          "PHI",
          "PHX",
          "POR",
          "SAC",
          "SAS",
          "OKC",
          "TOR",
          "UTA",
          "MEM",
          "WAS",
          "DET",
          "CHA"
         ],
         "legendgroup": "2012",
         "marker": {
          "color": "#FECB52",
          "symbol": "circle"
         },
         "mode": "markers",
         "name": "2012",
         "orientation": "v",
         "showlegend": true,
         "type": "scatter",
         "visible": "legendonly",
         "x": [
          22.810526315789474,
          17.397849462365592,
          19.25,
          18.166666666666668,
          15.425742574257425,
          20.045454545454547,
          18.842105263157894,
          20.059405940594058,
          28.94736842105263,
          20.708333333333332,
          23.73404255319149,
          21.84070796460177,
          20.5531914893617,
          18,
          21.45263157894737,
          28.33,
          18.488888888888887,
          19.289719626168225,
          17.707865168539325,
          17.808988764044944,
          23.370786516853933,
          20.48314606741573,
          21.440366972477065,
          19.99,
          20.488636363636363,
          16.555555555555557,
          13.826923076923077,
          18.544444444444444,
          17.677777777777777,
          17.455555555555556
         ],
         "xaxis": "x",
         "y": [
          51.578947368421055,
          48.38709677419355,
          29.545454545454547,
          34.44444444444444,
          54.45544554455446,
          50,
          65.26315789473685,
          57.42574257425742,
          54.736842105263165,
          65.625,
          47.87234042553192,
          76.10619469026548,
          43.61702127659575,
          39.77272727272727,
          57.89473684210527,
          63,
          24.444444444444443,
          59.813084112149525,
          44.9438202247191,
          32.58426966292135,
          40.44943820224719,
          37.07865168539326,
          69.72477064220183,
          69,
          44.31818181818182,
          53.333333333333336,
          64.42307692307693,
          35.55555555555556,
          36.666666666666664,
          24.444444444444443
         ],
         "yaxis": "y"
        },
        {
         "hovertemplate": "<b>%{hovertext}</b><br><br>SEASON=2013<br>FG3A=%{x}<br>win_%=%{y}<extra></extra>",
         "hovertext": [
          "ATL",
          "BOS",
          "CLE",
          "NOP",
          "CHI",
          "DAL",
          "DEN",
          "GSW",
          "HOU",
          "LAC",
          "LAL",
          "MIA",
          "MIL",
          "MIN",
          "BKN",
          "NYK",
          "ORL",
          "IND",
          "PHI",
          "PHX",
          "POR",
          "SAC",
          "SAS",
          "OKC",
          "TOR",
          "UTA",
          "MEM",
          "WAS",
          "DET",
          "CHA"
         ],
         "legendgroup": "2013",
         "marker": {
          "color": "#636efa",
          "symbol": "circle"
         },
         "mode": "markers",
         "name": "2013",
         "orientation": "v",
         "showlegend": true,
         "type": "scatter",
         "visible": "legendonly",
         "x": [
          26.083333333333332,
          21.27777777777778,
          19.977777777777778,
          15.966666666666667,
          17.757894736842104,
          22.587628865979383,
          23.359550561797754,
          24.729166666666668,
          26.694736842105264,
          24.038834951456312,
          24.855555555555554,
          22.527272727272727,
          18.772727272727273,
          21.568181818181817,
          23.356435643564357,
          24.93258426966292,
          19.544444444444444,
          19.027522935779817,
          22.625,
          24.84090909090909,
          24.73,
          18.247191011235955,
          21.414414414414413,
          22.439252336448597,
          23.020833333333332,
          19.07777777777778,
          14.239583333333334,
          20.59,
          19.337078651685392,
          18.01063829787234
         ],
         "xaxis": "x",
         "y": [
          43.75,
          30,
          41.11111111111111,
          45.55555555555556,
          60,
          57.73195876288659,
          42.69662921348314,
          59.375,
          65.26315789473685,
          66.01941747572816,
          34.44444444444444,
          65.45454545454545,
          18.181818181818183,
          50,
          53.46534653465347,
          43.82022471910113,
          27.77777777777778,
          63.30275229357798,
          22.727272727272727,
          59.09090909090909,
          64,
          37.07865168539326,
          72.07207207207207,
          67.28971962616822,
          59.375,
          28.888888888888886,
          58.333333333333336,
          52,
          35.95505617977528,
          51.06382978723404
         ],
         "yaxis": "y"
        },
        {
         "hovertemplate": "<b>%{hovertext}</b><br><br>SEASON=2014<br>FG3A=%{x}<br>win_%=%{y}<extra></extra>",
         "hovertext": [
          "ATL",
          "BOS",
          "CLE",
          "NOP",
          "CHI",
          "DAL",
          "DEN",
          "GSW",
          "HOU",
          "LAC",
          "LAL",
          "MIA",
          "MIL",
          "MIN",
          "BKN",
          "NYK",
          "ORL",
          "IND",
          "PHI",
          "PHX",
          "POR",
          "SAC",
          "SAS",
          "OKC",
          "TOR",
          "UTA",
          "MEM",
          "WAS",
          "DET",
          "CHA"
         ],
         "legendgroup": "2014",
         "marker": {
          "color": "#EF553B",
          "symbol": "circle"
         },
         "mode": "markers",
         "name": "2014",
         "orientation": "v",
         "showlegend": true,
         "type": "scatter",
         "visible": "legendonly",
         "x": [
          26.590476190476192,
          24.861702127659573,
          27.703703703703702,
          19.70967741935484,
          22.637254901960784,
          25.68421052631579,
          24.1,
          27.55855855855856,
          31.57943925233645,
          26.625,
          18.08888888888889,
          20.533333333333335,
          18.42105263157895,
          14.92134831460674,
          20.311827956989248,
          19.910112359550563,
          19.247191011235955,
          21.235955056179776,
          25.766666666666666,
          25.136363636363637,
          26.817204301075268,
          16.34090909090909,
          22.914893617021278,
          22.685393258426966,
          24.849462365591396,
          21.644444444444446,
          15.16,
          17.31313131313131,
          24.876404494382022,
          19.288888888888888
         ],
         "xaxis": "x",
         "y": [
          68.57142857142857,
          47.87234042553192,
          65.74074074074075,
          53.76344086021505,
          58.82352941176471,
          57.89473684210527,
          35.55555555555556,
          80.18018018018019,
          66.35514018691589,
          62.5,
          26.666666666666668,
          45.55555555555556,
          48.421052631578945,
          23.595505617977526,
          46.236559139784944,
          22.47191011235955,
          31.46067415730337,
          46.06741573033708,
          22.22222222222222,
          48.86363636363637,
          59.13978494623656,
          35.22727272727273,
          62.76595744680851,
          52.80898876404494,
          59.13978494623656,
          47.77777777777778,
          63,
          55.55555555555556,
          41.57303370786517,
          40
         ],
         "yaxis": "y"
        },
        {
         "hovertemplate": "<b>%{hovertext}</b><br><br>SEASON=2015<br>FG3A=%{x}<br>win_%=%{y}<extra></extra>",
         "hovertext": [
          "ATL",
          "BOS",
          "CLE",
          "NOP",
          "CHI",
          "DAL",
          "DEN",
          "GSW",
          "HOU",
          "LAC",
          "LAL",
          "MIA",
          "MIL",
          "MIN",
          "BKN",
          "NYK",
          "ORL",
          "IND",
          "PHI",
          "PHX",
          "POR",
          "SAC",
          "SAS",
          "OKC",
          "TOR",
          "UTA",
          "MEM",
          "WAS",
          "DET",
          "CHA"
         ],
         "legendgroup": "2015",
         "marker": {
          "color": "#00cc96",
          "symbol": "circle"
         },
         "mode": "markers",
         "name": "2015",
         "orientation": "v",
         "showlegend": true,
         "type": "scatter",
         "visible": "legendonly",
         "x": [
          28.484848484848484,
          26.365591397849464,
          29.772727272727273,
          24.03370786516854,
          22.033333333333335,
          28.074468085106382,
          23.651685393258425,
          31.292035398230087,
          31.073684210526316,
          26.085106382978722,
          24.415730337078653,
          18.53846153846154,
          15.931818181818182,
          16.674157303370787,
          18.597701149425287,
          21.49425287356322,
          22.471910112359552,
          23.03125,
          27.752808988764045,
          25.920454545454547,
          28.91,
          22.65909090909091,
          18.683673469387756,
          23.99047619047619,
          23.110091743119266,
          23.56179775280899,
          18.434782608695652,
          24.193181818181817,
          26.095744680851062,
          28.298969072164947
         ],
         "xaxis": "x",
         "y": [
          56.56565656565656,
          58.06451612903226,
          67.27272727272727,
          37.07865168539326,
          51.11111111111111,
          45.744680851063826,
          41.57303370786517,
          80.53097345132744,
          47.368421052631575,
          61.702127659574465,
          21.34831460674157,
          56.730769230769226,
          39.77272727272727,
          34.831460674157306,
          26.436781609195403,
          40.229885057471265,
          44.9438202247191,
          55.208333333333336,
          13.48314606741573,
          30.681818181818183,
          52,
          43.18181818181818,
          76.53061224489795,
          66.66666666666666,
          65.13761467889908,
          48.31460674157304,
          51.08695652173913,
          50,
          50,
          59.79381443298969
         ],
         "yaxis": "y"
        },
        {
         "hovertemplate": "<b>%{hovertext}</b><br><br>SEASON=2016<br>FG3A=%{x}<br>win_%=%{y}<extra></extra>",
         "hovertext": [
          "ATL",
          "BOS",
          "CLE",
          "NOP",
          "CHI",
          "DAL",
          "DEN",
          "GSW",
          "HOU",
          "LAC",
          "LAL",
          "MIA",
          "MIL",
          "MIN",
          "BKN",
          "NYK",
          "ORL",
          "IND",
          "PHI",
          "PHX",
          "POR",
          "SAC",
          "SAS",
          "OKC",
          "TOR",
          "UTA",
          "MEM",
          "WAS",
          "DET",
          "CHA"
         ],
         "legendgroup": "2016",
         "marker": {
          "color": "#ab63fa",
          "symbol": "circle"
         },
         "mode": "markers",
         "name": "2016",
         "orientation": "v",
         "showlegend": true,
         "type": "scatter",
         "visible": "legendonly",
         "x": [
          25.894736842105264,
          33.345794392523366,
          33.5,
          26.522727272727273,
          22.54736842105263,
          29.921348314606742,
          28.477777777777778,
          31.71698113207547,
          39.91919191919192,
          26.957894736842107,
          26.055555555555557,
          27.066666666666666,
          23.393617021276597,
          21.123595505617978,
          31.738636363636363,
          24.818181818181817,
          25.876404494382022,
          23.26086956521739,
          29.53932584269663,
          22.397727272727273,
          27.869565217391305,
          23.75862068965517,
          23.48076923076923,
          25.747252747252748,
          24.071428571428573,
          25.622448979591837,
          26.47872340425532,
          24.892156862745097,
          23.227272727272727,
          28.382022471910112
         ],
         "xaxis": "x",
         "y": [
          52.63157894736842,
          62.616822429906534,
          62.264150943396224,
          39.77272727272727,
          48.421052631578945,
          39.325842696629216,
          48.888888888888886,
          83.9622641509434,
          65.65656565656566,
          60,
          31.11111111111111,
          50,
          50,
          40.44943820224719,
          23.863636363636363,
          39.77272727272727,
          34.831460674157306,
          48.91304347826087,
          33.70786516853933,
          31.818181818181817,
          47.82608695652174,
          39.08045977011494,
          70.1923076923077,
          54.94505494505495,
          59.183673469387756,
          59.183673469387756,
          52.12765957446809,
          58.82352941176471,
          45.45454545454545,
          43.82022471910113
         ],
         "yaxis": "y"
        },
        {
         "hovertemplate": "<b>%{hovertext}</b><br><br>SEASON=2017<br>FG3A=%{x}<br>win_%=%{y}<extra></extra>",
         "hovertext": [
          "ATL",
          "BOS",
          "CLE",
          "NOP",
          "CHI",
          "DAL",
          "DEN",
          "GSW",
          "HOU",
          "LAC",
          "LAL",
          "MIA",
          "MIL",
          "MIN",
          "BKN",
          "NYK",
          "ORL",
          "IND",
          "PHI",
          "PHX",
          "POR",
          "SAC",
          "SAS",
          "OKC",
          "TOR",
          "UTA",
          "MEM",
          "WAS",
          "DET",
          "CHA"
         ],
         "legendgroup": "2017",
         "marker": {
          "color": "#FFA15A",
          "symbol": "circle"
         },
         "mode": "markers",
         "name": "2017",
         "orientation": "v",
         "showlegend": true,
         "type": "scatter",
         "visible": "legendonly",
         "x": [
          31.03448275862069,
          30.447619047619046,
          31.63302752293578,
          28.063157894736843,
          31.295454545454547,
          33.10227272727273,
          30.839080459770116,
          29.485981308411215,
          42.19417475728155,
          26.701149425287355,
          28.806818181818183,
          30.408602150537636,
          24.989247311827956,
          22.488888888888887,
          35.52325581395349,
          23.39080459770115,
          29.352272727272727,
          24.66304347826087,
          29.824742268041238,
          27.930232558139537,
          28.285714285714285,
          23.795454545454547,
          24.434782608695652,
          30.32967032967033,
          32.78350515463917,
          29.5625,
          26.03448275862069,
          26.293478260869566,
          28.64367816091954,
          27.344827586206897
         ],
         "xaxis": "x",
         "y": [
          29.88505747126437,
          66.66666666666666,
          57.798165137614674,
          56.84210526315789,
          34.090909090909086,
          31.818181818181817,
          56.32183908045977,
          71.02803738317756,
          76.69902912621359,
          50.57471264367817,
          42.04545454545455,
          51.61290322580645,
          51.61290322580645,
          55.55555555555556,
          36.04651162790697,
          33.33333333333333,
          31.818181818181817,
          57.608695652173914,
          60.824742268041234,
          25.581395348837212,
          58.24175824175825,
          31.818181818181817,
          55.434782608695656,
          57.14285714285714,
          68.04123711340206,
          58.333333333333336,
          28.735632183908045,
          52.17391304347826,
          47.12643678160919,
          43.67816091954023
         ],
         "yaxis": "y"
        },
        {
         "hovertemplate": "<b>%{hovertext}</b><br><br>SEASON=2018<br>FG3A=%{x}<br>win_%=%{y}<extra></extra>",
         "hovertext": [
          "ATL",
          "BOS",
          "CLE",
          "NOP",
          "CHI",
          "DAL",
          "DEN",
          "GSW",
          "HOU",
          "LAC",
          "LAL",
          "MIA",
          "MIL",
          "MIN",
          "BKN",
          "NYK",
          "ORL",
          "IND",
          "PHI",
          "PHX",
          "POR",
          "SAC",
          "SAS",
          "OKC",
          "TOR",
          "UTA",
          "MEM",
          "WAS",
          "DET",
          "CHA"
         ],
         "legendgroup": "2018",
         "marker": {
          "color": "#19d3f3",
          "symbol": "circle"
         },
         "mode": "markers",
         "name": "2018",
         "orientation": "v",
         "showlegend": true,
         "type": "scatter",
         "visible": "legendonly",
         "x": [
          37.04597701149425,
          34.357894736842105,
          28.8953488372093,
          30.25287356321839,
          26.114942528735632,
          36.64705882352941,
          30.92,
          33.85321100917431,
          45.123711340206185,
          26.153846153846153,
          30.375,
          32.48863636363637,
          38.277227722772274,
          28.551724137931036,
          35.97802197802198,
          29.2183908045977,
          32.010989010989015,
          25.633333333333333,
          30.11340206185567,
          29.27906976744186,
          31.04854368932039,
          29.620689655172413,
          24.71276595744681,
          32.417582417582416,
          33.9,
          34.05555555555556,
          28.770114942528735,
          33.44186046511628,
          35.065934065934066,
          33.89655172413793
         ],
         "xaxis": "x",
         "y": [
          35.63218390804598,
          57.89473684210527,
          24.418604651162788,
          37.93103448275862,
          27.586206896551722,
          40,
          64,
          66.05504587155964,
          63.91752577319587,
          58.24175824175825,
          45.45454545454545,
          47.72727272727273,
          72.27722772277228,
          42.5287356321839,
          49.45054945054945,
          22.988505747126435,
          48.35164835164835,
          55.55555555555556,
          61.855670103092784,
          23.25581395348837,
          62.13592233009708,
          45.97701149425287,
          57.446808510638306,
          58.24175824175825,
          70,
          60,
          40.229885057471265,
          40.69767441860465,
          47.25274725274725,
          49.42528735632184
         ],
         "yaxis": "y"
        },
        {
         "hovertemplate": "<b>%{hovertext}</b><br><br>SEASON=2019<br>FG3A=%{x}<br>win_%=%{y}<extra></extra>",
         "hovertext": [
          "ATL",
          "BOS",
          "CLE",
          "NOP",
          "CHI",
          "DAL",
          "DEN",
          "GSW",
          "HOU",
          "LAC",
          "LAL",
          "MIA",
          "MIL",
          "MIN",
          "BKN",
          "NYK",
          "ORL",
          "IND",
          "PHI",
          "PHX",
          "POR",
          "SAC",
          "SAS",
          "OKC",
          "TOR",
          "UTA",
          "MEM",
          "WAS",
          "DET",
          "CHA"
         ],
         "legendgroup": "2019",
         "marker": {
          "color": "#FF6692",
          "symbol": "circle"
         },
         "mode": "markers",
         "name": "2019",
         "orientation": "v",
         "showlegend": true,
         "type": "scatter",
         "visible": "legendonly",
         "x": [
          36,
          34.760416666666664,
          32.10294117647059,
          36.95,
          35.41428571428571,
          41.02247191011236,
          30.818181818181817,
          31.8,
          46.141304347826086,
          33.61538461538461,
          31.77227722772277,
          35.63725490196079,
          38.79120879120879,
          39.89705882352941,
          38.41463414634146,
          28.62857142857143,
          32.724137931034484,
          28.416666666666668,
          31.607142857142858,
          32,
          33.632183908045974,
          35.0253164556962,
          27.974683544303797,
          30.988235294117647,
          37.46666666666667,
          35.22093023255814,
          31.5625,
          33.10126582278481,
          32.7887323943662,
          34.24285714285714
         ],
         "xaxis": "x",
         "y": [
          29.166666666666668,
          65.625,
          27.941176470588236,
          47.5,
          34.285714285714285,
          55.0561797752809,
          60.60606060606061,
          24.285714285714285,
          58.69565217391305,
          63.73626373626373,
          72.27722772277228,
          61.76470588235294,
          74.72527472527473,
          29.411764705882355,
          46.34146341463415,
          31.428571428571427,
          43.67816091954023,
          59.523809523809526,
          55.952380952380956,
          47.5,
          43.67816091954023,
          43.037974683544306,
          44.303797468354425,
          60,
          71.11111111111111,
          56.97674418604651,
          45,
          34.177215189873415,
          32.3943661971831,
          34.285714285714285
         ],
         "yaxis": "y"
        },
        {
         "hovertemplate": "<b>%{hovertext}</b><br><br>SEASON=2020<br>FG3A=%{x}<br>win_%=%{y}<extra></extra>",
         "hovertext": [
          "ATL",
          "BOS",
          "CLE",
          "NOP",
          "CHI",
          "DAL",
          "DEN",
          "GSW",
          "HOU",
          "LAC",
          "LAL",
          "MIA",
          "MIL",
          "MIN",
          "BKN",
          "NYK",
          "ORL",
          "IND",
          "PHI",
          "PHX",
          "POR",
          "SAC",
          "SAS",
          "OKC",
          "TOR",
          "UTA",
          "MEM",
          "WAS",
          "DET",
          "CHA"
         ],
         "legendgroup": "2020",
         "marker": {
          "color": "#B6E880",
          "symbol": "circle"
         },
         "mode": "markers",
         "name": "2020",
         "orientation": "v",
         "showlegend": true,
         "type": "scatter",
         "visible": "legendonly",
         "x": [
          35.19191919191919,
          37.65060240963855,
          30.207792207792206,
          31.103896103896105,
          35.53164556962025,
          38.5,
          35.5,
          40.30379746835443,
          41.31645569620253,
          35.55670103092783,
          31.790697674418606,
          36.77777777777778,
          37.2970297029703,
          38.721518987341774,
          37.38461538461539,
          30.349397590361445,
          32.23076923076923,
          34.860759493670884,
          30.227272727272727,
          34.601941747572816,
          41.65882352941176,
          34.35443037974684,
          29.29113924050633,
          35.857142857142854,
          40.675324675324674,
          43.42696629213483,
          33.83720930232558,
          29.546511627906977,
          34.21518987341772,
          37.7125
         ],
         "xaxis": "x",
         "y": [
          57.57575757575758,
          45.78313253012048,
          31.16883116883117,
          45.45454545454545,
          44.303797468354425,
          55.952380952380956,
          61.36363636363637,
          53.16455696202531,
          26.582278481012654,
          60.824742268041234,
          59.30232558139535,
          51.85185185185185,
          63.366336633663366,
          32.91139240506329,
          64.83516483516483,
          55.42168674698795,
          32.05128205128205,
          46.835443037974684,
          68.18181818181817,
          66.99029126213593,
          55.294117647058826,
          44.303797468354425,
          43.037974683544306,
          31.16883116883117,
          37.66233766233766,
          69.66292134831461,
          53.48837209302325,
          44.18604651162791,
          29.11392405063291,
          43.75
         ],
         "yaxis": "y"
        },
        {
         "hovertemplate": "<b>%{hovertext}</b><br><br>SEASON=2021<br>FG3A=%{x}<br>win_%=%{y}<extra></extra>",
         "hovertext": [
          "ATL",
          "BOS",
          "CLE",
          "NOP",
          "CHI",
          "DAL",
          "DEN",
          "GSW",
          "HOU",
          "LAC",
          "LAL",
          "MIA",
          "MIL",
          "MIN",
          "BKN",
          "NYK",
          "ORL",
          "IND",
          "PHI",
          "PHX",
          "POR",
          "SAC",
          "SAS",
          "OKC",
          "TOR",
          "UTA",
          "MEM",
          "WAS",
          "DET",
          "CHA"
         ],
         "legendgroup": "2021",
         "marker": {
          "color": "#FF97FF",
          "symbol": "circle"
         },
         "mode": "markers",
         "name": "2021",
         "orientation": "v",
         "showlegend": true,
         "type": "scatter",
         "visible": "legendonly",
         "x": [
          32.65,
          37.26315789473684,
          32.857142857142854,
          33.75,
          28.736842105263158,
          38.388888888888886,
          37.73684210526316,
          45.10526315789474,
          35,
          37.111111111111114,
          33.77272727272727,
          34.95238095238095,
          39.7,
          42.166666666666664,
          34.85,
          38.8421052631579,
          37.473684210526315,
          35.95,
          33.36842105263158,
          32.388888888888886,
          38.65,
          37.73684210526316,
          30.894736842105264,
          39.44444444444444,
          33.55,
          42.72222222222222,
          37.5,
          33.666666666666664,
          35.27777777777778,
          35.05
         ],
         "xaxis": "x",
         "y": [
          45,
          47.368421052631575,
          52.38095238095239,
          15,
          73.68421052631578,
          72.22222222222221,
          52.63157894736842,
          89.47368421052632,
          10.526315789473683,
          55.55555555555556,
          36.36363636363637,
          71.42857142857143,
          40,
          44.44444444444444,
          70,
          63.1578947368421,
          26.31578947368421,
          40,
          52.63157894736842,
          77.77777777777779,
          40,
          52.63157894736842,
          36.84210526315789,
          38.88888888888889,
          50,
          61.111111111111114,
          50,
          55.55555555555556,
          33.33333333333333,
          50
         ],
         "yaxis": "y"
        }
       ],
       "layout": {
        "legend": {
         "title": {
          "text": "SEASON"
         },
         "tracegroupgap": 0
        },
        "margin": {
         "t": 60
        },
        "template": {
         "data": {
          "bar": [
           {
            "error_x": {
             "color": "#2a3f5f"
            },
            "error_y": {
             "color": "#2a3f5f"
            },
            "marker": {
             "line": {
              "color": "#E5ECF6",
              "width": 0.5
             },
             "pattern": {
              "fillmode": "overlay",
              "size": 10,
              "solidity": 0.2
             }
            },
            "type": "bar"
           }
          ],
          "barpolar": [
           {
            "marker": {
             "line": {
              "color": "#E5ECF6",
              "width": 0.5
             },
             "pattern": {
              "fillmode": "overlay",
              "size": 10,
              "solidity": 0.2
             }
            },
            "type": "barpolar"
           }
          ],
          "carpet": [
           {
            "aaxis": {
             "endlinecolor": "#2a3f5f",
             "gridcolor": "white",
             "linecolor": "white",
             "minorgridcolor": "white",
             "startlinecolor": "#2a3f5f"
            },
            "baxis": {
             "endlinecolor": "#2a3f5f",
             "gridcolor": "white",
             "linecolor": "white",
             "minorgridcolor": "white",
             "startlinecolor": "#2a3f5f"
            },
            "type": "carpet"
           }
          ],
          "choropleth": [
           {
            "colorbar": {
             "outlinewidth": 0,
             "ticks": ""
            },
            "type": "choropleth"
           }
          ],
          "contour": [
           {
            "colorbar": {
             "outlinewidth": 0,
             "ticks": ""
            },
            "colorscale": [
             [
              0,
              "#0d0887"
             ],
             [
              0.1111111111111111,
              "#46039f"
             ],
             [
              0.2222222222222222,
              "#7201a8"
             ],
             [
              0.3333333333333333,
              "#9c179e"
             ],
             [
              0.4444444444444444,
              "#bd3786"
             ],
             [
              0.5555555555555556,
              "#d8576b"
             ],
             [
              0.6666666666666666,
              "#ed7953"
             ],
             [
              0.7777777777777778,
              "#fb9f3a"
             ],
             [
              0.8888888888888888,
              "#fdca26"
             ],
             [
              1,
              "#f0f921"
             ]
            ],
            "type": "contour"
           }
          ],
          "contourcarpet": [
           {
            "colorbar": {
             "outlinewidth": 0,
             "ticks": ""
            },
            "type": "contourcarpet"
           }
          ],
          "heatmap": [
           {
            "colorbar": {
             "outlinewidth": 0,
             "ticks": ""
            },
            "colorscale": [
             [
              0,
              "#0d0887"
             ],
             [
              0.1111111111111111,
              "#46039f"
             ],
             [
              0.2222222222222222,
              "#7201a8"
             ],
             [
              0.3333333333333333,
              "#9c179e"
             ],
             [
              0.4444444444444444,
              "#bd3786"
             ],
             [
              0.5555555555555556,
              "#d8576b"
             ],
             [
              0.6666666666666666,
              "#ed7953"
             ],
             [
              0.7777777777777778,
              "#fb9f3a"
             ],
             [
              0.8888888888888888,
              "#fdca26"
             ],
             [
              1,
              "#f0f921"
             ]
            ],
            "type": "heatmap"
           }
          ],
          "heatmapgl": [
           {
            "colorbar": {
             "outlinewidth": 0,
             "ticks": ""
            },
            "colorscale": [
             [
              0,
              "#0d0887"
             ],
             [
              0.1111111111111111,
              "#46039f"
             ],
             [
              0.2222222222222222,
              "#7201a8"
             ],
             [
              0.3333333333333333,
              "#9c179e"
             ],
             [
              0.4444444444444444,
              "#bd3786"
             ],
             [
              0.5555555555555556,
              "#d8576b"
             ],
             [
              0.6666666666666666,
              "#ed7953"
             ],
             [
              0.7777777777777778,
              "#fb9f3a"
             ],
             [
              0.8888888888888888,
              "#fdca26"
             ],
             [
              1,
              "#f0f921"
             ]
            ],
            "type": "heatmapgl"
           }
          ],
          "histogram": [
           {
            "marker": {
             "pattern": {
              "fillmode": "overlay",
              "size": 10,
              "solidity": 0.2
             }
            },
            "type": "histogram"
           }
          ],
          "histogram2d": [
           {
            "colorbar": {
             "outlinewidth": 0,
             "ticks": ""
            },
            "colorscale": [
             [
              0,
              "#0d0887"
             ],
             [
              0.1111111111111111,
              "#46039f"
             ],
             [
              0.2222222222222222,
              "#7201a8"
             ],
             [
              0.3333333333333333,
              "#9c179e"
             ],
             [
              0.4444444444444444,
              "#bd3786"
             ],
             [
              0.5555555555555556,
              "#d8576b"
             ],
             [
              0.6666666666666666,
              "#ed7953"
             ],
             [
              0.7777777777777778,
              "#fb9f3a"
             ],
             [
              0.8888888888888888,
              "#fdca26"
             ],
             [
              1,
              "#f0f921"
             ]
            ],
            "type": "histogram2d"
           }
          ],
          "histogram2dcontour": [
           {
            "colorbar": {
             "outlinewidth": 0,
             "ticks": ""
            },
            "colorscale": [
             [
              0,
              "#0d0887"
             ],
             [
              0.1111111111111111,
              "#46039f"
             ],
             [
              0.2222222222222222,
              "#7201a8"
             ],
             [
              0.3333333333333333,
              "#9c179e"
             ],
             [
              0.4444444444444444,
              "#bd3786"
             ],
             [
              0.5555555555555556,
              "#d8576b"
             ],
             [
              0.6666666666666666,
              "#ed7953"
             ],
             [
              0.7777777777777778,
              "#fb9f3a"
             ],
             [
              0.8888888888888888,
              "#fdca26"
             ],
             [
              1,
              "#f0f921"
             ]
            ],
            "type": "histogram2dcontour"
           }
          ],
          "mesh3d": [
           {
            "colorbar": {
             "outlinewidth": 0,
             "ticks": ""
            },
            "type": "mesh3d"
           }
          ],
          "parcoords": [
           {
            "line": {
             "colorbar": {
              "outlinewidth": 0,
              "ticks": ""
             }
            },
            "type": "parcoords"
           }
          ],
          "pie": [
           {
            "automargin": true,
            "type": "pie"
           }
          ],
          "scatter": [
           {
            "marker": {
             "colorbar": {
              "outlinewidth": 0,
              "ticks": ""
             }
            },
            "type": "scatter"
           }
          ],
          "scatter3d": [
           {
            "line": {
             "colorbar": {
              "outlinewidth": 0,
              "ticks": ""
             }
            },
            "marker": {
             "colorbar": {
              "outlinewidth": 0,
              "ticks": ""
             }
            },
            "type": "scatter3d"
           }
          ],
          "scattercarpet": [
           {
            "marker": {
             "colorbar": {
              "outlinewidth": 0,
              "ticks": ""
             }
            },
            "type": "scattercarpet"
           }
          ],
          "scattergeo": [
           {
            "marker": {
             "colorbar": {
              "outlinewidth": 0,
              "ticks": ""
             }
            },
            "type": "scattergeo"
           }
          ],
          "scattergl": [
           {
            "marker": {
             "colorbar": {
              "outlinewidth": 0,
              "ticks": ""
             }
            },
            "type": "scattergl"
           }
          ],
          "scattermapbox": [
           {
            "marker": {
             "colorbar": {
              "outlinewidth": 0,
              "ticks": ""
             }
            },
            "type": "scattermapbox"
           }
          ],
          "scatterpolar": [
           {
            "marker": {
             "colorbar": {
              "outlinewidth": 0,
              "ticks": ""
             }
            },
            "type": "scatterpolar"
           }
          ],
          "scatterpolargl": [
           {
            "marker": {
             "colorbar": {
              "outlinewidth": 0,
              "ticks": ""
             }
            },
            "type": "scatterpolargl"
           }
          ],
          "scatterternary": [
           {
            "marker": {
             "colorbar": {
              "outlinewidth": 0,
              "ticks": ""
             }
            },
            "type": "scatterternary"
           }
          ],
          "surface": [
           {
            "colorbar": {
             "outlinewidth": 0,
             "ticks": ""
            },
            "colorscale": [
             [
              0,
              "#0d0887"
             ],
             [
              0.1111111111111111,
              "#46039f"
             ],
             [
              0.2222222222222222,
              "#7201a8"
             ],
             [
              0.3333333333333333,
              "#9c179e"
             ],
             [
              0.4444444444444444,
              "#bd3786"
             ],
             [
              0.5555555555555556,
              "#d8576b"
             ],
             [
              0.6666666666666666,
              "#ed7953"
             ],
             [
              0.7777777777777778,
              "#fb9f3a"
             ],
             [
              0.8888888888888888,
              "#fdca26"
             ],
             [
              1,
              "#f0f921"
             ]
            ],
            "type": "surface"
           }
          ],
          "table": [
           {
            "cells": {
             "fill": {
              "color": "#EBF0F8"
             },
             "line": {
              "color": "white"
             }
            },
            "header": {
             "fill": {
              "color": "#C8D4E3"
             },
             "line": {
              "color": "white"
             }
            },
            "type": "table"
           }
          ]
         },
         "layout": {
          "annotationdefaults": {
           "arrowcolor": "#2a3f5f",
           "arrowhead": 0,
           "arrowwidth": 1
          },
          "autotypenumbers": "strict",
          "coloraxis": {
           "colorbar": {
            "outlinewidth": 0,
            "ticks": ""
           }
          },
          "colorscale": {
           "diverging": [
            [
             0,
             "#8e0152"
            ],
            [
             0.1,
             "#c51b7d"
            ],
            [
             0.2,
             "#de77ae"
            ],
            [
             0.3,
             "#f1b6da"
            ],
            [
             0.4,
             "#fde0ef"
            ],
            [
             0.5,
             "#f7f7f7"
            ],
            [
             0.6,
             "#e6f5d0"
            ],
            [
             0.7,
             "#b8e186"
            ],
            [
             0.8,
             "#7fbc41"
            ],
            [
             0.9,
             "#4d9221"
            ],
            [
             1,
             "#276419"
            ]
           ],
           "sequential": [
            [
             0,
             "#0d0887"
            ],
            [
             0.1111111111111111,
             "#46039f"
            ],
            [
             0.2222222222222222,
             "#7201a8"
            ],
            [
             0.3333333333333333,
             "#9c179e"
            ],
            [
             0.4444444444444444,
             "#bd3786"
            ],
            [
             0.5555555555555556,
             "#d8576b"
            ],
            [
             0.6666666666666666,
             "#ed7953"
            ],
            [
             0.7777777777777778,
             "#fb9f3a"
            ],
            [
             0.8888888888888888,
             "#fdca26"
            ],
            [
             1,
             "#f0f921"
            ]
           ],
           "sequentialminus": [
            [
             0,
             "#0d0887"
            ],
            [
             0.1111111111111111,
             "#46039f"
            ],
            [
             0.2222222222222222,
             "#7201a8"
            ],
            [
             0.3333333333333333,
             "#9c179e"
            ],
            [
             0.4444444444444444,
             "#bd3786"
            ],
            [
             0.5555555555555556,
             "#d8576b"
            ],
            [
             0.6666666666666666,
             "#ed7953"
            ],
            [
             0.7777777777777778,
             "#fb9f3a"
            ],
            [
             0.8888888888888888,
             "#fdca26"
            ],
            [
             1,
             "#f0f921"
            ]
           ]
          },
          "colorway": [
           "#636efa",
           "#EF553B",
           "#00cc96",
           "#ab63fa",
           "#FFA15A",
           "#19d3f3",
           "#FF6692",
           "#B6E880",
           "#FF97FF",
           "#FECB52"
          ],
          "font": {
           "color": "#2a3f5f"
          },
          "geo": {
           "bgcolor": "white",
           "lakecolor": "white",
           "landcolor": "#E5ECF6",
           "showlakes": true,
           "showland": true,
           "subunitcolor": "white"
          },
          "hoverlabel": {
           "align": "left"
          },
          "hovermode": "closest",
          "mapbox": {
           "style": "light"
          },
          "paper_bgcolor": "white",
          "plot_bgcolor": "#E5ECF6",
          "polar": {
           "angularaxis": {
            "gridcolor": "white",
            "linecolor": "white",
            "ticks": ""
           },
           "bgcolor": "#E5ECF6",
           "radialaxis": {
            "gridcolor": "white",
            "linecolor": "white",
            "ticks": ""
           }
          },
          "scene": {
           "xaxis": {
            "backgroundcolor": "#E5ECF6",
            "gridcolor": "white",
            "gridwidth": 2,
            "linecolor": "white",
            "showbackground": true,
            "ticks": "",
            "zerolinecolor": "white"
           },
           "yaxis": {
            "backgroundcolor": "#E5ECF6",
            "gridcolor": "white",
            "gridwidth": 2,
            "linecolor": "white",
            "showbackground": true,
            "ticks": "",
            "zerolinecolor": "white"
           },
           "zaxis": {
            "backgroundcolor": "#E5ECF6",
            "gridcolor": "white",
            "gridwidth": 2,
            "linecolor": "white",
            "showbackground": true,
            "ticks": "",
            "zerolinecolor": "white"
           }
          },
          "shapedefaults": {
           "line": {
            "color": "#2a3f5f"
           }
          },
          "ternary": {
           "aaxis": {
            "gridcolor": "white",
            "linecolor": "white",
            "ticks": ""
           },
           "baxis": {
            "gridcolor": "white",
            "linecolor": "white",
            "ticks": ""
           },
           "bgcolor": "#E5ECF6",
           "caxis": {
            "gridcolor": "white",
            "linecolor": "white",
            "ticks": ""
           }
          },
          "title": {
           "x": 0.05
          },
          "xaxis": {
           "automargin": true,
           "gridcolor": "white",
           "linecolor": "white",
           "ticks": "",
           "title": {
            "standoff": 15
           },
           "zerolinecolor": "white",
           "zerolinewidth": 2
          },
          "yaxis": {
           "automargin": true,
           "gridcolor": "white",
           "linecolor": "white",
           "ticks": "",
           "title": {
            "standoff": 15
           },
           "zerolinecolor": "white",
           "zerolinewidth": 2
          }
         }
        },
        "title": {
         "text": "3PTS vs Win Pct by Team"
        },
        "xaxis": {
         "anchor": "y",
         "domain": [
          0,
          1
         ],
         "range": [
          5,
          60
         ],
         "title": {
          "text": "<b>PTS from 3-Pointers</b>"
         }
        },
        "yaxis": {
         "anchor": "x",
         "domain": [
          0,
          1
         ],
         "range": [
          0,
          100
         ],
         "title": {
          "text": "<b>Win Percentage</b>"
         }
        }
       }
      },
      "text/html": [
       "<div>                            <div id=\"2f043960-5aba-46cc-8200-68f04ec97e3c\" class=\"plotly-graph-div\" style=\"height:525px; width:100%;\"></div>            <script type=\"text/javascript\">                require([\"plotly\"], function(Plotly) {                    window.PLOTLYENV=window.PLOTLYENV || {};                                    if (document.getElementById(\"2f043960-5aba-46cc-8200-68f04ec97e3c\")) {                    Plotly.newPlot(                        \"2f043960-5aba-46cc-8200-68f04ec97e3c\",                        [{\"hovertemplate\":\"<b>%{hovertext}</b><br><br>SEASON=2003<br>FG3A=%{x}<br>win_%=%{y}<extra></extra>\",\"hovertext\":[\"ATL\",\"BOS\",\"CLE\",\"NOP\",\"CHI\",\"DAL\",\"DEN\",\"GSW\",\"HOU\",\"LAC\",\"LAL\",\"MIA\",\"MIL\",\"MIN\",\"BKN\",\"NYK\",\"ORL\",\"IND\",\"PHI\",\"PHX\",\"POR\",\"SAC\",\"SAS\",\"OKC\",\"TOR\",\"UTA\",\"MEM\",\"WAS\",\"DET\"],\"legendgroup\":\"2003\",\"marker\":{\"color\":\"#636efa\",\"symbol\":\"circle\"},\"mode\":\"markers\",\"name\":\"2003\",\"orientation\":\"v\",\"showlegend\":true,\"x\":[15.132530120481928,19.264367816091955,9.571428571428571,20.066666666666666,15.168674698795181,17.49438202247191,12.022988505747126,15.646341463414634,17.0,12.46987951807229,13.990384615384615,16.041666666666668,13.977272727272727,11.7,13.957446808510639,13.655172413793103,15.107142857142858,15.8989898989899,12.024096385542169,14.626506024096386,13.36144578313253,17.978947368421053,14.445652173913043,23.433734939759034,15.710843373493976,9.55421686746988,15.862068965517242,15.392857142857142,12.177570093457945],\"xaxis\":\"x\",\"y\":[36.666666666666664,42.5531914893617,45.55555555555556,51.546391752577314,28.888888888888886,60.0,52.63157894736842,46.06741573033708,50.526315789473685,33.33333333333333,61.60714285714286,50.98039215686274,48.421052631578945,66.66666666666666,57.42574257425742,44.680851063829785,25.555555555555554,71.69811320754717,41.11111111111111,37.77777777777778,50.0,65.68627450980392,66.0,47.77777777777778,41.57303370786517,51.11111111111111,58.06451612903226,33.33333333333333,63.716814159292035],\"yaxis\":\"y\",\"type\":\"scatter\"},{\"hovertemplate\":\"<b>%{hovertext}</b><br><br>SEASON=2004<br>FG3A=%{x}<br>win_%=%{y}<extra></extra>\",\"hovertext\":[\"ATL\",\"BOS\",\"CLE\",\"NOP\",\"CHI\",\"DAL\",\"DEN\",\"GSW\",\"HOU\",\"LAC\",\"LAL\",\"MIA\",\"MIL\",\"MIN\",\"BKN\",\"NYK\",\"ORL\",\"IND\",\"PHI\",\"PHX\",\"POR\",\"SAC\",\"SAS\",\"OKC\",\"TOR\",\"UTA\",\"MEM\",\"WAS\",\"DET\",\"CHA\"],\"legendgroup\":\"2004\",\"marker\":{\"color\":\"#EF553B\",\"symbol\":\"circle\"},\"mode\":\"markers\",\"name\":\"2004\",\"orientation\":\"v\",\"showlegend\":true,\"x\":[11.869047619047619,15.065217391304348,10.821428571428571,16.0,17.934065934065934,15.646464646464647,11.347826086956522,21.24705882352941,18.36263736263736,8.267441860465116,22.0,15.33,11.19047619047619,13.895348837209303,14.833333333333334,14.976744186046512,11.25,19.0,17.7,23.72,14.116279069767442,17.10989010989011,17.14814814814815,21.427083333333332,20.476744186046513,9.186046511627907,17.863636363636363,18.16842105263158,13.054054054054054,10.694117647058823],\"xaxis\":\"x\",\"y\":[15.476190476190476,53.2608695652174,51.19047619047619,21.176470588235293,54.94505494505495,66.66666666666666,59.78260869565217,42.35294117647059,59.34065934065934,44.18604651162791,42.168674698795186,71.0,36.904761904761905,53.48837209302325,48.888888888888886,41.86046511627907,45.23809523809524,53.0,51.11111111111111,74.0,32.55813953488372,57.14285714285714,72.22222222222221,61.458333333333336,40.69767441860465,31.3953488372093,52.27272727272727,52.63157894736842,63.96396396396396,23.52941176470588],\"yaxis\":\"y\",\"type\":\"scatter\",\"visible\":\"legendonly\"},{\"hovertemplate\":\"<b>%{hovertext}</b><br><br>SEASON=2005<br>FG3A=%{x}<br>win_%=%{y}<extra></extra>\",\"hovertext\":[\"ATL\",\"BOS\",\"CLE\",\"NOP\",\"CHI\",\"DAL\",\"DEN\",\"GSW\",\"HOU\",\"LAC\",\"LAL\",\"MIA\",\"MIL\",\"MIN\",\"BKN\",\"NYK\",\"ORL\",\"IND\",\"PHI\",\"PHX\",\"POR\",\"SAC\",\"SAS\",\"OKC\",\"TOR\",\"UTA\",\"MEM\",\"WAS\",\"DET\",\"CHA\"],\"legendgroup\":\"2005\",\"marker\":{\"color\":\"#00cc96\",\"symbol\":\"circle\"},\"mode\":\"markers\",\"name\":\"2005\",\"orientation\":\"v\",\"showlegend\":true,\"x\":[13.539325842696629,15.244444444444444,17.349514563106798,11.337078651685394,17.8125,13.5929203539823,13.052631578947368,22.258426966292134,16.98876404494382,10.554455445544555,18.814432989690722,17.8125,15.778947368421052,11.966666666666667,17.03960396039604,10.393258426966293,9.920454545454545,18.4375,12.674157303370787,25.144144144144143,12.766666666666667,17.020833333333332,16.436893203883496,19.584269662921347,19.426966292134832,11.03370786516854,18.763440860215052,16.854166666666668,17.416666666666668,15.244444444444444],\"xaxis\":\"x\",\"y\":[32.58426966292135,40.0,60.19417475728155,44.9438202247191,47.91666666666667,70.79646017699115,54.736842105263165,40.44943820224719,44.9438202247191,58.415841584158414,55.670103092783506,63.39285714285714,46.31578947368421,41.11111111111111,58.415841584158414,29.213483146067414,45.45454545454545,50.0,46.06741573033708,63.63636363636363,25.555555555555554,51.041666666666664,68.93203883495146,42.69662921348314,33.70786516853933,48.31460674157304,58.06451612903226,48.95833333333333,72.22222222222221,32.22222222222222],\"yaxis\":\"y\",\"type\":\"scatter\",\"visible\":\"legendonly\"},{\"hovertemplate\":\"<b>%{hovertext}</b><br><br>SEASON=2006<br>FG3A=%{x}<br>win_%=%{y}<extra></extra>\",\"hovertext\":[\"ATL\",\"BOS\",\"CLE\",\"NOP\",\"CHI\",\"DAL\",\"DEN\",\"GSW\",\"HOU\",\"LAC\",\"LAL\",\"MIA\",\"MIL\",\"MIN\",\"BKN\",\"NYK\",\"ORL\",\"IND\",\"PHI\",\"PHX\",\"POR\",\"SAC\",\"SAS\",\"OKC\",\"TOR\",\"UTA\",\"MEM\",\"WAS\",\"DET\",\"CHA\"],\"legendgroup\":\"2006\",\"marker\":{\"color\":\"#ab63fa\",\"symbol\":\"circle\"},\"mode\":\"markers\",\"name\":\"2006\",\"orientation\":\"v\",\"showlegend\":true,\"x\":[12.9,15.444444444444445,16.807339449541285,15.134831460674157,14.88,17.270833333333332,17.96808510638298,24.272727272727273,23.364583333333332,11.159090909090908,20.6,18.64516129032258,17.988888888888887,13.133333333333333,20.313725490196077,16.693181818181817,11.617021276595745,16.355555555555554,10.160919540229886,23.585858585858585,14.9,18.3,19.121495327102803,17.533333333333335,17.957894736842107,12.77570093457944,16.177777777777777,19.340425531914892,15.70754716981132,15.355555555555556],\"xaxis\":\"x\",\"y\":[38.88888888888889,30.0,57.798165137614674,46.06741573033708,61.0,75.0,53.191489361702125,52.52525252525253,62.5,50.0,49.473684210526315,49.46236559139785,34.44444444444444,41.11111111111111,49.01960784313725,42.04545454545455,48.93617021276596,42.22222222222222,42.5287356321839,69.6969696969697,37.77777777777778,42.22222222222222,71.02803738317756,38.88888888888889,57.89473684210527,59.813084112149525,28.888888888888886,47.87234042553192,64.15094339622641,38.88888888888889],\"yaxis\":\"y\",\"type\":\"scatter\",\"visible\":\"legendonly\"},{\"hovertemplate\":\"<b>%{hovertext}</b><br><br>SEASON=2007<br>FG3A=%{x}<br>win_%=%{y}<extra></extra>\",\"hovertext\":[\"ATL\",\"BOS\",\"CLE\",\"NOP\",\"CHI\",\"DAL\",\"DEN\",\"GSW\",\"HOU\",\"LAC\",\"LAL\",\"MIA\",\"MIL\",\"MIN\",\"BKN\",\"NYK\",\"ORL\",\"IND\",\"PHI\",\"PHX\",\"POR\",\"SAC\",\"SAS\",\"OKC\",\"TOR\",\"UTA\",\"MEM\",\"WAS\",\"DET\",\"CHA\"],\"legendgroup\":\"2007\",\"marker\":{\"color\":\"#FFA15A\",\"symbol\":\"circle\"},\"mode\":\"markers\",\"name\":\"2007\",\"orientation\":\"v\",\"showlegend\":true,\"x\":[12.88659793814433,18.46086956521739,18.712871287128714,19.06930693069307,15.808988764044944,16.88421052631579,19.516129032258064,26.448275862068964,20.516129032258064,13.0561797752809,20.743119266055047,16.584269662921347,15.853932584269662,15.352272727272727,17.329545454545453,17.627906976744185,24.816326530612244,24.370786516853933,11.351063829787234,21.4468085106383,17.25,16.764044943820224,19.596153846153847,11.50561797752809,18.288888888888888,13.584158415841584,21.701149425287355,19.29787234042553,15.607476635514018,17.325842696629213],\"xaxis\":\"x\",\"y\":[48.45360824742268,74.78260869565217,52.475247524752476,65.34653465346535,41.57303370786517,60.0,58.06451612903226,58.620689655172406,63.44086021505376,30.337078651685395,66.97247706422019,16.853932584269664,32.58426966292135,26.136363636363637,42.04545454545455,29.069767441860467,63.26530612244898,46.06741573033708,46.808510638297875,64.8936170212766,51.13636363636363,46.06741573033708,65.38461538461539,23.595505617977526,48.888888888888886,63.366336633663366,29.88505747126437,51.06382978723404,68.22429906542055,38.20224719101123],\"yaxis\":\"y\",\"type\":\"scatter\",\"visible\":\"legendonly\"},{\"hovertemplate\":\"<b>%{hovertext}</b><br><br>SEASON=2008<br>FG3A=%{x}<br>win_%=%{y}<extra></extra>\",\"hovertext\":[\"ATL\",\"BOS\",\"CLE\",\"NOP\",\"CHI\",\"DAL\",\"DEN\",\"GSW\",\"HOU\",\"LAC\",\"LAL\",\"MIA\",\"MIL\",\"MIN\",\"BKN\",\"NYK\",\"ORL\",\"IND\",\"PHI\",\"PHX\",\"POR\",\"SAC\",\"SAS\",\"OKC\",\"TOR\",\"UTA\",\"MEM\",\"WAS\",\"DET\",\"CHA\"],\"legendgroup\":\"2008\",\"marker\":{\"color\":\"#19d3f3\",\"symbol\":\"circle\"},\"mode\":\"markers\",\"name\":\"2008\",\"orientation\":\"v\",\"showlegend\":true,\"x\":[19.396039603960396,16.778846153846153,19.826923076923077,18.76595744680851,16.103092783505154,19.73,18.104761904761904,18.04597701149425,20.215686274509803,18.359550561797754,18.241071428571427,19.708333333333332,16.7,18.81111111111111,20.696629213483146,27.8876404494382,25.321428571428573,20.955555555555556,13.368421052631579,17.488888888888887,18.589473684210525,19.08888888888889,19.819148936170212,11.438202247191011,15.674157303370787,13.53191489361702,13.7,14.752808988764045,12.98936170212766,16.08888888888889],\"xaxis\":\"x\",\"y\":[55.44554455445545,72.11538461538461,75.96153846153845,60.63829787234043,49.48453608247423,59.0,66.66666666666666,36.7816091954023,63.725490196078425,24.719101123595504,76.78571428571429,50.0,38.88888888888889,33.33333333333333,41.57303370786517,39.325842696629216,68.75,44.44444444444444,49.473684210526315,56.666666666666664,63.1578947368421,20.0,61.702127659574465,26.96629213483146,40.44943820224719,56.38297872340425,28.888888888888886,23.595505617977526,47.87234042553192,38.88888888888889],\"yaxis\":\"y\",\"type\":\"scatter\",\"visible\":\"legendonly\"},{\"hovertemplate\":\"<b>%{hovertext}</b><br><br>SEASON=2009<br>FG3A=%{x}<br>win_%=%{y}<extra></extra>\",\"hovertext\":[\"ATL\",\"BOS\",\"CLE\",\"NOP\",\"CHI\",\"DAL\",\"DEN\",\"GSW\",\"HOU\",\"LAC\",\"LAL\",\"MIA\",\"MIL\",\"MIN\",\"BKN\",\"NYK\",\"ORL\",\"IND\",\"PHI\",\"PHX\",\"POR\",\"SAC\",\"SAS\",\"OKC\",\"TOR\",\"UTA\",\"MEM\",\"WAS\",\"DET\",\"CHA\"],\"legendgroup\":\"2009\",\"marker\":{\"color\":\"#FF6692\",\"symbol\":\"circle\"},\"mode\":\"markers\",\"name\":\"2009\",\"orientation\":\"v\",\"showlegend\":true,\"x\":[16.92,17.24561403508772,19.3,19.27777777777778,12.810526315789474,18.263157894736842,18.042105263157893,20.18888888888889,22.155555555555555,17.741573033707866,19.336283185840706,17.638297872340427,22.123711340206185,14.5,14.370786516853933,26.522727272727273,27.182692307692307,23.48314606741573,16.5,21.8,16.677083333333332,16.97752808988764,18.285714285714285,15.08421052631579,16.844444444444445,14.666666666666666,12.7,14.88888888888889,14.255555555555556,16.29787234042553],\"xaxis\":\"x\",\"y\":[62.0,62.28070175438597,70.0,43.333333333333336,50.526315789473685,65.26315789473685,61.05263157894737,33.33333333333333,51.11111111111111,38.20224719101123,69.91150442477876,53.191489361702125,53.608247422680414,20.0,14.606741573033707,37.5,74.03846153846155,39.325842696629216,35.55555555555556,63.8095238095238,58.333333333333336,30.337078651685395,58.16326530612245,56.84210526315789,46.666666666666664,62.62626262626263,47.77777777777778,33.33333333333333,34.44444444444444,48.93617021276596],\"yaxis\":\"y\",\"type\":\"scatter\",\"visible\":\"legendonly\"},{\"hovertemplate\":\"<b>%{hovertext}</b><br><br>SEASON=2010<br>FG3A=%{x}<br>win_%=%{y}<extra></extra>\",\"hovertext\":[\"ATL\",\"BOS\",\"CLE\",\"NOP\",\"CHI\",\"DAL\",\"DEN\",\"GSW\",\"HOU\",\"LAC\",\"LAL\",\"MIA\",\"MIL\",\"MIN\",\"BKN\",\"NYK\",\"ORL\",\"IND\",\"PHI\",\"PHX\",\"POR\",\"SAC\",\"SAS\",\"OKC\",\"TOR\",\"UTA\",\"MEM\",\"WAS\",\"DET\",\"CHA\"],\"legendgroup\":\"2010\",\"marker\":{\"color\":\"#B6E880\",\"symbol\":\"circle\"},\"mode\":\"markers\",\"name\":\"2010\",\"orientation\":\"v\",\"showlegend\":true,\"x\":[16.92079207920792,13.808080808080808,17.876404494382022,15.322916666666666,17.4811320754717,21.36936936936937,20.86315789473684,21.055555555555557,21.988888888888887,18.933333333333334,18.03030303030303,17.98165137614679,17.322222222222223,19.11111111111111,16.247191011235955,25.301075268817204,25.53684210526316,20.20212765957447,15.404255319148936,22.533333333333335,18.28421052631579,15.595505617977528,20.627659574468087,17.695238095238096,13.411111111111111,14.977777777777778,11.42156862745098,14.719101123595506,15.522222222222222,14.333333333333334],\"xaxis\":\"x\",\"y\":[51.48514851485149,68.68686868686868,28.08988764044944,51.041666666666664,70.75471698113208,69.36936936936937,58.94736842105262,43.333333333333336,52.22222222222223,36.666666666666664,65.65656565656566,67.88990825688074,42.22222222222222,25.555555555555554,29.213483146067414,47.31182795698925,64.21052631578948,43.61702127659575,46.808510638297875,46.666666666666664,55.78947368421052,30.337078651685395,70.2127659574468,63.8095238095238,28.888888888888886,52.22222222222223,58.82352941176471,29.213483146067414,36.666666666666664,42.22222222222222],\"yaxis\":\"y\",\"type\":\"scatter\",\"visible\":\"legendonly\"},{\"hovertemplate\":\"<b>%{hovertext}</b><br><br>SEASON=2011<br>FG3A=%{x}<br>win_%=%{y}<extra></extra>\",\"hovertext\":[\"ATL\",\"BOS\",\"CLE\",\"NOP\",\"CHI\",\"DAL\",\"DEN\",\"GSW\",\"HOU\",\"LAC\",\"LAL\",\"MIA\",\"MIL\",\"MIN\",\"BKN\",\"NYK\",\"ORL\",\"IND\",\"PHI\",\"PHX\",\"POR\",\"SAC\",\"SAS\",\"OKC\",\"TOR\",\"UTA\",\"MEM\",\"WAS\",\"DET\",\"CHA\"],\"legendgroup\":\"2011\",\"marker\":{\"color\":\"#FF97FF\",\"symbol\":\"circle\"},\"mode\":\"markers\",\"name\":\"2011\",\"orientation\":\"v\",\"showlegend\":true,\"x\":[19.85135135135135,15.090909090909092,19.33823529411765,11.720588235294118,16.41891891891892,22.09722222222222,19.786666666666665,20.323529411764707,20.11764705882353,21.126582278481013,16.9875,16.615384615384617,19.176470588235293,21.5,22.176470588235293,23.08219178082192,26.931506849315067,16.29113924050633,14.407407407407407,19.735294117647058,20.985294117647058,19.808823529411764,21.426829268292682,19.875,16.33823529411765,12.75,12.88,16.294117647058822,14.014705882352942,13.5],\"xaxis\":\"x\",\"y\":[58.108108108108105,59.09090909090909,32.35294117647059,33.82352941176471,72.97297297297297,50.0,57.333333333333336,35.294117647058826,51.470588235294116,58.22784810126582,57.49999999999999,69.23076923076923,45.588235294117645,41.17647058823529,32.35294117647059,53.42465753424658,53.42465753424658,60.75949367088608,54.32098765432099,48.529411764705884,42.64705882352941,33.82352941176471,74.39024390243902,70.45454545454545,33.82352941176471,51.388888888888886,58.666666666666664,29.411764705882355,38.23529411764706,11.76470588235294],\"yaxis\":\"y\",\"type\":\"scatter\",\"visible\":\"legendonly\"},{\"hovertemplate\":\"<b>%{hovertext}</b><br><br>SEASON=2012<br>FG3A=%{x}<br>win_%=%{y}<extra></extra>\",\"hovertext\":[\"ATL\",\"BOS\",\"CLE\",\"NOP\",\"CHI\",\"DAL\",\"DEN\",\"GSW\",\"HOU\",\"LAC\",\"LAL\",\"MIA\",\"MIL\",\"MIN\",\"BKN\",\"NYK\",\"ORL\",\"IND\",\"PHI\",\"PHX\",\"POR\",\"SAC\",\"SAS\",\"OKC\",\"TOR\",\"UTA\",\"MEM\",\"WAS\",\"DET\",\"CHA\"],\"legendgroup\":\"2012\",\"marker\":{\"color\":\"#FECB52\",\"symbol\":\"circle\"},\"mode\":\"markers\",\"name\":\"2012\",\"orientation\":\"v\",\"showlegend\":true,\"x\":[22.810526315789474,17.397849462365592,19.25,18.166666666666668,15.425742574257425,20.045454545454547,18.842105263157894,20.059405940594058,28.94736842105263,20.708333333333332,23.73404255319149,21.84070796460177,20.5531914893617,18.0,21.45263157894737,28.33,18.488888888888887,19.289719626168225,17.707865168539325,17.808988764044944,23.370786516853933,20.48314606741573,21.440366972477065,19.99,20.488636363636363,16.555555555555557,13.826923076923077,18.544444444444444,17.677777777777777,17.455555555555556],\"xaxis\":\"x\",\"y\":[51.578947368421055,48.38709677419355,29.545454545454547,34.44444444444444,54.45544554455446,50.0,65.26315789473685,57.42574257425742,54.736842105263165,65.625,47.87234042553192,76.10619469026548,43.61702127659575,39.77272727272727,57.89473684210527,63.0,24.444444444444443,59.813084112149525,44.9438202247191,32.58426966292135,40.44943820224719,37.07865168539326,69.72477064220183,69.0,44.31818181818182,53.333333333333336,64.42307692307693,35.55555555555556,36.666666666666664,24.444444444444443],\"yaxis\":\"y\",\"type\":\"scatter\",\"visible\":\"legendonly\"},{\"hovertemplate\":\"<b>%{hovertext}</b><br><br>SEASON=2013<br>FG3A=%{x}<br>win_%=%{y}<extra></extra>\",\"hovertext\":[\"ATL\",\"BOS\",\"CLE\",\"NOP\",\"CHI\",\"DAL\",\"DEN\",\"GSW\",\"HOU\",\"LAC\",\"LAL\",\"MIA\",\"MIL\",\"MIN\",\"BKN\",\"NYK\",\"ORL\",\"IND\",\"PHI\",\"PHX\",\"POR\",\"SAC\",\"SAS\",\"OKC\",\"TOR\",\"UTA\",\"MEM\",\"WAS\",\"DET\",\"CHA\"],\"legendgroup\":\"2013\",\"marker\":{\"color\":\"#636efa\",\"symbol\":\"circle\"},\"mode\":\"markers\",\"name\":\"2013\",\"orientation\":\"v\",\"showlegend\":true,\"x\":[26.083333333333332,21.27777777777778,19.977777777777778,15.966666666666667,17.757894736842104,22.587628865979383,23.359550561797754,24.729166666666668,26.694736842105264,24.038834951456312,24.855555555555554,22.527272727272727,18.772727272727273,21.568181818181817,23.356435643564357,24.93258426966292,19.544444444444444,19.027522935779817,22.625,24.84090909090909,24.73,18.247191011235955,21.414414414414413,22.439252336448597,23.020833333333332,19.07777777777778,14.239583333333334,20.59,19.337078651685392,18.01063829787234],\"xaxis\":\"x\",\"y\":[43.75,30.0,41.11111111111111,45.55555555555556,60.0,57.73195876288659,42.69662921348314,59.375,65.26315789473685,66.01941747572816,34.44444444444444,65.45454545454545,18.181818181818183,50.0,53.46534653465347,43.82022471910113,27.77777777777778,63.30275229357798,22.727272727272727,59.09090909090909,64.0,37.07865168539326,72.07207207207207,67.28971962616822,59.375,28.888888888888886,58.333333333333336,52.0,35.95505617977528,51.06382978723404],\"yaxis\":\"y\",\"type\":\"scatter\",\"visible\":\"legendonly\"},{\"hovertemplate\":\"<b>%{hovertext}</b><br><br>SEASON=2014<br>FG3A=%{x}<br>win_%=%{y}<extra></extra>\",\"hovertext\":[\"ATL\",\"BOS\",\"CLE\",\"NOP\",\"CHI\",\"DAL\",\"DEN\",\"GSW\",\"HOU\",\"LAC\",\"LAL\",\"MIA\",\"MIL\",\"MIN\",\"BKN\",\"NYK\",\"ORL\",\"IND\",\"PHI\",\"PHX\",\"POR\",\"SAC\",\"SAS\",\"OKC\",\"TOR\",\"UTA\",\"MEM\",\"WAS\",\"DET\",\"CHA\"],\"legendgroup\":\"2014\",\"marker\":{\"color\":\"#EF553B\",\"symbol\":\"circle\"},\"mode\":\"markers\",\"name\":\"2014\",\"orientation\":\"v\",\"showlegend\":true,\"x\":[26.590476190476192,24.861702127659573,27.703703703703702,19.70967741935484,22.637254901960784,25.68421052631579,24.1,27.55855855855856,31.57943925233645,26.625,18.08888888888889,20.533333333333335,18.42105263157895,14.92134831460674,20.311827956989248,19.910112359550563,19.247191011235955,21.235955056179776,25.766666666666666,25.136363636363637,26.817204301075268,16.34090909090909,22.914893617021278,22.685393258426966,24.849462365591396,21.644444444444446,15.16,17.31313131313131,24.876404494382022,19.288888888888888],\"xaxis\":\"x\",\"y\":[68.57142857142857,47.87234042553192,65.74074074074075,53.76344086021505,58.82352941176471,57.89473684210527,35.55555555555556,80.18018018018019,66.35514018691589,62.5,26.666666666666668,45.55555555555556,48.421052631578945,23.595505617977526,46.236559139784944,22.47191011235955,31.46067415730337,46.06741573033708,22.22222222222222,48.86363636363637,59.13978494623656,35.22727272727273,62.76595744680851,52.80898876404494,59.13978494623656,47.77777777777778,63.0,55.55555555555556,41.57303370786517,40.0],\"yaxis\":\"y\",\"type\":\"scatter\",\"visible\":\"legendonly\"},{\"hovertemplate\":\"<b>%{hovertext}</b><br><br>SEASON=2015<br>FG3A=%{x}<br>win_%=%{y}<extra></extra>\",\"hovertext\":[\"ATL\",\"BOS\",\"CLE\",\"NOP\",\"CHI\",\"DAL\",\"DEN\",\"GSW\",\"HOU\",\"LAC\",\"LAL\",\"MIA\",\"MIL\",\"MIN\",\"BKN\",\"NYK\",\"ORL\",\"IND\",\"PHI\",\"PHX\",\"POR\",\"SAC\",\"SAS\",\"OKC\",\"TOR\",\"UTA\",\"MEM\",\"WAS\",\"DET\",\"CHA\"],\"legendgroup\":\"2015\",\"marker\":{\"color\":\"#00cc96\",\"symbol\":\"circle\"},\"mode\":\"markers\",\"name\":\"2015\",\"orientation\":\"v\",\"showlegend\":true,\"x\":[28.484848484848484,26.365591397849464,29.772727272727273,24.03370786516854,22.033333333333335,28.074468085106382,23.651685393258425,31.292035398230087,31.073684210526316,26.085106382978722,24.415730337078653,18.53846153846154,15.931818181818182,16.674157303370787,18.597701149425287,21.49425287356322,22.471910112359552,23.03125,27.752808988764045,25.920454545454547,28.91,22.65909090909091,18.683673469387756,23.99047619047619,23.110091743119266,23.56179775280899,18.434782608695652,24.193181818181817,26.095744680851062,28.298969072164947],\"xaxis\":\"x\",\"y\":[56.56565656565656,58.06451612903226,67.27272727272727,37.07865168539326,51.11111111111111,45.744680851063826,41.57303370786517,80.53097345132744,47.368421052631575,61.702127659574465,21.34831460674157,56.730769230769226,39.77272727272727,34.831460674157306,26.436781609195403,40.229885057471265,44.9438202247191,55.208333333333336,13.48314606741573,30.681818181818183,52.0,43.18181818181818,76.53061224489795,66.66666666666666,65.13761467889908,48.31460674157304,51.08695652173913,50.0,50.0,59.79381443298969],\"yaxis\":\"y\",\"type\":\"scatter\",\"visible\":\"legendonly\"},{\"hovertemplate\":\"<b>%{hovertext}</b><br><br>SEASON=2016<br>FG3A=%{x}<br>win_%=%{y}<extra></extra>\",\"hovertext\":[\"ATL\",\"BOS\",\"CLE\",\"NOP\",\"CHI\",\"DAL\",\"DEN\",\"GSW\",\"HOU\",\"LAC\",\"LAL\",\"MIA\",\"MIL\",\"MIN\",\"BKN\",\"NYK\",\"ORL\",\"IND\",\"PHI\",\"PHX\",\"POR\",\"SAC\",\"SAS\",\"OKC\",\"TOR\",\"UTA\",\"MEM\",\"WAS\",\"DET\",\"CHA\"],\"legendgroup\":\"2016\",\"marker\":{\"color\":\"#ab63fa\",\"symbol\":\"circle\"},\"mode\":\"markers\",\"name\":\"2016\",\"orientation\":\"v\",\"showlegend\":true,\"x\":[25.894736842105264,33.345794392523366,33.5,26.522727272727273,22.54736842105263,29.921348314606742,28.477777777777778,31.71698113207547,39.91919191919192,26.957894736842107,26.055555555555557,27.066666666666666,23.393617021276597,21.123595505617978,31.738636363636363,24.818181818181817,25.876404494382022,23.26086956521739,29.53932584269663,22.397727272727273,27.869565217391305,23.75862068965517,23.48076923076923,25.747252747252748,24.071428571428573,25.622448979591837,26.47872340425532,24.892156862745097,23.227272727272727,28.382022471910112],\"xaxis\":\"x\",\"y\":[52.63157894736842,62.616822429906534,62.264150943396224,39.77272727272727,48.421052631578945,39.325842696629216,48.888888888888886,83.9622641509434,65.65656565656566,60.0,31.11111111111111,50.0,50.0,40.44943820224719,23.863636363636363,39.77272727272727,34.831460674157306,48.91304347826087,33.70786516853933,31.818181818181817,47.82608695652174,39.08045977011494,70.1923076923077,54.94505494505495,59.183673469387756,59.183673469387756,52.12765957446809,58.82352941176471,45.45454545454545,43.82022471910113],\"yaxis\":\"y\",\"type\":\"scatter\",\"visible\":\"legendonly\"},{\"hovertemplate\":\"<b>%{hovertext}</b><br><br>SEASON=2017<br>FG3A=%{x}<br>win_%=%{y}<extra></extra>\",\"hovertext\":[\"ATL\",\"BOS\",\"CLE\",\"NOP\",\"CHI\",\"DAL\",\"DEN\",\"GSW\",\"HOU\",\"LAC\",\"LAL\",\"MIA\",\"MIL\",\"MIN\",\"BKN\",\"NYK\",\"ORL\",\"IND\",\"PHI\",\"PHX\",\"POR\",\"SAC\",\"SAS\",\"OKC\",\"TOR\",\"UTA\",\"MEM\",\"WAS\",\"DET\",\"CHA\"],\"legendgroup\":\"2017\",\"marker\":{\"color\":\"#FFA15A\",\"symbol\":\"circle\"},\"mode\":\"markers\",\"name\":\"2017\",\"orientation\":\"v\",\"showlegend\":true,\"x\":[31.03448275862069,30.447619047619046,31.63302752293578,28.063157894736843,31.295454545454547,33.10227272727273,30.839080459770116,29.485981308411215,42.19417475728155,26.701149425287355,28.806818181818183,30.408602150537636,24.989247311827956,22.488888888888887,35.52325581395349,23.39080459770115,29.352272727272727,24.66304347826087,29.824742268041238,27.930232558139537,28.285714285714285,23.795454545454547,24.434782608695652,30.32967032967033,32.78350515463917,29.5625,26.03448275862069,26.293478260869566,28.64367816091954,27.344827586206897],\"xaxis\":\"x\",\"y\":[29.88505747126437,66.66666666666666,57.798165137614674,56.84210526315789,34.090909090909086,31.818181818181817,56.32183908045977,71.02803738317756,76.69902912621359,50.57471264367817,42.04545454545455,51.61290322580645,51.61290322580645,55.55555555555556,36.04651162790697,33.33333333333333,31.818181818181817,57.608695652173914,60.824742268041234,25.581395348837212,58.24175824175825,31.818181818181817,55.434782608695656,57.14285714285714,68.04123711340206,58.333333333333336,28.735632183908045,52.17391304347826,47.12643678160919,43.67816091954023],\"yaxis\":\"y\",\"type\":\"scatter\",\"visible\":\"legendonly\"},{\"hovertemplate\":\"<b>%{hovertext}</b><br><br>SEASON=2018<br>FG3A=%{x}<br>win_%=%{y}<extra></extra>\",\"hovertext\":[\"ATL\",\"BOS\",\"CLE\",\"NOP\",\"CHI\",\"DAL\",\"DEN\",\"GSW\",\"HOU\",\"LAC\",\"LAL\",\"MIA\",\"MIL\",\"MIN\",\"BKN\",\"NYK\",\"ORL\",\"IND\",\"PHI\",\"PHX\",\"POR\",\"SAC\",\"SAS\",\"OKC\",\"TOR\",\"UTA\",\"MEM\",\"WAS\",\"DET\",\"CHA\"],\"legendgroup\":\"2018\",\"marker\":{\"color\":\"#19d3f3\",\"symbol\":\"circle\"},\"mode\":\"markers\",\"name\":\"2018\",\"orientation\":\"v\",\"showlegend\":true,\"x\":[37.04597701149425,34.357894736842105,28.8953488372093,30.25287356321839,26.114942528735632,36.64705882352941,30.92,33.85321100917431,45.123711340206185,26.153846153846153,30.375,32.48863636363637,38.277227722772274,28.551724137931036,35.97802197802198,29.2183908045977,32.010989010989015,25.633333333333333,30.11340206185567,29.27906976744186,31.04854368932039,29.620689655172413,24.71276595744681,32.417582417582416,33.9,34.05555555555556,28.770114942528735,33.44186046511628,35.065934065934066,33.89655172413793],\"xaxis\":\"x\",\"y\":[35.63218390804598,57.89473684210527,24.418604651162788,37.93103448275862,27.586206896551722,40.0,64.0,66.05504587155964,63.91752577319587,58.24175824175825,45.45454545454545,47.72727272727273,72.27722772277228,42.5287356321839,49.45054945054945,22.988505747126435,48.35164835164835,55.55555555555556,61.855670103092784,23.25581395348837,62.13592233009708,45.97701149425287,57.446808510638306,58.24175824175825,70.0,60.0,40.229885057471265,40.69767441860465,47.25274725274725,49.42528735632184],\"yaxis\":\"y\",\"type\":\"scatter\",\"visible\":\"legendonly\"},{\"hovertemplate\":\"<b>%{hovertext}</b><br><br>SEASON=2019<br>FG3A=%{x}<br>win_%=%{y}<extra></extra>\",\"hovertext\":[\"ATL\",\"BOS\",\"CLE\",\"NOP\",\"CHI\",\"DAL\",\"DEN\",\"GSW\",\"HOU\",\"LAC\",\"LAL\",\"MIA\",\"MIL\",\"MIN\",\"BKN\",\"NYK\",\"ORL\",\"IND\",\"PHI\",\"PHX\",\"POR\",\"SAC\",\"SAS\",\"OKC\",\"TOR\",\"UTA\",\"MEM\",\"WAS\",\"DET\",\"CHA\"],\"legendgroup\":\"2019\",\"marker\":{\"color\":\"#FF6692\",\"symbol\":\"circle\"},\"mode\":\"markers\",\"name\":\"2019\",\"orientation\":\"v\",\"showlegend\":true,\"x\":[36.0,34.760416666666664,32.10294117647059,36.95,35.41428571428571,41.02247191011236,30.818181818181817,31.8,46.141304347826086,33.61538461538461,31.77227722772277,35.63725490196079,38.79120879120879,39.89705882352941,38.41463414634146,28.62857142857143,32.724137931034484,28.416666666666668,31.607142857142858,32.0,33.632183908045974,35.0253164556962,27.974683544303797,30.988235294117647,37.46666666666667,35.22093023255814,31.5625,33.10126582278481,32.7887323943662,34.24285714285714],\"xaxis\":\"x\",\"y\":[29.166666666666668,65.625,27.941176470588236,47.5,34.285714285714285,55.0561797752809,60.60606060606061,24.285714285714285,58.69565217391305,63.73626373626373,72.27722772277228,61.76470588235294,74.72527472527473,29.411764705882355,46.34146341463415,31.428571428571427,43.67816091954023,59.523809523809526,55.952380952380956,47.5,43.67816091954023,43.037974683544306,44.303797468354425,60.0,71.11111111111111,56.97674418604651,45.0,34.177215189873415,32.3943661971831,34.285714285714285],\"yaxis\":\"y\",\"type\":\"scatter\",\"visible\":\"legendonly\"},{\"hovertemplate\":\"<b>%{hovertext}</b><br><br>SEASON=2020<br>FG3A=%{x}<br>win_%=%{y}<extra></extra>\",\"hovertext\":[\"ATL\",\"BOS\",\"CLE\",\"NOP\",\"CHI\",\"DAL\",\"DEN\",\"GSW\",\"HOU\",\"LAC\",\"LAL\",\"MIA\",\"MIL\",\"MIN\",\"BKN\",\"NYK\",\"ORL\",\"IND\",\"PHI\",\"PHX\",\"POR\",\"SAC\",\"SAS\",\"OKC\",\"TOR\",\"UTA\",\"MEM\",\"WAS\",\"DET\",\"CHA\"],\"legendgroup\":\"2020\",\"marker\":{\"color\":\"#B6E880\",\"symbol\":\"circle\"},\"mode\":\"markers\",\"name\":\"2020\",\"orientation\":\"v\",\"showlegend\":true,\"x\":[35.19191919191919,37.65060240963855,30.207792207792206,31.103896103896105,35.53164556962025,38.5,35.5,40.30379746835443,41.31645569620253,35.55670103092783,31.790697674418606,36.77777777777778,37.2970297029703,38.721518987341774,37.38461538461539,30.349397590361445,32.23076923076923,34.860759493670884,30.227272727272727,34.601941747572816,41.65882352941176,34.35443037974684,29.29113924050633,35.857142857142854,40.675324675324674,43.42696629213483,33.83720930232558,29.546511627906977,34.21518987341772,37.7125],\"xaxis\":\"x\",\"y\":[57.57575757575758,45.78313253012048,31.16883116883117,45.45454545454545,44.303797468354425,55.952380952380956,61.36363636363637,53.16455696202531,26.582278481012654,60.824742268041234,59.30232558139535,51.85185185185185,63.366336633663366,32.91139240506329,64.83516483516483,55.42168674698795,32.05128205128205,46.835443037974684,68.18181818181817,66.99029126213593,55.294117647058826,44.303797468354425,43.037974683544306,31.16883116883117,37.66233766233766,69.66292134831461,53.48837209302325,44.18604651162791,29.11392405063291,43.75],\"yaxis\":\"y\",\"type\":\"scatter\",\"visible\":\"legendonly\"},{\"hovertemplate\":\"<b>%{hovertext}</b><br><br>SEASON=2021<br>FG3A=%{x}<br>win_%=%{y}<extra></extra>\",\"hovertext\":[\"ATL\",\"BOS\",\"CLE\",\"NOP\",\"CHI\",\"DAL\",\"DEN\",\"GSW\",\"HOU\",\"LAC\",\"LAL\",\"MIA\",\"MIL\",\"MIN\",\"BKN\",\"NYK\",\"ORL\",\"IND\",\"PHI\",\"PHX\",\"POR\",\"SAC\",\"SAS\",\"OKC\",\"TOR\",\"UTA\",\"MEM\",\"WAS\",\"DET\",\"CHA\"],\"legendgroup\":\"2021\",\"marker\":{\"color\":\"#FF97FF\",\"symbol\":\"circle\"},\"mode\":\"markers\",\"name\":\"2021\",\"orientation\":\"v\",\"showlegend\":true,\"x\":[32.65,37.26315789473684,32.857142857142854,33.75,28.736842105263158,38.388888888888886,37.73684210526316,45.10526315789474,35.0,37.111111111111114,33.77272727272727,34.95238095238095,39.7,42.166666666666664,34.85,38.8421052631579,37.473684210526315,35.95,33.36842105263158,32.388888888888886,38.65,37.73684210526316,30.894736842105264,39.44444444444444,33.55,42.72222222222222,37.5,33.666666666666664,35.27777777777778,35.05],\"xaxis\":\"x\",\"y\":[45.0,47.368421052631575,52.38095238095239,15.0,73.68421052631578,72.22222222222221,52.63157894736842,89.47368421052632,10.526315789473683,55.55555555555556,36.36363636363637,71.42857142857143,40.0,44.44444444444444,70.0,63.1578947368421,26.31578947368421,40.0,52.63157894736842,77.77777777777779,40.0,52.63157894736842,36.84210526315789,38.88888888888889,50.0,61.111111111111114,50.0,55.55555555555556,33.33333333333333,50.0],\"yaxis\":\"y\",\"type\":\"scatter\",\"visible\":\"legendonly\"}],                        {\"template\":{\"data\":{\"bar\":[{\"error_x\":{\"color\":\"#2a3f5f\"},\"error_y\":{\"color\":\"#2a3f5f\"},\"marker\":{\"line\":{\"color\":\"#E5ECF6\",\"width\":0.5},\"pattern\":{\"fillmode\":\"overlay\",\"size\":10,\"solidity\":0.2}},\"type\":\"bar\"}],\"barpolar\":[{\"marker\":{\"line\":{\"color\":\"#E5ECF6\",\"width\":0.5},\"pattern\":{\"fillmode\":\"overlay\",\"size\":10,\"solidity\":0.2}},\"type\":\"barpolar\"}],\"carpet\":[{\"aaxis\":{\"endlinecolor\":\"#2a3f5f\",\"gridcolor\":\"white\",\"linecolor\":\"white\",\"minorgridcolor\":\"white\",\"startlinecolor\":\"#2a3f5f\"},\"baxis\":{\"endlinecolor\":\"#2a3f5f\",\"gridcolor\":\"white\",\"linecolor\":\"white\",\"minorgridcolor\":\"white\",\"startlinecolor\":\"#2a3f5f\"},\"type\":\"carpet\"}],\"choropleth\":[{\"colorbar\":{\"outlinewidth\":0,\"ticks\":\"\"},\"type\":\"choropleth\"}],\"contour\":[{\"colorbar\":{\"outlinewidth\":0,\"ticks\":\"\"},\"colorscale\":[[0.0,\"#0d0887\"],[0.1111111111111111,\"#46039f\"],[0.2222222222222222,\"#7201a8\"],[0.3333333333333333,\"#9c179e\"],[0.4444444444444444,\"#bd3786\"],[0.5555555555555556,\"#d8576b\"],[0.6666666666666666,\"#ed7953\"],[0.7777777777777778,\"#fb9f3a\"],[0.8888888888888888,\"#fdca26\"],[1.0,\"#f0f921\"]],\"type\":\"contour\"}],\"contourcarpet\":[{\"colorbar\":{\"outlinewidth\":0,\"ticks\":\"\"},\"type\":\"contourcarpet\"}],\"heatmap\":[{\"colorbar\":{\"outlinewidth\":0,\"ticks\":\"\"},\"colorscale\":[[0.0,\"#0d0887\"],[0.1111111111111111,\"#46039f\"],[0.2222222222222222,\"#7201a8\"],[0.3333333333333333,\"#9c179e\"],[0.4444444444444444,\"#bd3786\"],[0.5555555555555556,\"#d8576b\"],[0.6666666666666666,\"#ed7953\"],[0.7777777777777778,\"#fb9f3a\"],[0.8888888888888888,\"#fdca26\"],[1.0,\"#f0f921\"]],\"type\":\"heatmap\"}],\"heatmapgl\":[{\"colorbar\":{\"outlinewidth\":0,\"ticks\":\"\"},\"colorscale\":[[0.0,\"#0d0887\"],[0.1111111111111111,\"#46039f\"],[0.2222222222222222,\"#7201a8\"],[0.3333333333333333,\"#9c179e\"],[0.4444444444444444,\"#bd3786\"],[0.5555555555555556,\"#d8576b\"],[0.6666666666666666,\"#ed7953\"],[0.7777777777777778,\"#fb9f3a\"],[0.8888888888888888,\"#fdca26\"],[1.0,\"#f0f921\"]],\"type\":\"heatmapgl\"}],\"histogram\":[{\"marker\":{\"pattern\":{\"fillmode\":\"overlay\",\"size\":10,\"solidity\":0.2}},\"type\":\"histogram\"}],\"histogram2d\":[{\"colorbar\":{\"outlinewidth\":0,\"ticks\":\"\"},\"colorscale\":[[0.0,\"#0d0887\"],[0.1111111111111111,\"#46039f\"],[0.2222222222222222,\"#7201a8\"],[0.3333333333333333,\"#9c179e\"],[0.4444444444444444,\"#bd3786\"],[0.5555555555555556,\"#d8576b\"],[0.6666666666666666,\"#ed7953\"],[0.7777777777777778,\"#fb9f3a\"],[0.8888888888888888,\"#fdca26\"],[1.0,\"#f0f921\"]],\"type\":\"histogram2d\"}],\"histogram2dcontour\":[{\"colorbar\":{\"outlinewidth\":0,\"ticks\":\"\"},\"colorscale\":[[0.0,\"#0d0887\"],[0.1111111111111111,\"#46039f\"],[0.2222222222222222,\"#7201a8\"],[0.3333333333333333,\"#9c179e\"],[0.4444444444444444,\"#bd3786\"],[0.5555555555555556,\"#d8576b\"],[0.6666666666666666,\"#ed7953\"],[0.7777777777777778,\"#fb9f3a\"],[0.8888888888888888,\"#fdca26\"],[1.0,\"#f0f921\"]],\"type\":\"histogram2dcontour\"}],\"mesh3d\":[{\"colorbar\":{\"outlinewidth\":0,\"ticks\":\"\"},\"type\":\"mesh3d\"}],\"parcoords\":[{\"line\":{\"colorbar\":{\"outlinewidth\":0,\"ticks\":\"\"}},\"type\":\"parcoords\"}],\"pie\":[{\"automargin\":true,\"type\":\"pie\"}],\"scatter\":[{\"marker\":{\"colorbar\":{\"outlinewidth\":0,\"ticks\":\"\"}},\"type\":\"scatter\"}],\"scatter3d\":[{\"line\":{\"colorbar\":{\"outlinewidth\":0,\"ticks\":\"\"}},\"marker\":{\"colorbar\":{\"outlinewidth\":0,\"ticks\":\"\"}},\"type\":\"scatter3d\"}],\"scattercarpet\":[{\"marker\":{\"colorbar\":{\"outlinewidth\":0,\"ticks\":\"\"}},\"type\":\"scattercarpet\"}],\"scattergeo\":[{\"marker\":{\"colorbar\":{\"outlinewidth\":0,\"ticks\":\"\"}},\"type\":\"scattergeo\"}],\"scattergl\":[{\"marker\":{\"colorbar\":{\"outlinewidth\":0,\"ticks\":\"\"}},\"type\":\"scattergl\"}],\"scattermapbox\":[{\"marker\":{\"colorbar\":{\"outlinewidth\":0,\"ticks\":\"\"}},\"type\":\"scattermapbox\"}],\"scatterpolar\":[{\"marker\":{\"colorbar\":{\"outlinewidth\":0,\"ticks\":\"\"}},\"type\":\"scatterpolar\"}],\"scatterpolargl\":[{\"marker\":{\"colorbar\":{\"outlinewidth\":0,\"ticks\":\"\"}},\"type\":\"scatterpolargl\"}],\"scatterternary\":[{\"marker\":{\"colorbar\":{\"outlinewidth\":0,\"ticks\":\"\"}},\"type\":\"scatterternary\"}],\"surface\":[{\"colorbar\":{\"outlinewidth\":0,\"ticks\":\"\"},\"colorscale\":[[0.0,\"#0d0887\"],[0.1111111111111111,\"#46039f\"],[0.2222222222222222,\"#7201a8\"],[0.3333333333333333,\"#9c179e\"],[0.4444444444444444,\"#bd3786\"],[0.5555555555555556,\"#d8576b\"],[0.6666666666666666,\"#ed7953\"],[0.7777777777777778,\"#fb9f3a\"],[0.8888888888888888,\"#fdca26\"],[1.0,\"#f0f921\"]],\"type\":\"surface\"}],\"table\":[{\"cells\":{\"fill\":{\"color\":\"#EBF0F8\"},\"line\":{\"color\":\"white\"}},\"header\":{\"fill\":{\"color\":\"#C8D4E3\"},\"line\":{\"color\":\"white\"}},\"type\":\"table\"}]},\"layout\":{\"annotationdefaults\":{\"arrowcolor\":\"#2a3f5f\",\"arrowhead\":0,\"arrowwidth\":1},\"autotypenumbers\":\"strict\",\"coloraxis\":{\"colorbar\":{\"outlinewidth\":0,\"ticks\":\"\"}},\"colorscale\":{\"diverging\":[[0,\"#8e0152\"],[0.1,\"#c51b7d\"],[0.2,\"#de77ae\"],[0.3,\"#f1b6da\"],[0.4,\"#fde0ef\"],[0.5,\"#f7f7f7\"],[0.6,\"#e6f5d0\"],[0.7,\"#b8e186\"],[0.8,\"#7fbc41\"],[0.9,\"#4d9221\"],[1,\"#276419\"]],\"sequential\":[[0.0,\"#0d0887\"],[0.1111111111111111,\"#46039f\"],[0.2222222222222222,\"#7201a8\"],[0.3333333333333333,\"#9c179e\"],[0.4444444444444444,\"#bd3786\"],[0.5555555555555556,\"#d8576b\"],[0.6666666666666666,\"#ed7953\"],[0.7777777777777778,\"#fb9f3a\"],[0.8888888888888888,\"#fdca26\"],[1.0,\"#f0f921\"]],\"sequentialminus\":[[0.0,\"#0d0887\"],[0.1111111111111111,\"#46039f\"],[0.2222222222222222,\"#7201a8\"],[0.3333333333333333,\"#9c179e\"],[0.4444444444444444,\"#bd3786\"],[0.5555555555555556,\"#d8576b\"],[0.6666666666666666,\"#ed7953\"],[0.7777777777777778,\"#fb9f3a\"],[0.8888888888888888,\"#fdca26\"],[1.0,\"#f0f921\"]]},\"colorway\":[\"#636efa\",\"#EF553B\",\"#00cc96\",\"#ab63fa\",\"#FFA15A\",\"#19d3f3\",\"#FF6692\",\"#B6E880\",\"#FF97FF\",\"#FECB52\"],\"font\":{\"color\":\"#2a3f5f\"},\"geo\":{\"bgcolor\":\"white\",\"lakecolor\":\"white\",\"landcolor\":\"#E5ECF6\",\"showlakes\":true,\"showland\":true,\"subunitcolor\":\"white\"},\"hoverlabel\":{\"align\":\"left\"},\"hovermode\":\"closest\",\"mapbox\":{\"style\":\"light\"},\"paper_bgcolor\":\"white\",\"plot_bgcolor\":\"#E5ECF6\",\"polar\":{\"angularaxis\":{\"gridcolor\":\"white\",\"linecolor\":\"white\",\"ticks\":\"\"},\"bgcolor\":\"#E5ECF6\",\"radialaxis\":{\"gridcolor\":\"white\",\"linecolor\":\"white\",\"ticks\":\"\"}},\"scene\":{\"xaxis\":{\"backgroundcolor\":\"#E5ECF6\",\"gridcolor\":\"white\",\"gridwidth\":2,\"linecolor\":\"white\",\"showbackground\":true,\"ticks\":\"\",\"zerolinecolor\":\"white\"},\"yaxis\":{\"backgroundcolor\":\"#E5ECF6\",\"gridcolor\":\"white\",\"gridwidth\":2,\"linecolor\":\"white\",\"showbackground\":true,\"ticks\":\"\",\"zerolinecolor\":\"white\"},\"zaxis\":{\"backgroundcolor\":\"#E5ECF6\",\"gridcolor\":\"white\",\"gridwidth\":2,\"linecolor\":\"white\",\"showbackground\":true,\"ticks\":\"\",\"zerolinecolor\":\"white\"}},\"shapedefaults\":{\"line\":{\"color\":\"#2a3f5f\"}},\"ternary\":{\"aaxis\":{\"gridcolor\":\"white\",\"linecolor\":\"white\",\"ticks\":\"\"},\"baxis\":{\"gridcolor\":\"white\",\"linecolor\":\"white\",\"ticks\":\"\"},\"bgcolor\":\"#E5ECF6\",\"caxis\":{\"gridcolor\":\"white\",\"linecolor\":\"white\",\"ticks\":\"\"}},\"title\":{\"x\":0.05},\"xaxis\":{\"automargin\":true,\"gridcolor\":\"white\",\"linecolor\":\"white\",\"ticks\":\"\",\"title\":{\"standoff\":15},\"zerolinecolor\":\"white\",\"zerolinewidth\":2},\"yaxis\":{\"automargin\":true,\"gridcolor\":\"white\",\"linecolor\":\"white\",\"ticks\":\"\",\"title\":{\"standoff\":15},\"zerolinecolor\":\"white\",\"zerolinewidth\":2}}},\"xaxis\":{\"anchor\":\"y\",\"domain\":[0.0,1.0],\"title\":{\"text\":\"<b>PTS from 3-Pointers</b>\"},\"range\":[5,60]},\"yaxis\":{\"anchor\":\"x\",\"domain\":[0.0,1.0],\"title\":{\"text\":\"<b>Win Percentage</b>\"},\"range\":[0,100]},\"legend\":{\"title\":{\"text\":\"SEASON\"},\"tracegroupgap\":0},\"margin\":{\"t\":60},\"title\":{\"text\":\"3PTS vs Win Pct by Team\"}},                        {\"responsive\": true}                    ).then(function(){\n",
       "                            \n",
       "var gd = document.getElementById('2f043960-5aba-46cc-8200-68f04ec97e3c');\n",
       "var x = new MutationObserver(function (mutations, observer) {{\n",
       "        var display = window.getComputedStyle(gd).display;\n",
       "        if (!display || display === 'none') {{\n",
       "            console.log([gd, 'removed!']);\n",
       "            Plotly.purge(gd);\n",
       "            observer.disconnect();\n",
       "        }}\n",
       "}});\n",
       "\n",
       "// Listen for the removal of the full notebook cells\n",
       "var notebookContainer = gd.closest('#notebook-container');\n",
       "if (notebookContainer) {{\n",
       "    x.observe(notebookContainer, {childList: true});\n",
       "}}\n",
       "\n",
       "// Listen for the clearing of the current output cell\n",
       "var outputEl = gd.closest('.output');\n",
       "if (outputEl) {{\n",
       "    x.observe(outputEl, {childList: true});\n",
       "}}\n",
       "\n",
       "                        })                };                });            </script>        </div>"
      ]
     },
     "metadata": {},
     "output_type": "display_data"
    }
   ],
   "source": [
    "#Draw plotly scatter chart to show comparison\n",
    "fig = px.scatter(df_winloss_ttl, x='FG3A', y='win_%', range_x=[5,60], range_y=[0, 100], color ='SEASON', hover_name='TEAM_ABB')\n",
    "fig.update_layout(\n",
    "    title_text=\"3PTS vs Win Pct by Team\",\n",
    "    xaxis = dict(title = '<b>PTS from 3-Pointers</b>'),\n",
    "    yaxis = dict(title = '<b>Win Percentage</b>')\n",
    ")\n",
    "#To make only year visible for better comparison\n",
    "year = (df_winloss_ttl['SEASON'].unique())[1:].tolist()\n",
    "fig.for_each_trace(lambda trace: trace.update(visible=\"legendonly\") \n",
    "                   if trace.name in year else ())\n",
    "fig.show()\n",
    "fig.write_html(\"C:/Users/edowi/OneDrive/Desktop/Charts/win_pct_byteam.html\")"
   ]
  },
  {
   "cell_type": "code",
   "execution_count": 43,
   "id": "8f06ef5a",
   "metadata": {},
   "outputs": [
    {
     "name": "stdout",
     "output_type": "stream",
     "text": [
      "0:00:08.597417\n"
     ]
    }
   ],
   "source": [
    "end = datetime.now()\n",
    "time = end-start\n",
    "print(time)"
   ]
  },
  {
   "cell_type": "code",
   "execution_count": null,
   "id": "dc793745",
   "metadata": {},
   "outputs": [],
   "source": []
  }
 ],
 "metadata": {
  "kernelspec": {
   "display_name": "Python 3 (ipykernel)",
   "language": "python",
   "name": "python3"
  },
  "language_info": {
   "codemirror_mode": {
    "name": "ipython",
    "version": 3
   },
   "file_extension": ".py",
   "mimetype": "text/x-python",
   "name": "python",
   "nbconvert_exporter": "python",
   "pygments_lexer": "ipython3",
   "version": "3.9.7"
  }
 },
 "nbformat": 4,
 "nbformat_minor": 5
}
